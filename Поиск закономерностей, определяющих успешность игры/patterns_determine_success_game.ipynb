{
 "cells": [
  {
   "cell_type": "markdown",
   "metadata": {},
   "source": [
    "### Описание проекта\n",
    "\n",
    "Вы работаете в интернет-магазине «Стримчик», который продаёт по всему миру компьютерные игры. Из открытых источников доступны исторические данные о продажах игр, оценки пользователей и экспертов, жанры и платформы (например, Xbox или PlayStation). Вам нужно выявить определяющие успешность игры закономерности. Это позволит сделать ставку на потенциально популярный продукт и спланировать рекламные кампании.\n",
    "\n",
    "Перед вами данные до 2016 года. Представим, что сейчас декабрь 2016 г., и вы планируете кампанию на 2017-й. Нужно отработать принцип работы с данными. Неважно, прогнозируете ли вы продажи на 2017 год по данным 2016-го или же 2027-й — по данным 2026 года.\n",
    "\n",
    "В наборе данных попадается аббревиатура ESRB (Entertainment Software Rating Board) — это ассоциация, определяющая возрастной рейтинг компьютерных игр. ESRB оценивает игровой контент и присваивает ему подходящую возрастную категорию, например, «Для взрослых», «Для детей младшего возраста» или «Для подростков».\n",
    "\n",
    "#### Описание данных\n",
    "\n",
    "Name — название игры\n",
    "\n",
    "Platform — платформа\n",
    "\n",
    "Year_of_Release — год выпуска\n",
    "\n",
    "Genre — жанр игры\n",
    "\n",
    "NA_sales — продажи в Северной Америке (миллионы проданных копий)\n",
    "\n",
    "EU_sales — продажи в Европе (миллионы проданных копий)\n",
    "\n",
    "JP_sales — продажи в Японии (миллионы проданных копий)\n",
    "\n",
    "Other_sales — продажи в других странах (миллионы проданных копий)\n",
    "\n",
    "Critic_Score — оценка критиков (максимум 100)\n",
    "\n",
    "User_Score — оценка пользователей (максимум 10)\n",
    "\n",
    "Rating — рейтинг от организации ESRB (англ. Entertainment Software Rating Board). Эта ассоциация определяет рейтинг компьютерных игр и присваивает им подходящую возрастную категорию."
   ]
  },
  {
   "cell_type": "markdown",
   "metadata": {},
   "source": [
    "## Оглавление\n",
    "\n",
    "#### [1. Открытие файла с данными и изучение общей информации](#step1)\n",
    "\n",
    "   [1.1. Чтение файла и просмотр общей информации о датасете](#step1.1)\n",
    "    \n",
    "   [1.2. Вывод и постановка задач на предобработку](#step1.2)\n",
    "    \n",
    "#### [2. Предобработка данных](#step2)\n",
    "\n",
    "   [2.1 Приведение названия столбцов к нижнему регистру](#step2.1)\n",
    "   \n",
    "   [2.2 Обработка пропущенных значений](#step2.2)\n",
    "   \n",
    "   [2.3 Изменение типа данных](#step2.3)\n",
    "   \n",
    "   [2.4 Расчет суммарных продаж во всех регионах для каждой игры и добавление данных в рабочую таблицу](#step2.4)\n",
    "   \n",
    "   [2.5 Итоги](#step2.5)\n",
    "   \n",
    "#### [3. Анализ данных](#step3)\n",
    "   \n",
    "   [3.1 Сколько игр выпускалось в разные годы?](#step3.1)\n",
    "   \n",
    "   [3.2 Как менялись продажи по платформам](#step3.2)\n",
    "   \n",
    "   [3.3 Анализ в актуальном периоде](#step3.3)\n",
    "   \n",
    "   [3.4 Влияние отзывов на продажи](#step3.4)\n",
    "   \n",
    "   [3.5 Распределение игр по жанрам](#step3.5)\n",
    "     \n",
    "#### [4. Составление портрета пользователя каждого региона](#step4)\n",
    "   \n",
    "   [4.1 Самые популярные платформы (топ-5). Описание различия в долях продаж для каждого региона](#step4.1)\n",
    "   \n",
    "   [4.2 Самые популярные жанры (топ-5). Пояснить разницу для каждого региона](#step4.2)\n",
    "   \n",
    "   [4.3 Влияет ли рейтинг ESRB на продажи в отдельном регионе?](#step4.3)\n",
    "   \n",
    "#### [5. Проверка гипотез](#step5)\n",
    "\n",
    "   [5.1 Средние пользовательские рейтинги платформ Xbox One и PC одинаковые](#step5.1)\n",
    "   \n",
    "   [5.2 Средние пользовательские рейтинги жанров Action (англ. «действие», экшен-игры) и Sports (англ. «спортивные соревнования») разные](#step5.2)\n",
    "   \n",
    "#### [6. Общие выводы](#step6)  \n"
   ]
  },
  {
   "cell_type": "markdown",
   "metadata": {},
   "source": [
    "### 1. Открытие файла с данными и изучение общей информации<a id=\"step1\"></a> "
   ]
  },
  {
   "cell_type": "code",
   "execution_count": 3,
   "metadata": {},
   "outputs": [],
   "source": [
    "import pandas as pd\n",
    "import matplotlib.pyplot as plt\n",
    "import numpy as np\n",
    "from scipy import stats as st\n",
    "import warnings\n",
    "warnings.filterwarnings(\"ignore\")"
   ]
  },
  {
   "cell_type": "markdown",
   "metadata": {},
   "source": [
    "#### 1.1 Чтение файла и просмотр общей информации о датасете<a id=\"step1.1\"></a> "
   ]
  },
  {
   "cell_type": "code",
   "execution_count": 4,
   "metadata": {},
   "outputs": [
    {
     "name": "stdout",
     "output_type": "stream",
     "text": [
      "<class 'pandas.core.frame.DataFrame'>\n",
      "RangeIndex: 16715 entries, 0 to 16714\n",
      "Data columns (total 11 columns):\n",
      "Name               16713 non-null object\n",
      "Platform           16715 non-null object\n",
      "Year_of_Release    16446 non-null float64\n",
      "Genre              16713 non-null object\n",
      "NA_sales           16715 non-null float64\n",
      "EU_sales           16715 non-null float64\n",
      "JP_sales           16715 non-null float64\n",
      "Other_sales        16715 non-null float64\n",
      "Critic_Score       8137 non-null float64\n",
      "User_Score         10014 non-null object\n",
      "Rating             9949 non-null object\n",
      "dtypes: float64(6), object(5)\n",
      "memory usage: 1.4+ MB\n"
     ]
    }
   ],
   "source": [
    "games = pd.read_csv('/datasets/games.csv', sep=',')\n",
    "games.info()"
   ]
  },
  {
   "cell_type": "markdown",
   "metadata": {},
   "source": [
    "В 6 столбцах есть пропущенные значения. Нужно будет посмотреть их подробнее и понять, что с ними делать. Сейчас посмотрю процент кол-ва пропусков от общего числа строк по каждому столбцу"
   ]
  },
  {
   "cell_type": "code",
   "execution_count": 5,
   "metadata": {},
   "outputs": [
    {
     "name": "stdout",
     "output_type": "stream",
     "text": [
      "Name                       0.01\n",
      "Year_of_Release            1.61\n",
      "Genre                      0.01\n",
      "Critic_Score              51.32\n",
      "User_Score                40.09\n",
      "Rating                    40.48\n"
     ]
    }
   ],
   "source": [
    "for column in games:\n",
    "    a = games[column].isnull().sum()/games[column].shape[0]*100\n",
    "    a = a.round(2)\n",
    "    if a > 0:\n",
    "        print('{: <20}'.format(column), '{: >10}'.format(a))"
   ]
  },
  {
   "cell_type": "markdown",
   "metadata": {},
   "source": [
    "Теперь взгляну на 15 случайных строк таблицы"
   ]
  },
  {
   "cell_type": "code",
   "execution_count": 6,
   "metadata": {},
   "outputs": [
    {
     "data": {
      "text/html": [
       "<div>\n",
       "<style scoped>\n",
       "    .dataframe tbody tr th:only-of-type {\n",
       "        vertical-align: middle;\n",
       "    }\n",
       "\n",
       "    .dataframe tbody tr th {\n",
       "        vertical-align: top;\n",
       "    }\n",
       "\n",
       "    .dataframe thead th {\n",
       "        text-align: right;\n",
       "    }\n",
       "</style>\n",
       "<table border=\"1\" class=\"dataframe\">\n",
       "  <thead>\n",
       "    <tr style=\"text-align: right;\">\n",
       "      <th></th>\n",
       "      <th>Name</th>\n",
       "      <th>Platform</th>\n",
       "      <th>Year_of_Release</th>\n",
       "      <th>Genre</th>\n",
       "      <th>NA_sales</th>\n",
       "      <th>EU_sales</th>\n",
       "      <th>JP_sales</th>\n",
       "      <th>Other_sales</th>\n",
       "      <th>Critic_Score</th>\n",
       "      <th>User_Score</th>\n",
       "      <th>Rating</th>\n",
       "    </tr>\n",
       "  </thead>\n",
       "  <tbody>\n",
       "    <tr>\n",
       "      <td>12748</td>\n",
       "      <td>Samurai Jack: The Shadow of Aku</td>\n",
       "      <td>PS2</td>\n",
       "      <td>2004.0</td>\n",
       "      <td>Action</td>\n",
       "      <td>0.03</td>\n",
       "      <td>0.02</td>\n",
       "      <td>0.00</td>\n",
       "      <td>0.01</td>\n",
       "      <td>59.0</td>\n",
       "      <td>8.4</td>\n",
       "      <td>T</td>\n",
       "    </tr>\n",
       "    <tr>\n",
       "      <td>215</td>\n",
       "      <td>Monster Hunter Freedom 3</td>\n",
       "      <td>PSP</td>\n",
       "      <td>2010.0</td>\n",
       "      <td>Role-Playing</td>\n",
       "      <td>0.00</td>\n",
       "      <td>0.00</td>\n",
       "      <td>4.87</td>\n",
       "      <td>0.00</td>\n",
       "      <td>NaN</td>\n",
       "      <td>NaN</td>\n",
       "      <td>NaN</td>\n",
       "    </tr>\n",
       "    <tr>\n",
       "      <td>12049</td>\n",
       "      <td>Crayon Shin-Chan: Obaka Daininden - Susume! Ka...</td>\n",
       "      <td>DS</td>\n",
       "      <td>2010.0</td>\n",
       "      <td>Action</td>\n",
       "      <td>0.00</td>\n",
       "      <td>0.00</td>\n",
       "      <td>0.07</td>\n",
       "      <td>0.00</td>\n",
       "      <td>NaN</td>\n",
       "      <td>NaN</td>\n",
       "      <td>NaN</td>\n",
       "    </tr>\n",
       "    <tr>\n",
       "      <td>16436</td>\n",
       "      <td>Grooverider: Slot Car Thunder</td>\n",
       "      <td>GC</td>\n",
       "      <td>2003.0</td>\n",
       "      <td>Racing</td>\n",
       "      <td>0.01</td>\n",
       "      <td>0.00</td>\n",
       "      <td>0.00</td>\n",
       "      <td>0.00</td>\n",
       "      <td>49.0</td>\n",
       "      <td>tbd</td>\n",
       "      <td>E</td>\n",
       "    </tr>\n",
       "    <tr>\n",
       "      <td>5132</td>\n",
       "      <td>NFL Street 2 Unleashed</td>\n",
       "      <td>PSP</td>\n",
       "      <td>2005.0</td>\n",
       "      <td>Sports</td>\n",
       "      <td>0.34</td>\n",
       "      <td>0.00</td>\n",
       "      <td>0.00</td>\n",
       "      <td>0.03</td>\n",
       "      <td>73.0</td>\n",
       "      <td>7.4</td>\n",
       "      <td>E</td>\n",
       "    </tr>\n",
       "    <tr>\n",
       "      <td>14330</td>\n",
       "      <td>Medarot 9: Kabuto Ver. / Kuwagata Ver.</td>\n",
       "      <td>3DS</td>\n",
       "      <td>2015.0</td>\n",
       "      <td>Role-Playing</td>\n",
       "      <td>0.00</td>\n",
       "      <td>0.00</td>\n",
       "      <td>0.03</td>\n",
       "      <td>0.00</td>\n",
       "      <td>NaN</td>\n",
       "      <td>NaN</td>\n",
       "      <td>NaN</td>\n",
       "    </tr>\n",
       "    <tr>\n",
       "      <td>7160</td>\n",
       "      <td>NCAA Football 2005</td>\n",
       "      <td>GC</td>\n",
       "      <td>2004.0</td>\n",
       "      <td>Sports</td>\n",
       "      <td>0.17</td>\n",
       "      <td>0.04</td>\n",
       "      <td>0.00</td>\n",
       "      <td>0.01</td>\n",
       "      <td>88.0</td>\n",
       "      <td>9</td>\n",
       "      <td>E</td>\n",
       "    </tr>\n",
       "    <tr>\n",
       "      <td>8679</td>\n",
       "      <td>Yu-Gi-Oh! 5D's: Duel Transer</td>\n",
       "      <td>Wii</td>\n",
       "      <td>2010.0</td>\n",
       "      <td>Strategy</td>\n",
       "      <td>0.11</td>\n",
       "      <td>0.02</td>\n",
       "      <td>0.02</td>\n",
       "      <td>0.01</td>\n",
       "      <td>NaN</td>\n",
       "      <td>NaN</td>\n",
       "      <td>NaN</td>\n",
       "    </tr>\n",
       "    <tr>\n",
       "      <td>13269</td>\n",
       "      <td>Kekkon Zenya</td>\n",
       "      <td>SAT</td>\n",
       "      <td>1995.0</td>\n",
       "      <td>Adventure</td>\n",
       "      <td>0.00</td>\n",
       "      <td>0.00</td>\n",
       "      <td>0.05</td>\n",
       "      <td>0.00</td>\n",
       "      <td>NaN</td>\n",
       "      <td>NaN</td>\n",
       "      <td>NaN</td>\n",
       "    </tr>\n",
       "    <tr>\n",
       "      <td>2604</td>\n",
       "      <td>Band Hero</td>\n",
       "      <td>X360</td>\n",
       "      <td>2009.0</td>\n",
       "      <td>Misc</td>\n",
       "      <td>0.51</td>\n",
       "      <td>0.21</td>\n",
       "      <td>0.00</td>\n",
       "      <td>0.07</td>\n",
       "      <td>76.0</td>\n",
       "      <td>5</td>\n",
       "      <td>E10+</td>\n",
       "    </tr>\n",
       "    <tr>\n",
       "      <td>5554</td>\n",
       "      <td>Might &amp; Magic Heroes VI</td>\n",
       "      <td>PC</td>\n",
       "      <td>2011.0</td>\n",
       "      <td>Role-Playing</td>\n",
       "      <td>0.13</td>\n",
       "      <td>0.14</td>\n",
       "      <td>0.00</td>\n",
       "      <td>0.05</td>\n",
       "      <td>NaN</td>\n",
       "      <td>NaN</td>\n",
       "      <td>NaN</td>\n",
       "    </tr>\n",
       "    <tr>\n",
       "      <td>3537</td>\n",
       "      <td>Just Dance 2016</td>\n",
       "      <td>WiiU</td>\n",
       "      <td>2015.0</td>\n",
       "      <td>Misc</td>\n",
       "      <td>0.27</td>\n",
       "      <td>0.25</td>\n",
       "      <td>0.00</td>\n",
       "      <td>0.05</td>\n",
       "      <td>73.0</td>\n",
       "      <td>6.9</td>\n",
       "      <td>E10+</td>\n",
       "    </tr>\n",
       "    <tr>\n",
       "      <td>2396</td>\n",
       "      <td>GRID</td>\n",
       "      <td>X360</td>\n",
       "      <td>2008.0</td>\n",
       "      <td>Racing</td>\n",
       "      <td>0.33</td>\n",
       "      <td>0.44</td>\n",
       "      <td>0.01</td>\n",
       "      <td>0.09</td>\n",
       "      <td>87.0</td>\n",
       "      <td>7.9</td>\n",
       "      <td>E</td>\n",
       "    </tr>\n",
       "    <tr>\n",
       "      <td>12153</td>\n",
       "      <td>Army Men: RTS</td>\n",
       "      <td>GC</td>\n",
       "      <td>2004.0</td>\n",
       "      <td>Strategy</td>\n",
       "      <td>0.05</td>\n",
       "      <td>0.01</td>\n",
       "      <td>0.00</td>\n",
       "      <td>0.00</td>\n",
       "      <td>NaN</td>\n",
       "      <td>8.5</td>\n",
       "      <td>T</td>\n",
       "    </tr>\n",
       "    <tr>\n",
       "      <td>7715</td>\n",
       "      <td>ESA Foundation Compilation</td>\n",
       "      <td>PS2</td>\n",
       "      <td>2005.0</td>\n",
       "      <td>Misc</td>\n",
       "      <td>0.10</td>\n",
       "      <td>0.07</td>\n",
       "      <td>0.00</td>\n",
       "      <td>0.02</td>\n",
       "      <td>NaN</td>\n",
       "      <td>NaN</td>\n",
       "      <td>NaN</td>\n",
       "    </tr>\n",
       "  </tbody>\n",
       "</table>\n",
       "</div>"
      ],
      "text/plain": [
       "                                                    Name Platform  \\\n",
       "12748                    Samurai Jack: The Shadow of Aku      PS2   \n",
       "215                             Monster Hunter Freedom 3      PSP   \n",
       "12049  Crayon Shin-Chan: Obaka Daininden - Susume! Ka...       DS   \n",
       "16436                      Grooverider: Slot Car Thunder       GC   \n",
       "5132                              NFL Street 2 Unleashed      PSP   \n",
       "14330             Medarot 9: Kabuto Ver. / Kuwagata Ver.      3DS   \n",
       "7160                                  NCAA Football 2005       GC   \n",
       "8679                        Yu-Gi-Oh! 5D's: Duel Transer      Wii   \n",
       "13269                                       Kekkon Zenya      SAT   \n",
       "2604                                           Band Hero     X360   \n",
       "5554                             Might & Magic Heroes VI       PC   \n",
       "3537                                     Just Dance 2016     WiiU   \n",
       "2396                                                GRID     X360   \n",
       "12153                                      Army Men: RTS       GC   \n",
       "7715                          ESA Foundation Compilation      PS2   \n",
       "\n",
       "       Year_of_Release         Genre  NA_sales  EU_sales  JP_sales  \\\n",
       "12748           2004.0        Action      0.03      0.02      0.00   \n",
       "215             2010.0  Role-Playing      0.00      0.00      4.87   \n",
       "12049           2010.0        Action      0.00      0.00      0.07   \n",
       "16436           2003.0        Racing      0.01      0.00      0.00   \n",
       "5132            2005.0        Sports      0.34      0.00      0.00   \n",
       "14330           2015.0  Role-Playing      0.00      0.00      0.03   \n",
       "7160            2004.0        Sports      0.17      0.04      0.00   \n",
       "8679            2010.0      Strategy      0.11      0.02      0.02   \n",
       "13269           1995.0     Adventure      0.00      0.00      0.05   \n",
       "2604            2009.0          Misc      0.51      0.21      0.00   \n",
       "5554            2011.0  Role-Playing      0.13      0.14      0.00   \n",
       "3537            2015.0          Misc      0.27      0.25      0.00   \n",
       "2396            2008.0        Racing      0.33      0.44      0.01   \n",
       "12153           2004.0      Strategy      0.05      0.01      0.00   \n",
       "7715            2005.0          Misc      0.10      0.07      0.00   \n",
       "\n",
       "       Other_sales  Critic_Score User_Score Rating  \n",
       "12748         0.01          59.0        8.4      T  \n",
       "215           0.00           NaN        NaN    NaN  \n",
       "12049         0.00           NaN        NaN    NaN  \n",
       "16436         0.00          49.0        tbd      E  \n",
       "5132          0.03          73.0        7.4      E  \n",
       "14330         0.00           NaN        NaN    NaN  \n",
       "7160          0.01          88.0          9      E  \n",
       "8679          0.01           NaN        NaN    NaN  \n",
       "13269         0.00           NaN        NaN    NaN  \n",
       "2604          0.07          76.0          5   E10+  \n",
       "5554          0.05           NaN        NaN    NaN  \n",
       "3537          0.05          73.0        6.9   E10+  \n",
       "2396          0.09          87.0        7.9      E  \n",
       "12153         0.00           NaN        8.5      T  \n",
       "7715          0.02           NaN        NaN    NaN  "
      ]
     },
     "execution_count": 6,
     "metadata": {},
     "output_type": "execute_result"
    }
   ],
   "source": [
    "games.sample(15)"
   ]
  },
  {
   "cell_type": "markdown",
   "metadata": {},
   "source": [
    "И выведу список названий столбцов"
   ]
  },
  {
   "cell_type": "code",
   "execution_count": 7,
   "metadata": {},
   "outputs": [
    {
     "data": {
      "text/plain": [
       "Index(['Name', 'Platform', 'Year_of_Release', 'Genre', 'NA_sales', 'EU_sales',\n",
       "       'JP_sales', 'Other_sales', 'Critic_Score', 'User_Score', 'Rating'],\n",
       "      dtype='object')"
      ]
     },
     "execution_count": 7,
     "metadata": {},
     "output_type": "execute_result"
    }
   ],
   "source": [
    "games.columns"
   ]
  },
  {
   "cell_type": "markdown",
   "metadata": {},
   "source": [
    "#### 1.2. Вывод и постановка задач на предобработку<a id=\"step1.2\"></a> "
   ]
  },
  {
   "cell_type": "markdown",
   "metadata": {},
   "source": [
    "Итак, представлены данные о компьютерных играх в виде таблицы из 11 столбцов и 16715 строк. В 6 столбцах есть пропущенные значения, при этом в столбцах с данными о рейтинге их очень много (40-50% от общего числа строк). Есть некорректные типы данных. Названия столбцов записаны в разных регистрах. По итогу в предобработке предстоит сделать следующее:\n",
    "\n",
    "1. Привести названия столбцов к нижнему регистру\n",
    "\n",
    "2. Обработать пропуски в столбцах с названием, годом выпуска, жанром и всеми оценками\n",
    "\n",
    "3. Изменить тип данных в столбце с годом выпуска с float на int, в столбце с оценкой пользователя возможно на float, предварительно проверив нет ли там действительно строковых записей\n",
    "\n",
    "4. Посчитать суммарные продажи во всех регионах для каждой игры и добавить данные в рабочую таблицу"
   ]
  },
  {
   "cell_type": "markdown",
   "metadata": {},
   "source": [
    "### 2. Предобработка данных<a id=\"step2\"></a> "
   ]
  },
  {
   "cell_type": "markdown",
   "metadata": {},
   "source": [
    "#### 2.1 Приведение названия столбцов к нижнему регистру<a id=\"step2.1\"></a> "
   ]
  },
  {
   "cell_type": "code",
   "execution_count": 8,
   "metadata": {},
   "outputs": [
    {
     "data": {
      "text/plain": [
       "Index(['name', 'platform', 'year_of_release', 'genre', 'na_sales', 'eu_sales',\n",
       "       'jp_sales', 'other_sales', 'critic_score', 'user_score', 'rating'],\n",
       "      dtype='object')"
      ]
     },
     "execution_count": 8,
     "metadata": {},
     "output_type": "execute_result"
    }
   ],
   "source": [
    "games.columns = games.columns.str.lower()\n",
    "games.columns"
   ]
  },
  {
   "cell_type": "markdown",
   "metadata": {},
   "source": [
    "Теперь все столбцы названы красиво и удобно"
   ]
  },
  {
   "cell_type": "markdown",
   "metadata": {},
   "source": [
    "#### 2.2 Обработка пропущенных значений<a id=\"step2.2\"></a> "
   ]
  },
  {
   "cell_type": "markdown",
   "metadata": {},
   "source": [
    "В столбце с названием игры пропущено 0,01%, совсем немного, посмотрю на эти строки подробно. Для этого сначала заменю пропуски на None и выведу с ним строки."
   ]
  },
  {
   "cell_type": "markdown",
   "metadata": {},
   "source": [
    "До замены на None проверю, нет ли игр с таким именем"
   ]
  },
  {
   "cell_type": "code",
   "execution_count": 9,
   "metadata": {},
   "outputs": [
    {
     "name": "stdout",
     "output_type": "stream",
     "text": [
      "Количество игр с именем None = 0\n"
     ]
    }
   ],
   "source": [
    "print('Количество игр с именем None = {}'.format(games['name'][games['name'] == 'None'].count()))"
   ]
  },
  {
   "cell_type": "markdown",
   "metadata": {},
   "source": [
    "Можно делать замену"
   ]
  },
  {
   "cell_type": "code",
   "execution_count": 10,
   "metadata": {},
   "outputs": [],
   "source": [
    "games['name'] = games['name'].fillna('None')"
   ]
  },
  {
   "cell_type": "markdown",
   "metadata": {},
   "source": [
    "Проверю, что получилось"
   ]
  },
  {
   "cell_type": "code",
   "execution_count": 11,
   "metadata": {},
   "outputs": [
    {
     "data": {
      "text/html": [
       "<div>\n",
       "<style scoped>\n",
       "    .dataframe tbody tr th:only-of-type {\n",
       "        vertical-align: middle;\n",
       "    }\n",
       "\n",
       "    .dataframe tbody tr th {\n",
       "        vertical-align: top;\n",
       "    }\n",
       "\n",
       "    .dataframe thead th {\n",
       "        text-align: right;\n",
       "    }\n",
       "</style>\n",
       "<table border=\"1\" class=\"dataframe\">\n",
       "  <thead>\n",
       "    <tr style=\"text-align: right;\">\n",
       "      <th></th>\n",
       "      <th>name</th>\n",
       "      <th>platform</th>\n",
       "      <th>year_of_release</th>\n",
       "      <th>genre</th>\n",
       "      <th>na_sales</th>\n",
       "      <th>eu_sales</th>\n",
       "      <th>jp_sales</th>\n",
       "      <th>other_sales</th>\n",
       "      <th>critic_score</th>\n",
       "      <th>user_score</th>\n",
       "      <th>rating</th>\n",
       "    </tr>\n",
       "  </thead>\n",
       "  <tbody>\n",
       "    <tr>\n",
       "      <td>659</td>\n",
       "      <td>None</td>\n",
       "      <td>GEN</td>\n",
       "      <td>1993.0</td>\n",
       "      <td>NaN</td>\n",
       "      <td>1.78</td>\n",
       "      <td>0.53</td>\n",
       "      <td>0.00</td>\n",
       "      <td>0.08</td>\n",
       "      <td>NaN</td>\n",
       "      <td>NaN</td>\n",
       "      <td>NaN</td>\n",
       "    </tr>\n",
       "    <tr>\n",
       "      <td>14244</td>\n",
       "      <td>None</td>\n",
       "      <td>GEN</td>\n",
       "      <td>1993.0</td>\n",
       "      <td>NaN</td>\n",
       "      <td>0.00</td>\n",
       "      <td>0.00</td>\n",
       "      <td>0.03</td>\n",
       "      <td>0.00</td>\n",
       "      <td>NaN</td>\n",
       "      <td>NaN</td>\n",
       "      <td>NaN</td>\n",
       "    </tr>\n",
       "  </tbody>\n",
       "</table>\n",
       "</div>"
      ],
      "text/plain": [
       "       name platform  year_of_release genre  na_sales  eu_sales  jp_sales  \\\n",
       "659    None      GEN           1993.0   NaN      1.78      0.53      0.00   \n",
       "14244  None      GEN           1993.0   NaN      0.00      0.00      0.03   \n",
       "\n",
       "       other_sales  critic_score user_score rating  \n",
       "659           0.08           NaN        NaN    NaN  \n",
       "14244         0.00           NaN        NaN    NaN  "
      ]
     },
     "execution_count": 11,
     "metadata": {},
     "output_type": "execute_result"
    }
   ],
   "source": [
    "games[games['name'] == 'None']"
   ]
  },
  {
   "cell_type": "markdown",
   "metadata": {},
   "source": [
    "Всего 2 строки. Несмотря на то, что имя не было указано, есть инфо о дате выпуска и платформе, а также о продажах. Игры довольно старые - 1993 года выпуска, возможно данные были утеряны, так как неизвестно каким образом они были собраны. Поэтому пока оставлю эти строки с именем None."
   ]
  },
  {
   "cell_type": "markdown",
   "metadata": {},
   "source": [
    "В столбце с жанром также малое количество пропусков - 0,01% от общего числа строк. Сделаю аналогичные манипуляции, что и со столбцом с именем"
   ]
  },
  {
   "cell_type": "code",
   "execution_count": 12,
   "metadata": {},
   "outputs": [
    {
     "name": "stdout",
     "output_type": "stream",
     "text": [
      "Количество игр с жанром None = 0\n"
     ]
    }
   ],
   "source": [
    "print('Количество игр с жанром None = {}'.format(games['genre'][games['genre'] == 'None'].count()))"
   ]
  },
  {
   "cell_type": "code",
   "execution_count": 13,
   "metadata": {},
   "outputs": [],
   "source": [
    "games['genre'] = games['genre'].fillna('None')"
   ]
  },
  {
   "cell_type": "code",
   "execution_count": 14,
   "metadata": {},
   "outputs": [
    {
     "data": {
      "text/html": [
       "<div>\n",
       "<style scoped>\n",
       "    .dataframe tbody tr th:only-of-type {\n",
       "        vertical-align: middle;\n",
       "    }\n",
       "\n",
       "    .dataframe tbody tr th {\n",
       "        vertical-align: top;\n",
       "    }\n",
       "\n",
       "    .dataframe thead th {\n",
       "        text-align: right;\n",
       "    }\n",
       "</style>\n",
       "<table border=\"1\" class=\"dataframe\">\n",
       "  <thead>\n",
       "    <tr style=\"text-align: right;\">\n",
       "      <th></th>\n",
       "      <th>name</th>\n",
       "      <th>platform</th>\n",
       "      <th>year_of_release</th>\n",
       "      <th>genre</th>\n",
       "      <th>na_sales</th>\n",
       "      <th>eu_sales</th>\n",
       "      <th>jp_sales</th>\n",
       "      <th>other_sales</th>\n",
       "      <th>critic_score</th>\n",
       "      <th>user_score</th>\n",
       "      <th>rating</th>\n",
       "    </tr>\n",
       "  </thead>\n",
       "  <tbody>\n",
       "    <tr>\n",
       "      <td>659</td>\n",
       "      <td>None</td>\n",
       "      <td>GEN</td>\n",
       "      <td>1993.0</td>\n",
       "      <td>None</td>\n",
       "      <td>1.78</td>\n",
       "      <td>0.53</td>\n",
       "      <td>0.00</td>\n",
       "      <td>0.08</td>\n",
       "      <td>NaN</td>\n",
       "      <td>NaN</td>\n",
       "      <td>NaN</td>\n",
       "    </tr>\n",
       "    <tr>\n",
       "      <td>14244</td>\n",
       "      <td>None</td>\n",
       "      <td>GEN</td>\n",
       "      <td>1993.0</td>\n",
       "      <td>None</td>\n",
       "      <td>0.00</td>\n",
       "      <td>0.00</td>\n",
       "      <td>0.03</td>\n",
       "      <td>0.00</td>\n",
       "      <td>NaN</td>\n",
       "      <td>NaN</td>\n",
       "      <td>NaN</td>\n",
       "    </tr>\n",
       "  </tbody>\n",
       "</table>\n",
       "</div>"
      ],
      "text/plain": [
       "       name platform  year_of_release genre  na_sales  eu_sales  jp_sales  \\\n",
       "659    None      GEN           1993.0  None      1.78      0.53      0.00   \n",
       "14244  None      GEN           1993.0  None      0.00      0.00      0.03   \n",
       "\n",
       "       other_sales  critic_score user_score rating  \n",
       "659           0.08           NaN        NaN    NaN  \n",
       "14244         0.00           NaN        NaN    NaN  "
      ]
     },
     "execution_count": 14,
     "metadata": {},
     "output_type": "execute_result"
    }
   ],
   "source": [
    "games[games['genre'] == 'None']"
   ]
  },
  {
   "cell_type": "markdown",
   "metadata": {},
   "source": [
    "Это те же строки). Оставлю так, заменить больше нечем, даже нет названия, поэтому определить жанр невозможно."
   ]
  },
  {
   "cell_type": "markdown",
   "metadata": {},
   "source": [
    "В столбце с годом выпуска 1,61% пропущенных значений от общего числа строк. Это важные данные для решения поставленной задачи, без них никак. Данных для замены нет, поэтому буду удалять эти строки."
   ]
  },
  {
   "cell_type": "code",
   "execution_count": 15,
   "metadata": {
    "scrolled": true
   },
   "outputs": [
    {
     "name": "stdout",
     "output_type": "stream",
     "text": [
      "Количество строк без года выпуска до обработки = 269\n",
      "Количество строк c годом выпуска до обработки = 16446\n",
      "Количество строк всего = 16715\n"
     ]
    }
   ],
   "source": [
    "print('Количество строк без года выпуска до обработки = {}'.format(games['year_of_release'].isnull().sum()))\n",
    "print('Количество строк c годом выпуска до обработки = {}'.format(games.shape[0] - games['year_of_release'].isnull().sum()))\n",
    "print('Количество строк всего = {}'.format(games.shape[0]))"
   ]
  },
  {
   "cell_type": "code",
   "execution_count": 16,
   "metadata": {},
   "outputs": [
    {
     "name": "stdout",
     "output_type": "stream",
     "text": [
      "Количество строк без года выпуска после обработки = 0\n",
      "Количество строк c годом выпуска до обработки = 16446\n",
      "Количество строк всего = 16446\n"
     ]
    }
   ],
   "source": [
    "games = games.dropna(subset = ['year_of_release'])\n",
    "print('Количество строк без года выпуска после обработки = {}'.format(games['year_of_release'].isnull().sum()))\n",
    "print('Количество строк c годом выпуска до обработки = {}'.format(games.shape[0] - games['year_of_release'].isnull().sum()))\n",
    "print('Количество строк всего = {}'.format(games.shape[0]))"
   ]
  },
  {
   "cell_type": "markdown",
   "metadata": {},
   "source": [
    "Удаление прошло успешно. Теперь обработаю пропуски в столбцах с оценками. Здесь вероятно пропуски образованы по причине того, что игры в принципе не оценивались критиками, пользователями или ESRB. Возможно для каких-то игр и организации ESRB еще не существовало. Удалять такие строки нельзя, это больше половины данных, поэтому сделаю замену числовых рейтингов на -1, предварительно посмотрю какие вообще рейтинги есть в данных. С рейтингом от ESRB разберусь чуть ниже, там текстовые значения, замена на -1 будет некорректна."
   ]
  },
  {
   "cell_type": "code",
   "execution_count": 17,
   "metadata": {},
   "outputs": [
    {
     "data": {
      "text/plain": [
       "array([76., nan, 82., 80., 89., 58., 87., 91., 61., 97., 95., 77., 88.,\n",
       "       83., 94., 93., 85., 86., 98., 96., 90., 84., 73., 74., 78., 92.,\n",
       "       71., 72., 68., 62., 49., 67., 81., 66., 56., 79., 70., 59., 64.,\n",
       "       75., 60., 63., 69., 50., 25., 42., 44., 55., 48., 57., 29., 47.,\n",
       "       65., 54., 20., 53., 37., 38., 33., 52., 30., 32., 43., 45., 51.,\n",
       "       40., 46., 39., 34., 41., 36., 31., 27., 35., 26., 19., 28., 23.,\n",
       "       24., 21., 17., 13.])"
      ]
     },
     "execution_count": 17,
     "metadata": {},
     "output_type": "execute_result"
    }
   ],
   "source": [
    "games['critic_score'].unique()"
   ]
  },
  {
   "cell_type": "markdown",
   "metadata": {},
   "source": [
    "В оценках критиков отрицательных значений нет, да и не целых нет, поэтому позже еще произведу смену типа данных на целочисленный. Итак, делаю замену пропусков на -1."
   ]
  },
  {
   "cell_type": "code",
   "execution_count": 18,
   "metadata": {
    "scrolled": true
   },
   "outputs": [
    {
     "name": "stdout",
     "output_type": "stream",
     "text": [
      "Количество строк без оценки критика = 8463\n",
      "Количество строк c оценкой критика = 7983\n",
      "Количество строк всего = 16446\n"
     ]
    }
   ],
   "source": [
    "print('Количество строк без оценки критика = {}'.format(games['critic_score'].isnull().sum()))\n",
    "print('Количество строк c оценкой критика = {}'.format(games.shape[0] - games['critic_score'].isnull().sum()))\n",
    "print('Количество строк всего = {}'.format(games.shape[0]))"
   ]
  },
  {
   "cell_type": "code",
   "execution_count": 19,
   "metadata": {
    "scrolled": true
   },
   "outputs": [
    {
     "name": "stdout",
     "output_type": "stream",
     "text": [
      "Количество строк без оценки критика = 0\n",
      "Количество строк c оценкой критика -1 = 8463\n",
      "Количество строк всего = 16446\n"
     ]
    }
   ],
   "source": [
    "games['critic_score'] = games['critic_score'].fillna(-1)\n",
    "print('Количество строк без оценки критика = {}'.format(games['critic_score'].isnull().sum()))\n",
    "print('Количество строк c оценкой критика -1 = {}'.format(games['critic_score'][games['critic_score'] == -1].count()))\n",
    "print('Количество строк всего = {}'.format(games.shape[0]))"
   ]
  },
  {
   "cell_type": "markdown",
   "metadata": {},
   "source": [
    "Успешно заменилось. Теперь посмотрю на оценки пользователей."
   ]
  },
  {
   "cell_type": "code",
   "execution_count": 20,
   "metadata": {},
   "outputs": [
    {
     "data": {
      "text/plain": [
       "array(['8', nan, '8.3', '8.5', '6.6', '8.4', '8.6', '7.7', '6.3', '7.4',\n",
       "       '8.2', '9', '7.9', '8.1', '8.7', '7.1', '3.4', '5.3', '4.8', '3.2',\n",
       "       '8.9', '6.4', '7.8', '7.5', '2.6', '7.2', '9.2', '7', '7.3', '4.3',\n",
       "       '7.6', '5.7', '5', '9.1', '6.5', 'tbd', '8.8', '6.9', '9.4', '6.8',\n",
       "       '6.1', '6.7', '5.4', '4', '4.9', '4.5', '9.3', '6.2', '4.2', '6',\n",
       "       '3.7', '4.1', '5.8', '5.6', '5.5', '4.4', '4.6', '5.9', '3.9',\n",
       "       '3.1', '2.9', '5.2', '3.3', '4.7', '5.1', '3.5', '2.5', '1.9', '3',\n",
       "       '2.7', '2.2', '2', '9.5', '2.1', '3.6', '2.8', '1.8', '3.8', '0',\n",
       "       '1.6', '9.6', '2.4', '1.7', '1.1', '0.3', '1.5', '0.7', '1.2',\n",
       "       '2.3', '0.5', '1.3', '0.2', '0.6', '1.4', '0.9', '1', '9.7'],\n",
       "      dtype=object)"
      ]
     },
     "execution_count": 20,
     "metadata": {},
     "output_type": "execute_result"
    }
   ],
   "source": [
    "games['user_score'].unique()"
   ]
  },
  {
   "cell_type": "markdown",
   "metadata": {},
   "source": [
    "Помимо пропусков, встречаются значения 'tbd'. Запросив у сторонних источничков, что это за аббревиатура, узнала, что это To Be Determined, то есть \"Будет определено\", а значит сейчас не определено, то есть по сути это тот же пропуск. В таком случае все пропуски и 'tbd' заменю на -1. И позже сменю тип данных на float."
   ]
  },
  {
   "cell_type": "code",
   "execution_count": 21,
   "metadata": {},
   "outputs": [
    {
     "name": "stdout",
     "output_type": "stream",
     "text": [
      "Количество строк без оценки пользователя = 8983\n",
      "Количество строк c оценкой пользователя = 7463\n",
      "Количество строк всего = 16446\n"
     ]
    }
   ],
   "source": [
    "print('Количество строк без оценки пользователя = {}'.format(games['user_score'].isnull().sum() + games['user_score'][games['user_score'] == 'tbd'].count()))\n",
    "print('Количество строк c оценкой пользователя = {}'.format(games.shape[0] - games['user_score'].isnull().sum() - games['user_score'][games['user_score'] == 'tbd'].count()))\n",
    "print('Количество строк всего = {}'.format(games.shape[0]))"
   ]
  },
  {
   "cell_type": "code",
   "execution_count": 22,
   "metadata": {},
   "outputs": [],
   "source": [
    "games['user_score'] = games['user_score'].fillna(-1)\n",
    "games[games['user_score'] == 'tbd'] = games[games['user_score'] == 'tbd'].replace('tbd', -1)"
   ]
  },
  {
   "cell_type": "code",
   "execution_count": 23,
   "metadata": {},
   "outputs": [
    {
     "name": "stdout",
     "output_type": "stream",
     "text": [
      "Количество строк без оценки пользователя = 0\n",
      "Количество строк c оценкой пользователя -1 = 8983\n",
      "Количество строк всего = 16446\n"
     ]
    }
   ],
   "source": [
    "print('Количество строк без оценки пользователя = {}'.format(games['user_score'].isnull().sum() + games['user_score'][games['user_score'] == 'tbd'].count()))\n",
    "print('Количество строк c оценкой пользователя -1 = {}'.format(games['user_score'][games['user_score'] == -1].count()))\n",
    "print('Количество строк всего = {}'.format(games.shape[0]))"
   ]
  },
  {
   "cell_type": "markdown",
   "metadata": {},
   "source": [
    "Успешно заменилось, теперь обработаю пропуски в столбце с рейтингом от ESRB"
   ]
  },
  {
   "cell_type": "code",
   "execution_count": 24,
   "metadata": {},
   "outputs": [
    {
     "data": {
      "text/plain": [
       "array(['E', nan, 'M', 'T', 'E10+', 'K-A', 'AO', 'EC', 'RP'], dtype=object)"
      ]
     },
     "execution_count": 24,
     "metadata": {},
     "output_type": "execute_result"
    }
   ],
   "source": [
    "games['rating'].unique()"
   ]
  },
  {
   "cell_type": "markdown",
   "metadata": {},
   "source": [
    "Здесь замена на -1 будет некорректной, поэтому заменю на 'NA'"
   ]
  },
  {
   "cell_type": "code",
   "execution_count": 25,
   "metadata": {},
   "outputs": [
    {
     "name": "stdout",
     "output_type": "stream",
     "text": [
      "Количество строк без рейтинга от ESRB = 6678\n",
      "Количество строк c рейтингом от ESRB = 9768\n",
      "Количество строк всего = 16446\n"
     ]
    }
   ],
   "source": [
    "print('Количество строк без рейтинга от ESRB = {}'.format(games['rating'].isnull().sum()))\n",
    "print('Количество строк c рейтингом от ESRB = {}'.format(games.shape[0] - games['rating'].isnull().sum()))\n",
    "print('Количество строк всего = {}'.format(games.shape[0]))"
   ]
  },
  {
   "cell_type": "code",
   "execution_count": 26,
   "metadata": {},
   "outputs": [],
   "source": [
    "games['rating'] = games['rating'].fillna('NA')"
   ]
  },
  {
   "cell_type": "code",
   "execution_count": 27,
   "metadata": {},
   "outputs": [
    {
     "name": "stdout",
     "output_type": "stream",
     "text": [
      "Количество строк без рейтинга от ESRB = 0\n",
      "Количество строк c рейтингом \"NA\" от ESRB  = 6678\n",
      "Количество строк всего = 16446\n"
     ]
    }
   ],
   "source": [
    "print('Количество строк без рейтинга от ESRB = {}'.format(games['rating'].isnull().sum()))\n",
    "print('Количество строк c рейтингом \"NA\" от ESRB  = {}'.format(games['rating'][games['rating'] == 'NA'].count()))\n",
    "print('Количество строк всего = {}'.format(games.shape[0]))"
   ]
  },
  {
   "cell_type": "markdown",
   "metadata": {},
   "source": [
    "Все пропуски обработы. Взгляну на инфо о  преобразованной таблице"
   ]
  },
  {
   "cell_type": "code",
   "execution_count": 28,
   "metadata": {},
   "outputs": [
    {
     "name": "stdout",
     "output_type": "stream",
     "text": [
      "<class 'pandas.core.frame.DataFrame'>\n",
      "Int64Index: 16446 entries, 0 to 16714\n",
      "Data columns (total 11 columns):\n",
      "name               16446 non-null object\n",
      "platform           16446 non-null object\n",
      "year_of_release    16446 non-null float64\n",
      "genre              16446 non-null object\n",
      "na_sales           16446 non-null float64\n",
      "eu_sales           16446 non-null float64\n",
      "jp_sales           16446 non-null float64\n",
      "other_sales        16446 non-null float64\n",
      "critic_score       16446 non-null float64\n",
      "user_score         16446 non-null object\n",
      "rating             16446 non-null object\n",
      "dtypes: float64(6), object(5)\n",
      "memory usage: 1.5+ MB\n"
     ]
    }
   ],
   "source": [
    "games.info()"
   ]
  },
  {
   "cell_type": "markdown",
   "metadata": {},
   "source": [
    "Теперь можно переходить к обработке типов данных"
   ]
  },
  {
   "cell_type": "markdown",
   "metadata": {},
   "source": [
    "#### 2.3 Изменение типа данных<a id=\"step2.3\"></a> "
   ]
  },
  {
   "cell_type": "markdown",
   "metadata": {},
   "source": [
    "Сменю тип данных в столбце с годом выпуска с вещественного на целочисленный"
   ]
  },
  {
   "cell_type": "code",
   "execution_count": 29,
   "metadata": {},
   "outputs": [],
   "source": [
    "games['year_of_release'] = games['year_of_release'].astype('int')"
   ]
  },
  {
   "cell_type": "markdown",
   "metadata": {},
   "source": [
    "Сменю тип данных в столбце с оценкой критиков со строкового на числовой"
   ]
  },
  {
   "cell_type": "code",
   "execution_count": 30,
   "metadata": {},
   "outputs": [],
   "source": [
    "games['critic_score'] = games['critic_score'].astype('int')\n",
    "games['user_score'] = games['user_score'].astype('float')"
   ]
  },
  {
   "cell_type": "markdown",
   "metadata": {},
   "source": [
    "Посмотрю, что получилось"
   ]
  },
  {
   "cell_type": "code",
   "execution_count": 31,
   "metadata": {},
   "outputs": [
    {
     "name": "stdout",
     "output_type": "stream",
     "text": [
      "<class 'pandas.core.frame.DataFrame'>\n",
      "Int64Index: 16446 entries, 0 to 16714\n",
      "Data columns (total 11 columns):\n",
      "name               16446 non-null object\n",
      "platform           16446 non-null object\n",
      "year_of_release    16446 non-null int64\n",
      "genre              16446 non-null object\n",
      "na_sales           16446 non-null float64\n",
      "eu_sales           16446 non-null float64\n",
      "jp_sales           16446 non-null float64\n",
      "other_sales        16446 non-null float64\n",
      "critic_score       16446 non-null int64\n",
      "user_score         16446 non-null float64\n",
      "rating             16446 non-null object\n",
      "dtypes: float64(5), int64(2), object(4)\n",
      "memory usage: 1.5+ MB\n"
     ]
    }
   ],
   "source": [
    "games.info()"
   ]
  },
  {
   "cell_type": "markdown",
   "metadata": {},
   "source": [
    "Теперь все типы данных корректные"
   ]
  },
  {
   "cell_type": "markdown",
   "metadata": {},
   "source": [
    "#### 2.4 Расчет суммарных продаж во всех регионах для каждой игры и добавление данных в рабочую таблицу<a id=\"step2.4\"></a> "
   ]
  },
  {
   "cell_type": "code",
   "execution_count": 32,
   "metadata": {},
   "outputs": [
    {
     "data": {
      "text/html": [
       "<div>\n",
       "<style scoped>\n",
       "    .dataframe tbody tr th:only-of-type {\n",
       "        vertical-align: middle;\n",
       "    }\n",
       "\n",
       "    .dataframe tbody tr th {\n",
       "        vertical-align: top;\n",
       "    }\n",
       "\n",
       "    .dataframe thead th {\n",
       "        text-align: right;\n",
       "    }\n",
       "</style>\n",
       "<table border=\"1\" class=\"dataframe\">\n",
       "  <thead>\n",
       "    <tr style=\"text-align: right;\">\n",
       "      <th></th>\n",
       "      <th>name</th>\n",
       "      <th>platform</th>\n",
       "      <th>year_of_release</th>\n",
       "      <th>genre</th>\n",
       "      <th>na_sales</th>\n",
       "      <th>eu_sales</th>\n",
       "      <th>jp_sales</th>\n",
       "      <th>other_sales</th>\n",
       "      <th>critic_score</th>\n",
       "      <th>user_score</th>\n",
       "      <th>rating</th>\n",
       "      <th>total_sales</th>\n",
       "    </tr>\n",
       "  </thead>\n",
       "  <tbody>\n",
       "    <tr>\n",
       "      <td>0</td>\n",
       "      <td>Wii Sports</td>\n",
       "      <td>Wii</td>\n",
       "      <td>2006</td>\n",
       "      <td>Sports</td>\n",
       "      <td>41.36</td>\n",
       "      <td>28.96</td>\n",
       "      <td>3.77</td>\n",
       "      <td>8.45</td>\n",
       "      <td>76</td>\n",
       "      <td>8.0</td>\n",
       "      <td>E</td>\n",
       "      <td>82.54</td>\n",
       "    </tr>\n",
       "    <tr>\n",
       "      <td>1</td>\n",
       "      <td>Super Mario Bros.</td>\n",
       "      <td>NES</td>\n",
       "      <td>1985</td>\n",
       "      <td>Platform</td>\n",
       "      <td>29.08</td>\n",
       "      <td>3.58</td>\n",
       "      <td>6.81</td>\n",
       "      <td>0.77</td>\n",
       "      <td>-1</td>\n",
       "      <td>-1.0</td>\n",
       "      <td>NA</td>\n",
       "      <td>40.24</td>\n",
       "    </tr>\n",
       "    <tr>\n",
       "      <td>2</td>\n",
       "      <td>Mario Kart Wii</td>\n",
       "      <td>Wii</td>\n",
       "      <td>2008</td>\n",
       "      <td>Racing</td>\n",
       "      <td>15.68</td>\n",
       "      <td>12.76</td>\n",
       "      <td>3.79</td>\n",
       "      <td>3.29</td>\n",
       "      <td>82</td>\n",
       "      <td>8.3</td>\n",
       "      <td>E</td>\n",
       "      <td>35.52</td>\n",
       "    </tr>\n",
       "    <tr>\n",
       "      <td>3</td>\n",
       "      <td>Wii Sports Resort</td>\n",
       "      <td>Wii</td>\n",
       "      <td>2009</td>\n",
       "      <td>Sports</td>\n",
       "      <td>15.61</td>\n",
       "      <td>10.93</td>\n",
       "      <td>3.28</td>\n",
       "      <td>2.95</td>\n",
       "      <td>80</td>\n",
       "      <td>8.0</td>\n",
       "      <td>E</td>\n",
       "      <td>32.77</td>\n",
       "    </tr>\n",
       "    <tr>\n",
       "      <td>4</td>\n",
       "      <td>Pokemon Red/Pokemon Blue</td>\n",
       "      <td>GB</td>\n",
       "      <td>1996</td>\n",
       "      <td>Role-Playing</td>\n",
       "      <td>11.27</td>\n",
       "      <td>8.89</td>\n",
       "      <td>10.22</td>\n",
       "      <td>1.00</td>\n",
       "      <td>-1</td>\n",
       "      <td>-1.0</td>\n",
       "      <td>NA</td>\n",
       "      <td>31.38</td>\n",
       "    </tr>\n",
       "    <tr>\n",
       "      <td>5</td>\n",
       "      <td>Tetris</td>\n",
       "      <td>GB</td>\n",
       "      <td>1989</td>\n",
       "      <td>Puzzle</td>\n",
       "      <td>23.20</td>\n",
       "      <td>2.26</td>\n",
       "      <td>4.22</td>\n",
       "      <td>0.58</td>\n",
       "      <td>-1</td>\n",
       "      <td>-1.0</td>\n",
       "      <td>NA</td>\n",
       "      <td>30.26</td>\n",
       "    </tr>\n",
       "    <tr>\n",
       "      <td>6</td>\n",
       "      <td>New Super Mario Bros.</td>\n",
       "      <td>DS</td>\n",
       "      <td>2006</td>\n",
       "      <td>Platform</td>\n",
       "      <td>11.28</td>\n",
       "      <td>9.14</td>\n",
       "      <td>6.50</td>\n",
       "      <td>2.88</td>\n",
       "      <td>89</td>\n",
       "      <td>8.5</td>\n",
       "      <td>E</td>\n",
       "      <td>29.80</td>\n",
       "    </tr>\n",
       "    <tr>\n",
       "      <td>7</td>\n",
       "      <td>Wii Play</td>\n",
       "      <td>Wii</td>\n",
       "      <td>2006</td>\n",
       "      <td>Misc</td>\n",
       "      <td>13.96</td>\n",
       "      <td>9.18</td>\n",
       "      <td>2.93</td>\n",
       "      <td>2.84</td>\n",
       "      <td>58</td>\n",
       "      <td>6.6</td>\n",
       "      <td>E</td>\n",
       "      <td>28.91</td>\n",
       "    </tr>\n",
       "    <tr>\n",
       "      <td>8</td>\n",
       "      <td>New Super Mario Bros. Wii</td>\n",
       "      <td>Wii</td>\n",
       "      <td>2009</td>\n",
       "      <td>Platform</td>\n",
       "      <td>14.44</td>\n",
       "      <td>6.94</td>\n",
       "      <td>4.70</td>\n",
       "      <td>2.24</td>\n",
       "      <td>87</td>\n",
       "      <td>8.4</td>\n",
       "      <td>E</td>\n",
       "      <td>28.32</td>\n",
       "    </tr>\n",
       "    <tr>\n",
       "      <td>9</td>\n",
       "      <td>Duck Hunt</td>\n",
       "      <td>NES</td>\n",
       "      <td>1984</td>\n",
       "      <td>Shooter</td>\n",
       "      <td>26.93</td>\n",
       "      <td>0.63</td>\n",
       "      <td>0.28</td>\n",
       "      <td>0.47</td>\n",
       "      <td>-1</td>\n",
       "      <td>-1.0</td>\n",
       "      <td>NA</td>\n",
       "      <td>28.31</td>\n",
       "    </tr>\n",
       "  </tbody>\n",
       "</table>\n",
       "</div>"
      ],
      "text/plain": [
       "                        name platform  year_of_release         genre  \\\n",
       "0                 Wii Sports      Wii             2006        Sports   \n",
       "1          Super Mario Bros.      NES             1985      Platform   \n",
       "2             Mario Kart Wii      Wii             2008        Racing   \n",
       "3          Wii Sports Resort      Wii             2009        Sports   \n",
       "4   Pokemon Red/Pokemon Blue       GB             1996  Role-Playing   \n",
       "5                     Tetris       GB             1989        Puzzle   \n",
       "6      New Super Mario Bros.       DS             2006      Platform   \n",
       "7                   Wii Play      Wii             2006          Misc   \n",
       "8  New Super Mario Bros. Wii      Wii             2009      Platform   \n",
       "9                  Duck Hunt      NES             1984       Shooter   \n",
       "\n",
       "   na_sales  eu_sales  jp_sales  other_sales  critic_score  user_score rating  \\\n",
       "0     41.36     28.96      3.77         8.45            76         8.0      E   \n",
       "1     29.08      3.58      6.81         0.77            -1        -1.0     NA   \n",
       "2     15.68     12.76      3.79         3.29            82         8.3      E   \n",
       "3     15.61     10.93      3.28         2.95            80         8.0      E   \n",
       "4     11.27      8.89     10.22         1.00            -1        -1.0     NA   \n",
       "5     23.20      2.26      4.22         0.58            -1        -1.0     NA   \n",
       "6     11.28      9.14      6.50         2.88            89         8.5      E   \n",
       "7     13.96      9.18      2.93         2.84            58         6.6      E   \n",
       "8     14.44      6.94      4.70         2.24            87         8.4      E   \n",
       "9     26.93      0.63      0.28         0.47            -1        -1.0     NA   \n",
       "\n",
       "   total_sales  \n",
       "0        82.54  \n",
       "1        40.24  \n",
       "2        35.52  \n",
       "3        32.77  \n",
       "4        31.38  \n",
       "5        30.26  \n",
       "6        29.80  \n",
       "7        28.91  \n",
       "8        28.32  \n",
       "9        28.31  "
      ]
     },
     "execution_count": 32,
     "metadata": {},
     "output_type": "execute_result"
    }
   ],
   "source": [
    "games['total_sales'] = games['na_sales'] + games['eu_sales'] + games['jp_sales'] + games['other_sales']\n",
    "games.head(10)"
   ]
  },
  {
   "cell_type": "markdown",
   "metadata": {},
   "source": [
    "#### 2.5 Итоги<a id=\"step2.5\"></a> "
   ]
  },
  {
   "cell_type": "markdown",
   "metadata": {},
   "source": [
    "Во втором разделе мною была проделана предобработка данных. Заменены типы данных на корректные в 3 столбцах. Преобразованы названия столбцов к записи с одним регистром. Удалены строки с пропущенными значениями года выпуска (всего 269 строк, что составило 1,61% от общего числа). Все пропущенные значения в рейтингах заменены на условное значение, обозначающее отстутствие данных, тем самым сохранены данные других столбцов. Также произведен подсчет суммарных продаж по всем регионам и добавлен к имеющимся данным."
   ]
  },
  {
   "cell_type": "markdown",
   "metadata": {},
   "source": [
    "### 3. Анализ данных<a id=\"step3\"></a> "
   ]
  },
  {
   "cell_type": "markdown",
   "metadata": {},
   "source": [
    "#### 3.1 Сколько игр выпускалось в разные годы?<a id=\"step3.1\"></a> "
   ]
  },
  {
   "cell_type": "code",
   "execution_count": 33,
   "metadata": {},
   "outputs": [
    {
     "data": {
      "text/html": [
       "<div>\n",
       "<style scoped>\n",
       "    .dataframe tbody tr th:only-of-type {\n",
       "        vertical-align: middle;\n",
       "    }\n",
       "\n",
       "    .dataframe tbody tr th {\n",
       "        vertical-align: top;\n",
       "    }\n",
       "\n",
       "    .dataframe thead th {\n",
       "        text-align: right;\n",
       "    }\n",
       "</style>\n",
       "<table border=\"1\" class=\"dataframe\">\n",
       "  <thead>\n",
       "    <tr style=\"text-align: right;\">\n",
       "      <th></th>\n",
       "      <th>год выпуска</th>\n",
       "      <th>кол-во игр</th>\n",
       "    </tr>\n",
       "  </thead>\n",
       "  <tbody>\n",
       "    <tr>\n",
       "      <td>0</td>\n",
       "      <td>1980</td>\n",
       "      <td>9</td>\n",
       "    </tr>\n",
       "    <tr>\n",
       "      <td>1</td>\n",
       "      <td>1981</td>\n",
       "      <td>46</td>\n",
       "    </tr>\n",
       "    <tr>\n",
       "      <td>2</td>\n",
       "      <td>1982</td>\n",
       "      <td>36</td>\n",
       "    </tr>\n",
       "    <tr>\n",
       "      <td>3</td>\n",
       "      <td>1983</td>\n",
       "      <td>17</td>\n",
       "    </tr>\n",
       "    <tr>\n",
       "      <td>4</td>\n",
       "      <td>1984</td>\n",
       "      <td>14</td>\n",
       "    </tr>\n",
       "  </tbody>\n",
       "</table>\n",
       "</div>"
      ],
      "text/plain": [
       "   год выпуска  кол-во игр\n",
       "0         1980           9\n",
       "1         1981          46\n",
       "2         1982          36\n",
       "3         1983          17\n",
       "4         1984          14"
      ]
     },
     "execution_count": 33,
     "metadata": {},
     "output_type": "execute_result"
    }
   ],
   "source": [
    "games_sum_year = games.pivot_table(index = 'year_of_release', values = 'name', aggfunc='count')\n",
    "games_sum_year.reset_index(level=0, inplace=True)\n",
    "games_sum_year.columns = ['год выпуска','кол-во игр']\n",
    "games_sum_year.head()"
   ]
  },
  {
   "cell_type": "code",
   "execution_count": 34,
   "metadata": {},
   "outputs": [
    {
     "data": {
      "text/plain": [
       "<matplotlib.axes._subplots.AxesSubplot at 0x7f3cef486310>"
      ]
     },
     "execution_count": 34,
     "metadata": {},
     "output_type": "execute_result"
    },
    {
     "data": {
      "image/png": "[encoded data removed]",
      "text/plain": [
       "<Figure size 1080x360 with 1 Axes>"
      ]
     },
     "metadata": {
      "needs_background": "light"
     },
     "output_type": "display_data"
    }
   ],
   "source": [
    "games_sum_year.plot(x='год выпуска', y='кол-во игр', style='o-', figsize=(15,5), xlim=(1979, 2017), grid=True)"
   ]
  },
  {
   "cell_type": "markdown",
   "metadata": {},
   "source": [
    "Получился достаточно наглядный график развития индустрии игр. Отчетливо видно, что до 1995 года игр почти не было. Далее происходит плавный рост и начиная с 2002 года резко увеличивается количество выпущенных игр. Пик приходится на 2007 и 2008 года. Далее начинается спад, это говорит о снижении интереса у людей к играм. Соответственно при уменьшении спроса уменьшается и количество предложений."
   ]
  },
  {
   "cell_type": "markdown",
   "metadata": {},
   "source": [
    "#### 3.2 Как менялись продажи по платформам?<a id=\"step3.2\"></a> "
   ]
  },
  {
   "cell_type": "code",
   "execution_count": 35,
   "metadata": {},
   "outputs": [
    {
     "data": {
      "text/html": [
       "<div>\n",
       "<style scoped>\n",
       "    .dataframe tbody tr th:only-of-type {\n",
       "        vertical-align: middle;\n",
       "    }\n",
       "\n",
       "    .dataframe tbody tr th {\n",
       "        vertical-align: top;\n",
       "    }\n",
       "\n",
       "    .dataframe thead th {\n",
       "        text-align: right;\n",
       "    }\n",
       "</style>\n",
       "<table border=\"1\" class=\"dataframe\">\n",
       "  <thead>\n",
       "    <tr style=\"text-align: right;\">\n",
       "      <th></th>\n",
       "      <th>платформа</th>\n",
       "      <th>продажи, млн</th>\n",
       "    </tr>\n",
       "  </thead>\n",
       "  <tbody>\n",
       "    <tr>\n",
       "      <td>16</td>\n",
       "      <td>PS2</td>\n",
       "      <td>1233.56</td>\n",
       "    </tr>\n",
       "    <tr>\n",
       "      <td>28</td>\n",
       "      <td>X360</td>\n",
       "      <td>961.24</td>\n",
       "    </tr>\n",
       "    <tr>\n",
       "      <td>17</td>\n",
       "      <td>PS3</td>\n",
       "      <td>931.34</td>\n",
       "    </tr>\n",
       "    <tr>\n",
       "      <td>26</td>\n",
       "      <td>Wii</td>\n",
       "      <td>891.18</td>\n",
       "    </tr>\n",
       "    <tr>\n",
       "      <td>4</td>\n",
       "      <td>DS</td>\n",
       "      <td>802.78</td>\n",
       "    </tr>\n",
       "    <tr>\n",
       "      <td>15</td>\n",
       "      <td>PS</td>\n",
       "      <td>727.58</td>\n",
       "    </tr>\n",
       "    <tr>\n",
       "      <td>18</td>\n",
       "      <td>PS4</td>\n",
       "      <td>314.14</td>\n",
       "    </tr>\n",
       "    <tr>\n",
       "      <td>6</td>\n",
       "      <td>GBA</td>\n",
       "      <td>312.88</td>\n",
       "    </tr>\n",
       "    <tr>\n",
       "      <td>19</td>\n",
       "      <td>PSP</td>\n",
       "      <td>289.53</td>\n",
       "    </tr>\n",
       "    <tr>\n",
       "      <td>2</td>\n",
       "      <td>3DS</td>\n",
       "      <td>257.81</td>\n",
       "    </tr>\n",
       "  </tbody>\n",
       "</table>\n",
       "</div>"
      ],
      "text/plain": [
       "   платформа  продажи, млн\n",
       "16       PS2       1233.56\n",
       "28      X360        961.24\n",
       "17       PS3        931.34\n",
       "26       Wii        891.18\n",
       "4         DS        802.78\n",
       "15        PS        727.58\n",
       "18       PS4        314.14\n",
       "6        GBA        312.88\n",
       "19       PSP        289.53\n",
       "2        3DS        257.81"
      ]
     },
     "execution_count": 35,
     "metadata": {},
     "output_type": "execute_result"
    }
   ],
   "source": [
    "games_sum_platform = games.pivot_table(index = 'platform', values = 'total_sales', aggfunc = 'sum')\n",
    "games_sum_platform.reset_index(level=0, inplace=True)\n",
    "games_sum_platform = games_sum_platform.sort_values(by = 'total_sales', ascending = False)\n",
    "games_sum_platform.columns = ['платформа','продажи, млн']\n",
    "games_sum_platform.head(10)"
   ]
  },
  {
   "cell_type": "code",
   "execution_count": 36,
   "metadata": {},
   "outputs": [
    {
     "data": {
      "text/plain": [
       "<matplotlib.axes._subplots.AxesSubplot at 0x7f3cecb6f510>"
      ]
     },
     "execution_count": 36,
     "metadata": {},
     "output_type": "execute_result"
    },
    {
     "data": {
      "image/png": "[encoded data removed]",
      "text/plain": [
       "<Figure size 1080x360 with 1 Axes>"
      ]
     },
     "metadata": {
      "needs_background": "light"
     },
     "output_type": "display_data"
    }
   ],
   "source": [
    "games_sum_platform.plot(x='платформа', y='продажи, млн', kind='bar', figsize=(15,5), color='blue', ec='black')"
   ]
  },
  {
   "cell_type": "markdown",
   "metadata": {},
   "source": [
    "Топ-6 платформ по продажам - PS2, X360, PS3, Wii, DS, PS. Теперь можно посмотреть, как развивались эти платформы с течением времени."
   ]
  },
  {
   "cell_type": "markdown",
   "metadata": {},
   "source": [
    "Сначала нужно подготовить данные, по которым буду строить графики. Мне нужно 6 таблиц для каждой платформы из топ-6. Напишу функцию, которая будет формировать таблицу для выбранной платформы с данными о продажах по годам. "
   ]
  },
  {
   "cell_type": "code",
   "execution_count": 37,
   "metadata": {},
   "outputs": [],
   "source": [
    "def platform_years(data, platforma):\n",
    "    data_platforma = data[data['platform'] == platforma]\n",
    "    data_platforma = data_platforma.pivot_table(index = 'year_of_release', values = 'total_sales', aggfunc='sum')\n",
    "    data_platforma.reset_index(level=0, inplace=True)\n",
    "    data_platforma.columns = ['год выпуска','продажи, млн']\n",
    "    return data_platforma"
   ]
  },
  {
   "cell_type": "markdown",
   "metadata": {},
   "source": [
    "С помощью написанной функции получу 6 таблиц и сохраню их"
   ]
  },
  {
   "cell_type": "code",
   "execution_count": 38,
   "metadata": {},
   "outputs": [],
   "source": [
    "data_1 = platform_years(games, 'PS2')\n",
    "data_2 = platform_years(games, 'X360')\n",
    "data_3 = platform_years(games, 'PS3')\n",
    "data_4 = platform_years(games, 'Wii')\n",
    "data_5 = platform_years(games, 'DS')\n",
    "data_6 = platform_years(games, 'PS')"
   ]
  },
  {
   "cell_type": "markdown",
   "metadata": {},
   "source": [
    "Построю 6 графиков в одном окне, используя параметр ax."
   ]
  },
  {
   "cell_type": "code",
   "execution_count": 39,
   "metadata": {
    "scrolled": true
   },
   "outputs": [
    {
     "data": {
      "text/plain": [
       "<matplotlib.legend.Legend at 0x7f3cecb592d0>"
      ]
     },
     "execution_count": 39,
     "metadata": {},
     "output_type": "execute_result"
    },
    {
     "data": {
      "image/png": "[encoded data removed]",
      "text/plain": [
       "<Figure size 1080x360 with 1 Axes>"
      ]
     },
     "metadata": {
      "needs_background": "light"
     },
     "output_type": "display_data"
    }
   ],
   "source": [
    "ax = data_1.plot(x='год выпуска', y='продажи, млн', color='coral', figsize=(15,5), xlim=(1984, 2017), grid=True)\n",
    "bx = data_2.plot(x='год выпуска', y='продажи, млн', color='blue', ax=ax, figsize=(15,5), xlim=(1984, 2017), grid=True)\n",
    "cx = data_3.plot(x='год выпуска', y='продажи, млн', color='green', ax=bx, figsize=(15,5), xlim=(1984, 2017), grid=True)\n",
    "dx = data_4.plot(x='год выпуска', y='продажи, млн', color='black', ax=cx, figsize=(15,5), xlim=(1984, 2017), grid=True)\n",
    "ex = data_5.plot(x='год выпуска', y='продажи, млн', color='red', ax=dx, figsize=(15,5), xlim=(1984, 2017), grid=True)\n",
    "data_6.plot(x='год выпуска', y='продажи, млн', color='yellow', ax=ex, figsize=(15,5), xlim=(1984, 2017), grid=True)\n",
    "plt.ylabel('продажи, млн')\n",
    "plt.legend(['PS2', 'X360', 'PS3', 'Wii', 'DS', 'PS'], prop={'size':10})"
   ]
  },
  {
   "cell_type": "markdown",
   "metadata": {},
   "source": [
    "Получился довольно интересный факт и закономерность. Каждая платформа живет около 10-11 лет. Логичная история развития линейки PS: PS - 1994-2003 года, PS2 - 2000-2011 года, PS3 - с 2006-2016. То есть, когда запускается новая версия, предыдущая идет на спад и \"умирает\". Wii - 2006-2016 года, X360 - 2005-2016, DS реальное развитие начал с 2004 года, завершил в 2013 году. Для посторения прогноза на 2017 год бессмысленно брать актуальный период во все 10 лет жизни платформы. Пиковые значения продаж приходятся примерно на 2-4 года у каждой платформы, после чего начинают угасать. Так у PS3, например, это 2008-2011 года, у PS2 - 2002-2004 года. Таким образом актуальным периодом для прогноза на 2017 год возьму 4 предшествующих года 2013-2016 года."
   ]
  },
  {
   "cell_type": "markdown",
   "metadata": {},
   "source": [
    "#### 3.3 Анализ в актуальном периоде<a id=\"step3.3\"></a> "
   ]
  },
  {
   "cell_type": "markdown",
   "metadata": {},
   "source": [
    "Сделаю срез по данным за актуальный период. Сохраню в новый датафрейм"
   ]
  },
  {
   "cell_type": "code",
   "execution_count": 40,
   "metadata": {},
   "outputs": [],
   "source": [
    "games_actual = games.query('year_of_release <= 2016 & year_of_release >= 2013')"
   ]
  },
  {
   "cell_type": "markdown",
   "metadata": {},
   "source": [
    "Выведу названия платформ, которые попадают в этот период."
   ]
  },
  {
   "cell_type": "code",
   "execution_count": 41,
   "metadata": {},
   "outputs": [
    {
     "data": {
      "text/plain": [
       "array(['PS3', 'X360', 'PS4', '3DS', 'XOne', 'WiiU', 'Wii', 'PC', 'PSV',\n",
       "       'DS', 'PSP'], dtype=object)"
      ]
     },
     "execution_count": 41,
     "metadata": {},
     "output_type": "execute_result"
    }
   ],
   "source": [
    "games_actual['platform'].unique()"
   ]
  },
  {
   "cell_type": "markdown",
   "metadata": {},
   "source": [
    "Воспользуюсь написанной выше функцией platform_years для формирования данных для дальнейшего построения графиков"
   ]
  },
  {
   "cell_type": "code",
   "execution_count": 42,
   "metadata": {},
   "outputs": [],
   "source": [
    "data_1 = platform_years(games_actual, 'PS3')\n",
    "data_2 = platform_years(games_actual, 'X360')\n",
    "data_3 = platform_years(games_actual, 'PS4')\n",
    "data_4 = platform_years(games_actual, '3DS')\n",
    "data_5 = platform_years(games_actual, 'XOne')\n",
    "data_6 = platform_years(games_actual, 'WiiU')\n",
    "data_7 = platform_years(games_actual, 'Wii')\n",
    "data_8 = platform_years(games_actual, 'PC')\n",
    "data_9 = platform_years(games_actual, 'PSV')\n",
    "data_10 = platform_years(games_actual, 'DS')\n",
    "data_11 = platform_years(games_actual, 'PSP')"
   ]
  },
  {
   "cell_type": "markdown",
   "metadata": {},
   "source": [
    "Построю графики изменения продаж по всем платформам в актуальном периоде."
   ]
  },
  {
   "cell_type": "code",
   "execution_count": 43,
   "metadata": {},
   "outputs": [
    {
     "data": {
      "text/plain": [
       "<matplotlib.legend.Legend at 0x7f3ceca30ed0>"
      ]
     },
     "execution_count": 43,
     "metadata": {},
     "output_type": "execute_result"
    },
    {
     "data": {
      "image/png": "[encoded data removed]",
      "text/plain": [
       "<Figure size 1080x360 with 1 Axes>"
      ]
     },
     "metadata": {
      "needs_background": "light"
     },
     "output_type": "display_data"
    }
   ],
   "source": [
    "ax = data_1.plot(x='год выпуска', y='продажи, млн', color='coral', figsize=(15,5), xlim=(2012, 2017), grid=True)\n",
    "bx = data_2.plot(x='год выпуска', y='продажи, млн', color='blue', ax=ax, figsize=(15,5), xlim=(2012, 2017), grid=True)\n",
    "cx = data_3.plot(x='год выпуска', y='продажи, млн', color='green', ax=bx, figsize=(15,5), xlim=(2012, 2017), grid=True)\n",
    "dx = data_4.plot(x='год выпуска', y='продажи, млн', color='black', ax=cx, figsize=(15,5), xlim=(2012, 2017), grid=True)\n",
    "ex = data_5.plot(x='год выпуска', y='продажи, млн', color='red', ax=dx, figsize=(15,5), xlim=(2012, 2017), grid=True)\n",
    "fx = data_6.plot(x='год выпуска', y='продажи, млн', color='yellow', ax=ex, figsize=(15,5), xlim=(2012, 2017), grid=True)\n",
    "gx = data_7.plot(x='год выпуска', y='продажи, млн', color='indigo', ax=fx, figsize=(15,5), xlim=(2012, 2017), grid=True)\n",
    "hx = data_8.plot(x='год выпуска', y='продажи, млн', color='whitesmoke', ax=gx, figsize=(15,5), xlim=(2012, 2017), grid=True)\n",
    "ix = data_9.plot(x='год выпуска', y='продажи, млн', color='crimson', ax=hx, figsize=(15,5), xlim=(2012, 2017), grid=True)\n",
    "jx = data_10.plot(x='год выпуска', y='продажи, млн', color='darkred', ax=ix, figsize=(15,5), xlim=(2012, 2017), grid=True)\n",
    "data_11.plot(x='год выпуска', y='продажи, млн', color='pink', ax=jx, figsize=(15,5), xlim=(2012, 2017), grid=True)\n",
    "plt.ylabel('продажи, млн')\n",
    "plt.legend(['PS3', 'X360', 'PS4', '3DS', 'XOne', 'WiiU', 'Wii', 'PC', 'PSV', 'DS', 'PSP'], prop={'size':10})"
   ]
  },
  {
   "cell_type": "markdown",
   "metadata": {},
   "source": [
    "В актуальном периоде только 2 платформы набирают рост по продажам и лидируют - это платфрмы PS4 и XOne. Остальные платформы в этом периоде завершают свою жизнь, об этом говорит стремительное падение уровня продаж. Посмотрю распределение продаж у PS4 и XOne, построив \"ящик с усами\"."
   ]
  },
  {
   "cell_type": "code",
   "execution_count": 44,
   "metadata": {},
   "outputs": [],
   "source": [
    "games_actual_PS4 = games_actual.query('platform == \"PS4\"')\n",
    "games_actual_XOne = games_actual.query('platform == \"XOne\"')"
   ]
  },
  {
   "cell_type": "code",
   "execution_count": 45,
   "metadata": {},
   "outputs": [
    {
     "data": {
      "text/plain": [
       "Text(0, 0.5, 'продажи')"
      ]
     },
     "execution_count": 45,
     "metadata": {},
     "output_type": "execute_result"
    },
    {
     "data": {
      "image/png": "[encoded data removed]",
      "text/plain": [
       "<Figure size 432x288 with 1 Axes>"
      ]
     },
     "metadata": {
      "needs_background": "light"
     },
     "output_type": "display_data"
    }
   ],
   "source": [
    "plt.ylim(0, 2)\n",
    "games_actual_PS4.boxplot('total_sales', figsize=(12,5))\n",
    "plt.xlabel('платформа')\n",
    "plt.ylabel('продажи')"
   ]
  },
  {
   "cell_type": "markdown",
   "metadata": {},
   "source": [
    "#### Платформа PS4:\n",
    "\n",
    "Выбросы за пределами 1,75 млн долларов. В основном продажи до 750 тыс долларов. Медиана 200 тыс."
   ]
  },
  {
   "cell_type": "code",
   "execution_count": 46,
   "metadata": {},
   "outputs": [
    {
     "data": {
      "text/plain": [
       "Text(0, 0.5, 'продажи')"
      ]
     },
     "execution_count": 46,
     "metadata": {},
     "output_type": "execute_result"
    },
    {
     "data": {
      "image/png": "[encoded data removed]",
      "text/plain": [
       "<Figure size 432x288 with 1 Axes>"
      ]
     },
     "metadata": {
      "needs_background": "light"
     },
     "output_type": "display_data"
    }
   ],
   "source": [
    "plt.ylim(0, 2)\n",
    "games_actual_XOne.boxplot('total_sales', figsize=(12,5))\n",
    "plt.xlabel('платформа')\n",
    "plt.ylabel('продажи')"
   ]
  },
  {
   "cell_type": "markdown",
   "metadata": {},
   "source": [
    "#### Платформа XOne:\n",
    "\n",
    "Выбросы за пределами 1,5 млн долларов. В основном продажи до 750 тыс долларов. Медиана 200 тыс."
   ]
  },
  {
   "cell_type": "markdown",
   "metadata": {},
   "source": [
    "Сравнивая две популярные платформы в рассматриваемом актуальном периоде можно сказать, что поведение в продажах схоже."
   ]
  },
  {
   "cell_type": "markdown",
   "metadata": {},
   "source": [
    "#### 3.4 Влияние отзывов на продажи<a id=\"step3.4\"></a> "
   ]
  },
  {
   "cell_type": "markdown",
   "metadata": {},
   "source": [
    "#### платформа PS4"
   ]
  },
  {
   "cell_type": "markdown",
   "metadata": {},
   "source": [
    "Посмотрю влияют ли оценки критиков на продажи игр, построю диаграмму рассеяния"
   ]
  },
  {
   "cell_type": "code",
   "execution_count": 45,
   "metadata": {},
   "outputs": [
    {
     "data": {
      "text/plain": [
       "Text(0, 0.5, 'продажи')"
      ]
     },
     "execution_count": 45,
     "metadata": {},
     "output_type": "execute_result"
    },
    {
     "data": {
      "image/png": "[encoded data removed]",
      "text/plain": [
       "<Figure size 720x432 with 1 Axes>"
      ]
     },
     "metadata": {
      "needs_background": "light"
     },
     "output_type": "display_data"
    }
   ],
   "source": [
    "games_actual_PS4_critic = games_actual_PS4.query('critic_score != -1')\n",
    "games_actual_PS4_critic.plot(kind='scatter', x='critic_score', y='total_sales', ec='black', figsize=(10,6))\n",
    "plt.xlabel('оценка критика')\n",
    "plt.ylabel('продажи')"
   ]
  },
  {
   "cell_type": "code",
   "execution_count": 46,
   "metadata": {},
   "outputs": [
    {
     "name": "stdout",
     "output_type": "stream",
     "text": [
      "Коэффициент корреляции между оценкой критика и суммой продаж: 0.41\n"
     ]
    }
   ],
   "source": [
    "print('Коэффициент корреляции между оценкой критика и суммой продаж: {:.2f}'.format(games_actual_PS4_critic['critic_score'].corr(games_actual_PS4_critic['total_sales'])))"
   ]
  },
  {
   "cell_type": "markdown",
   "metadata": {},
   "source": [
    "С увеличением средней оценки критиков увеличивается и уровень продаж."
   ]
  },
  {
   "cell_type": "code",
   "execution_count": 47,
   "metadata": {},
   "outputs": [
    {
     "data": {
      "text/plain": [
       "Text(0, 0.5, 'продажи')"
      ]
     },
     "execution_count": 47,
     "metadata": {},
     "output_type": "execute_result"
    },
    {
     "data": {
      "image/png": "[encoded data removed]",
      "text/plain": [
       "<Figure size 720x432 with 1 Axes>"
      ]
     },
     "metadata": {
      "needs_background": "light"
     },
     "output_type": "display_data"
    }
   ],
   "source": [
    "games_actual_PS4_user = games_actual_PS4.query('user_score != -1')\n",
    "games_actual_PS4_user.plot(kind='scatter', x='user_score', y='total_sales', ec='black', figsize=(10,6))\n",
    "plt.xlabel('оценка пользователя')\n",
    "plt.ylabel('продажи')"
   ]
  },
  {
   "cell_type": "code",
   "execution_count": 48,
   "metadata": {},
   "outputs": [
    {
     "name": "stdout",
     "output_type": "stream",
     "text": [
      "Коэффициент корреляции между оценкой пользователя и суммой продаж: -0.03\n"
     ]
    }
   ],
   "source": [
    "print('Коэффициент корреляции между оценкой пользователя и суммой продаж: {:.2f}'.format(games_actual_PS4_user['user_score'].corr(games_actual_PS4_user['total_sales'])))"
   ]
  },
  {
   "cell_type": "markdown",
   "metadata": {},
   "source": [
    "С оценками пользователей все иначе, зависимости не наблюдается. Хотя на практике так и есть, сначала игра покупается, а после использования оставляется отзыв и оценка, то есть продажа есть, а оценка может быть как высокой, так и низкой."
   ]
  },
  {
   "cell_type": "markdown",
   "metadata": {},
   "source": [
    "#### платформа XOne"
   ]
  },
  {
   "cell_type": "code",
   "execution_count": 49,
   "metadata": {},
   "outputs": [
    {
     "data": {
      "text/plain": [
       "Text(0, 0.5, 'продажи')"
      ]
     },
     "execution_count": 49,
     "metadata": {},
     "output_type": "execute_result"
    },
    {
     "data": {
      "image/png": "[encoded data removed]",
      "text/plain": [
       "<Figure size 720x432 with 1 Axes>"
      ]
     },
     "metadata": {
      "needs_background": "light"
     },
     "output_type": "display_data"
    }
   ],
   "source": [
    "games_actual_XOne_critic = games_actual_XOne.query('critic_score != -1')\n",
    "games_actual_XOne_critic.plot(kind='scatter', x='critic_score', y='total_sales', ec='black', figsize=(10,6))\n",
    "plt.xlabel('оценка критика')\n",
    "plt.ylabel('продажи')"
   ]
  },
  {
   "cell_type": "code",
   "execution_count": 50,
   "metadata": {},
   "outputs": [
    {
     "name": "stdout",
     "output_type": "stream",
     "text": [
      "Коэффициент корреляции между оценкой критика и суммой продаж: 0.42\n"
     ]
    }
   ],
   "source": [
    "print('Коэффициент корреляции между оценкой критика и суммой продаж: {:.2f}'.format(games_actual_XOne_critic['critic_score'].corr(games_actual_XOne_critic['total_sales'])))"
   ]
  },
  {
   "cell_type": "markdown",
   "metadata": {},
   "source": [
    "Получился аналогичный результат, как и сплатформой PS4. Все-таки оценки критиков имеют небольшой вес в суммах итоговых продаж."
   ]
  },
  {
   "cell_type": "code",
   "execution_count": 51,
   "metadata": {},
   "outputs": [
    {
     "data": {
      "text/plain": [
       "Text(0, 0.5, 'продажи')"
      ]
     },
     "execution_count": 51,
     "metadata": {},
     "output_type": "execute_result"
    },
    {
     "data": {
      "image/png": "[encoded data removed]",
      "text/plain": [
       "<Figure size 720x432 with 1 Axes>"
      ]
     },
     "metadata": {
      "needs_background": "light"
     },
     "output_type": "display_data"
    }
   ],
   "source": [
    "games_actual_XOne_user = games_actual_XOne.query('user_score != -1')\n",
    "games_actual_XOne_user.plot(kind='scatter', x='user_score', y='total_sales', ec='black', figsize=(10,6))\n",
    "plt.xlabel('оценка пользователя')\n",
    "plt.ylabel('продажи')"
   ]
  },
  {
   "cell_type": "code",
   "execution_count": 52,
   "metadata": {},
   "outputs": [
    {
     "name": "stdout",
     "output_type": "stream",
     "text": [
      "Коэффициент корреляции между оценкой пользователя и суммой продаж: -0.07\n"
     ]
    }
   ],
   "source": [
    "print('Коэффициент корреляции между оценкой пользователя и суммой продаж: {:.2f}'.format(games_actual_XOne_user['user_score'].corr(games_actual_XOne_user['total_sales'])))"
   ]
  },
  {
   "cell_type": "markdown",
   "metadata": {},
   "source": [
    "И снова видим отсутствие зависимости продаж от оценки пользователей."
   ]
  },
  {
   "cell_type": "markdown",
   "metadata": {},
   "source": [
    "#### 3.5 Распределение игр по жанрам<a id=\"step3.5\"></a> "
   ]
  },
  {
   "cell_type": "code",
   "execution_count": 53,
   "metadata": {},
   "outputs": [
    {
     "data": {
      "text/html": [
       "<div>\n",
       "<style scoped>\n",
       "    .dataframe tbody tr th:only-of-type {\n",
       "        vertical-align: middle;\n",
       "    }\n",
       "\n",
       "    .dataframe tbody tr th {\n",
       "        vertical-align: top;\n",
       "    }\n",
       "\n",
       "    .dataframe thead th {\n",
       "        text-align: right;\n",
       "    }\n",
       "</style>\n",
       "<table border=\"1\" class=\"dataframe\">\n",
       "  <thead>\n",
       "    <tr style=\"text-align: right;\">\n",
       "      <th></th>\n",
       "      <th>жанр</th>\n",
       "      <th>продажи, млн</th>\n",
       "      <th>кол-во игр</th>\n",
       "    </tr>\n",
       "  </thead>\n",
       "  <tbody>\n",
       "    <tr>\n",
       "      <td>0</td>\n",
       "      <td>Action</td>\n",
       "      <td>321.87</td>\n",
       "      <td>766</td>\n",
       "    </tr>\n",
       "    <tr>\n",
       "      <td>8</td>\n",
       "      <td>Shooter</td>\n",
       "      <td>232.98</td>\n",
       "      <td>187</td>\n",
       "    </tr>\n",
       "    <tr>\n",
       "      <td>10</td>\n",
       "      <td>Sports</td>\n",
       "      <td>150.65</td>\n",
       "      <td>214</td>\n",
       "    </tr>\n",
       "    <tr>\n",
       "      <td>7</td>\n",
       "      <td>Role-Playing</td>\n",
       "      <td>145.89</td>\n",
       "      <td>292</td>\n",
       "    </tr>\n",
       "    <tr>\n",
       "      <td>3</td>\n",
       "      <td>Misc</td>\n",
       "      <td>62.82</td>\n",
       "      <td>155</td>\n",
       "    </tr>\n",
       "    <tr>\n",
       "      <td>4</td>\n",
       "      <td>Platform</td>\n",
       "      <td>42.63</td>\n",
       "      <td>74</td>\n",
       "    </tr>\n",
       "    <tr>\n",
       "      <td>6</td>\n",
       "      <td>Racing</td>\n",
       "      <td>39.89</td>\n",
       "      <td>85</td>\n",
       "    </tr>\n",
       "    <tr>\n",
       "      <td>2</td>\n",
       "      <td>Fighting</td>\n",
       "      <td>35.31</td>\n",
       "      <td>80</td>\n",
       "    </tr>\n",
       "    <tr>\n",
       "      <td>1</td>\n",
       "      <td>Adventure</td>\n",
       "      <td>23.64</td>\n",
       "      <td>245</td>\n",
       "    </tr>\n",
       "    <tr>\n",
       "      <td>9</td>\n",
       "      <td>Simulation</td>\n",
       "      <td>21.76</td>\n",
       "      <td>62</td>\n",
       "    </tr>\n",
       "  </tbody>\n",
       "</table>\n",
       "</div>"
      ],
      "text/plain": [
       "            жанр  продажи, млн  кол-во игр\n",
       "0         Action        321.87         766\n",
       "8        Shooter        232.98         187\n",
       "10        Sports        150.65         214\n",
       "7   Role-Playing        145.89         292\n",
       "3           Misc         62.82         155\n",
       "4       Platform         42.63          74\n",
       "6         Racing         39.89          85\n",
       "2       Fighting         35.31          80\n",
       "1      Adventure         23.64         245\n",
       "9     Simulation         21.76          62"
      ]
     },
     "execution_count": 53,
     "metadata": {},
     "output_type": "execute_result"
    }
   ],
   "source": [
    "games_sum_genre = games_actual.pivot_table(index = 'genre', values = 'total_sales', aggfunc = ['sum', 'count'])\n",
    "games_sum_genre.reset_index(level=0, inplace=True)\n",
    "games_sum_genre.columns = ['жанр','продажи, млн', 'кол-во игр']\n",
    "games_sum_genre = games_sum_genre.sort_values(by = 'продажи, млн', ascending = False)\n",
    "games_sum_genre.head(10)"
   ]
  },
  {
   "cell_type": "code",
   "execution_count": 54,
   "metadata": {},
   "outputs": [
    {
     "data": {
      "text/plain": [
       "<matplotlib.axes._subplots.AxesSubplot at 0x7fa0d72c87d0>"
      ]
     },
     "execution_count": 54,
     "metadata": {},
     "output_type": "execute_result"
    },
    {
     "data": {
      "image/png": "[encoded data removed]",
      "text/plain": [
       "<Figure size 1080x360 with 1 Axes>"
      ]
     },
     "metadata": {
      "needs_background": "light"
     },
     "output_type": "display_data"
    }
   ],
   "source": [
    "ax = games_sum_genre.plot(x='жанр', y='продажи, млн', kind='bar', figsize=(15,5), color='blue', ec='black', position=0, width=0.2)\n",
    "games_sum_genre.plot(x='жанр', y='кол-во игр', kind='bar', figsize=(15,5), color='green', ec='black', ax=ax, position=1, width=0.2)"
   ]
  },
  {
   "cell_type": "markdown",
   "metadata": {},
   "source": [
    "Больше всего игр жанра Action. Суммы продаж по ним тоже наибольшие, логично, это дорогие игры для производства. На втором месте игры жанра Role-Playing, продажи по ним на четвертом месте. У жанра Sports несмотря на то, что кол-во игр заметно меньше по сравнению с Action выручка по ним не сильно отличается от Action. Значит игры жанра Sports в среднем стоят дороже. Самые низкие продажи у жанров Puzzle, Adventure, Strategy, Simulation. По количеству игр жанры Puzzle, Simulation и Strategy также в антитопе."
   ]
  },
  {
   "cell_type": "markdown",
   "metadata": {},
   "source": [
    "### 4. Составление портрета пользователя каждого региона<a id=\"step4\"></a> "
   ]
  },
  {
   "cell_type": "markdown",
   "metadata": {},
   "source": [
    "#### 4.1 Самые популярные платформы (топ-5). Описание различия в долях продаж для каждого региона<a id=\"step4.1\"></a> "
   ]
  },
  {
   "cell_type": "markdown",
   "metadata": {},
   "source": [
    "Напишу функцию, которая будет формировать нужные данные для построения гистограмм. На входе функции передам исходную таблицу, столбец, по которому буду делать топ-5 и столбец с продажами определенного региона."
   ]
  },
  {
   "cell_type": "code",
   "execution_count": 55,
   "metadata": {},
   "outputs": [],
   "source": [
    "def top_region(data, tip_top, region):\n",
    "    data = data.pivot_table(index = tip_top, values = region, aggfunc='sum')\n",
    "    data.reset_index(level=0, inplace=True)\n",
    "    data.columns = [tip_top,region]\n",
    "    data = data.sort_values(by = region, ascending = False)[:5]\n",
    "    return data"
   ]
  },
  {
   "cell_type": "markdown",
   "metadata": {},
   "source": [
    "Воспользуюсь функцией и сохраню 3 таблицы по топ платформам для каждого региона"
   ]
  },
  {
   "cell_type": "code",
   "execution_count": 56,
   "metadata": {},
   "outputs": [],
   "source": [
    "data_na = top_region(games_actual, 'platform', 'na_sales')\n",
    "data_eu = top_region(games_actual, 'platform', 'eu_sales')\n",
    "data_jp = top_region(games_actual, 'platform', 'jp_sales')"
   ]
  },
  {
   "cell_type": "markdown",
   "metadata": {},
   "source": [
    "Можно строить гистограммы"
   ]
  },
  {
   "cell_type": "code",
   "execution_count": 57,
   "metadata": {},
   "outputs": [
    {
     "data": {
      "text/plain": [
       "<matplotlib.axes._subplots.AxesSubplot at 0x7fa0d719b710>"
      ]
     },
     "execution_count": 57,
     "metadata": {},
     "output_type": "execute_result"
    },
    {
     "data": {
      "image/png": "[encoded data removed]",
      "text/plain": [
       "<Figure size 1440x360 with 3 Axes>"
      ]
     },
     "metadata": {
      "needs_background": "light"
     },
     "output_type": "display_data"
    }
   ],
   "source": [
    "fig, axes = plt.subplots(1, 3, figsize=(20,5))\n",
    "data_na.plot(x='platform', y='na_sales', kind='bar', color='blue', ec='black', ax=axes[0], title='Северная Америка')\n",
    "data_eu.plot(x='platform', y='eu_sales', kind='bar', color='green', ec='black', ax=axes[1], title='Европа')\n",
    "data_jp.plot(x='platform', y='jp_sales', kind='bar', color='coral', ec='black', ax=axes[2], title='Япония')"
   ]
  },
  {
   "cell_type": "markdown",
   "metadata": {},
   "source": [
    "Состав топ-5 платформ Северной Америки и Европы идентичен, при этом PS4 самая популярная в обоих регионах и только на 4-м месте в Японии. Завершающая топ-5 платформа в Северной Америке и Европе - 3DS в Японии на первом месте. Похоже у японцев все наоборот)."
   ]
  },
  {
   "cell_type": "markdown",
   "metadata": {},
   "source": [
    "#### 4.2 Самые популярные жанры (топ-5). Пояснить разницу для каждого региона<a id=\"step4.2\"></a> "
   ]
  },
  {
   "cell_type": "markdown",
   "metadata": {},
   "source": [
    "С помощью функции сохраню 3 таблицы по топ жанрам для каждого региона"
   ]
  },
  {
   "cell_type": "code",
   "execution_count": 58,
   "metadata": {},
   "outputs": [],
   "source": [
    "data_na = top_region(games_actual, 'genre', 'na_sales')\n",
    "data_eu = top_region(games_actual, 'genre', 'eu_sales')\n",
    "data_jp = top_region(games_actual, 'genre', 'jp_sales')"
   ]
  },
  {
   "cell_type": "markdown",
   "metadata": {},
   "source": [
    "Строю гистограммы"
   ]
  },
  {
   "cell_type": "code",
   "execution_count": 59,
   "metadata": {},
   "outputs": [
    {
     "data": {
      "text/plain": [
       "<matplotlib.axes._subplots.AxesSubplot at 0x7fa0d70827d0>"
      ]
     },
     "execution_count": 59,
     "metadata": {},
     "output_type": "execute_result"
    },
    {
     "data": {
      "image/png": "[encoded data removed]",
      "text/plain": [
       "<Figure size 1440x360 with 3 Axes>"
      ]
     },
     "metadata": {
      "needs_background": "light"
     },
     "output_type": "display_data"
    }
   ],
   "source": [
    "fig, axes = plt.subplots(1, 3, figsize=(20,5))\n",
    "data_na.plot(x='genre', y='na_sales', kind='bar', color='blue', ec='black', ax=axes[0], title='Северная Америка')\n",
    "data_eu.plot(x='genre', y='eu_sales', kind='bar', color='green', ec='black', ax=axes[1], title='Европа')\n",
    "data_jp.plot(x='genre', y='jp_sales', kind='bar', color='coral', ec='black', ax=axes[2], title='Япония')"
   ]
  },
  {
   "cell_type": "markdown",
   "metadata": {},
   "source": [
    "Топ-4 Америки и Европы снова идентичен, и даже 3 из них вошли в топ-5 Японии. Предпочтения в Северной Америке и Европе схожи - Action, Sports и Shooter. В Японии предпочтения иные - на первом месте Role-Playing, далее Action с большим отрывом от остальных."
   ]
  },
  {
   "cell_type": "markdown",
   "metadata": {},
   "source": [
    "#### 4.3 Влияет ли рейтинг ESRB на продажи в отдельном регионе?<a id=\"step4.3\"></a> "
   ]
  },
  {
   "cell_type": "markdown",
   "metadata": {},
   "source": [
    "С помощью функции сохраню 3 таблицы по рейтингам для каждого региона"
   ]
  },
  {
   "cell_type": "code",
   "execution_count": 60,
   "metadata": {},
   "outputs": [],
   "source": [
    "data_na = top_region(games_actual, 'rating', 'na_sales')\n",
    "data_eu = top_region(games_actual, 'rating', 'eu_sales')\n",
    "data_jp = top_region(games_actual, 'rating', 'jp_sales')"
   ]
  },
  {
   "cell_type": "code",
   "execution_count": 61,
   "metadata": {},
   "outputs": [
    {
     "data": {
      "text/plain": [
       "<matplotlib.axes._subplots.AxesSubplot at 0x7fa0d6f5f150>"
      ]
     },
     "execution_count": 61,
     "metadata": {},
     "output_type": "execute_result"
    },
    {
     "data": {
      "image/png": "[encoded data removed]",
      "text/plain": [
       "<Figure size 1440x360 with 3 Axes>"
      ]
     },
     "metadata": {
      "needs_background": "light"
     },
     "output_type": "display_data"
    }
   ],
   "source": [
    "fig, axes = plt.subplots(1, 3, figsize=(20,5))\n",
    "data_na.plot(x='rating', y='na_sales', kind='bar', color='blue', ec='black', ax=axes[0], title='Северная Америка')\n",
    "data_eu.plot(x='rating', y='eu_sales', kind='bar', color='green', ec='black', ax=axes[1], title='Европа')\n",
    "data_jp.plot(x='rating', y='jp_sales', kind='bar', color='coral', ec='black', ax=axes[2], title='Япония')"
   ]
  },
  {
   "cell_type": "markdown",
   "metadata": {},
   "source": [
    "И снова Япония кардинально отличается от Северной Америки и Европы. В Японии большая часть продаж приходится на игры без оценки, в то время как В Европе и в Северной Америке лидерами являются игры для взрослых (старше 17 лет). В Америке и Европе следующие по продажам идут игры категории \"Для всех\", в Японии эти игры на равне с играми категории \"для подростков\" (старше 13)."
   ]
  },
  {
   "cell_type": "markdown",
   "metadata": {},
   "source": [
    "### 5. Проверка гипотез<a id=\"step5\"></a> "
   ]
  },
  {
   "cell_type": "markdown",
   "metadata": {},
   "source": [
    "#### 5.1 Средние пользовательские рейтинги платформ Xbox One и PC одинаковые<a id=\"step5.1\"></a> "
   ]
  },
  {
   "cell_type": "markdown",
   "metadata": {},
   "source": [
    "H0 - Нулевая гипотеза - Средние пользовательские рейтинги платформ XOne и PC равны.\n",
    "\n",
    "H1 - Альтернативная гипотеза - Средние пользовательские рейтинги платформ Xbox One и PC не равны."
   ]
  },
  {
   "cell_type": "markdown",
   "metadata": {},
   "source": [
    "Критический уровень статистической значимости возьму равным 0.05.\n",
    "\n",
    "Чтобы проверить гипотезу о равенстве среднего двух генеральных совокупностей по взятым из них выборкам, применю метод scipy.stats.ttest_ind.\n",
    "Вначале сделаю нужные выборки из данных - средние пользовательские рейтинги по платформам."
   ]
  },
  {
   "cell_type": "code",
   "execution_count": 62,
   "metadata": {},
   "outputs": [],
   "source": [
    "games_XOne = games.query('platform ==\"XOne\" & user_score != -1')\n",
    "games_XOne = games_XOne['user_score']\n",
    "games_PC = games.query('platform ==\"PC\" & user_score != -1')\n",
    "games_PC = games_PC['user_score']"
   ]
  },
  {
   "cell_type": "code",
   "execution_count": 63,
   "metadata": {},
   "outputs": [
    {
     "name": "stdout",
     "output_type": "stream",
     "text": [
      "Средняя оценка пользователя платформы XOne:  6.521428571428572\n",
      "Средняя оценка пользователя платформы PC:  7.065960264900661\n",
      "p-значение: 1.3037979620149106e-05\n",
      "Отвергаю нулевую гипотезу\n"
     ]
    }
   ],
   "source": [
    "print('Средняя оценка пользователя платформы XOne: ',pd.Series(games_XOne).mean())\n",
    "print('Средняя оценка пользователя платформы PC: ',pd.Series(games_PC).mean())\n",
    "alpha = 0.05\n",
    "\n",
    "results = st.ttest_ind(games_XOne, games_PC)\n",
    "\n",
    "print('p-значение:', results.pvalue)\n",
    "\n",
    "if (results.pvalue < alpha):\n",
    "    print(\"Отвергаю нулевую гипотезу\")\n",
    "else:\n",
    "    print(\"Не получилось отвергнуть нулевую гипотезу\")"
   ]
  },
  {
   "cell_type": "markdown",
   "metadata": {},
   "source": [
    "Оценка по двум платформам различается. Исходя только из проверки гипотезы нельзя сказать, чья оценка больше, — можно только сказать, что они отличаются. Но, посчитав среднюю оценку для обоих платформ, можно сказать, что cредняя оценка платформы PC выше, чем средняя оценка платформы XOne."
   ]
  },
  {
   "cell_type": "markdown",
   "metadata": {},
   "source": [
    "#### 5.2 Средние пользовательские рейтинги жанров Action и Sports разные<a id=\"step5.2\"></a> "
   ]
  },
  {
   "cell_type": "markdown",
   "metadata": {},
   "source": [
    "H0 - Нулевая гипотеза - Средние пользовательские рейтинги жанров Action и Sports равны.\n",
    "\n",
    "H1 - Альтернативная гипотеза - Средние пользовательские рейтинги жанров Action и Sports не равны."
   ]
  },
  {
   "cell_type": "markdown",
   "metadata": {},
   "source": [
    "Критический уровень статистической значимости возьму равным 0.05.\n",
    "\n",
    "Чтобы проверить гипотезу о равенстве среднего двух генеральных совокупностей по взятым из них выборкам, применю метод scipy.stats.ttest_ind.\n",
    "Вначале сделаю нужные выборки из данных - средние пользовательские рейтинги по жанрам."
   ]
  },
  {
   "cell_type": "code",
   "execution_count": 64,
   "metadata": {},
   "outputs": [],
   "source": [
    "games_action = games.query('genre ==\"Action\" & user_score != -1')\n",
    "games_action = games_action['user_score']\n",
    "games_sports = games.query('genre ==\"Sports\" & user_score != -1')\n",
    "games_sports = games_sports['user_score']"
   ]
  },
  {
   "cell_type": "code",
   "execution_count": 65,
   "metadata": {},
   "outputs": [
    {
     "name": "stdout",
     "output_type": "stream",
     "text": [
      "Средняя оценка пользователя игр жанра Action:  7.058129175946549\n",
      "Средняя оценка пользовател игр жанра Sports:  6.951433857539316\n",
      "p-значение: 0.06480928064420527\n",
      "Не получилось отвергнуть нулевую гипотезу\n"
     ]
    }
   ],
   "source": [
    "print('Средняя оценка пользователя игр жанра Action: ',pd.Series(games_action).mean())\n",
    "print('Средняя оценка пользовател игр жанра Sports: ',pd.Series(games_sports).mean())\n",
    "alpha = 0.05\n",
    "\n",
    "results = st.ttest_ind(games_action, games_sports)\n",
    "\n",
    "print('p-значение:', results.pvalue)\n",
    "\n",
    "if (results.pvalue < alpha):\n",
    "    print(\"Отвергаю нулевую гипотезу\")\n",
    "else:\n",
    "    print(\"Не получилось отвергнуть нулевую гипотезу\")"
   ]
  },
  {
   "cell_type": "markdown",
   "metadata": {},
   "source": [
    "Оценка пользователей игр жанра Action и Sports не сильно различается. Исходя только из проверки гипотезы можно сказать, что оценка почти одинаковая и входит в диапазон статистической значимости. Но, посчитав среднюю оценку пользователей игр жанра Action и Sports, можно сказать, что оценки почти не отличаются."
   ]
  },
  {
   "cell_type": "markdown",
   "metadata": {},
   "source": [
    "### 6. Общие выводы<a id=\"step6\"></a> "
   ]
  },
  {
   "cell_type": "markdown",
   "metadata": {},
   "source": [
    "В результате проведенного анализа удалось установить, что развитие игровой индустрии началось в далеком 1995 году, хотя небольшое количество игр было и до этого времени. Сначала количество игр росло плавно и начиная с 2002 года произошел резкий скачок, пик пришелся на 2007-2008 года. После интерес к играм начал снижаться, вследствие чего снизилось количество выпускаемых на рынок новых игр.\n",
    "\n",
    "Также в результате анализа была получена закономерность, что каждая игровая платформа живет около 10-11 лет. Например, история развития линейки PS: PS - 1994-2003 года, PS2 - 2000-2011 года, PS3 - с 2006-2016. То есть, когда запускается новая версия, предыдущая идет на спад и \"умирает\". Wii - 2006-2016 года, X360 - 2005-2016, DS реальное развитие начал с 2004 года, завершил в 2013 году. Пиковые значения продаж приходятся примерно на 2-4 года у каждой платформы, после чего начинают угасать. Так у PS3, например, это 2008-2011 года, у PS2 - 2002-2004 года.\n",
    "\n",
    "В актуальном периоде 2013-2016 года только 2 платформы набирали рост по продажам и лидировали - это платформы PS4 и XOne. Остальные платформы в этом периоде завершали свою жизнь, об этом говорит стремительное падение уровня продаж. В среднем продажи игр платформ PS4 и XOne приносили по 200 тыс долларов.\n",
    "\n",
    "Оценки критиков и пользователей влияют на продажи по-разному. Зависимости от ценки пользователя не было обнаружено, в то время как слабая зависимость от оценки критика присутствует.\n",
    "\n",
    "Самый популярный игровой жанр Action. Суммы продаж по нему тоже наибольшие. Самые низкие продажи у жанров Puzzle, Adventure, Strategy, Simulation. По количеству игр жанры Puzzle, Simulation и Strategy также в антитопе.\n",
    "\n",
    "При сравнении поведения пользователей в разных регионах получилось, что в Северной Америке и Европе вкусы очень схожи, а в Японии отличаются. Это касается и выбора платформ, и жанров игр. В Северной Америке и Европе предпочитают Action, Sports и Shooter. В Японии предпочтения иные - на первом месте Role-Playing."
   ]
  }
 ],
 "metadata": {
  "kernelspec": {
   "display_name": "Python 3",
   "language": "python",
   "name": "python3"
  },
  "language_info": {
   "codemirror_mode": {
    "name": "ipython",
    "version": 3
   },
   "file_extension": ".py",
   "mimetype": "text/x-python",
   "name": "python",
   "nbconvert_exporter": "python",
   "pygments_lexer": "ipython3",
   "version": "3.8.5"
  },
  "toc": {
   "base_numbering": 1,
   "nav_menu": {},
   "number_sections": true,
   "sideBar": true,
   "skip_h1_title": false,
   "title_cell": "Table of Contents",
   "title_sidebar": "Contents",
   "toc_cell": false,
   "toc_position": {},
   "toc_section_display": true,
   "toc_window_display": false
  }
 },
 "nbformat": 4,
 "nbformat_minor": 2
}
