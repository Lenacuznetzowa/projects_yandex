{
 "cells": [
  {
   "cell_type": "markdown",
   "metadata": {},
   "source": [
    "# Описание проекта\n",
    "\n",
    "Есть решение открыть небольшое кафе в Москве. Оно оригинальное — гостей должны обслуживать роботы. Проект многообещающий, но дорогой. Решено обратиться к инвесторам. Их интересует текущее положение дел на рынке. Необходимо подготовить исследование рынка. Есть открытые данные о заведениях общественного питания в Москве.\n",
    "\n",
    "Таблица rest_data:\n",
    " - id — идентификатор объекта;\n",
    " - object_name — название объекта общественного питания;\n",
    " - chain — сетевой ресторан;\n",
    " - object_type — тип объекта общественного питания;\n",
    " - address — адрес;\n",
    " - number — количество посадочных мест."
   ]
  },
  {
   "cell_type": "markdown",
   "metadata": {},
   "source": [
    "# Оглавление\n",
    "\n",
    "[1. Изучение общей информации и предобработка](#step1)\n",
    "\n",
    "[2. Анализ данных](#step2)\n",
    "\n",
    " - [Соотношение видов объектов общественного питания по количеству](#step2.1)\n",
    "\n",
    " - [Соотношение сетевых и несетевых заведений по количеству](#step2.2)\n",
    "\n",
    " - [Для какого вида объекта общественного питания характерно сетевое распространение?](#step2.3)\n",
    "\n",
    " - [Что характерно для сетевых заведений?](#step2.4)\n",
    "\n",
    " - [Среднее количество посадочных мест](#step2.5)\n",
    "\n",
    " - [График топ-10 улиц по количеству объектов общественного питания](#step2.6)\n",
    "\n",
    " - [Число улиц с одним объектом общественного питания](#step2.7)\n",
    "\n",
    " - [Распределение количества посадочных мест для улиц с большим количеством объектов общественного питания](#step2.8)\n",
    "\n",
    "[3. Общий вывод](#step3)\n",
    "\n",
    "[4. Ссылка на презетанцию](#step4)"
   ]
  },
  {
   "cell_type": "markdown",
   "metadata": {},
   "source": [
    "## 1. Изучение общей информации и предобработка<a id=\"step1\"></a> "
   ]
  },
  {
   "cell_type": "code",
   "execution_count": 1,
   "metadata": {},
   "outputs": [],
   "source": [
    "import pandas as pd\n",
    "import matplotlib.pyplot as plt\n",
    "import seaborn as sns\n",
    "import numpy as np\n",
    "from scipy import stats as st\n",
    "import plotly.express as px\n",
    "from plotly import graph_objects as go\n",
    "import re\n",
    "from io import BytesIO\n",
    "import requests\n",
    "import warnings\n",
    "warnings.filterwarnings(\"ignore\")"
   ]
  },
  {
   "cell_type": "markdown",
   "metadata": {},
   "source": [
    "Прочитаю файл с данными и изучу информацию в нем."
   ]
  },
  {
   "cell_type": "code",
   "execution_count": 2,
   "metadata": {},
   "outputs": [
    {
     "data": {
      "text/html": [
       "<div>\n",
       "<style scoped>\n",
       "    .dataframe tbody tr th:only-of-type {\n",
       "        vertical-align: middle;\n",
       "    }\n",
       "\n",
       "    .dataframe tbody tr th {\n",
       "        vertical-align: top;\n",
       "    }\n",
       "\n",
       "    .dataframe thead th {\n",
       "        text-align: right;\n",
       "    }\n",
       "</style>\n",
       "<table border=\"1\" class=\"dataframe\">\n",
       "  <thead>\n",
       "    <tr style=\"text-align: right;\">\n",
       "      <th></th>\n",
       "      <th>id</th>\n",
       "      <th>object_name</th>\n",
       "      <th>chain</th>\n",
       "      <th>object_type</th>\n",
       "      <th>address</th>\n",
       "      <th>number</th>\n",
       "    </tr>\n",
       "  </thead>\n",
       "  <tbody>\n",
       "    <tr>\n",
       "      <td>13862</td>\n",
       "      <td>215873</td>\n",
       "      <td>Кафе</td>\n",
       "      <td>нет</td>\n",
       "      <td>кафе</td>\n",
       "      <td>город Москва, Алтуфьевское шоссе, дом 28</td>\n",
       "      <td>16</td>\n",
       "    </tr>\n",
       "    <tr>\n",
       "      <td>14654</td>\n",
       "      <td>205912</td>\n",
       "      <td>Суши пицца « Rock&amp;Roll»</td>\n",
       "      <td>нет</td>\n",
       "      <td>кафе</td>\n",
       "      <td>город Москва, Варшавское шоссе, дом 160</td>\n",
       "      <td>10</td>\n",
       "    </tr>\n",
       "    <tr>\n",
       "      <td>9161</td>\n",
       "      <td>160522</td>\n",
       "      <td>КАФЕ-КАРАОКЕ «La La Land»</td>\n",
       "      <td>нет</td>\n",
       "      <td>кафе</td>\n",
       "      <td>город Москва, 2-й Донской проезд, дом 10</td>\n",
       "      <td>10</td>\n",
       "    </tr>\n",
       "    <tr>\n",
       "      <td>6538</td>\n",
       "      <td>23836</td>\n",
       "      <td>КП МГУ столовая 15</td>\n",
       "      <td>нет</td>\n",
       "      <td>столовая</td>\n",
       "      <td>город Москва, территория Ленинские Горы, дом 1</td>\n",
       "      <td>200</td>\n",
       "    </tr>\n",
       "    <tr>\n",
       "      <td>8101</td>\n",
       "      <td>26443</td>\n",
       "      <td>Ичибан Боши</td>\n",
       "      <td>да</td>\n",
       "      <td>ресторан</td>\n",
       "      <td>город Москва, улица Красная Пресня, дом 22</td>\n",
       "      <td>110</td>\n",
       "    </tr>\n",
       "  </tbody>\n",
       "</table>\n",
       "</div>"
      ],
      "text/plain": [
       "           id                object_name chain object_type  \\\n",
       "13862  215873                       Кафе   нет        кафе   \n",
       "14654  205912    Суши пицца « Rock&Roll»   нет        кафе   \n",
       "9161   160522  КАФЕ-КАРАОКЕ «La La Land»   нет        кафе   \n",
       "6538    23836         КП МГУ столовая 15   нет    столовая   \n",
       "8101    26443                Ичибан Боши    да    ресторан   \n",
       "\n",
       "                                              address  number  \n",
       "13862        город Москва, Алтуфьевское шоссе, дом 28      16  \n",
       "14654         город Москва, Варшавское шоссе, дом 160      10  \n",
       "9161         город Москва, 2-й Донской проезд, дом 10      10  \n",
       "6538   город Москва, территория Ленинские Горы, дом 1     200  \n",
       "8101       город Москва, улица Красная Пресня, дом 22     110  "
      ]
     },
     "execution_count": 2,
     "metadata": {},
     "output_type": "execute_result"
    }
   ],
   "source": [
    "rest = pd.read_csv('/datasets/rest_data.csv')\n",
    "pd.options.display.max_colwidth = 80\n",
    "rest.sample(5)"
   ]
  },
  {
   "cell_type": "code",
   "execution_count": 3,
   "metadata": {},
   "outputs": [
    {
     "name": "stdout",
     "output_type": "stream",
     "text": [
      "<class 'pandas.core.frame.DataFrame'>\n",
      "RangeIndex: 15366 entries, 0 to 15365\n",
      "Data columns (total 6 columns):\n",
      "id             15366 non-null int64\n",
      "object_name    15366 non-null object\n",
      "chain          15366 non-null object\n",
      "object_type    15366 non-null object\n",
      "address        15366 non-null object\n",
      "number         15366 non-null int64\n",
      "dtypes: int64(2), object(4)\n",
      "memory usage: 720.4+ KB\n"
     ]
    }
   ],
   "source": [
    "rest.info()"
   ]
  },
  {
   "cell_type": "markdown",
   "metadata": {},
   "source": [
    "В таблице содержится 15366 строк о заведениях общественного питания Москвы. Пропущенных значений нет, все столбцы имеют корректный тип данных."
   ]
  },
  {
   "cell_type": "code",
   "execution_count": 4,
   "metadata": {},
   "outputs": [
    {
     "name": "stdout",
     "output_type": "stream",
     "text": [
      "Количество одинаковых id в данных =  0\n"
     ]
    }
   ],
   "source": [
    "print(\"Количество одинаковых id в данных = \", rest['id'].duplicated().sum())"
   ]
  },
  {
   "cell_type": "markdown",
   "metadata": {},
   "source": [
    "В столбце object_name содержатся названия заведений. При просмотре нескольких строк датафрейма становится понятно, что названия заведений записаны не в едином формате. Поэтому приведу все названия к нижнему регистру, заменю \"ё\" на \"е\"."
   ]
  },
  {
   "cell_type": "code",
   "execution_count": 5,
   "metadata": {},
   "outputs": [
    {
     "name": "stdout",
     "output_type": "stream",
     "text": [
      "Количество уникальных названий в столбце object_name до обработки 10393\n"
     ]
    }
   ],
   "source": [
    "print(\"Количество уникальных названий в столбце object_name до обработки\", rest['object_name'].value_counts().count())"
   ]
  },
  {
   "cell_type": "markdown",
   "metadata": {},
   "source": [
    "Приведу все названия к нижнему регистру"
   ]
  },
  {
   "cell_type": "code",
   "execution_count": 6,
   "metadata": {},
   "outputs": [],
   "source": [
    "rest['object_name'] = rest['object_name'].apply(lambda x:x.lower())"
   ]
  },
  {
   "cell_type": "code",
   "execution_count": 7,
   "metadata": {},
   "outputs": [
    {
     "name": "stdout",
     "output_type": "stream",
     "text": [
      "Количество уникальных названий в столбце object_name после приведения к нижнему регистру 9924\n"
     ]
    }
   ],
   "source": [
    "print(\"Количество уникальных названий в столбце object_name после приведения к нижнему регистру\", rest['object_name'].value_counts().count())"
   ]
  },
  {
   "cell_type": "markdown",
   "metadata": {},
   "source": [
    "Заменю \"ё\" на \"е\""
   ]
  },
  {
   "cell_type": "code",
   "execution_count": 8,
   "metadata": {},
   "outputs": [],
   "source": [
    "rest['object_name'] = rest['object_name'].apply(lambda x:x.replace('ё','е'))"
   ]
  },
  {
   "cell_type": "code",
   "execution_count": 9,
   "metadata": {},
   "outputs": [
    {
     "name": "stdout",
     "output_type": "stream",
     "text": [
      "Количество уникальных названий в столбце object_name после замены ё на е 9919\n"
     ]
    }
   ],
   "source": [
    "print(\"Количество уникальных названий в столбце object_name после замены ё на е\", rest['object_name'].value_counts().count())"
   ]
  },
  {
   "cell_type": "markdown",
   "metadata": {},
   "source": [
    "Количество уникальных названий заведений после обработки уменьшилось с 10393 до 9919."
   ]
  },
  {
   "cell_type": "code",
   "execution_count": 10,
   "metadata": {},
   "outputs": [
    {
     "name": "stdout",
     "output_type": "stream",
     "text": [
      "Уникальные значения в столбце chain ['нет' 'да']\n"
     ]
    }
   ],
   "source": [
    "print(\"Уникальные значения в столбце chain\", rest['chain'].unique())"
   ]
  },
  {
   "cell_type": "code",
   "execution_count": 11,
   "metadata": {},
   "outputs": [
    {
     "name": "stdout",
     "output_type": "stream",
     "text": [
      "Уникальные значения в столбце object_type ['кафе' 'столовая' 'закусочная' 'предприятие быстрого обслуживания'\n",
      " 'ресторан' 'кафетерий' 'буфет' 'бар' 'магазин (отдел кулинарии)']\n"
     ]
    }
   ],
   "source": [
    "print(\"Уникальные значения в столбце object_type\", rest['object_type'].unique())"
   ]
  },
  {
   "cell_type": "markdown",
   "metadata": {},
   "source": [
    "Заменю названия некоторых типов на более короткие, чтобы удобнее было в дальнейшем подписывать графики. \"Предприятие быстрого обслуживания\" на \"фастфуд\", а \"магазин (отдел кулинарии)\" на \"кулинария\". "
   ]
  },
  {
   "cell_type": "code",
   "execution_count": 12,
   "metadata": {},
   "outputs": [],
   "source": [
    "rest['object_type'] = rest['object_type'].apply(lambda x:x.replace('предприятие быстрого обслуживания','фастфуд'))\n",
    "rest['object_type'] = rest['object_type'].apply(lambda x:x.replace('магазин (отдел кулинарии)','кулинария'))"
   ]
  },
  {
   "cell_type": "code",
   "execution_count": 13,
   "metadata": {},
   "outputs": [
    {
     "name": "stdout",
     "output_type": "stream",
     "text": [
      "Уникальные значения в столбце object_type ['кафе' 'столовая' 'закусочная' 'фастфуд' 'ресторан' 'кафетерий' 'буфет'\n",
      " 'бар' 'кулинария']\n"
     ]
    }
   ],
   "source": [
    "print(\"Уникальные значения в столбце object_type\", rest['object_type'].unique())"
   ]
  },
  {
   "cell_type": "code",
   "execution_count": 14,
   "metadata": {},
   "outputs": [
    {
     "data": {
      "text/plain": [
       "count    15366.000000\n",
       "mean        59.547182\n",
       "std         74.736833\n",
       "min          0.000000\n",
       "25%         12.000000\n",
       "50%         40.000000\n",
       "75%         80.000000\n",
       "max       1700.000000\n",
       "Name: number, dtype: float64"
      ]
     },
     "execution_count": 14,
     "metadata": {},
     "output_type": "execute_result"
    }
   ],
   "source": [
    "rest['number'].describe()"
   ]
  },
  {
   "cell_type": "markdown",
   "metadata": {},
   "source": [
    "Есть заведение с 1700 посадочных мест. На первый взгляд смущает, упорядочу таблицу по количеству посадочных мест. Посмотрю на заведения с наибольшим числом мест."
   ]
  },
  {
   "cell_type": "code",
   "execution_count": 15,
   "metadata": {},
   "outputs": [
    {
     "data": {
      "text/html": [
       "<div>\n",
       "<style scoped>\n",
       "    .dataframe tbody tr th:only-of-type {\n",
       "        vertical-align: middle;\n",
       "    }\n",
       "\n",
       "    .dataframe tbody tr th {\n",
       "        vertical-align: top;\n",
       "    }\n",
       "\n",
       "    .dataframe thead th {\n",
       "        text-align: right;\n",
       "    }\n",
       "</style>\n",
       "<table border=\"1\" class=\"dataframe\">\n",
       "  <thead>\n",
       "    <tr style=\"text-align: right;\">\n",
       "      <th></th>\n",
       "      <th>id</th>\n",
       "      <th>object_name</th>\n",
       "      <th>chain</th>\n",
       "      <th>object_type</th>\n",
       "      <th>address</th>\n",
       "      <th>number</th>\n",
       "    </tr>\n",
       "  </thead>\n",
       "  <tbody>\n",
       "    <tr>\n",
       "      <td>12723</td>\n",
       "      <td>199696</td>\n",
       "      <td>arena by soho family</td>\n",
       "      <td>нет</td>\n",
       "      <td>бар</td>\n",
       "      <td>город Москва, Кутузовский проспект, дом 36, строение 11</td>\n",
       "      <td>1700</td>\n",
       "    </tr>\n",
       "    <tr>\n",
       "      <td>8148</td>\n",
       "      <td>80291</td>\n",
       "      <td>банкетный зал шелк</td>\n",
       "      <td>нет</td>\n",
       "      <td>ресторан</td>\n",
       "      <td>город Москва, Большой Саввинский переулок, дом 12, строение 10Г</td>\n",
       "      <td>1500</td>\n",
       "    </tr>\n",
       "    <tr>\n",
       "      <td>8345</td>\n",
       "      <td>27750</td>\n",
       "      <td>столовая-буфет</td>\n",
       "      <td>нет</td>\n",
       "      <td>столовая</td>\n",
       "      <td>город Москва, улица Волхонка, дом 15</td>\n",
       "      <td>1400</td>\n",
       "    </tr>\n",
       "    <tr>\n",
       "      <td>9064</td>\n",
       "      <td>19719</td>\n",
       "      <td>комбинат питания «управление академсервис»</td>\n",
       "      <td>нет</td>\n",
       "      <td>столовая</td>\n",
       "      <td>город Москва, проспект Вернадского, дом 84, строение 1</td>\n",
       "      <td>1288</td>\n",
       "    </tr>\n",
       "    <tr>\n",
       "      <td>4480</td>\n",
       "      <td>27024</td>\n",
       "      <td>рум сервис</td>\n",
       "      <td>нет</td>\n",
       "      <td>ресторан</td>\n",
       "      <td>город Москва, Кутузовский проспект, дом 2/1, строение 1</td>\n",
       "      <td>1200</td>\n",
       "    </tr>\n",
       "    <tr>\n",
       "      <td>3686</td>\n",
       "      <td>27026</td>\n",
       "      <td>рум сервис</td>\n",
       "      <td>нет</td>\n",
       "      <td>ресторан</td>\n",
       "      <td>город Москва, площадь Европы, дом 2</td>\n",
       "      <td>1200</td>\n",
       "    </tr>\n",
       "    <tr>\n",
       "      <td>2313</td>\n",
       "      <td>26560</td>\n",
       "      <td>ресторан «альфа»</td>\n",
       "      <td>нет</td>\n",
       "      <td>ресторан</td>\n",
       "      <td>город Москва, Измайловское шоссе, дом 71, корпус А</td>\n",
       "      <td>1040</td>\n",
       "    </tr>\n",
       "    <tr>\n",
       "      <td>9955</td>\n",
       "      <td>171116</td>\n",
       "      <td>eataly</td>\n",
       "      <td>нет</td>\n",
       "      <td>ресторан</td>\n",
       "      <td>город Москва, Киевская улица, дом 2</td>\n",
       "      <td>920</td>\n",
       "    </tr>\n",
       "    <tr>\n",
       "      <td>5649</td>\n",
       "      <td>29232</td>\n",
       "      <td>столовая московский гуманитарный университет</td>\n",
       "      <td>нет</td>\n",
       "      <td>столовая</td>\n",
       "      <td>город Москва, улица Юности, дом 5, строение 1</td>\n",
       "      <td>760</td>\n",
       "    </tr>\n",
       "    <tr>\n",
       "      <td>13299</td>\n",
       "      <td>200905</td>\n",
       "      <td>white hall</td>\n",
       "      <td>нет</td>\n",
       "      <td>ресторан</td>\n",
       "      <td>город Москва, Ферганская улица, дом 8</td>\n",
       "      <td>700</td>\n",
       "    </tr>\n",
       "  </tbody>\n",
       "</table>\n",
       "</div>"
      ],
      "text/plain": [
       "           id                                   object_name chain object_type  \\\n",
       "12723  199696                          arena by soho family   нет         бар   \n",
       "8148    80291                            банкетный зал шелк   нет    ресторан   \n",
       "8345    27750                                столовая-буфет   нет    столовая   \n",
       "9064    19719    комбинат питания «управление академсервис»   нет    столовая   \n",
       "4480    27024                                    рум сервис   нет    ресторан   \n",
       "3686    27026                                    рум сервис   нет    ресторан   \n",
       "2313    26560                              ресторан «альфа»   нет    ресторан   \n",
       "9955   171116                                        eataly   нет    ресторан   \n",
       "5649    29232  столовая московский гуманитарный университет   нет    столовая   \n",
       "13299  200905                                    white hall   нет    ресторан   \n",
       "\n",
       "                                                               address  number  \n",
       "12723          город Москва, Кутузовский проспект, дом 36, строение 11    1700  \n",
       "8148   город Москва, Большой Саввинский переулок, дом 12, строение 10Г    1500  \n",
       "8345                              город Москва, улица Волхонка, дом 15    1400  \n",
       "9064            город Москва, проспект Вернадского, дом 84, строение 1    1288  \n",
       "4480           город Москва, Кутузовский проспект, дом 2/1, строение 1    1200  \n",
       "3686                               город Москва, площадь Европы, дом 2    1200  \n",
       "2313                город Москва, Измайловское шоссе, дом 71, корпус А    1040  \n",
       "9955                               город Москва, Киевская улица, дом 2     920  \n",
       "5649                     город Москва, улица Юности, дом 5, строение 1     760  \n",
       "13299                            город Москва, Ферганская улица, дом 8     700  "
      ]
     },
     "execution_count": 15,
     "metadata": {},
     "output_type": "execute_result"
    }
   ],
   "source": [
    "rest.sort_values(by='number', ascending = False).head(10)"
   ]
  },
  {
   "cell_type": "markdown",
   "metadata": {},
   "source": [
    "Более 1000 посадочных мест для банкетных залов и баров с концертным залом это норма. Например, \"arena by soho family\" - концертное агентство полного цикла, тОповое в России. Или \"банкетный зал шелк\" имеет 8 залов с разной посадкой от 20 до 400 мест, что в сумме дает 1500 мест."
   ]
  },
  {
   "cell_type": "code",
   "execution_count": 16,
   "metadata": {},
   "outputs": [
    {
     "name": "stdout",
     "output_type": "stream",
     "text": [
      "Количество дубликатов в таблице rest = 0\n"
     ]
    }
   ],
   "source": [
    "print('Количество дубликатов в таблице rest = {:.0f}'.format(rest.duplicated().sum()))"
   ]
  },
  {
   "cell_type": "markdown",
   "metadata": {},
   "source": [
    "### Итоги:\n",
    "В таблице представлены достаточно чистые данные - пропусков нет, дублей тоже нет, все типы данных корректны, аномалий на этом этапе не выявлено. Всего есть информация о 9919 заведениях общественного питания Москвы, часть из которых является сетевыми, поэтому физически имеется 15366 точек. Для каждого заведения есть название, адрес, тип объекта, количество посадочных мест и является ли оно частью сети."
   ]
  },
  {
   "cell_type": "markdown",
   "metadata": {},
   "source": [
    "## 2. Анализ данных<a id=\"step2\"></a> "
   ]
  },
  {
   "cell_type": "markdown",
   "metadata": {},
   "source": [
    "### Соотношение видов объектов общественного питания по количеству<a id=\"step2.1\"></a> "
   ]
  },
  {
   "cell_type": "code",
   "execution_count": 17,
   "metadata": {},
   "outputs": [
    {
     "name": "stdout",
     "output_type": "stream",
     "text": [
      "Количество уникальных видов объектов общественного питания = 9\n"
     ]
    }
   ],
   "source": [
    "print(\"Количество уникальных видов объектов общественного питания =\", len(rest['object_type'].unique()))"
   ]
  },
  {
   "cell_type": "markdown",
   "metadata": {},
   "source": [
    "Сгруппирую данные по типу объекта, подсчитав при этом количество заведений каждого типа. Также расчитаю процентное соотношение количества каждого типа к общему числу заведений."
   ]
  },
  {
   "cell_type": "code",
   "execution_count": 18,
   "metadata": {},
   "outputs": [
    {
     "data": {
      "text/html": [
       "<div>\n",
       "<style scoped>\n",
       "    .dataframe tbody tr th:only-of-type {\n",
       "        vertical-align: middle;\n",
       "    }\n",
       "\n",
       "    .dataframe tbody tr th {\n",
       "        vertical-align: top;\n",
       "    }\n",
       "\n",
       "    .dataframe thead th {\n",
       "        text-align: right;\n",
       "    }\n",
       "</style>\n",
       "<table border=\"1\" class=\"dataframe\">\n",
       "  <thead>\n",
       "    <tr style=\"text-align: right;\">\n",
       "      <th></th>\n",
       "      <th>object_type</th>\n",
       "      <th>counts</th>\n",
       "      <th>%</th>\n",
       "    </tr>\n",
       "  </thead>\n",
       "  <tbody>\n",
       "    <tr>\n",
       "      <td>3</td>\n",
       "      <td>кафе</td>\n",
       "      <td>6099</td>\n",
       "      <td>39.7</td>\n",
       "    </tr>\n",
       "    <tr>\n",
       "      <td>7</td>\n",
       "      <td>столовая</td>\n",
       "      <td>2587</td>\n",
       "      <td>16.8</td>\n",
       "    </tr>\n",
       "    <tr>\n",
       "      <td>6</td>\n",
       "      <td>ресторан</td>\n",
       "      <td>2285</td>\n",
       "      <td>14.9</td>\n",
       "    </tr>\n",
       "    <tr>\n",
       "      <td>8</td>\n",
       "      <td>фастфуд</td>\n",
       "      <td>1923</td>\n",
       "      <td>12.5</td>\n",
       "    </tr>\n",
       "    <tr>\n",
       "      <td>0</td>\n",
       "      <td>бар</td>\n",
       "      <td>856</td>\n",
       "      <td>5.6</td>\n",
       "    </tr>\n",
       "    <tr>\n",
       "      <td>1</td>\n",
       "      <td>буфет</td>\n",
       "      <td>585</td>\n",
       "      <td>3.8</td>\n",
       "    </tr>\n",
       "    <tr>\n",
       "      <td>4</td>\n",
       "      <td>кафетерий</td>\n",
       "      <td>398</td>\n",
       "      <td>2.6</td>\n",
       "    </tr>\n",
       "    <tr>\n",
       "      <td>2</td>\n",
       "      <td>закусочная</td>\n",
       "      <td>360</td>\n",
       "      <td>2.3</td>\n",
       "    </tr>\n",
       "    <tr>\n",
       "      <td>5</td>\n",
       "      <td>кулинария</td>\n",
       "      <td>273</td>\n",
       "      <td>1.8</td>\n",
       "    </tr>\n",
       "  </tbody>\n",
       "</table>\n",
       "</div>"
      ],
      "text/plain": [
       "  object_type  counts     %\n",
       "3        кафе    6099  39.7\n",
       "7    столовая    2587  16.8\n",
       "6    ресторан    2285  14.9\n",
       "8     фастфуд    1923  12.5\n",
       "0         бар     856   5.6\n",
       "1       буфет     585   3.8\n",
       "4   кафетерий     398   2.6\n",
       "2  закусочная     360   2.3\n",
       "5   кулинария     273   1.8"
      ]
     },
     "execution_count": 18,
     "metadata": {},
     "output_type": "execute_result"
    }
   ],
   "source": [
    "type_counts = rest.groupby('object_type').agg({'id':'count'}).reset_index().rename(columns={'id':'counts'})\n",
    "total_rests = type_counts['counts'].sum()\n",
    "type_counts['%'] = (type_counts['counts'] *100 / total_rests).round(1)\n",
    "type_counts = type_counts.sort_values(by='counts', ascending = False)\n",
    "type_counts"
   ]
  },
  {
   "cell_type": "code",
   "execution_count": 19,
   "metadata": {},
   "outputs": [
    {
     "data": {
      "image/png": "[encoded data removed]",
      "text/plain": [
       "<Figure size 1080x504 with 1 Axes>"
      ]
     },
     "metadata": {
      "needs_background": "light"
     },
     "output_type": "display_data"
    }
   ],
   "source": [
    "plt.figure(figsize=(15,7))\n",
    "sns.set_palette('muted') \n",
    "sns.set_style(\"darkgrid\")\n",
    "sns.barplot(x='object_type', y='counts', data=type_counts)\n",
    "plt.title('Соотношение видов объектов общественного питания по количеству')\n",
    "plt.xlabel('тип объекта')\n",
    "plt.ylabel('количество')\n",
    "plt.show()"
   ]
  },
  {
   "cell_type": "markdown",
   "metadata": {},
   "source": [
    "Самый популярный вид объекта общественного питания это кафе - 6099 (39,7% от общего количества заведений), на втором, третьем и четвертом месте с небольшой разницей - 2587 столовых (16,8%), 2285 ресторанов (14,9%) и 1923 фастфудов (12,5%) соответственно. Баров менее 1000. А количество магазинов с отделом кулинарии всего 273, что состовляет менее 2% от общего числа заведений."
   ]
  },
  {
   "cell_type": "markdown",
   "metadata": {},
   "source": [
    "### Соотношение сетевых и несетевых заведений по количеству<a id=\"step2.2\"></a> "
   ]
  },
  {
   "cell_type": "code",
   "execution_count": 20,
   "metadata": {},
   "outputs": [
    {
     "data": {
      "text/html": [
       "<div>\n",
       "<style scoped>\n",
       "    .dataframe tbody tr th:only-of-type {\n",
       "        vertical-align: middle;\n",
       "    }\n",
       "\n",
       "    .dataframe tbody tr th {\n",
       "        vertical-align: top;\n",
       "    }\n",
       "\n",
       "    .dataframe thead th {\n",
       "        text-align: right;\n",
       "    }\n",
       "</style>\n",
       "<table border=\"1\" class=\"dataframe\">\n",
       "  <thead>\n",
       "    <tr style=\"text-align: right;\">\n",
       "      <th></th>\n",
       "      <th>chain</th>\n",
       "      <th>counts</th>\n",
       "      <th>%</th>\n",
       "    </tr>\n",
       "  </thead>\n",
       "  <tbody>\n",
       "    <tr>\n",
       "      <td>0</td>\n",
       "      <td>да</td>\n",
       "      <td>2968</td>\n",
       "      <td>19.32</td>\n",
       "    </tr>\n",
       "    <tr>\n",
       "      <td>1</td>\n",
       "      <td>нет</td>\n",
       "      <td>12398</td>\n",
       "      <td>80.68</td>\n",
       "    </tr>\n",
       "  </tbody>\n",
       "</table>\n",
       "</div>"
      ],
      "text/plain": [
       "  chain  counts      %\n",
       "0    да    2968  19.32\n",
       "1   нет   12398  80.68"
      ]
     },
     "execution_count": 20,
     "metadata": {},
     "output_type": "execute_result"
    }
   ],
   "source": [
    "chains = rest.groupby('chain')['id'].count().reset_index().rename(columns={'id':'counts'})\n",
    "chains['%'] = (chains['counts'] * 100 / chains['counts'].sum()).round(2)\n",
    "chains"
   ]
  },
  {
   "cell_type": "code",
   "execution_count": 21,
   "metadata": {},
   "outputs": [
    {
     "data": {
      "image/png": "[encoded data removed]",
      "text/plain": [
       "<Figure size 432x288 with 1 Axes>"
      ]
     },
     "metadata": {},
     "output_type": "display_data"
    }
   ],
   "source": [
    "sns.barplot(x='chain',y='%', data=chains)\n",
    "plt.title('Является ли заведение сетью')\n",
    "plt.ylabel('Доля от общего числа')\n",
    "plt.xlabel('')\n",
    "plt.show()"
   ]
  },
  {
   "cell_type": "markdown",
   "metadata": {},
   "source": [
    "Всего 19% заведений сетевые, остальные нет. Пора посмотреть какие виды заведений являются сетевыми."
   ]
  },
  {
   "cell_type": "markdown",
   "metadata": {},
   "source": [
    "### Для какого вида объекта общественного питания характерно сетевое распространение?<a id=\"step2.3\"></a> "
   ]
  },
  {
   "cell_type": "code",
   "execution_count": 22,
   "metadata": {},
   "outputs": [
    {
     "data": {
      "text/html": [
       "<div>\n",
       "<style scoped>\n",
       "    .dataframe tbody tr th:only-of-type {\n",
       "        vertical-align: middle;\n",
       "    }\n",
       "\n",
       "    .dataframe tbody tr th {\n",
       "        vertical-align: top;\n",
       "    }\n",
       "\n",
       "    .dataframe thead th {\n",
       "        text-align: right;\n",
       "    }\n",
       "</style>\n",
       "<table border=\"1\" class=\"dataframe\">\n",
       "  <thead>\n",
       "    <tr style=\"text-align: right;\">\n",
       "      <th></th>\n",
       "      <th>object_type</th>\n",
       "      <th>chain</th>\n",
       "      <th>counts</th>\n",
       "      <th>chain_total</th>\n",
       "      <th>%</th>\n",
       "    </tr>\n",
       "  </thead>\n",
       "  <tbody>\n",
       "    <tr>\n",
       "      <td>0</td>\n",
       "      <td>бар</td>\n",
       "      <td>да</td>\n",
       "      <td>37</td>\n",
       "      <td>856</td>\n",
       "      <td>4.0</td>\n",
       "    </tr>\n",
       "    <tr>\n",
       "      <td>1</td>\n",
       "      <td>бар</td>\n",
       "      <td>нет</td>\n",
       "      <td>819</td>\n",
       "      <td>856</td>\n",
       "      <td>96.0</td>\n",
       "    </tr>\n",
       "    <tr>\n",
       "      <td>2</td>\n",
       "      <td>буфет</td>\n",
       "      <td>да</td>\n",
       "      <td>11</td>\n",
       "      <td>585</td>\n",
       "      <td>2.0</td>\n",
       "    </tr>\n",
       "    <tr>\n",
       "      <td>3</td>\n",
       "      <td>буфет</td>\n",
       "      <td>нет</td>\n",
       "      <td>574</td>\n",
       "      <td>585</td>\n",
       "      <td>98.0</td>\n",
       "    </tr>\n",
       "    <tr>\n",
       "      <td>4</td>\n",
       "      <td>закусочная</td>\n",
       "      <td>да</td>\n",
       "      <td>56</td>\n",
       "      <td>360</td>\n",
       "      <td>16.0</td>\n",
       "    </tr>\n",
       "    <tr>\n",
       "      <td>5</td>\n",
       "      <td>закусочная</td>\n",
       "      <td>нет</td>\n",
       "      <td>304</td>\n",
       "      <td>360</td>\n",
       "      <td>84.0</td>\n",
       "    </tr>\n",
       "    <tr>\n",
       "      <td>6</td>\n",
       "      <td>кафе</td>\n",
       "      <td>да</td>\n",
       "      <td>1396</td>\n",
       "      <td>6099</td>\n",
       "      <td>23.0</td>\n",
       "    </tr>\n",
       "    <tr>\n",
       "      <td>7</td>\n",
       "      <td>кафе</td>\n",
       "      <td>нет</td>\n",
       "      <td>4703</td>\n",
       "      <td>6099</td>\n",
       "      <td>77.0</td>\n",
       "    </tr>\n",
       "    <tr>\n",
       "      <td>8</td>\n",
       "      <td>кафетерий</td>\n",
       "      <td>да</td>\n",
       "      <td>52</td>\n",
       "      <td>398</td>\n",
       "      <td>13.0</td>\n",
       "    </tr>\n",
       "    <tr>\n",
       "      <td>9</td>\n",
       "      <td>кафетерий</td>\n",
       "      <td>нет</td>\n",
       "      <td>346</td>\n",
       "      <td>398</td>\n",
       "      <td>87.0</td>\n",
       "    </tr>\n",
       "    <tr>\n",
       "      <td>10</td>\n",
       "      <td>кулинария</td>\n",
       "      <td>да</td>\n",
       "      <td>78</td>\n",
       "      <td>273</td>\n",
       "      <td>29.0</td>\n",
       "    </tr>\n",
       "    <tr>\n",
       "      <td>11</td>\n",
       "      <td>кулинария</td>\n",
       "      <td>нет</td>\n",
       "      <td>195</td>\n",
       "      <td>273</td>\n",
       "      <td>71.0</td>\n",
       "    </tr>\n",
       "    <tr>\n",
       "      <td>12</td>\n",
       "      <td>ресторан</td>\n",
       "      <td>да</td>\n",
       "      <td>544</td>\n",
       "      <td>2285</td>\n",
       "      <td>24.0</td>\n",
       "    </tr>\n",
       "    <tr>\n",
       "      <td>13</td>\n",
       "      <td>ресторан</td>\n",
       "      <td>нет</td>\n",
       "      <td>1741</td>\n",
       "      <td>2285</td>\n",
       "      <td>76.0</td>\n",
       "    </tr>\n",
       "    <tr>\n",
       "      <td>14</td>\n",
       "      <td>столовая</td>\n",
       "      <td>да</td>\n",
       "      <td>3</td>\n",
       "      <td>2587</td>\n",
       "      <td>0.0</td>\n",
       "    </tr>\n",
       "    <tr>\n",
       "      <td>15</td>\n",
       "      <td>столовая</td>\n",
       "      <td>нет</td>\n",
       "      <td>2584</td>\n",
       "      <td>2587</td>\n",
       "      <td>100.0</td>\n",
       "    </tr>\n",
       "    <tr>\n",
       "      <td>16</td>\n",
       "      <td>фастфуд</td>\n",
       "      <td>да</td>\n",
       "      <td>791</td>\n",
       "      <td>1923</td>\n",
       "      <td>41.0</td>\n",
       "    </tr>\n",
       "    <tr>\n",
       "      <td>17</td>\n",
       "      <td>фастфуд</td>\n",
       "      <td>нет</td>\n",
       "      <td>1132</td>\n",
       "      <td>1923</td>\n",
       "      <td>59.0</td>\n",
       "    </tr>\n",
       "  </tbody>\n",
       "</table>\n",
       "</div>"
      ],
      "text/plain": [
       "   object_type chain  counts  chain_total      %\n",
       "0          бар    да      37          856    4.0\n",
       "1          бар   нет     819          856   96.0\n",
       "2        буфет    да      11          585    2.0\n",
       "3        буфет   нет     574          585   98.0\n",
       "4   закусочная    да      56          360   16.0\n",
       "5   закусочная   нет     304          360   84.0\n",
       "6         кафе    да    1396         6099   23.0\n",
       "7         кафе   нет    4703         6099   77.0\n",
       "8    кафетерий    да      52          398   13.0\n",
       "9    кафетерий   нет     346          398   87.0\n",
       "10   кулинария    да      78          273   29.0\n",
       "11   кулинария   нет     195          273   71.0\n",
       "12    ресторан    да     544         2285   24.0\n",
       "13    ресторан   нет    1741         2285   76.0\n",
       "14    столовая    да       3         2587    0.0\n",
       "15    столовая   нет    2584         2587  100.0\n",
       "16     фастфуд    да     791         1923   41.0\n",
       "17     фастфуд   нет    1132         1923   59.0"
      ]
     },
     "execution_count": 22,
     "metadata": {},
     "output_type": "execute_result"
    }
   ],
   "source": [
    "object_chain = (rest\n",
    "                .groupby(['object_type','chain'])['id'].count()\n",
    "                .reset_index()\n",
    "                .rename(columns={'id':'counts'})\n",
    "                .merge(rest.groupby('object_type')['chain'].count(), on='object_type',suffixes=('','_total'))\n",
    "               )\n",
    "object_chain['%'] = round((object_chain['counts'] / object_chain['chain_total']) * 100)\n",
    "object_chain"
   ]
  },
  {
   "cell_type": "code",
   "execution_count": 23,
   "metadata": {},
   "outputs": [
    {
     "data": {
      "image/png": "[encoded data removed]",
      "text/plain": [
       "<Figure size 918.5x432 with 1 Axes>"
      ]
     },
     "metadata": {},
     "output_type": "display_data"
    }
   ],
   "source": [
    "sns.set_style(\"darkgrid\")\n",
    "sns.set_palette('muted')\n",
    "a = sns.catplot(kind=\"bar\", data=object_chain,  x='object_type', y='counts', hue=\"chain\", height=6, aspect=2)\n",
    "plt.title('Соотношение количества сетевых заведений к несетевым по типу объекта')\n",
    "plt.ylabel('количество')\n",
    "plt.xlabel('')\n",
    "plt.legend()\n",
    "\n",
    "for ax in a.axes.ravel():\n",
    "    for p in ax.patches:\n",
    "        ax.annotate(format(p.get_height(), '.0f'), (p.get_x() + p.get_width() / 2., p.get_height()),\n",
    "                    ha = 'center', va = 'center', xytext = (0, 10), textcoords = 'offset points')\n",
    "plt.show()"
   ]
  },
  {
   "cell_type": "markdown",
   "metadata": {},
   "source": [
    "При рассмотрении заведений по типу объекта наибольшую долю сетевых составляют фастфуды (41%), на втором месте отделы кулинарии (29%), на третьем и четвертом рестораны (24%) и кафе (23%). Всего 3 сетевых столовых, 11 буфетов и 37 баров, для этих типов не характерно сетевое распространение."
   ]
  },
  {
   "cell_type": "markdown",
   "metadata": {},
   "source": [
    "### Что характерно для сетевых заведений?<a id=\"step2.4\"></a> "
   ]
  },
  {
   "cell_type": "code",
   "execution_count": 24,
   "metadata": {},
   "outputs": [
    {
     "data": {
      "text/html": [
       "<div>\n",
       "<style scoped>\n",
       "    .dataframe tbody tr th:only-of-type {\n",
       "        vertical-align: middle;\n",
       "    }\n",
       "\n",
       "    .dataframe tbody tr th {\n",
       "        vertical-align: top;\n",
       "    }\n",
       "\n",
       "    .dataframe thead th {\n",
       "        text-align: right;\n",
       "    }\n",
       "</style>\n",
       "<table border=\"1\" class=\"dataframe\">\n",
       "  <thead>\n",
       "    <tr style=\"text-align: right;\">\n",
       "      <th></th>\n",
       "      <th>object_type</th>\n",
       "      <th>number</th>\n",
       "      <th>counts</th>\n",
       "    </tr>\n",
       "  </thead>\n",
       "  <tbody>\n",
       "    <tr>\n",
       "      <td>7</td>\n",
       "      <td>столовая</td>\n",
       "      <td>112.333333</td>\n",
       "      <td>3</td>\n",
       "    </tr>\n",
       "    <tr>\n",
       "      <td>6</td>\n",
       "      <td>ресторан</td>\n",
       "      <td>100.233456</td>\n",
       "      <td>544</td>\n",
       "    </tr>\n",
       "    <tr>\n",
       "      <td>0</td>\n",
       "      <td>бар</td>\n",
       "      <td>53.027027</td>\n",
       "      <td>37</td>\n",
       "    </tr>\n",
       "    <tr>\n",
       "      <td>3</td>\n",
       "      <td>кафе</td>\n",
       "      <td>47.426934</td>\n",
       "      <td>1396</td>\n",
       "    </tr>\n",
       "    <tr>\n",
       "      <td>8</td>\n",
       "      <td>фастфуд</td>\n",
       "      <td>40.166877</td>\n",
       "      <td>791</td>\n",
       "    </tr>\n",
       "    <tr>\n",
       "      <td>2</td>\n",
       "      <td>закусочная</td>\n",
       "      <td>14.375000</td>\n",
       "      <td>56</td>\n",
       "    </tr>\n",
       "    <tr>\n",
       "      <td>1</td>\n",
       "      <td>буфет</td>\n",
       "      <td>12.727273</td>\n",
       "      <td>11</td>\n",
       "    </tr>\n",
       "    <tr>\n",
       "      <td>4</td>\n",
       "      <td>кафетерий</td>\n",
       "      <td>12.269231</td>\n",
       "      <td>52</td>\n",
       "    </tr>\n",
       "    <tr>\n",
       "      <td>5</td>\n",
       "      <td>кулинария</td>\n",
       "      <td>8.679487</td>\n",
       "      <td>78</td>\n",
       "    </tr>\n",
       "  </tbody>\n",
       "</table>\n",
       "</div>"
      ],
      "text/plain": [
       "  object_type      number  counts\n",
       "7    столовая  112.333333       3\n",
       "6    ресторан  100.233456     544\n",
       "0         бар   53.027027      37\n",
       "3        кафе   47.426934    1396\n",
       "8     фастфуд   40.166877     791\n",
       "2  закусочная   14.375000      56\n",
       "1       буфет   12.727273      11\n",
       "4   кафетерий   12.269231      52\n",
       "5   кулинария    8.679487      78"
      ]
     },
     "execution_count": 24,
     "metadata": {},
     "output_type": "execute_result"
    }
   ],
   "source": [
    "rest_new = rest[rest['chain'] == \"да\"]\n",
    "chain_true_number = rest_new.groupby('object_type').agg({'number':'mean','id':'count'}).reset_index().rename(columns={'id':'counts'})\n",
    "chain_true_number = chain_true_number.sort_values(by='number', ascending=False)\n",
    "chain_true_number"
   ]
  },
  {
   "cell_type": "markdown",
   "metadata": {},
   "source": [
    "Для кафе и предприятий быстрого обслуживания характерно большое количество точек при среднем количестве посадочных мест (40-50), у ресторанов меньше точек, но в 2 раза больше посадочных мест (100)."
   ]
  },
  {
   "cell_type": "markdown",
   "metadata": {},
   "source": [
    "### Среднее количество посадочных мест<a id=\"step2.5\"></a> "
   ]
  },
  {
   "cell_type": "code",
   "execution_count": 25,
   "metadata": {},
   "outputs": [
    {
     "data": {
      "text/html": [
       "<div>\n",
       "<style scoped>\n",
       "    .dataframe tbody tr th:only-of-type {\n",
       "        vertical-align: middle;\n",
       "    }\n",
       "\n",
       "    .dataframe tbody tr th {\n",
       "        vertical-align: top;\n",
       "    }\n",
       "\n",
       "    .dataframe thead th {\n",
       "        text-align: right;\n",
       "    }\n",
       "</style>\n",
       "<table border=\"1\" class=\"dataframe\">\n",
       "  <thead>\n",
       "    <tr style=\"text-align: right;\">\n",
       "      <th></th>\n",
       "      <th>object_type</th>\n",
       "      <th>number</th>\n",
       "      <th>counts</th>\n",
       "    </tr>\n",
       "  </thead>\n",
       "  <tbody>\n",
       "    <tr>\n",
       "      <td>7</td>\n",
       "      <td>столовая</td>\n",
       "      <td>130.0</td>\n",
       "      <td>2587</td>\n",
       "    </tr>\n",
       "    <tr>\n",
       "      <td>6</td>\n",
       "      <td>ресторан</td>\n",
       "      <td>97.0</td>\n",
       "      <td>2285</td>\n",
       "    </tr>\n",
       "    <tr>\n",
       "      <td>1</td>\n",
       "      <td>буфет</td>\n",
       "      <td>51.0</td>\n",
       "      <td>585</td>\n",
       "    </tr>\n",
       "    <tr>\n",
       "      <td>0</td>\n",
       "      <td>бар</td>\n",
       "      <td>43.0</td>\n",
       "      <td>856</td>\n",
       "    </tr>\n",
       "    <tr>\n",
       "      <td>3</td>\n",
       "      <td>кафе</td>\n",
       "      <td>40.0</td>\n",
       "      <td>6099</td>\n",
       "    </tr>\n",
       "    <tr>\n",
       "      <td>8</td>\n",
       "      <td>фастфуд</td>\n",
       "      <td>21.0</td>\n",
       "      <td>1923</td>\n",
       "    </tr>\n",
       "    <tr>\n",
       "      <td>4</td>\n",
       "      <td>кафетерий</td>\n",
       "      <td>9.0</td>\n",
       "      <td>398</td>\n",
       "    </tr>\n",
       "    <tr>\n",
       "      <td>2</td>\n",
       "      <td>закусочная</td>\n",
       "      <td>8.0</td>\n",
       "      <td>360</td>\n",
       "    </tr>\n",
       "    <tr>\n",
       "      <td>5</td>\n",
       "      <td>кулинария</td>\n",
       "      <td>6.0</td>\n",
       "      <td>273</td>\n",
       "    </tr>\n",
       "  </tbody>\n",
       "</table>\n",
       "</div>"
      ],
      "text/plain": [
       "  object_type  number  counts\n",
       "7    столовая   130.0    2587\n",
       "6    ресторан    97.0    2285\n",
       "1       буфет    51.0     585\n",
       "0         бар    43.0     856\n",
       "3        кафе    40.0    6099\n",
       "8     фастфуд    21.0    1923\n",
       "4   кафетерий     9.0     398\n",
       "2  закусочная     8.0     360\n",
       "5   кулинария     6.0     273"
      ]
     },
     "execution_count": 25,
     "metadata": {},
     "output_type": "execute_result"
    }
   ],
   "source": [
    "chain_number = rest.groupby('object_type').agg({'number':'mean','id':'count'}).reset_index().rename(columns={'id':'counts'})\n",
    "chain_number = chain_number.sort_values(by='number', ascending=False).round(0)\n",
    "chain_number"
   ]
  },
  {
   "cell_type": "code",
   "execution_count": 26,
   "metadata": {},
   "outputs": [
    {
     "data": {
      "image/png": "[encoded data removed]",
      "text/plain": [
       "<Figure size 864x432 with 1 Axes>"
      ]
     },
     "metadata": {},
     "output_type": "display_data"
    }
   ],
   "source": [
    "sns.set_style(\"darkgrid\")\n",
    "sns.set_palette('muted')\n",
    "a = sns.catplot(kind=\"bar\", data=chain_number,  x='object_type', y='number', height=6, aspect=2)\n",
    "plt.title('Среднее число посадочных мест по типу заведения')\n",
    "plt.ylabel('среднее число мест')\n",
    "plt.xlabel('')\n",
    "\n",
    "for ax in a.axes.ravel():\n",
    "    for p in ax.patches:\n",
    "        ax.annotate(format(p.get_height(), '.0f'), (p.get_x() + p.get_width() / 2., p.get_height()),\n",
    "                    ha = 'center', va = 'center', xytext = (0, 10), textcoords = 'offset points')\n",
    "plt.show()"
   ]
  },
  {
   "cell_type": "markdown",
   "metadata": {},
   "source": [
    "Наибольшее количество посадочных мест предоставляют столовые и рестораны - в среднем 130 и 97 мест соответственно. Буфеты, бары и кафе имеют в среднем 51, 43 и 40 мест. В предприятиях быстрого обслуживания в среднем 21 место. Кафетерии, закусочные и магазины (отдел кулинарии) имеют наименьшее количество посадочных мест - в среднем 6-9 мест. "
   ]
  },
  {
   "cell_type": "markdown",
   "metadata": {},
   "source": [
    "### График топ-10 улиц по количеству объектов общественного питания<a id=\"step2.6\"></a> "
   ]
  },
  {
   "cell_type": "markdown",
   "metadata": {},
   "source": [
    "Посмотрю еще раз как записан адрес в данных."
   ]
  },
  {
   "cell_type": "code",
   "execution_count": 27,
   "metadata": {},
   "outputs": [
    {
     "data": {
      "text/html": [
       "<div>\n",
       "<style scoped>\n",
       "    .dataframe tbody tr th:only-of-type {\n",
       "        vertical-align: middle;\n",
       "    }\n",
       "\n",
       "    .dataframe tbody tr th {\n",
       "        vertical-align: top;\n",
       "    }\n",
       "\n",
       "    .dataframe thead th {\n",
       "        text-align: right;\n",
       "    }\n",
       "</style>\n",
       "<table border=\"1\" class=\"dataframe\">\n",
       "  <thead>\n",
       "    <tr style=\"text-align: right;\">\n",
       "      <th></th>\n",
       "      <th>id</th>\n",
       "      <th>object_name</th>\n",
       "      <th>chain</th>\n",
       "      <th>object_type</th>\n",
       "      <th>address</th>\n",
       "      <th>number</th>\n",
       "    </tr>\n",
       "  </thead>\n",
       "  <tbody>\n",
       "    <tr>\n",
       "      <td>10887</td>\n",
       "      <td>187538</td>\n",
       "      <td>bob's your uncle</td>\n",
       "      <td>нет</td>\n",
       "      <td>кафе</td>\n",
       "      <td>город Москва, улица Маросейка, дом 4/2, строение 1</td>\n",
       "      <td>20</td>\n",
       "    </tr>\n",
       "    <tr>\n",
       "      <td>944</td>\n",
       "      <td>23844</td>\n",
       "      <td>шоколадница</td>\n",
       "      <td>да</td>\n",
       "      <td>кафе</td>\n",
       "      <td>город Москва, Профсоюзная улица, дом 19</td>\n",
       "      <td>48</td>\n",
       "    </tr>\n",
       "    <tr>\n",
       "      <td>11557</td>\n",
       "      <td>178378</td>\n",
       "      <td>seafood factory</td>\n",
       "      <td>нет</td>\n",
       "      <td>кафе</td>\n",
       "      <td>город Москва, улица Ленинская Слобода, дом 26</td>\n",
       "      <td>10</td>\n",
       "    </tr>\n",
       "    <tr>\n",
       "      <td>5528</td>\n",
       "      <td>154618</td>\n",
       "      <td>шаурма</td>\n",
       "      <td>нет</td>\n",
       "      <td>фастфуд</td>\n",
       "      <td>город Москва, Сокольническая площадь, дом 4А</td>\n",
       "      <td>0</td>\n",
       "    </tr>\n",
       "    <tr>\n",
       "      <td>4741</td>\n",
       "      <td>28418</td>\n",
       "      <td>орс-нод-1 столовая 11</td>\n",
       "      <td>нет</td>\n",
       "      <td>столовая</td>\n",
       "      <td>город Москва, Нижегородская улица, дом 28</td>\n",
       "      <td>45</td>\n",
       "    </tr>\n",
       "    <tr>\n",
       "      <td>6826</td>\n",
       "      <td>107314</td>\n",
       "      <td>кафе «теремок»</td>\n",
       "      <td>да</td>\n",
       "      <td>фастфуд</td>\n",
       "      <td>город Москва, Дубравная улица, дом 34/29</td>\n",
       "      <td>45</td>\n",
       "    </tr>\n",
       "    <tr>\n",
       "      <td>8945</td>\n",
       "      <td>159060</td>\n",
       "      <td>кафе «райский уголок»</td>\n",
       "      <td>нет</td>\n",
       "      <td>кафе</td>\n",
       "      <td>город Москва, Братеевская улица, дом 16, корпус 3</td>\n",
       "      <td>98</td>\n",
       "    </tr>\n",
       "    <tr>\n",
       "      <td>12462</td>\n",
       "      <td>26445</td>\n",
       "      <td>ресторан «караоке»</td>\n",
       "      <td>нет</td>\n",
       "      <td>кафе</td>\n",
       "      <td>город Москва, улица Красная Пресня, дом 23, корпус Б, строение 1</td>\n",
       "      <td>96</td>\n",
       "    </tr>\n",
       "    <tr>\n",
       "      <td>1938</td>\n",
       "      <td>148068</td>\n",
       "      <td>бургерная хищник</td>\n",
       "      <td>нет</td>\n",
       "      <td>кафе</td>\n",
       "      <td>город Москва, улица Кузнецкий Мост, дом 18/7</td>\n",
       "      <td>56</td>\n",
       "    </tr>\n",
       "    <tr>\n",
       "      <td>6633</td>\n",
       "      <td>19675</td>\n",
       "      <td>крошка картошка</td>\n",
       "      <td>да</td>\n",
       "      <td>фастфуд</td>\n",
       "      <td>город Москва, Рублёвское шоссе, дом 62</td>\n",
       "      <td>40</td>\n",
       "    </tr>\n",
       "    <tr>\n",
       "      <td>11619</td>\n",
       "      <td>173543</td>\n",
       "      <td>кафе мысли кофе</td>\n",
       "      <td>нет</td>\n",
       "      <td>кафе</td>\n",
       "      <td>город Москва, Духовской переулок, дом 17, строение 11</td>\n",
       "      <td>0</td>\n",
       "    </tr>\n",
       "    <tr>\n",
       "      <td>4990</td>\n",
       "      <td>157822</td>\n",
       "      <td>i-chet</td>\n",
       "      <td>нет</td>\n",
       "      <td>кафе</td>\n",
       "      <td>город Москва, Нижняя Красносельская улица, дом 35, строение 59</td>\n",
       "      <td>8</td>\n",
       "    </tr>\n",
       "    <tr>\n",
       "      <td>1647</td>\n",
       "      <td>151866</td>\n",
       "      <td>ресторан «практика by darvin»</td>\n",
       "      <td>нет</td>\n",
       "      <td>бар</td>\n",
       "      <td>город Москва, Большая Грузинская улица, дом 37, строение 2</td>\n",
       "      <td>45</td>\n",
       "    </tr>\n",
       "    <tr>\n",
       "      <td>13909</td>\n",
       "      <td>218828</td>\n",
       "      <td>бар «ваша пинта»</td>\n",
       "      <td>нет</td>\n",
       "      <td>бар</td>\n",
       "      <td>город Москва, 9-я Парковая улица, дом 33</td>\n",
       "      <td>37</td>\n",
       "    </tr>\n",
       "    <tr>\n",
       "      <td>4948</td>\n",
       "      <td>157662</td>\n",
       "      <td>магнолия</td>\n",
       "      <td>да</td>\n",
       "      <td>кафетерий</td>\n",
       "      <td>город Москва, 1-я Тверская-Ямская улица, дом 29, строение 1</td>\n",
       "      <td>10</td>\n",
       "    </tr>\n",
       "  </tbody>\n",
       "</table>\n",
       "</div>"
      ],
      "text/plain": [
       "           id                    object_name chain object_type  \\\n",
       "10887  187538               bob's your uncle   нет        кафе   \n",
       "944     23844                    шоколадница    да        кафе   \n",
       "11557  178378                seafood factory   нет        кафе   \n",
       "5528   154618                         шаурма   нет     фастфуд   \n",
       "4741    28418          орс-нод-1 столовая 11   нет    столовая   \n",
       "6826   107314                 кафе «теремок»    да     фастфуд   \n",
       "8945   159060          кафе «райский уголок»   нет        кафе   \n",
       "12462   26445             ресторан «караоке»   нет        кафе   \n",
       "1938   148068               бургерная хищник   нет        кафе   \n",
       "6633    19675                крошка картошка    да     фастфуд   \n",
       "11619  173543                кафе мысли кофе   нет        кафе   \n",
       "4990   157822                         i-chet   нет        кафе   \n",
       "1647   151866  ресторан «практика by darvin»   нет         бар   \n",
       "13909  218828               бар «ваша пинта»   нет         бар   \n",
       "4948   157662                       магнолия    да   кафетерий   \n",
       "\n",
       "                                                                address  \\\n",
       "10887                город Москва, улица Маросейка, дом 4/2, строение 1   \n",
       "944                             город Москва, Профсоюзная улица, дом 19   \n",
       "11557                     город Москва, улица Ленинская Слобода, дом 26   \n",
       "5528                       город Москва, Сокольническая площадь, дом 4А   \n",
       "4741                          город Москва, Нижегородская улица, дом 28   \n",
       "6826                           город Москва, Дубравная улица, дом 34/29   \n",
       "8945                  город Москва, Братеевская улица, дом 16, корпус 3   \n",
       "12462  город Москва, улица Красная Пресня, дом 23, корпус Б, строение 1   \n",
       "1938                       город Москва, улица Кузнецкий Мост, дом 18/7   \n",
       "6633                             город Москва, Рублёвское шоссе, дом 62   \n",
       "11619             город Москва, Духовской переулок, дом 17, строение 11   \n",
       "4990     город Москва, Нижняя Красносельская улица, дом 35, строение 59   \n",
       "1647         город Москва, Большая Грузинская улица, дом 37, строение 2   \n",
       "13909                          город Москва, 9-я Парковая улица, дом 33   \n",
       "4948        город Москва, 1-я Тверская-Ямская улица, дом 29, строение 1   \n",
       "\n",
       "       number  \n",
       "10887      20  \n",
       "944        48  \n",
       "11557      10  \n",
       "5528        0  \n",
       "4741       45  \n",
       "6826       45  \n",
       "8945       98  \n",
       "12462      96  \n",
       "1938       56  \n",
       "6633       40  \n",
       "11619       0  \n",
       "4990        8  \n",
       "1647       45  \n",
       "13909      37  \n",
       "4948       10  "
      ]
     },
     "execution_count": 27,
     "metadata": {},
     "output_type": "execute_result"
    }
   ],
   "source": [
    "rest.sample(15)"
   ]
  },
  {
   "cell_type": "markdown",
   "metadata": {},
   "source": [
    "Адреса представлены относительно корректно, представляют из себя наборы типа ГОРОД, УЛИЦА, дом и т.д., разделителем является запятая. Воспользуюсь методом str.split() и выделю улицу в отдельный столбец. Правда есть такие адреса, как \"город Москва, город Троицк, микрорайон \"В\", дом 39\", то есть по сути это не Москва. Так как исследование проводится на заведениях города Москвы, я исключу из анализа такие адреса."
   ]
  },
  {
   "cell_type": "code",
   "execution_count": 28,
   "metadata": {},
   "outputs": [
    {
     "data": {
      "text/html": [
       "<div>\n",
       "<style scoped>\n",
       "    .dataframe tbody tr th:only-of-type {\n",
       "        vertical-align: middle;\n",
       "    }\n",
       "\n",
       "    .dataframe tbody tr th {\n",
       "        vertical-align: top;\n",
       "    }\n",
       "\n",
       "    .dataframe thead th {\n",
       "        text-align: right;\n",
       "    }\n",
       "</style>\n",
       "<table border=\"1\" class=\"dataframe\">\n",
       "  <thead>\n",
       "    <tr style=\"text-align: right;\">\n",
       "      <th></th>\n",
       "      <th>id</th>\n",
       "      <th>object_name</th>\n",
       "      <th>chain</th>\n",
       "      <th>object_type</th>\n",
       "      <th>address</th>\n",
       "      <th>number</th>\n",
       "      <th>street</th>\n",
       "    </tr>\n",
       "  </thead>\n",
       "  <tbody>\n",
       "    <tr>\n",
       "      <td>6582</td>\n",
       "      <td>104251</td>\n",
       "      <td>white rabbite (белый кролик)</td>\n",
       "      <td>да</td>\n",
       "      <td>ресторан</td>\n",
       "      <td>город Москва, Смоленская площадь, дом 3</td>\n",
       "      <td>150</td>\n",
       "      <td>Смоленская площадь</td>\n",
       "    </tr>\n",
       "    <tr>\n",
       "      <td>6349</td>\n",
       "      <td>27180</td>\n",
       "      <td>эларджи</td>\n",
       "      <td>нет</td>\n",
       "      <td>ресторан</td>\n",
       "      <td>город Москва, Гагаринский переулок, дом 15А</td>\n",
       "      <td>40</td>\n",
       "      <td>Гагаринский переулок</td>\n",
       "    </tr>\n",
       "    <tr>\n",
       "      <td>6173</td>\n",
       "      <td>59204</td>\n",
       "      <td>фаворит</td>\n",
       "      <td>нет</td>\n",
       "      <td>ресторан</td>\n",
       "      <td>город Москва, Профсоюзная улица, дом 21А</td>\n",
       "      <td>120</td>\n",
       "      <td>Профсоюзная улица</td>\n",
       "    </tr>\n",
       "    <tr>\n",
       "      <td>11087</td>\n",
       "      <td>179364</td>\n",
       "      <td>кафе сабвей</td>\n",
       "      <td>нет</td>\n",
       "      <td>закусочная</td>\n",
       "      <td>город Москва, Сигнальный проезд, владение 6А</td>\n",
       "      <td>10</td>\n",
       "      <td>Сигнальный проезд</td>\n",
       "    </tr>\n",
       "    <tr>\n",
       "      <td>11231</td>\n",
       "      <td>176768</td>\n",
       "      <td>кофе</td>\n",
       "      <td>нет</td>\n",
       "      <td>кафе</td>\n",
       "      <td>город Москва, Большая Семёновская улица, дом 49А</td>\n",
       "      <td>2</td>\n",
       "      <td>Большая Семёновская улица</td>\n",
       "    </tr>\n",
       "  </tbody>\n",
       "</table>\n",
       "</div>"
      ],
      "text/plain": [
       "           id                   object_name chain object_type  \\\n",
       "6582   104251  white rabbite (белый кролик)    да    ресторан   \n",
       "6349    27180                       эларджи   нет    ресторан   \n",
       "6173    59204                       фаворит   нет    ресторан   \n",
       "11087  179364                   кафе сабвей   нет  закусочная   \n",
       "11231  176768                          кофе   нет        кафе   \n",
       "\n",
       "                                                address  number  \\\n",
       "6582            город Москва, Смоленская площадь, дом 3     150   \n",
       "6349        город Москва, Гагаринский переулок, дом 15А      40   \n",
       "6173           город Москва, Профсоюзная улица, дом 21А     120   \n",
       "11087      город Москва, Сигнальный проезд, владение 6А      10   \n",
       "11231  город Москва, Большая Семёновская улица, дом 49А       2   \n",
       "\n",
       "                          street  \n",
       "6582          Смоленская площадь  \n",
       "6349        Гагаринский переулок  \n",
       "6173           Профсоюзная улица  \n",
       "11087          Сигнальный проезд  \n",
       "11231  Большая Семёновская улица  "
      ]
     },
     "execution_count": 28,
     "metadata": {},
     "output_type": "execute_result"
    }
   ],
   "source": [
    "rest['street'] = rest['address'].str.split(\", \", n=2, expand=True)[1]\n",
    "rest.sample(5)"
   ]
  },
  {
   "cell_type": "code",
   "execution_count": 29,
   "metadata": {},
   "outputs": [
    {
     "name": "stdout",
     "output_type": "stream",
     "text": [
      "Количество адресов не в Москве =  399\n"
     ]
    }
   ],
   "source": [
    "print(\"Количество адресов не в Москве = \", rest[rest['street'].str.match('город')==True]['street'].count())"
   ]
  },
  {
   "cell_type": "markdown",
   "metadata": {},
   "source": [
    "Убираю строки, где адрес не относится к Москве"
   ]
  },
  {
   "cell_type": "code",
   "execution_count": 30,
   "metadata": {},
   "outputs": [],
   "source": [
    "rest = rest[rest['street'].str.match('город')==False].reset_index()"
   ]
  },
  {
   "cell_type": "code",
   "execution_count": 31,
   "metadata": {},
   "outputs": [
    {
     "data": {
      "text/html": [
       "<div>\n",
       "<style scoped>\n",
       "    .dataframe tbody tr th:only-of-type {\n",
       "        vertical-align: middle;\n",
       "    }\n",
       "\n",
       "    .dataframe tbody tr th {\n",
       "        vertical-align: top;\n",
       "    }\n",
       "\n",
       "    .dataframe thead th {\n",
       "        text-align: right;\n",
       "    }\n",
       "</style>\n",
       "<table border=\"1\" class=\"dataframe\">\n",
       "  <thead>\n",
       "    <tr style=\"text-align: right;\">\n",
       "      <th></th>\n",
       "      <th>street</th>\n",
       "      <th>counts</th>\n",
       "    </tr>\n",
       "  </thead>\n",
       "  <tbody>\n",
       "    <tr>\n",
       "      <td>1448</td>\n",
       "      <td>проспект Мира</td>\n",
       "      <td>204</td>\n",
       "    </tr>\n",
       "    <tr>\n",
       "      <td>993</td>\n",
       "      <td>Профсоюзная улица</td>\n",
       "      <td>182</td>\n",
       "    </tr>\n",
       "    <tr>\n",
       "      <td>683</td>\n",
       "      <td>Ленинградский проспект</td>\n",
       "      <td>171</td>\n",
       "    </tr>\n",
       "    <tr>\n",
       "      <td>979</td>\n",
       "      <td>Пресненская набережная</td>\n",
       "      <td>167</td>\n",
       "    </tr>\n",
       "    <tr>\n",
       "      <td>407</td>\n",
       "      <td>Варшавское шоссе</td>\n",
       "      <td>161</td>\n",
       "    </tr>\n",
       "    <tr>\n",
       "      <td>686</td>\n",
       "      <td>Ленинский проспект</td>\n",
       "      <td>147</td>\n",
       "    </tr>\n",
       "    <tr>\n",
       "      <td>1415</td>\n",
       "      <td>поселение Сосенское</td>\n",
       "      <td>138</td>\n",
       "    </tr>\n",
       "    <tr>\n",
       "      <td>1445</td>\n",
       "      <td>проспект Вернадского</td>\n",
       "      <td>132</td>\n",
       "    </tr>\n",
       "    <tr>\n",
       "      <td>674</td>\n",
       "      <td>Кутузовский проспект</td>\n",
       "      <td>114</td>\n",
       "    </tr>\n",
       "    <tr>\n",
       "      <td>600</td>\n",
       "      <td>Каширское шоссе</td>\n",
       "      <td>112</td>\n",
       "    </tr>\n",
       "  </tbody>\n",
       "</table>\n",
       "</div>"
      ],
      "text/plain": [
       "                      street  counts\n",
       "1448           проспект Мира     204\n",
       "993        Профсоюзная улица     182\n",
       "683   Ленинградский проспект     171\n",
       "979   Пресненская набережная     167\n",
       "407         Варшавское шоссе     161\n",
       "686       Ленинский проспект     147\n",
       "1415     поселение Сосенское     138\n",
       "1445    проспект Вернадского     132\n",
       "674     Кутузовский проспект     114\n",
       "600          Каширское шоссе     112"
      ]
     },
     "execution_count": 31,
     "metadata": {},
     "output_type": "execute_result"
    }
   ],
   "source": [
    "street_top10 = rest.groupby('street').agg({'id':'count'}).reset_index().rename(columns={'id':'counts'})\n",
    "street_top10 = street_top10.sort_values(by='counts', ascending=False)[:10]\n",
    "street_top10"
   ]
  },
  {
   "cell_type": "code",
   "execution_count": 32,
   "metadata": {},
   "outputs": [
    {
     "data": {
      "image/png": "[encoded data removed]",
      "text/plain": [
       "<Figure size 864x432 with 1 Axes>"
      ]
     },
     "metadata": {},
     "output_type": "display_data"
    }
   ],
   "source": [
    "sns.set_style(\"darkgrid\")\n",
    "sns.set_palette('muted')\n",
    "a = sns.catplot(kind=\"bar\", data=street_top10,  x='street', y='counts', height=6, aspect=2)\n",
    "plt.title('Топ-10 улиц по количеству объектов общественного питания')\n",
    "plt.ylabel('количество объектов')\n",
    "plt.xlabel('')\n",
    "plt.xticks(rotation=-35)\n",
    "for ax in a.axes.ravel():\n",
    "    for p in ax.patches:\n",
    "        ax.annotate(format(p.get_height(), '.0f'), (p.get_x() + p.get_width() / 2., p.get_height()),\n",
    "                    ha = 'center', va = 'center', xytext = (0, 10), textcoords = 'offset points')\n",
    "plt.show()"
   ]
  },
  {
   "cell_type": "markdown",
   "metadata": {},
   "source": [
    "Больше всего объектов общественного питания расположено на проспекте Мира, что не удивительно, так как эта улица протяженностью около 9 км. На проспекте работают 204 объекта общественного питания. Профсоюзная улица немного уступает по количеству заведений 182, но не уступает в протяженности, но при этом располагается дальше от центра, чем проспект Мира. Замыкает топ-10 Каширское шоссе с количеством заведений равным 112."
   ]
  },
  {
   "cell_type": "markdown",
   "metadata": {},
   "source": [
    "Чтобы найти районы, к которым принадлежат улицы, воспользуюсь внешним источником https://hubofdata.ru/"
   ]
  },
  {
   "cell_type": "code",
   "execution_count": 33,
   "metadata": {},
   "outputs": [],
   "source": [
    "district = pd.read_csv('http://hubofdata.ru/storage/f/2013-10-22T09%3A25%3A27.793Z/mosgaz-streets.csv')"
   ]
  },
  {
   "cell_type": "code",
   "execution_count": 34,
   "metadata": {},
   "outputs": [
    {
     "data": {
      "text/html": [
       "<div>\n",
       "<style scoped>\n",
       "    .dataframe tbody tr th:only-of-type {\n",
       "        vertical-align: middle;\n",
       "    }\n",
       "\n",
       "    .dataframe tbody tr th {\n",
       "        vertical-align: top;\n",
       "    }\n",
       "\n",
       "    .dataframe thead th {\n",
       "        text-align: right;\n",
       "    }\n",
       "</style>\n",
       "<table border=\"1\" class=\"dataframe\">\n",
       "  <thead>\n",
       "    <tr style=\"text-align: right;\">\n",
       "      <th></th>\n",
       "      <th>streetname</th>\n",
       "      <th>areaid</th>\n",
       "      <th>okrug</th>\n",
       "      <th>area</th>\n",
       "    </tr>\n",
       "  </thead>\n",
       "  <tbody>\n",
       "    <tr>\n",
       "      <td>0</td>\n",
       "      <td>Выставочный переулок</td>\n",
       "      <td>17</td>\n",
       "      <td>ЦАО</td>\n",
       "      <td>Пресненский район</td>\n",
       "    </tr>\n",
       "    <tr>\n",
       "      <td>1</td>\n",
       "      <td>улица Гашека</td>\n",
       "      <td>17</td>\n",
       "      <td>ЦАО</td>\n",
       "      <td>Пресненский район</td>\n",
       "    </tr>\n",
       "    <tr>\n",
       "      <td>2</td>\n",
       "      <td>Большая Никитская улица</td>\n",
       "      <td>17</td>\n",
       "      <td>ЦАО</td>\n",
       "      <td>Пресненский район</td>\n",
       "    </tr>\n",
       "    <tr>\n",
       "      <td>3</td>\n",
       "      <td>Глубокий переулок</td>\n",
       "      <td>17</td>\n",
       "      <td>ЦАО</td>\n",
       "      <td>Пресненский район</td>\n",
       "    </tr>\n",
       "    <tr>\n",
       "      <td>4</td>\n",
       "      <td>Большой Гнездниковский переулок</td>\n",
       "      <td>17</td>\n",
       "      <td>ЦАО</td>\n",
       "      <td>Пресненский район</td>\n",
       "    </tr>\n",
       "  </tbody>\n",
       "</table>\n",
       "</div>"
      ],
      "text/plain": [
       "                        streetname  areaid okrug               area\n",
       "0             Выставочный переулок      17   ЦАО  Пресненский район\n",
       "1                     улица Гашека      17   ЦАО  Пресненский район\n",
       "2          Большая Никитская улица      17   ЦАО  Пресненский район\n",
       "3                Глубокий переулок      17   ЦАО  Пресненский район\n",
       "4  Большой Гнездниковский переулок      17   ЦАО  Пресненский район"
      ]
     },
     "execution_count": 34,
     "metadata": {},
     "output_type": "execute_result"
    }
   ],
   "source": [
    "district.head()"
   ]
  },
  {
   "cell_type": "code",
   "execution_count": 35,
   "metadata": {},
   "outputs": [
    {
     "data": {
      "text/html": [
       "<div>\n",
       "<style scoped>\n",
       "    .dataframe tbody tr th:only-of-type {\n",
       "        vertical-align: middle;\n",
       "    }\n",
       "\n",
       "    .dataframe tbody tr th {\n",
       "        vertical-align: top;\n",
       "    }\n",
       "\n",
       "    .dataframe thead th {\n",
       "        text-align: right;\n",
       "    }\n",
       "</style>\n",
       "<table border=\"1\" class=\"dataframe\">\n",
       "  <thead>\n",
       "    <tr style=\"text-align: right;\">\n",
       "      <th></th>\n",
       "      <th>street</th>\n",
       "      <th>counts</th>\n",
       "      <th>streetname</th>\n",
       "      <th>areaid</th>\n",
       "      <th>okrug</th>\n",
       "      <th>area</th>\n",
       "    </tr>\n",
       "  </thead>\n",
       "  <tbody>\n",
       "    <tr>\n",
       "      <td>0</td>\n",
       "      <td>проспект Мира</td>\n",
       "      <td>204</td>\n",
       "      <td>проспект Мира</td>\n",
       "      <td>70</td>\n",
       "      <td>СВАО</td>\n",
       "      <td>Алексеевский район</td>\n",
       "    </tr>\n",
       "    <tr>\n",
       "      <td>1</td>\n",
       "      <td>проспект Мира</td>\n",
       "      <td>204</td>\n",
       "      <td>проспект Мира</td>\n",
       "      <td>86</td>\n",
       "      <td>СВАО</td>\n",
       "      <td>Ярославский Район</td>\n",
       "    </tr>\n",
       "    <tr>\n",
       "      <td>2</td>\n",
       "      <td>проспект Мира</td>\n",
       "      <td>204</td>\n",
       "      <td>проспект Мира</td>\n",
       "      <td>78</td>\n",
       "      <td>СВАО</td>\n",
       "      <td>Район Марьина роща</td>\n",
       "    </tr>\n",
       "    <tr>\n",
       "      <td>3</td>\n",
       "      <td>проспект Мира</td>\n",
       "      <td>204</td>\n",
       "      <td>проспект Мира</td>\n",
       "      <td>79</td>\n",
       "      <td>СВАО</td>\n",
       "      <td>Останкинский район</td>\n",
       "    </tr>\n",
       "    <tr>\n",
       "      <td>4</td>\n",
       "      <td>проспект Мира</td>\n",
       "      <td>204</td>\n",
       "      <td>проспект Мира</td>\n",
       "      <td>81</td>\n",
       "      <td>СВАО</td>\n",
       "      <td>Район Ростокино</td>\n",
       "    </tr>\n",
       "    <tr>\n",
       "      <td>5</td>\n",
       "      <td>проспект Мира</td>\n",
       "      <td>204</td>\n",
       "      <td>проспект Мира</td>\n",
       "      <td>82</td>\n",
       "      <td>СВАО</td>\n",
       "      <td>Район Свиблово</td>\n",
       "    </tr>\n",
       "    <tr>\n",
       "      <td>6</td>\n",
       "      <td>проспект Мира</td>\n",
       "      <td>204</td>\n",
       "      <td>проспект Мира</td>\n",
       "      <td>16</td>\n",
       "      <td>ЦАО</td>\n",
       "      <td>Мещанский район</td>\n",
       "    </tr>\n",
       "    <tr>\n",
       "      <td>7</td>\n",
       "      <td>Профсоюзная улица</td>\n",
       "      <td>182</td>\n",
       "      <td>Профсоюзная улица</td>\n",
       "      <td>123</td>\n",
       "      <td>ЮЗАО</td>\n",
       "      <td>Академический район</td>\n",
       "    </tr>\n",
       "    <tr>\n",
       "      <td>8</td>\n",
       "      <td>Профсоюзная улица</td>\n",
       "      <td>182</td>\n",
       "      <td>Профсоюзная улица</td>\n",
       "      <td>132</td>\n",
       "      <td>ЮЗАО</td>\n",
       "      <td>Район Черемушки</td>\n",
       "    </tr>\n",
       "    <tr>\n",
       "      <td>9</td>\n",
       "      <td>Профсоюзная улица</td>\n",
       "      <td>182</td>\n",
       "      <td>Профсоюзная улица</td>\n",
       "      <td>134</td>\n",
       "      <td>ЮЗАО</td>\n",
       "      <td>Район Ясенево</td>\n",
       "    </tr>\n",
       "    <tr>\n",
       "      <td>10</td>\n",
       "      <td>Профсоюзная улица</td>\n",
       "      <td>182</td>\n",
       "      <td>Профсоюзная улица</td>\n",
       "      <td>126</td>\n",
       "      <td>ЮЗАО</td>\n",
       "      <td>Район Коньково</td>\n",
       "    </tr>\n",
       "    <tr>\n",
       "      <td>11</td>\n",
       "      <td>Профсоюзная улица</td>\n",
       "      <td>182</td>\n",
       "      <td>Профсоюзная улица</td>\n",
       "      <td>129</td>\n",
       "      <td>ЮЗАО</td>\n",
       "      <td>Обручевский район</td>\n",
       "    </tr>\n",
       "    <tr>\n",
       "      <td>12</td>\n",
       "      <td>Профсоюзная улица</td>\n",
       "      <td>182</td>\n",
       "      <td>Профсоюзная улица</td>\n",
       "      <td>131</td>\n",
       "      <td>ЮЗАО</td>\n",
       "      <td>Район Теплый Стан</td>\n",
       "    </tr>\n",
       "    <tr>\n",
       "      <td>13</td>\n",
       "      <td>Ленинградский проспект</td>\n",
       "      <td>171</td>\n",
       "      <td>Ленинградский проспект</td>\n",
       "      <td>54</td>\n",
       "      <td>САО</td>\n",
       "      <td>Район Аэропорт</td>\n",
       "    </tr>\n",
       "    <tr>\n",
       "      <td>14</td>\n",
       "      <td>Ленинградский проспект</td>\n",
       "      <td>171</td>\n",
       "      <td>Ленинградский проспект</td>\n",
       "      <td>55</td>\n",
       "      <td>САО</td>\n",
       "      <td>Район Беговой</td>\n",
       "    </tr>\n",
       "    <tr>\n",
       "      <td>15</td>\n",
       "      <td>Ленинградский проспект</td>\n",
       "      <td>171</td>\n",
       "      <td>Ленинградский проспект</td>\n",
       "      <td>69</td>\n",
       "      <td>САО</td>\n",
       "      <td>Хорошевский район</td>\n",
       "    </tr>\n",
       "    <tr>\n",
       "      <td>16</td>\n",
       "      <td>Ленинградский проспект</td>\n",
       "      <td>171</td>\n",
       "      <td>Ленинградский проспект</td>\n",
       "      <td>66</td>\n",
       "      <td>САО</td>\n",
       "      <td>Район Сокол</td>\n",
       "    </tr>\n",
       "    <tr>\n",
       "      <td>17</td>\n",
       "      <td>Пресненская набережная</td>\n",
       "      <td>167</td>\n",
       "      <td>Пресненская набережная</td>\n",
       "      <td>17</td>\n",
       "      <td>ЦАО</td>\n",
       "      <td>Пресненский район</td>\n",
       "    </tr>\n",
       "    <tr>\n",
       "      <td>18</td>\n",
       "      <td>Варшавское шоссе</td>\n",
       "      <td>161</td>\n",
       "      <td>Варшавское шоссе</td>\n",
       "      <td>109</td>\n",
       "      <td>ЮАО</td>\n",
       "      <td>Район Чертаново Центральное</td>\n",
       "    </tr>\n",
       "    <tr>\n",
       "      <td>19</td>\n",
       "      <td>Варшавское шоссе</td>\n",
       "      <td>161</td>\n",
       "      <td>Варшавское шоссе</td>\n",
       "      <td>108</td>\n",
       "      <td>ЮАО</td>\n",
       "      <td>Район Чертаново Северное</td>\n",
       "    </tr>\n",
       "    <tr>\n",
       "      <td>20</td>\n",
       "      <td>Варшавское шоссе</td>\n",
       "      <td>161</td>\n",
       "      <td>Варшавское шоссе</td>\n",
       "      <td>110</td>\n",
       "      <td>ЮАО</td>\n",
       "      <td>Район Чертаново Южное</td>\n",
       "    </tr>\n",
       "    <tr>\n",
       "      <td>21</td>\n",
       "      <td>Варшавское шоссе</td>\n",
       "      <td>161</td>\n",
       "      <td>Варшавское шоссе</td>\n",
       "      <td>99</td>\n",
       "      <td>ЮАО</td>\n",
       "      <td>Донской район</td>\n",
       "    </tr>\n",
       "    <tr>\n",
       "      <td>22</td>\n",
       "      <td>Варшавское шоссе</td>\n",
       "      <td>161</td>\n",
       "      <td>Варшавское шоссе</td>\n",
       "      <td>102</td>\n",
       "      <td>ЮАО</td>\n",
       "      <td>Район Нагатино-Садовники</td>\n",
       "    </tr>\n",
       "    <tr>\n",
       "      <td>23</td>\n",
       "      <td>Варшавское шоссе</td>\n",
       "      <td>161</td>\n",
       "      <td>Варшавское шоссе</td>\n",
       "      <td>104</td>\n",
       "      <td>ЮАО</td>\n",
       "      <td>Нагорный район</td>\n",
       "    </tr>\n",
       "    <tr>\n",
       "      <td>24</td>\n",
       "      <td>Варшавское шоссе</td>\n",
       "      <td>161</td>\n",
       "      <td>Варшавское шоссе</td>\n",
       "      <td>130</td>\n",
       "      <td>ЮЗАО</td>\n",
       "      <td>Район Северное Бутово</td>\n",
       "    </tr>\n",
       "    <tr>\n",
       "      <td>25</td>\n",
       "      <td>Варшавское шоссе</td>\n",
       "      <td>161</td>\n",
       "      <td>Варшавское шоссе</td>\n",
       "      <td>133</td>\n",
       "      <td>ЮЗАО</td>\n",
       "      <td>Район Южное Бутово</td>\n",
       "    </tr>\n",
       "    <tr>\n",
       "      <td>26</td>\n",
       "      <td>Ленинский проспект</td>\n",
       "      <td>147</td>\n",
       "      <td>Ленинский проспект</td>\n",
       "      <td>44</td>\n",
       "      <td>ЗАО</td>\n",
       "      <td>Район Проспект Вернадского</td>\n",
       "    </tr>\n",
       "    <tr>\n",
       "      <td>27</td>\n",
       "      <td>Ленинский проспект</td>\n",
       "      <td>147</td>\n",
       "      <td>Ленинский проспект</td>\n",
       "      <td>47</td>\n",
       "      <td>ЗАО</td>\n",
       "      <td>Район Тропарево-Никулино</td>\n",
       "    </tr>\n",
       "    <tr>\n",
       "      <td>28</td>\n",
       "      <td>Ленинский проспект</td>\n",
       "      <td>147</td>\n",
       "      <td>Ленинский проспект</td>\n",
       "      <td>99</td>\n",
       "      <td>ЮАО</td>\n",
       "      <td>Донской район</td>\n",
       "    </tr>\n",
       "    <tr>\n",
       "      <td>29</td>\n",
       "      <td>Ленинский проспект</td>\n",
       "      <td>147</td>\n",
       "      <td>Ленинский проспект</td>\n",
       "      <td>124</td>\n",
       "      <td>ЮЗАО</td>\n",
       "      <td>Район Гагаринский</td>\n",
       "    </tr>\n",
       "    <tr>\n",
       "      <td>30</td>\n",
       "      <td>Ленинский проспект</td>\n",
       "      <td>147</td>\n",
       "      <td>Ленинский проспект</td>\n",
       "      <td>128</td>\n",
       "      <td>ЮЗАО</td>\n",
       "      <td>Ломоносовский район</td>\n",
       "    </tr>\n",
       "    <tr>\n",
       "      <td>31</td>\n",
       "      <td>Ленинский проспект</td>\n",
       "      <td>147</td>\n",
       "      <td>Ленинский проспект</td>\n",
       "      <td>129</td>\n",
       "      <td>ЮЗАО</td>\n",
       "      <td>Обручевский район</td>\n",
       "    </tr>\n",
       "    <tr>\n",
       "      <td>32</td>\n",
       "      <td>Ленинский проспект</td>\n",
       "      <td>147</td>\n",
       "      <td>Ленинский проспект</td>\n",
       "      <td>131</td>\n",
       "      <td>ЮЗАО</td>\n",
       "      <td>Район Теплый Стан</td>\n",
       "    </tr>\n",
       "    <tr>\n",
       "      <td>33</td>\n",
       "      <td>Ленинский проспект</td>\n",
       "      <td>147</td>\n",
       "      <td>Ленинский проспект</td>\n",
       "      <td>21</td>\n",
       "      <td>ЦАО</td>\n",
       "      <td>Район Якиманка</td>\n",
       "    </tr>\n",
       "    <tr>\n",
       "      <td>34</td>\n",
       "      <td>проспект Вернадского</td>\n",
       "      <td>132</td>\n",
       "      <td>проспект Вернадского</td>\n",
       "      <td>44</td>\n",
       "      <td>ЗАО</td>\n",
       "      <td>Район Проспект Вернадского</td>\n",
       "    </tr>\n",
       "    <tr>\n",
       "      <td>35</td>\n",
       "      <td>проспект Вернадского</td>\n",
       "      <td>132</td>\n",
       "      <td>проспект Вернадского</td>\n",
       "      <td>45</td>\n",
       "      <td>ЗАО</td>\n",
       "      <td>Район Раменки</td>\n",
       "    </tr>\n",
       "    <tr>\n",
       "      <td>36</td>\n",
       "      <td>проспект Вернадского</td>\n",
       "      <td>132</td>\n",
       "      <td>проспект Вернадского</td>\n",
       "      <td>47</td>\n",
       "      <td>ЗАО</td>\n",
       "      <td>Район Тропарево-Никулино</td>\n",
       "    </tr>\n",
       "    <tr>\n",
       "      <td>37</td>\n",
       "      <td>проспект Вернадского</td>\n",
       "      <td>132</td>\n",
       "      <td>проспект Вернадского</td>\n",
       "      <td>124</td>\n",
       "      <td>ЮЗАО</td>\n",
       "      <td>Район Гагаринский</td>\n",
       "    </tr>\n",
       "    <tr>\n",
       "      <td>38</td>\n",
       "      <td>проспект Вернадского</td>\n",
       "      <td>132</td>\n",
       "      <td>проспект Вернадского</td>\n",
       "      <td>128</td>\n",
       "      <td>ЮЗАО</td>\n",
       "      <td>Ломоносовский район</td>\n",
       "    </tr>\n",
       "    <tr>\n",
       "      <td>39</td>\n",
       "      <td>Кутузовский проспект</td>\n",
       "      <td>114</td>\n",
       "      <td>Кутузовский проспект</td>\n",
       "      <td>38</td>\n",
       "      <td>ЗАО</td>\n",
       "      <td>Район Дорогомилово</td>\n",
       "    </tr>\n",
       "    <tr>\n",
       "      <td>40</td>\n",
       "      <td>Кутузовский проспект</td>\n",
       "      <td>114</td>\n",
       "      <td>Кутузовский проспект</td>\n",
       "      <td>49</td>\n",
       "      <td>ЗАО</td>\n",
       "      <td>Район Фили-Давыдково</td>\n",
       "    </tr>\n",
       "    <tr>\n",
       "      <td>41</td>\n",
       "      <td>Каширское шоссе</td>\n",
       "      <td>112</td>\n",
       "      <td>Каширское шоссе</td>\n",
       "      <td>101</td>\n",
       "      <td>ЮАО</td>\n",
       "      <td>Район Москворечье-Сабурово</td>\n",
       "    </tr>\n",
       "    <tr>\n",
       "      <td>42</td>\n",
       "      <td>Каширское шоссе</td>\n",
       "      <td>112</td>\n",
       "      <td>Каширское шоссе</td>\n",
       "      <td>102</td>\n",
       "      <td>ЮАО</td>\n",
       "      <td>Район Нагатино-Садовники</td>\n",
       "    </tr>\n",
       "    <tr>\n",
       "      <td>43</td>\n",
       "      <td>Каширское шоссе</td>\n",
       "      <td>112</td>\n",
       "      <td>Каширское шоссе</td>\n",
       "      <td>106</td>\n",
       "      <td>ЮАО</td>\n",
       "      <td>Район Орехово-Борисово Южное</td>\n",
       "    </tr>\n",
       "    <tr>\n",
       "      <td>44</td>\n",
       "      <td>Каширское шоссе</td>\n",
       "      <td>112</td>\n",
       "      <td>Каширское шоссе</td>\n",
       "      <td>105</td>\n",
       "      <td>ЮАО</td>\n",
       "      <td>Район Орехово-Борисово Северное</td>\n",
       "    </tr>\n",
       "  </tbody>\n",
       "</table>\n",
       "</div>"
      ],
      "text/plain": [
       "                    street  counts              streetname  areaid okrug  \\\n",
       "0            проспект Мира     204           проспект Мира      70  СВАО   \n",
       "1            проспект Мира     204           проспект Мира      86  СВАО   \n",
       "2            проспект Мира     204           проспект Мира      78  СВАО   \n",
       "3            проспект Мира     204           проспект Мира      79  СВАО   \n",
       "4            проспект Мира     204           проспект Мира      81  СВАО   \n",
       "5            проспект Мира     204           проспект Мира      82  СВАО   \n",
       "6            проспект Мира     204           проспект Мира      16   ЦАО   \n",
       "7        Профсоюзная улица     182       Профсоюзная улица     123  ЮЗАО   \n",
       "8        Профсоюзная улица     182       Профсоюзная улица     132  ЮЗАО   \n",
       "9        Профсоюзная улица     182       Профсоюзная улица     134  ЮЗАО   \n",
       "10       Профсоюзная улица     182       Профсоюзная улица     126  ЮЗАО   \n",
       "11       Профсоюзная улица     182       Профсоюзная улица     129  ЮЗАО   \n",
       "12       Профсоюзная улица     182       Профсоюзная улица     131  ЮЗАО   \n",
       "13  Ленинградский проспект     171  Ленинградский проспект      54   САО   \n",
       "14  Ленинградский проспект     171  Ленинградский проспект      55   САО   \n",
       "15  Ленинградский проспект     171  Ленинградский проспект      69   САО   \n",
       "16  Ленинградский проспект     171  Ленинградский проспект      66   САО   \n",
       "17  Пресненская набережная     167  Пресненская набережная      17   ЦАО   \n",
       "18        Варшавское шоссе     161        Варшавское шоссе     109   ЮАО   \n",
       "19        Варшавское шоссе     161        Варшавское шоссе     108   ЮАО   \n",
       "20        Варшавское шоссе     161        Варшавское шоссе     110   ЮАО   \n",
       "21        Варшавское шоссе     161        Варшавское шоссе      99   ЮАО   \n",
       "22        Варшавское шоссе     161        Варшавское шоссе     102   ЮАО   \n",
       "23        Варшавское шоссе     161        Варшавское шоссе     104   ЮАО   \n",
       "24        Варшавское шоссе     161        Варшавское шоссе     130  ЮЗАО   \n",
       "25        Варшавское шоссе     161        Варшавское шоссе     133  ЮЗАО   \n",
       "26      Ленинский проспект     147      Ленинский проспект      44   ЗАО   \n",
       "27      Ленинский проспект     147      Ленинский проспект      47   ЗАО   \n",
       "28      Ленинский проспект     147      Ленинский проспект      99   ЮАО   \n",
       "29      Ленинский проспект     147      Ленинский проспект     124  ЮЗАО   \n",
       "30      Ленинский проспект     147      Ленинский проспект     128  ЮЗАО   \n",
       "31      Ленинский проспект     147      Ленинский проспект     129  ЮЗАО   \n",
       "32      Ленинский проспект     147      Ленинский проспект     131  ЮЗАО   \n",
       "33      Ленинский проспект     147      Ленинский проспект      21   ЦАО   \n",
       "34    проспект Вернадского     132    проспект Вернадского      44   ЗАО   \n",
       "35    проспект Вернадского     132    проспект Вернадского      45   ЗАО   \n",
       "36    проспект Вернадского     132    проспект Вернадского      47   ЗАО   \n",
       "37    проспект Вернадского     132    проспект Вернадского     124  ЮЗАО   \n",
       "38    проспект Вернадского     132    проспект Вернадского     128  ЮЗАО   \n",
       "39    Кутузовский проспект     114    Кутузовский проспект      38   ЗАО   \n",
       "40    Кутузовский проспект     114    Кутузовский проспект      49   ЗАО   \n",
       "41         Каширское шоссе     112         Каширское шоссе     101   ЮАО   \n",
       "42         Каширское шоссе     112         Каширское шоссе     102   ЮАО   \n",
       "43         Каширское шоссе     112         Каширское шоссе     106   ЮАО   \n",
       "44         Каширское шоссе     112         Каширское шоссе     105   ЮАО   \n",
       "\n",
       "                               area  \n",
       "0                Алексеевский район  \n",
       "1                 Ярославский Район  \n",
       "2                Район Марьина роща  \n",
       "3                Останкинский район  \n",
       "4                   Район Ростокино  \n",
       "5                    Район Свиблово  \n",
       "6                   Мещанский район  \n",
       "7               Академический район  \n",
       "8                   Район Черемушки  \n",
       "9                     Район Ясенево  \n",
       "10                   Район Коньково  \n",
       "11                Обручевский район  \n",
       "12                Район Теплый Стан  \n",
       "13                   Район Аэропорт  \n",
       "14                    Район Беговой  \n",
       "15                Хорошевский район  \n",
       "16                      Район Сокол  \n",
       "17                Пресненский район  \n",
       "18      Район Чертаново Центральное  \n",
       "19         Район Чертаново Северное  \n",
       "20            Район Чертаново Южное  \n",
       "21                    Донской район  \n",
       "22         Район Нагатино-Садовники  \n",
       "23                   Нагорный район  \n",
       "24            Район Северное Бутово  \n",
       "25               Район Южное Бутово  \n",
       "26       Район Проспект Вернадского  \n",
       "27         Район Тропарево-Никулино  \n",
       "28                    Донской район  \n",
       "29                Район Гагаринский  \n",
       "30              Ломоносовский район  \n",
       "31                Обручевский район  \n",
       "32                Район Теплый Стан  \n",
       "33                   Район Якиманка  \n",
       "34       Район Проспект Вернадского  \n",
       "35                    Район Раменки  \n",
       "36         Район Тропарево-Никулино  \n",
       "37                Район Гагаринский  \n",
       "38              Ломоносовский район  \n",
       "39               Район Дорогомилово  \n",
       "40             Район Фили-Давыдково  \n",
       "41       Район Москворечье-Сабурово  \n",
       "42         Район Нагатино-Садовники  \n",
       "43     Район Орехово-Борисово Южное  \n",
       "44  Район Орехово-Борисово Северное  "
      ]
     },
     "execution_count": 35,
     "metadata": {},
     "output_type": "execute_result"
    }
   ],
   "source": [
    "district_and_street_top10 = pd.merge(street_top10, district, \n",
    "                                       left_on='street', right_on='streetname')\n",
    "district_and_street_top10"
   ]
  },
  {
   "cell_type": "markdown",
   "metadata": {},
   "source": [
    "Получилась таблица уже не из 10 строк, так как все улицы, кроме Пресненской набережной проходят через 2 и более района города Москвы. Посмотрю, какие районы встречаются чаще всего."
   ]
  },
  {
   "cell_type": "code",
   "execution_count": 36,
   "metadata": {},
   "outputs": [
    {
     "data": {
      "text/plain": [
       "Район Тропарево-Никулино      2\n",
       "Обручевский район             2\n",
       "Район Нагатино-Садовники      2\n",
       "Район Гагаринский             2\n",
       "Район Проспект Вернадского    2\n",
       "Ломоносовский район           2\n",
       "Район Теплый Стан             2\n",
       "Донской район                 2\n",
       "Район Якиманка                1\n",
       "Район Ростокино               1\n",
       "Name: area, dtype: int64"
      ]
     },
     "execution_count": 36,
     "metadata": {},
     "output_type": "execute_result"
    }
   ],
   "source": [
    "district_top = district_and_street_top10['area'].value_counts()\n",
    "district_top.head(10)"
   ]
  },
  {
   "cell_type": "markdown",
   "metadata": {},
   "source": [
    "Можно выделить 8 районов, в которые входят топ-10 улиц с наибольшим количеством общественных заведений. Это такие районы как Гагаринский, Теплый Стан, Донской, Нагатино-Садовники, Тропарево-Никулино, Обручевский, Ломоносовский и Проспект Вернадского."
   ]
  },
  {
   "cell_type": "markdown",
   "metadata": {},
   "source": [
    "### Число улиц с одним объектом общественного питания<a id=\"step2.7\"></a> "
   ]
  },
  {
   "cell_type": "code",
   "execution_count": 37,
   "metadata": {},
   "outputs": [
    {
     "name": "stdout",
     "output_type": "stream",
     "text": [
      "Количество улиц с одним объектом общественного питания =  579\n"
     ]
    }
   ],
   "source": [
    "one_object_streets = rest.pivot_table(index='street', values='object_name', aggfunc='count')\n",
    "one_object_streets = one_object_streets.query('object_name == 1').reset_index()\n",
    "one_object_streets.rename(columns={'object_name':'n_object'}, inplace=True)\n",
    "print(\"Количество улиц с одним объектом общественного питания = \", one_object_streets['n_object'].count())"
   ]
  },
  {
   "cell_type": "markdown",
   "metadata": {},
   "source": [
    "Добавлю к этим улицам районы города"
   ]
  },
  {
   "cell_type": "code",
   "execution_count": 38,
   "metadata": {},
   "outputs": [
    {
     "data": {
      "text/html": [
       "<div>\n",
       "<style scoped>\n",
       "    .dataframe tbody tr th:only-of-type {\n",
       "        vertical-align: middle;\n",
       "    }\n",
       "\n",
       "    .dataframe tbody tr th {\n",
       "        vertical-align: top;\n",
       "    }\n",
       "\n",
       "    .dataframe thead th {\n",
       "        text-align: right;\n",
       "    }\n",
       "</style>\n",
       "<table border=\"1\" class=\"dataframe\">\n",
       "  <thead>\n",
       "    <tr style=\"text-align: right;\">\n",
       "      <th></th>\n",
       "      <th>street</th>\n",
       "      <th>n_object</th>\n",
       "      <th>streetname</th>\n",
       "      <th>areaid</th>\n",
       "      <th>okrug</th>\n",
       "      <th>area</th>\n",
       "    </tr>\n",
       "  </thead>\n",
       "  <tbody>\n",
       "    <tr>\n",
       "      <td>472</td>\n",
       "      <td>улица Академика Опарина</td>\n",
       "      <td>1</td>\n",
       "      <td>улица Академика Опарина</td>\n",
       "      <td>129</td>\n",
       "      <td>ЮЗАО</td>\n",
       "      <td>Обручевский район</td>\n",
       "    </tr>\n",
       "    <tr>\n",
       "      <td>161</td>\n",
       "      <td>Брошевский переулок</td>\n",
       "      <td>1</td>\n",
       "      <td>Брошевский переулок</td>\n",
       "      <td>18</td>\n",
       "      <td>ЦАО</td>\n",
       "      <td>Таганский район</td>\n",
       "    </tr>\n",
       "    <tr>\n",
       "      <td>100</td>\n",
       "      <td>5-й Котельнический переулок</td>\n",
       "      <td>1</td>\n",
       "      <td>5-й Котельнический переулок</td>\n",
       "      <td>18</td>\n",
       "      <td>ЦАО</td>\n",
       "      <td>Таганский район</td>\n",
       "    </tr>\n",
       "    <tr>\n",
       "      <td>227</td>\n",
       "      <td>Козицкий переулок</td>\n",
       "      <td>1</td>\n",
       "      <td>Козицкий переулок</td>\n",
       "      <td>19</td>\n",
       "      <td>ЦАО</td>\n",
       "      <td>Тверской район</td>\n",
       "    </tr>\n",
       "    <tr>\n",
       "      <td>275</td>\n",
       "      <td>Мансуровский переулок</td>\n",
       "      <td>1</td>\n",
       "      <td>Мансуровский переулок</td>\n",
       "      <td>20</td>\n",
       "      <td>ЦАО</td>\n",
       "      <td>Район Хамовники</td>\n",
       "    </tr>\n",
       "    <tr>\n",
       "      <td>205</td>\n",
       "      <td>Жуков проезд</td>\n",
       "      <td>1</td>\n",
       "      <td>Жуков проезд</td>\n",
       "      <td>14</td>\n",
       "      <td>ЦАО</td>\n",
       "      <td>Район Замоскворечье</td>\n",
       "    </tr>\n",
       "    <tr>\n",
       "      <td>207</td>\n",
       "      <td>Заводской проезд</td>\n",
       "      <td>1</td>\n",
       "      <td>Заводской проезд</td>\n",
       "      <td>27</td>\n",
       "      <td>ВАО</td>\n",
       "      <td>Район Измайлово</td>\n",
       "    </tr>\n",
       "    <tr>\n",
       "      <td>396</td>\n",
       "      <td>Тессинский переулок</td>\n",
       "      <td>1</td>\n",
       "      <td>Тессинский переулок</td>\n",
       "      <td>18</td>\n",
       "      <td>ЦАО</td>\n",
       "      <td>Таганский район</td>\n",
       "    </tr>\n",
       "    <tr>\n",
       "      <td>11</td>\n",
       "      <td>1-й Коптельский переулок</td>\n",
       "      <td>1</td>\n",
       "      <td>1-й Коптельский переулок</td>\n",
       "      <td>16</td>\n",
       "      <td>ЦАО</td>\n",
       "      <td>Мещанский район</td>\n",
       "    </tr>\n",
       "    <tr>\n",
       "      <td>156</td>\n",
       "      <td>Большой Трёхсвятительский переулок</td>\n",
       "      <td>1</td>\n",
       "      <td>Большой Трёхсвятительский переулок</td>\n",
       "      <td>13</td>\n",
       "      <td>ЦАО</td>\n",
       "      <td>Басманный район</td>\n",
       "    </tr>\n",
       "  </tbody>\n",
       "</table>\n",
       "</div>"
      ],
      "text/plain": [
       "                                 street  n_object  \\\n",
       "472             улица Академика Опарина         1   \n",
       "161                 Брошевский переулок         1   \n",
       "100         5-й Котельнический переулок         1   \n",
       "227                   Козицкий переулок         1   \n",
       "275               Мансуровский переулок         1   \n",
       "205                        Жуков проезд         1   \n",
       "207                    Заводской проезд         1   \n",
       "396                 Тессинский переулок         1   \n",
       "11             1-й Коптельский переулок         1   \n",
       "156  Большой Трёхсвятительский переулок         1   \n",
       "\n",
       "                             streetname  areaid okrug                 area  \n",
       "472             улица Академика Опарина     129  ЮЗАО    Обручевский район  \n",
       "161                 Брошевский переулок      18   ЦАО      Таганский район  \n",
       "100         5-й Котельнический переулок      18   ЦАО      Таганский район  \n",
       "227                   Козицкий переулок      19   ЦАО       Тверской район  \n",
       "275               Мансуровский переулок      20   ЦАО      Район Хамовники  \n",
       "205                        Жуков проезд      14   ЦАО  Район Замоскворечье  \n",
       "207                    Заводской проезд      27   ВАО      Район Измайлово  \n",
       "396                 Тессинский переулок      18   ЦАО      Таганский район  \n",
       "11             1-й Коптельский переулок      16   ЦАО      Мещанский район  \n",
       "156  Большой Трёхсвятительский переулок      13   ЦАО      Басманный район  "
      ]
     },
     "execution_count": 38,
     "metadata": {},
     "output_type": "execute_result"
    }
   ],
   "source": [
    "district_one_object_streets = pd.merge(one_object_streets, district, left_on='street', right_on='streetname')\n",
    "district_one_object_streets.sample(10)"
   ]
  },
  {
   "cell_type": "markdown",
   "metadata": {},
   "source": [
    "Выведу топ-10 районов по количеству улиц с одним заведением общественного питания"
   ]
  },
  {
   "cell_type": "code",
   "execution_count": 39,
   "metadata": {},
   "outputs": [
    {
     "data": {
      "text/plain": [
       "Таганский район        27\n",
       "Район Хамовники        26\n",
       "Басманный район        25\n",
       "Тверской район         20\n",
       "Пресненский район      19\n",
       "Район Марьина роща     18\n",
       "Район Арбат            17\n",
       "Мещанский район        16\n",
       "Район Сокольники       15\n",
       "Район Замоскворечье    14\n",
       "Name: area, dtype: int64"
      ]
     },
     "execution_count": 39,
     "metadata": {},
     "output_type": "execute_result"
    }
   ],
   "source": [
    "district_one_object_streets['area'].value_counts().head(10)"
   ]
  },
  {
   "cell_type": "markdown",
   "metadata": {},
   "source": [
    "Наибольшее количество улиц (более 20) с одним объектом общественного питания находится в Таганском районе, Хамовники и в Басманском районе."
   ]
  },
  {
   "cell_type": "markdown",
   "metadata": {},
   "source": [
    "### Распределение количества посадочных мест для улиц с большим количеством объектов общественного питания<a id=\"step2.8\"></a> "
   ]
  },
  {
   "cell_type": "code",
   "execution_count": 40,
   "metadata": {},
   "outputs": [],
   "source": [
    "street_top10 = street_top10['street']\n",
    "rest_street_top10 = rest.query('street in @street_top10')"
   ]
  },
  {
   "cell_type": "code",
   "execution_count": 41,
   "metadata": {},
   "outputs": [
    {
     "data": {
      "image/png": "[encoded data removed]",
      "text/plain": [
       "<Figure size 1152x576 with 1 Axes>"
      ]
     },
     "metadata": {},
     "output_type": "display_data"
    }
   ],
   "source": [
    "plt.figure(figsize=(16,8))\n",
    "ax = sns.distplot(rest_street_top10['number'], bins = 50, kde=True)\n",
    "plt.title(\"Гистограмма распределения количества посадочных мест для улиц с большим количеством объектов\")\n",
    "plt.ylabel('частота')\n",
    "plt.xlabel('количество мест')\n",
    "plt.show()"
   ]
  },
  {
   "cell_type": "markdown",
   "metadata": {},
   "source": [
    "Основая часть значений находится в диапазоне от 0 до 250 посадочных мест. Нулевые значения связаны с наличием фастфудов и кулинарий. Много значений до 100 посадочных мест, это значит, что на топ-10 улицах много небольших заведений. Также справа наблюдаем длинный хвост, который растягивается до 1700, потому что заведение с самым большим количеством мест \"arena by soho family\" находится на Кутузовском проспекте, который попал в топ-10 улиц."
   ]
  },
  {
   "cell_type": "markdown",
   "metadata": {},
   "source": [
    "Теперь отброшу нулевое количество мест и более 250 и снова построю гистограмму распределения"
   ]
  },
  {
   "cell_type": "code",
   "execution_count": 42,
   "metadata": {},
   "outputs": [
    {
     "data": {
      "image/png": "[encoded data removed]",
      "text/plain": [
       "<Figure size 1152x576 with 1 Axes>"
      ]
     },
     "metadata": {},
     "output_type": "display_data"
    }
   ],
   "source": [
    "plt.figure(figsize=(16,8))\n",
    "sns.distplot(rest_street_top10.query('number > 0 and number < 250')['number'], bins = 30, kde=True)\n",
    "plt.title(\"Гистограмма распределения количества посадочных мест для улиц с большим количеством объектов\")\n",
    "plt.ylabel('частота')\n",
    "plt.xlabel('количество мест')\n",
    "plt.show()"
   ]
  },
  {
   "cell_type": "markdown",
   "metadata": {},
   "source": [
    "Большинство заведений, находящихся на топ-10 улицах, имеют до 40 посадочных мест."
   ]
  },
  {
   "cell_type": "markdown",
   "metadata": {},
   "source": [
    "## 3. Общий вывод<a id=\"step3\"></a> "
   ]
  },
  {
   "cell_type": "markdown",
   "metadata": {},
   "source": [
    "В ходе проведенного анализа мною получены следующие результаты:\n",
    "\n",
    "- Лидирующее место в Москве занимают кафе. На втором месте - столовые, фастфуды и рестораны. А бары, буфеты, кафетерии и кулинарии являются наименее распространёнными видами общественного питания.\n",
    "\n",
    "- Несетевых заведений значительно больше. Для столовых не характерно сетевое распространение. В таких типах заведениях как фастфуд, ресторан и кафе количество несетевых заведений превышает количество сетевых. Почти на каждую точку фастфуда приходится сетевое фастфуд заведение. Сетевое распространение более характерно для таких объектов общественного питания как фастфуд, кафе и ресторан.\n",
    "\n",
    "- Для сетевых заведений характерно большое число точек с небольшим количеством посадочных мест. \n",
    "\n",
    "- Наибольшее среднее количество посадочных мест в столовых и ресторанах. Меньше всего посадочных мест в кафетериях, закусочных и кулинариях.\n",
    "\n",
    "- Больше всего объектов общественного питания расположено на проспекте Мира, Профсоюзной улице, Ленинградском проспекте, Пресненской набережной и Варшавском шоссе.\n",
    "\n",
    "- Чаще всего заведения встречаются в таких районах как Ломоносовский, Обручевский, Теплый Стан, Проспект Вернадского, Нагатино-Садовники, Гагаринский, Тропарево-Никулино и Донской.\n",
    "\n",
    "- Улицы с одним объектом общественного питания в основном находятся в таких районах как Таганский, Хамовники, Басманный, Тверской и другие.\n",
    "\n",
    "- На улицах с максимальных количеством заведений преобладают кафе и фастфуды, которые имеют от 10 до 40 посадочных мест.\n",
    "\n",
    "Исходя из полученных данных, можно рекомендовать для нового заведения: тип - кафе, число посадочных мест от 10 до 40. Для новой точки с необычным типом обслуживания нет смысла делать сетевое заведение, так как формат новый и стоит его обточить. Не стоит сразу делать ресторан с большой вместимостью, ведь мы не знаем насколько хорошо взлетит новый формат, поэтому тип кафе и среднее число посадочных мест вполне уместно в данном случае. Несмотря на высокую конкуренцию, заведение лучше открывать на улицах, расположенных внутри МКАДА, так как там высокий трафик туристов и местных жителей, что должно привлечь внимание нового формата заведения."
   ]
  },
  {
   "cell_type": "markdown",
   "metadata": {},
   "source": [
    "## 4. Ссылка на презентацию<a id=\"step4\"></a> "
   ]
  },
  {
   "cell_type": "markdown",
   "metadata": {},
   "source": [
    "https://drive.google.com/file/d/1FDG8CgIthU_Qbi-EfYKIfyR61zvaC_Pd/view?usp=sharing"
   ]
  }
 ],
 "metadata": {
  "kernelspec": {
   "display_name": "Python 3",
   "language": "python",
   "name": "python3"
  },
  "language_info": {
   "codemirror_mode": {
    "name": "ipython",
    "version": 3
   },
   "file_extension": ".py",
   "mimetype": "text/x-python",
   "name": "python",
   "nbconvert_exporter": "python",
   "pygments_lexer": "ipython3",
   "version": "3.8.5"
  },
  "toc": {
   "base_numbering": 1,
   "nav_menu": {},
   "number_sections": false,
   "sideBar": false,
   "skip_h1_title": false,
   "title_cell": "Table of Contents",
   "title_sidebar": "Contents",
   "toc_cell": false,
   "toc_position": {},
   "toc_section_display": false,
   "toc_window_display": false
  }
 },
 "nbformat": 4,
 "nbformat_minor": 2
}
