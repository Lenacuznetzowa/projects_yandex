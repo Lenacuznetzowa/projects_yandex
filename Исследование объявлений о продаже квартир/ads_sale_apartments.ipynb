{
 "cells": [
  {
   "cell_type": "markdown",
   "metadata": {},
   "source": [
    "# Исследование объявлений о продаже квартир\n",
    "\n",
    "Предоставлены данные сервиса Яндекс.Недвижимость — архив объявлений о продаже квартир в Санкт-Петербурге и соседних населённых пунктов за несколько лет. Нужно научиться определять рыночную стоимость объектов недвижимости. Задача — установить параметры. Это позволит построить автоматизированную систему: она отследит аномалии и мошенническую деятельность. \n",
    "\n",
    "По каждой квартире на продажу доступны два вида данных. Первые вписаны пользователем, вторые — получены автоматически на основе картографических данных. Например, расстояние до центра, аэропорта, ближайшего парка и водоёма.\n",
    "\n",
    "## Описание данных\n",
    "airports_nearest — расстояние до ближайшего аэропорта в метрах (м)\n",
    "\n",
    "balcony — число балконов\n",
    "\n",
    "ceiling_height — высота потолков (м)\n",
    "\n",
    "cityCenters_nearest — расстояние до центра города (м)\n",
    "\n",
    "days_exposition — сколько дней было размещено объявление (от публикации до снятия)\n",
    "\n",
    "first_day_exposition — дата публикации\n",
    "\n",
    "floor — этаж\n",
    "\n",
    "floors_total — всего этажей в доме\n",
    "\n",
    "is_apartment — апартаменты (булев тип)\n",
    "\n",
    "kitchen_area — площадь кухни в квадратных метрах (м²)\n",
    "\n",
    "last_price — цена на момент снятия с публикации\n",
    "\n",
    "living_area — жилая площадь в квадратных метрах(м²)\n",
    "\n",
    "locality_name — название населённого пункта\n",
    "\n",
    "open_plan — свободная планировка (булев тип)\n",
    "\n",
    "parks_around3000 — число парков в радиусе 3 км\n",
    "\n",
    "parks_nearest — расстояние до ближайшего парка (м)\n",
    "\n",
    "ponds_around3000 — число водоёмов в радиусе 3 км\n",
    "\n",
    "ponds_nearest — расстояние до ближайшего водоёма (м)\n",
    "\n",
    "rooms — число комнат\n",
    "\n",
    "studio — квартира-студия (булев тип)\n",
    "\n",
    "total_area — площадь квартиры в квадратных метрах (м²)\n",
    "\n",
    "total_images — число фотографий квартиры в объявлении"
   ]
  },
  {
   "cell_type": "markdown",
   "metadata": {},
   "source": [
    "## Оглавление\n",
    "\n",
    "#### [1. Открытие файла с данными и изучение общей информации](#step1)\n",
    "\n",
    "   [1.1. Чтение файла и просмотр общей информации о датасете](#step1.1)\n",
    "    \n",
    "   [1.2. Просмотр 20-ти случайных строк](#step1.2)\n",
    "    \n",
    "   [1.3. Просмотр описательных статистик по всем столбцам](#step1.3)\n",
    "    \n",
    "   [1.4. Вывод и постановка задач на предобработку](#step1.4)\n",
    "    \n",
    "#### [2. Предобработка данных](#step2)\n",
    "\n",
    "   [2.1. Обработка столбца 'is_apartment'](#step2.1)\n",
    "   \n",
    "   [2.2 Обработка столбца 'balcony'](#step2.2)\n",
    "   \n",
    "   [2.3 Обработка столбца 'first_day_exposition'](#step2.3)\n",
    "   \n",
    "   [2.4 Обработка столбца 'locality_name'](#step2.4)\n",
    "   \n",
    "   [2.5 Анализ столбцов 'studio' и 'open_plan'](#step2.5)\n",
    "   \n",
    "   [2.6 Обработка столбца 'rooms'](#step2.6)\n",
    "   \n",
    "   [2.7 Проверка на наличие дубликатов](#step2.7)\n",
    "   \n",
    "   [2.8 Выводы](#step2.8)\n",
    "   \n",
    "#### [3. Дополнительные расчеты и новые столбцы](#step3)\n",
    "   \n",
    "   [3.1 Цена квадратного метра](#step3.1)\n",
    "   \n",
    "   [3.2 День недели, месяц и год публикации](#step3.2)\n",
    "   \n",
    "   [3.3 Этаж квартиры — первый, последний, другой](#step3.3)\n",
    "   \n",
    "   [3.4 Соотношение жилой площади и кухни к общей площади квартиры](#step3.4)\n",
    "   \n",
    "   [3.5 Добавление столбца с расстоянием до центра в км](#step3.5)\n",
    "   \n",
    "   [3.6 Итоги](#step3.6)\n",
    "   \n",
    "#### [4. Исследовательский анализ](#step4)\n",
    "   \n",
    "   [4.1 Изучение параметров: площадь, цена, число комнат, высота потолков. Построение гистограмм](#step4.1)\n",
    "   \n",
    "   [4.2 Ответы на вопросы - сколько обычно занимает продажа и когда можно считать, что продажи прошли очень быстро, а когда необычно долго?](#step4.2)\n",
    "   \n",
    "   [4.3 Удаление редких и выбивающихся значений](#step4.3)\n",
    "   \n",
    "   [4.4 Зависит ли цена от площади, числа комнат, удалённости от центра. Зависимость цены от того, на каком этаже расположена квартира. Зависимость от даты размещения (дня недели, месяца и года)](#step4.4)\n",
    "   \n",
    "   [4.5 Выбрать 10 населённых пунктов с наибольшим числом объявлений. Посчитать среднюю цену квадратного метра в этих населённых пунктах. Выделить среди них населённые пункты с самой высокой и низкой стоимостью жилья](#step4.5)\n",
    "   \n",
    "   [4.6 Выделение квартир в Санкт-Петербурге. Определение, какая область входит в центр](#step4.6)\n",
    "   \n",
    "   [4.7 Выделение сегмента квартир в центре. Изучение параметров: площадь, цена, число комнат, высота потолков. Определение факторов, которые влияют на стоимость квартиры. Отличие выводов от общих выводов по всему городу](#step4.7)\n",
    "   \n",
    "#### [5. Общие выводы](#step5)  \n"
   ]
  },
  {
   "cell_type": "markdown",
   "metadata": {},
   "source": [
    "<div class=\"alert alert-block alert-success\">\n",
    "<b>Success:</b> Отличный старт! Стоит еще добавить ссылки \"в начало\" для еще лучшей навигации"
   ]
  },
  {
   "cell_type": "markdown",
   "metadata": {},
   "source": [
    "### 1. Открытие файла с данными и изучение общей информации<a id=\"step1\"></a> "
   ]
  },
  {
   "cell_type": "code",
   "execution_count": 1,
   "metadata": {},
   "outputs": [],
   "source": [
    "import pandas as pd\n",
    "import matplotlib.pyplot as plt"
   ]
  },
  {
   "cell_type": "markdown",
   "metadata": {},
   "source": [
    "#### 1.1 Чтение файла и просмотр общей информации о датасете<a id=\"step1.1\"></a> "
   ]
  },
  {
   "cell_type": "code",
   "execution_count": 2,
   "metadata": {},
   "outputs": [
    {
     "name": "stdout",
     "output_type": "stream",
     "text": [
      "<class 'pandas.core.frame.DataFrame'>\n",
      "RangeIndex: 23699 entries, 0 to 23698\n",
      "Data columns (total 22 columns):\n",
      "total_images            23699 non-null int64\n",
      "last_price              23699 non-null float64\n",
      "total_area              23699 non-null float64\n",
      "first_day_exposition    23699 non-null object\n",
      "rooms                   23699 non-null int64\n",
      "ceiling_height          14504 non-null float64\n",
      "floors_total            23613 non-null float64\n",
      "living_area             21796 non-null float64\n",
      "floor                   23699 non-null int64\n",
      "is_apartment            2775 non-null object\n",
      "studio                  23699 non-null bool\n",
      "open_plan               23699 non-null bool\n",
      "kitchen_area            21421 non-null float64\n",
      "balcony                 12180 non-null float64\n",
      "locality_name           23650 non-null object\n",
      "airports_nearest        18157 non-null float64\n",
      "cityCenters_nearest     18180 non-null float64\n",
      "parks_around3000        18181 non-null float64\n",
      "parks_nearest           8079 non-null float64\n",
      "ponds_around3000        18181 non-null float64\n",
      "ponds_nearest           9110 non-null float64\n",
      "days_exposition         20518 non-null float64\n",
      "dtypes: bool(2), float64(14), int64(3), object(3)\n",
      "memory usage: 3.7+ MB\n"
     ]
    }
   ],
   "source": [
    "houseroom.info()"
   ]
  },
  {
   "cell_type": "markdown",
   "metadata": {},
   "source": [
    "#### Во многих столбцах есть пропуски. Посмотрю процент кол-ва пропусков от общего числа строк по каждому столбцу, для наглядности отсортирую выводимые значения "
   ]
  },
  {
   "cell_type": "code",
   "execution_count": 3,
   "metadata": {},
   "outputs": [
    {
     "name": "stdout",
     "output_type": "stream",
     "text": [
      "ceiling_height             38.8\n",
      "floors_total               0.36\n",
      "living_area                8.03\n",
      "is_apartment              88.29\n",
      "kitchen_area               9.61\n",
      "balcony                   48.61\n",
      "locality_name              0.21\n",
      "airports_nearest          23.38\n",
      "cityCenters_nearest       23.29\n",
      "parks_around3000          23.28\n",
      "parks_nearest             65.91\n",
      "ponds_around3000          23.28\n",
      "ponds_nearest             61.56\n",
      "days_exposition           13.42\n"
     ]
    }
   ],
   "source": [
    "#houseroom.isnull().sum().sort_values()/houseroom.shape[0]*100\n",
    "for column in houseroom:\n",
    "    a = houseroom[column].isnull().sum()/houseroom[column].shape[0]*100\n",
    "    a = a.round(2)\n",
    "    if a > 0:\n",
    "        print('{: <20}'.format(column), '{: >10}'.format(a))\n",
    "    "
   ]
  },
  {
   "cell_type": "markdown",
   "metadata": {},
   "source": [
    "#### 1.2 Просмотр 20-ти случайных строк<a id=\"step1.2\"></a> "
   ]
  },
  {
   "cell_type": "code",
   "execution_count": 4,
   "metadata": {},
   "outputs": [
    {
     "data": {
      "text/html": [
       "<div>\n",
       "<style scoped>\n",
       "    .dataframe tbody tr th:only-of-type {\n",
       "        vertical-align: middle;\n",
       "    }\n",
       "\n",
       "    .dataframe tbody tr th {\n",
       "        vertical-align: top;\n",
       "    }\n",
       "\n",
       "    .dataframe thead th {\n",
       "        text-align: right;\n",
       "    }\n",
       "</style>\n",
       "<table border=\"1\" class=\"dataframe\">\n",
       "  <thead>\n",
       "    <tr style=\"text-align: right;\">\n",
       "      <th></th>\n",
       "      <th>total_images</th>\n",
       "      <th>last_price</th>\n",
       "      <th>total_area</th>\n",
       "      <th>first_day_exposition</th>\n",
       "      <th>rooms</th>\n",
       "      <th>ceiling_height</th>\n",
       "      <th>floors_total</th>\n",
       "      <th>living_area</th>\n",
       "      <th>floor</th>\n",
       "      <th>is_apartment</th>\n",
       "      <th>...</th>\n",
       "      <th>kitchen_area</th>\n",
       "      <th>balcony</th>\n",
       "      <th>locality_name</th>\n",
       "      <th>airports_nearest</th>\n",
       "      <th>cityCenters_nearest</th>\n",
       "      <th>parks_around3000</th>\n",
       "      <th>parks_nearest</th>\n",
       "      <th>ponds_around3000</th>\n",
       "      <th>ponds_nearest</th>\n",
       "      <th>days_exposition</th>\n",
       "    </tr>\n",
       "  </thead>\n",
       "  <tbody>\n",
       "    <tr>\n",
       "      <td>23073</td>\n",
       "      <td>11</td>\n",
       "      <td>1450000.0</td>\n",
       "      <td>44.0</td>\n",
       "      <td>2018-02-15T00:00:00</td>\n",
       "      <td>2</td>\n",
       "      <td>NaN</td>\n",
       "      <td>4.0</td>\n",
       "      <td>34.0</td>\n",
       "      <td>1</td>\n",
       "      <td>NaN</td>\n",
       "      <td>...</td>\n",
       "      <td>6.0</td>\n",
       "      <td>NaN</td>\n",
       "      <td>Волхов</td>\n",
       "      <td>NaN</td>\n",
       "      <td>NaN</td>\n",
       "      <td>NaN</td>\n",
       "      <td>NaN</td>\n",
       "      <td>NaN</td>\n",
       "      <td>NaN</td>\n",
       "      <td>363.0</td>\n",
       "    </tr>\n",
       "    <tr>\n",
       "      <td>7956</td>\n",
       "      <td>5</td>\n",
       "      <td>3990000.0</td>\n",
       "      <td>38.9</td>\n",
       "      <td>2018-02-01T00:00:00</td>\n",
       "      <td>1</td>\n",
       "      <td>NaN</td>\n",
       "      <td>21.0</td>\n",
       "      <td>15.6</td>\n",
       "      <td>12</td>\n",
       "      <td>NaN</td>\n",
       "      <td>...</td>\n",
       "      <td>12.1</td>\n",
       "      <td>NaN</td>\n",
       "      <td>Санкт-Петербург</td>\n",
       "      <td>43731.0</td>\n",
       "      <td>10898.0</td>\n",
       "      <td>0.0</td>\n",
       "      <td>NaN</td>\n",
       "      <td>0.0</td>\n",
       "      <td>NaN</td>\n",
       "      <td>96.0</td>\n",
       "    </tr>\n",
       "    <tr>\n",
       "      <td>9500</td>\n",
       "      <td>0</td>\n",
       "      <td>5700000.0</td>\n",
       "      <td>75.0</td>\n",
       "      <td>2018-07-02T00:00:00</td>\n",
       "      <td>3</td>\n",
       "      <td>2.85</td>\n",
       "      <td>6.0</td>\n",
       "      <td>NaN</td>\n",
       "      <td>6</td>\n",
       "      <td>NaN</td>\n",
       "      <td>...</td>\n",
       "      <td>NaN</td>\n",
       "      <td>NaN</td>\n",
       "      <td>Санкт-Петербург</td>\n",
       "      <td>20904.0</td>\n",
       "      <td>3269.0</td>\n",
       "      <td>2.0</td>\n",
       "      <td>482.0</td>\n",
       "      <td>1.0</td>\n",
       "      <td>849.0</td>\n",
       "      <td>60.0</td>\n",
       "    </tr>\n",
       "    <tr>\n",
       "      <td>7808</td>\n",
       "      <td>11</td>\n",
       "      <td>3090000.0</td>\n",
       "      <td>50.0</td>\n",
       "      <td>2016-05-23T00:00:00</td>\n",
       "      <td>1</td>\n",
       "      <td>2.90</td>\n",
       "      <td>3.0</td>\n",
       "      <td>21.0</td>\n",
       "      <td>1</td>\n",
       "      <td>NaN</td>\n",
       "      <td>...</td>\n",
       "      <td>10.0</td>\n",
       "      <td>NaN</td>\n",
       "      <td>деревня Заневка</td>\n",
       "      <td>NaN</td>\n",
       "      <td>NaN</td>\n",
       "      <td>NaN</td>\n",
       "      <td>NaN</td>\n",
       "      <td>NaN</td>\n",
       "      <td>NaN</td>\n",
       "      <td>796.0</td>\n",
       "    </tr>\n",
       "    <tr>\n",
       "      <td>12613</td>\n",
       "      <td>10</td>\n",
       "      <td>8449000.0</td>\n",
       "      <td>77.4</td>\n",
       "      <td>2017-07-10T00:00:00</td>\n",
       "      <td>2</td>\n",
       "      <td>3.00</td>\n",
       "      <td>16.0</td>\n",
       "      <td>40.1</td>\n",
       "      <td>3</td>\n",
       "      <td>NaN</td>\n",
       "      <td>...</td>\n",
       "      <td>15.4</td>\n",
       "      <td>5.0</td>\n",
       "      <td>Санкт-Петербург</td>\n",
       "      <td>37434.0</td>\n",
       "      <td>8460.0</td>\n",
       "      <td>1.0</td>\n",
       "      <td>441.0</td>\n",
       "      <td>2.0</td>\n",
       "      <td>427.0</td>\n",
       "      <td>3.0</td>\n",
       "    </tr>\n",
       "    <tr>\n",
       "      <td>12478</td>\n",
       "      <td>1</td>\n",
       "      <td>11000000.0</td>\n",
       "      <td>120.0</td>\n",
       "      <td>2017-09-26T00:00:00</td>\n",
       "      <td>5</td>\n",
       "      <td>3.20</td>\n",
       "      <td>5.0</td>\n",
       "      <td>81.5</td>\n",
       "      <td>3</td>\n",
       "      <td>NaN</td>\n",
       "      <td>...</td>\n",
       "      <td>11.5</td>\n",
       "      <td>NaN</td>\n",
       "      <td>Санкт-Петербург</td>\n",
       "      <td>26281.0</td>\n",
       "      <td>4983.0</td>\n",
       "      <td>3.0</td>\n",
       "      <td>100.0</td>\n",
       "      <td>1.0</td>\n",
       "      <td>757.0</td>\n",
       "      <td>165.0</td>\n",
       "    </tr>\n",
       "    <tr>\n",
       "      <td>16597</td>\n",
       "      <td>3</td>\n",
       "      <td>4900000.0</td>\n",
       "      <td>59.0</td>\n",
       "      <td>2017-06-01T00:00:00</td>\n",
       "      <td>3</td>\n",
       "      <td>NaN</td>\n",
       "      <td>6.0</td>\n",
       "      <td>36.0</td>\n",
       "      <td>4</td>\n",
       "      <td>NaN</td>\n",
       "      <td>...</td>\n",
       "      <td>9.0</td>\n",
       "      <td>0.0</td>\n",
       "      <td>Санкт-Петербург</td>\n",
       "      <td>20643.0</td>\n",
       "      <td>2230.0</td>\n",
       "      <td>2.0</td>\n",
       "      <td>138.0</td>\n",
       "      <td>3.0</td>\n",
       "      <td>119.0</td>\n",
       "      <td>19.0</td>\n",
       "    </tr>\n",
       "    <tr>\n",
       "      <td>21058</td>\n",
       "      <td>12</td>\n",
       "      <td>3300000.0</td>\n",
       "      <td>32.0</td>\n",
       "      <td>2017-04-21T00:00:00</td>\n",
       "      <td>1</td>\n",
       "      <td>2.50</td>\n",
       "      <td>9.0</td>\n",
       "      <td>16.0</td>\n",
       "      <td>9</td>\n",
       "      <td>NaN</td>\n",
       "      <td>...</td>\n",
       "      <td>8.0</td>\n",
       "      <td>NaN</td>\n",
       "      <td>Санкт-Петербург</td>\n",
       "      <td>15891.0</td>\n",
       "      <td>14687.0</td>\n",
       "      <td>0.0</td>\n",
       "      <td>NaN</td>\n",
       "      <td>1.0</td>\n",
       "      <td>65.0</td>\n",
       "      <td>596.0</td>\n",
       "    </tr>\n",
       "    <tr>\n",
       "      <td>1895</td>\n",
       "      <td>12</td>\n",
       "      <td>9500000.0</td>\n",
       "      <td>130.0</td>\n",
       "      <td>2019-03-27T00:00:00</td>\n",
       "      <td>5</td>\n",
       "      <td>NaN</td>\n",
       "      <td>5.0</td>\n",
       "      <td>90.0</td>\n",
       "      <td>2</td>\n",
       "      <td>NaN</td>\n",
       "      <td>...</td>\n",
       "      <td>15.0</td>\n",
       "      <td>NaN</td>\n",
       "      <td>Санкт-Петербург</td>\n",
       "      <td>NaN</td>\n",
       "      <td>NaN</td>\n",
       "      <td>NaN</td>\n",
       "      <td>NaN</td>\n",
       "      <td>NaN</td>\n",
       "      <td>NaN</td>\n",
       "      <td>15.0</td>\n",
       "    </tr>\n",
       "    <tr>\n",
       "      <td>9057</td>\n",
       "      <td>20</td>\n",
       "      <td>8250000.0</td>\n",
       "      <td>78.6</td>\n",
       "      <td>2018-07-22T00:00:00</td>\n",
       "      <td>3</td>\n",
       "      <td>NaN</td>\n",
       "      <td>12.0</td>\n",
       "      <td>46.5</td>\n",
       "      <td>2</td>\n",
       "      <td>NaN</td>\n",
       "      <td>...</td>\n",
       "      <td>14.9</td>\n",
       "      <td>NaN</td>\n",
       "      <td>Санкт-Петербург</td>\n",
       "      <td>36361.0</td>\n",
       "      <td>11714.0</td>\n",
       "      <td>1.0</td>\n",
       "      <td>699.0</td>\n",
       "      <td>1.0</td>\n",
       "      <td>657.0</td>\n",
       "      <td>NaN</td>\n",
       "    </tr>\n",
       "    <tr>\n",
       "      <td>3017</td>\n",
       "      <td>6</td>\n",
       "      <td>50000000.0</td>\n",
       "      <td>145.0</td>\n",
       "      <td>2018-08-10T00:00:00</td>\n",
       "      <td>5</td>\n",
       "      <td>2.75</td>\n",
       "      <td>9.0</td>\n",
       "      <td>72.0</td>\n",
       "      <td>8</td>\n",
       "      <td>NaN</td>\n",
       "      <td>...</td>\n",
       "      <td>26.0</td>\n",
       "      <td>NaN</td>\n",
       "      <td>Санкт-Петербург</td>\n",
       "      <td>31458.0</td>\n",
       "      <td>4619.0</td>\n",
       "      <td>1.0</td>\n",
       "      <td>479.0</td>\n",
       "      <td>3.0</td>\n",
       "      <td>283.0</td>\n",
       "      <td>128.0</td>\n",
       "    </tr>\n",
       "    <tr>\n",
       "      <td>10712</td>\n",
       "      <td>16</td>\n",
       "      <td>12680000.0</td>\n",
       "      <td>100.0</td>\n",
       "      <td>2017-07-25T00:00:00</td>\n",
       "      <td>3</td>\n",
       "      <td>2.75</td>\n",
       "      <td>16.0</td>\n",
       "      <td>49.0</td>\n",
       "      <td>2</td>\n",
       "      <td>NaN</td>\n",
       "      <td>...</td>\n",
       "      <td>28.0</td>\n",
       "      <td>2.0</td>\n",
       "      <td>Санкт-Петербург</td>\n",
       "      <td>51495.0</td>\n",
       "      <td>14218.0</td>\n",
       "      <td>1.0</td>\n",
       "      <td>267.0</td>\n",
       "      <td>0.0</td>\n",
       "      <td>NaN</td>\n",
       "      <td>436.0</td>\n",
       "    </tr>\n",
       "    <tr>\n",
       "      <td>8356</td>\n",
       "      <td>13</td>\n",
       "      <td>8200000.0</td>\n",
       "      <td>81.1</td>\n",
       "      <td>2019-04-26T00:00:00</td>\n",
       "      <td>4</td>\n",
       "      <td>3.40</td>\n",
       "      <td>6.0</td>\n",
       "      <td>59.6</td>\n",
       "      <td>2</td>\n",
       "      <td>NaN</td>\n",
       "      <td>...</td>\n",
       "      <td>11.0</td>\n",
       "      <td>NaN</td>\n",
       "      <td>Санкт-Петербург</td>\n",
       "      <td>24553.0</td>\n",
       "      <td>4772.0</td>\n",
       "      <td>0.0</td>\n",
       "      <td>NaN</td>\n",
       "      <td>0.0</td>\n",
       "      <td>NaN</td>\n",
       "      <td>NaN</td>\n",
       "    </tr>\n",
       "    <tr>\n",
       "      <td>21919</td>\n",
       "      <td>15</td>\n",
       "      <td>9850000.0</td>\n",
       "      <td>96.0</td>\n",
       "      <td>2018-07-13T00:00:00</td>\n",
       "      <td>5</td>\n",
       "      <td>3.00</td>\n",
       "      <td>7.0</td>\n",
       "      <td>68.0</td>\n",
       "      <td>1</td>\n",
       "      <td>False</td>\n",
       "      <td>...</td>\n",
       "      <td>7.0</td>\n",
       "      <td>NaN</td>\n",
       "      <td>Санкт-Петербург</td>\n",
       "      <td>21934.0</td>\n",
       "      <td>1483.0</td>\n",
       "      <td>0.0</td>\n",
       "      <td>NaN</td>\n",
       "      <td>2.0</td>\n",
       "      <td>539.0</td>\n",
       "      <td>87.0</td>\n",
       "    </tr>\n",
       "    <tr>\n",
       "      <td>12689</td>\n",
       "      <td>1</td>\n",
       "      <td>4101534.0</td>\n",
       "      <td>38.0</td>\n",
       "      <td>2017-08-07T00:00:00</td>\n",
       "      <td>1</td>\n",
       "      <td>NaN</td>\n",
       "      <td>5.0</td>\n",
       "      <td>15.0</td>\n",
       "      <td>5</td>\n",
       "      <td>NaN</td>\n",
       "      <td>...</td>\n",
       "      <td>10.0</td>\n",
       "      <td>1.0</td>\n",
       "      <td>Пушкин</td>\n",
       "      <td>20787.0</td>\n",
       "      <td>31163.0</td>\n",
       "      <td>0.0</td>\n",
       "      <td>NaN</td>\n",
       "      <td>1.0</td>\n",
       "      <td>264.0</td>\n",
       "      <td>30.0</td>\n",
       "    </tr>\n",
       "    <tr>\n",
       "      <td>5182</td>\n",
       "      <td>11</td>\n",
       "      <td>2750000.0</td>\n",
       "      <td>38.1</td>\n",
       "      <td>2016-05-21T00:00:00</td>\n",
       "      <td>1</td>\n",
       "      <td>2.82</td>\n",
       "      <td>5.0</td>\n",
       "      <td>14.1</td>\n",
       "      <td>1</td>\n",
       "      <td>False</td>\n",
       "      <td>...</td>\n",
       "      <td>6.3</td>\n",
       "      <td>0.0</td>\n",
       "      <td>Санкт-Петербург</td>\n",
       "      <td>19925.0</td>\n",
       "      <td>2357.0</td>\n",
       "      <td>3.0</td>\n",
       "      <td>390.0</td>\n",
       "      <td>3.0</td>\n",
       "      <td>154.0</td>\n",
       "      <td>121.0</td>\n",
       "    </tr>\n",
       "    <tr>\n",
       "      <td>2505</td>\n",
       "      <td>14</td>\n",
       "      <td>5650000.0</td>\n",
       "      <td>72.0</td>\n",
       "      <td>2019-02-12T00:00:00</td>\n",
       "      <td>3</td>\n",
       "      <td>2.65</td>\n",
       "      <td>10.0</td>\n",
       "      <td>42.0</td>\n",
       "      <td>2</td>\n",
       "      <td>False</td>\n",
       "      <td>...</td>\n",
       "      <td>9.0</td>\n",
       "      <td>3.0</td>\n",
       "      <td>Санкт-Петербург</td>\n",
       "      <td>35408.0</td>\n",
       "      <td>15710.0</td>\n",
       "      <td>2.0</td>\n",
       "      <td>514.0</td>\n",
       "      <td>3.0</td>\n",
       "      <td>263.0</td>\n",
       "      <td>38.0</td>\n",
       "    </tr>\n",
       "    <tr>\n",
       "      <td>9371</td>\n",
       "      <td>2</td>\n",
       "      <td>3700000.0</td>\n",
       "      <td>61.0</td>\n",
       "      <td>2017-01-02T00:00:00</td>\n",
       "      <td>2</td>\n",
       "      <td>2.65</td>\n",
       "      <td>25.0</td>\n",
       "      <td>38.8</td>\n",
       "      <td>5</td>\n",
       "      <td>NaN</td>\n",
       "      <td>...</td>\n",
       "      <td>9.2</td>\n",
       "      <td>1.0</td>\n",
       "      <td>посёлок Шушары</td>\n",
       "      <td>13931.0</td>\n",
       "      <td>19717.0</td>\n",
       "      <td>0.0</td>\n",
       "      <td>NaN</td>\n",
       "      <td>1.0</td>\n",
       "      <td>582.0</td>\n",
       "      <td>241.0</td>\n",
       "    </tr>\n",
       "    <tr>\n",
       "      <td>8077</td>\n",
       "      <td>20</td>\n",
       "      <td>12800000.0</td>\n",
       "      <td>136.0</td>\n",
       "      <td>2017-09-25T00:00:00</td>\n",
       "      <td>5</td>\n",
       "      <td>3.30</td>\n",
       "      <td>5.0</td>\n",
       "      <td>88.0</td>\n",
       "      <td>4</td>\n",
       "      <td>False</td>\n",
       "      <td>...</td>\n",
       "      <td>14.0</td>\n",
       "      <td>1.0</td>\n",
       "      <td>Санкт-Петербург</td>\n",
       "      <td>22145.0</td>\n",
       "      <td>3410.0</td>\n",
       "      <td>0.0</td>\n",
       "      <td>NaN</td>\n",
       "      <td>1.0</td>\n",
       "      <td>476.0</td>\n",
       "      <td>351.0</td>\n",
       "    </tr>\n",
       "    <tr>\n",
       "      <td>5083</td>\n",
       "      <td>0</td>\n",
       "      <td>3600000.0</td>\n",
       "      <td>44.5</td>\n",
       "      <td>2017-08-04T00:00:00</td>\n",
       "      <td>2</td>\n",
       "      <td>2.60</td>\n",
       "      <td>5.0</td>\n",
       "      <td>30.0</td>\n",
       "      <td>2</td>\n",
       "      <td>NaN</td>\n",
       "      <td>...</td>\n",
       "      <td>6.0</td>\n",
       "      <td>1.0</td>\n",
       "      <td>Санкт-Петербург</td>\n",
       "      <td>41210.0</td>\n",
       "      <td>11393.0</td>\n",
       "      <td>3.0</td>\n",
       "      <td>597.0</td>\n",
       "      <td>0.0</td>\n",
       "      <td>NaN</td>\n",
       "      <td>171.0</td>\n",
       "    </tr>\n",
       "  </tbody>\n",
       "</table>\n",
       "<p>20 rows × 22 columns</p>\n",
       "</div>"
      ],
      "text/plain": [
       "       total_images  last_price  total_area first_day_exposition  rooms  \\\n",
       "23073            11   1450000.0        44.0  2018-02-15T00:00:00      2   \n",
       "7956              5   3990000.0        38.9  2018-02-01T00:00:00      1   \n",
       "9500              0   5700000.0        75.0  2018-07-02T00:00:00      3   \n",
       "7808             11   3090000.0        50.0  2016-05-23T00:00:00      1   \n",
       "12613            10   8449000.0        77.4  2017-07-10T00:00:00      2   \n",
       "12478             1  11000000.0       120.0  2017-09-26T00:00:00      5   \n",
       "16597             3   4900000.0        59.0  2017-06-01T00:00:00      3   \n",
       "21058            12   3300000.0        32.0  2017-04-21T00:00:00      1   \n",
       "1895             12   9500000.0       130.0  2019-03-27T00:00:00      5   \n",
       "9057             20   8250000.0        78.6  2018-07-22T00:00:00      3   \n",
       "3017              6  50000000.0       145.0  2018-08-10T00:00:00      5   \n",
       "10712            16  12680000.0       100.0  2017-07-25T00:00:00      3   \n",
       "8356             13   8200000.0        81.1  2019-04-26T00:00:00      4   \n",
       "21919            15   9850000.0        96.0  2018-07-13T00:00:00      5   \n",
       "12689             1   4101534.0        38.0  2017-08-07T00:00:00      1   \n",
       "5182             11   2750000.0        38.1  2016-05-21T00:00:00      1   \n",
       "2505             14   5650000.0        72.0  2019-02-12T00:00:00      3   \n",
       "9371              2   3700000.0        61.0  2017-01-02T00:00:00      2   \n",
       "8077             20  12800000.0       136.0  2017-09-25T00:00:00      5   \n",
       "5083              0   3600000.0        44.5  2017-08-04T00:00:00      2   \n",
       "\n",
       "       ceiling_height  floors_total  living_area  floor is_apartment  ...  \\\n",
       "23073             NaN           4.0         34.0      1          NaN  ...   \n",
       "7956              NaN          21.0         15.6     12          NaN  ...   \n",
       "9500             2.85           6.0          NaN      6          NaN  ...   \n",
       "7808             2.90           3.0         21.0      1          NaN  ...   \n",
       "12613            3.00          16.0         40.1      3          NaN  ...   \n",
       "12478            3.20           5.0         81.5      3          NaN  ...   \n",
       "16597             NaN           6.0         36.0      4          NaN  ...   \n",
       "21058            2.50           9.0         16.0      9          NaN  ...   \n",
       "1895              NaN           5.0         90.0      2          NaN  ...   \n",
       "9057              NaN          12.0         46.5      2          NaN  ...   \n",
       "3017             2.75           9.0         72.0      8          NaN  ...   \n",
       "10712            2.75          16.0         49.0      2          NaN  ...   \n",
       "8356             3.40           6.0         59.6      2          NaN  ...   \n",
       "21919            3.00           7.0         68.0      1        False  ...   \n",
       "12689             NaN           5.0         15.0      5          NaN  ...   \n",
       "5182             2.82           5.0         14.1      1        False  ...   \n",
       "2505             2.65          10.0         42.0      2        False  ...   \n",
       "9371             2.65          25.0         38.8      5          NaN  ...   \n",
       "8077             3.30           5.0         88.0      4        False  ...   \n",
       "5083             2.60           5.0         30.0      2          NaN  ...   \n",
       "\n",
       "       kitchen_area  balcony    locality_name  airports_nearest  \\\n",
       "23073           6.0      NaN           Волхов               NaN   \n",
       "7956           12.1      NaN  Санкт-Петербург           43731.0   \n",
       "9500            NaN      NaN  Санкт-Петербург           20904.0   \n",
       "7808           10.0      NaN  деревня Заневка               NaN   \n",
       "12613          15.4      5.0  Санкт-Петербург           37434.0   \n",
       "12478          11.5      NaN  Санкт-Петербург           26281.0   \n",
       "16597           9.0      0.0  Санкт-Петербург           20643.0   \n",
       "21058           8.0      NaN  Санкт-Петербург           15891.0   \n",
       "1895           15.0      NaN  Санкт-Петербург               NaN   \n",
       "9057           14.9      NaN  Санкт-Петербург           36361.0   \n",
       "3017           26.0      NaN  Санкт-Петербург           31458.0   \n",
       "10712          28.0      2.0  Санкт-Петербург           51495.0   \n",
       "8356           11.0      NaN  Санкт-Петербург           24553.0   \n",
       "21919           7.0      NaN  Санкт-Петербург           21934.0   \n",
       "12689          10.0      1.0           Пушкин           20787.0   \n",
       "5182            6.3      0.0  Санкт-Петербург           19925.0   \n",
       "2505            9.0      3.0  Санкт-Петербург           35408.0   \n",
       "9371            9.2      1.0   посёлок Шушары           13931.0   \n",
       "8077           14.0      1.0  Санкт-Петербург           22145.0   \n",
       "5083            6.0      1.0  Санкт-Петербург           41210.0   \n",
       "\n",
       "      cityCenters_nearest  parks_around3000  parks_nearest  ponds_around3000  \\\n",
       "23073                 NaN               NaN            NaN               NaN   \n",
       "7956              10898.0               0.0            NaN               0.0   \n",
       "9500               3269.0               2.0          482.0               1.0   \n",
       "7808                  NaN               NaN            NaN               NaN   \n",
       "12613              8460.0               1.0          441.0               2.0   \n",
       "12478              4983.0               3.0          100.0               1.0   \n",
       "16597              2230.0               2.0          138.0               3.0   \n",
       "21058             14687.0               0.0            NaN               1.0   \n",
       "1895                  NaN               NaN            NaN               NaN   \n",
       "9057              11714.0               1.0          699.0               1.0   \n",
       "3017               4619.0               1.0          479.0               3.0   \n",
       "10712             14218.0               1.0          267.0               0.0   \n",
       "8356               4772.0               0.0            NaN               0.0   \n",
       "21919              1483.0               0.0            NaN               2.0   \n",
       "12689             31163.0               0.0            NaN               1.0   \n",
       "5182               2357.0               3.0          390.0               3.0   \n",
       "2505              15710.0               2.0          514.0               3.0   \n",
       "9371              19717.0               0.0            NaN               1.0   \n",
       "8077               3410.0               0.0            NaN               1.0   \n",
       "5083              11393.0               3.0          597.0               0.0   \n",
       "\n",
       "       ponds_nearest  days_exposition  \n",
       "23073            NaN            363.0  \n",
       "7956             NaN             96.0  \n",
       "9500           849.0             60.0  \n",
       "7808             NaN            796.0  \n",
       "12613          427.0              3.0  \n",
       "12478          757.0            165.0  \n",
       "16597          119.0             19.0  \n",
       "21058           65.0            596.0  \n",
       "1895             NaN             15.0  \n",
       "9057           657.0              NaN  \n",
       "3017           283.0            128.0  \n",
       "10712            NaN            436.0  \n",
       "8356             NaN              NaN  \n",
       "21919          539.0             87.0  \n",
       "12689          264.0             30.0  \n",
       "5182           154.0            121.0  \n",
       "2505           263.0             38.0  \n",
       "9371           582.0            241.0  \n",
       "8077           476.0            351.0  \n",
       "5083             NaN            171.0  \n",
       "\n",
       "[20 rows x 22 columns]"
      ]
     },
     "execution_count": 4,
     "metadata": {},
     "output_type": "execute_result"
    }
   ],
   "source": [
    "houseroom.sample(20)"
   ]
  },
  {
   "cell_type": "markdown",
   "metadata": {},
   "source": [
    "#### 1.3 Просмотр описательных статистик по всем столбцам<a id=\"step1.3\"></a> "
   ]
  },
  {
   "cell_type": "code",
   "execution_count": 5,
   "metadata": {},
   "outputs": [
    {
     "data": {
      "text/html": [
       "<div>\n",
       "<style scoped>\n",
       "    .dataframe tbody tr th:only-of-type {\n",
       "        vertical-align: middle;\n",
       "    }\n",
       "\n",
       "    .dataframe tbody tr th {\n",
       "        vertical-align: top;\n",
       "    }\n",
       "\n",
       "    .dataframe thead th {\n",
       "        text-align: right;\n",
       "    }\n",
       "</style>\n",
       "<table border=\"1\" class=\"dataframe\">\n",
       "  <thead>\n",
       "    <tr style=\"text-align: right;\">\n",
       "      <th></th>\n",
       "      <th>count</th>\n",
       "      <th>mean</th>\n",
       "      <th>std</th>\n",
       "      <th>min</th>\n",
       "      <th>25%</th>\n",
       "      <th>50%</th>\n",
       "      <th>75%</th>\n",
       "      <th>max</th>\n",
       "    </tr>\n",
       "  </thead>\n",
       "  <tbody>\n",
       "    <tr>\n",
       "      <td>total_images</td>\n",
       "      <td>23699.0</td>\n",
       "      <td>9.858475e+00</td>\n",
       "      <td>5.682529e+00</td>\n",
       "      <td>0.0</td>\n",
       "      <td>6.00</td>\n",
       "      <td>9.00</td>\n",
       "      <td>14.0</td>\n",
       "      <td>50.0</td>\n",
       "    </tr>\n",
       "    <tr>\n",
       "      <td>last_price</td>\n",
       "      <td>23699.0</td>\n",
       "      <td>6.541549e+06</td>\n",
       "      <td>1.088701e+07</td>\n",
       "      <td>12190.0</td>\n",
       "      <td>3400000.00</td>\n",
       "      <td>4650000.00</td>\n",
       "      <td>6800000.0</td>\n",
       "      <td>763000000.0</td>\n",
       "    </tr>\n",
       "    <tr>\n",
       "      <td>total_area</td>\n",
       "      <td>23699.0</td>\n",
       "      <td>6.034865e+01</td>\n",
       "      <td>3.565408e+01</td>\n",
       "      <td>12.0</td>\n",
       "      <td>40.00</td>\n",
       "      <td>52.00</td>\n",
       "      <td>69.9</td>\n",
       "      <td>900.0</td>\n",
       "    </tr>\n",
       "    <tr>\n",
       "      <td>rooms</td>\n",
       "      <td>23699.0</td>\n",
       "      <td>2.070636e+00</td>\n",
       "      <td>1.078405e+00</td>\n",
       "      <td>0.0</td>\n",
       "      <td>1.00</td>\n",
       "      <td>2.00</td>\n",
       "      <td>3.0</td>\n",
       "      <td>19.0</td>\n",
       "    </tr>\n",
       "    <tr>\n",
       "      <td>ceiling_height</td>\n",
       "      <td>14504.0</td>\n",
       "      <td>2.771499e+00</td>\n",
       "      <td>1.261056e+00</td>\n",
       "      <td>1.0</td>\n",
       "      <td>2.52</td>\n",
       "      <td>2.65</td>\n",
       "      <td>2.8</td>\n",
       "      <td>100.0</td>\n",
       "    </tr>\n",
       "    <tr>\n",
       "      <td>floors_total</td>\n",
       "      <td>23613.0</td>\n",
       "      <td>1.067382e+01</td>\n",
       "      <td>6.597173e+00</td>\n",
       "      <td>1.0</td>\n",
       "      <td>5.00</td>\n",
       "      <td>9.00</td>\n",
       "      <td>16.0</td>\n",
       "      <td>60.0</td>\n",
       "    </tr>\n",
       "    <tr>\n",
       "      <td>living_area</td>\n",
       "      <td>21796.0</td>\n",
       "      <td>3.445785e+01</td>\n",
       "      <td>2.203045e+01</td>\n",
       "      <td>2.0</td>\n",
       "      <td>18.60</td>\n",
       "      <td>30.00</td>\n",
       "      <td>42.3</td>\n",
       "      <td>409.7</td>\n",
       "    </tr>\n",
       "    <tr>\n",
       "      <td>floor</td>\n",
       "      <td>23699.0</td>\n",
       "      <td>5.892358e+00</td>\n",
       "      <td>4.885249e+00</td>\n",
       "      <td>1.0</td>\n",
       "      <td>2.00</td>\n",
       "      <td>4.00</td>\n",
       "      <td>8.0</td>\n",
       "      <td>33.0</td>\n",
       "    </tr>\n",
       "    <tr>\n",
       "      <td>kitchen_area</td>\n",
       "      <td>21421.0</td>\n",
       "      <td>1.056981e+01</td>\n",
       "      <td>5.905438e+00</td>\n",
       "      <td>1.3</td>\n",
       "      <td>7.00</td>\n",
       "      <td>9.10</td>\n",
       "      <td>12.0</td>\n",
       "      <td>112.0</td>\n",
       "    </tr>\n",
       "    <tr>\n",
       "      <td>balcony</td>\n",
       "      <td>12180.0</td>\n",
       "      <td>1.150082e+00</td>\n",
       "      <td>1.071300e+00</td>\n",
       "      <td>0.0</td>\n",
       "      <td>0.00</td>\n",
       "      <td>1.00</td>\n",
       "      <td>2.0</td>\n",
       "      <td>5.0</td>\n",
       "    </tr>\n",
       "    <tr>\n",
       "      <td>airports_nearest</td>\n",
       "      <td>18157.0</td>\n",
       "      <td>2.879367e+04</td>\n",
       "      <td>1.263088e+04</td>\n",
       "      <td>0.0</td>\n",
       "      <td>18585.00</td>\n",
       "      <td>26726.00</td>\n",
       "      <td>37273.0</td>\n",
       "      <td>84869.0</td>\n",
       "    </tr>\n",
       "    <tr>\n",
       "      <td>cityCenters_nearest</td>\n",
       "      <td>18180.0</td>\n",
       "      <td>1.419128e+04</td>\n",
       "      <td>8.608386e+03</td>\n",
       "      <td>181.0</td>\n",
       "      <td>9238.00</td>\n",
       "      <td>13098.50</td>\n",
       "      <td>16293.0</td>\n",
       "      <td>65968.0</td>\n",
       "    </tr>\n",
       "    <tr>\n",
       "      <td>parks_around3000</td>\n",
       "      <td>18181.0</td>\n",
       "      <td>6.114075e-01</td>\n",
       "      <td>8.020736e-01</td>\n",
       "      <td>0.0</td>\n",
       "      <td>0.00</td>\n",
       "      <td>0.00</td>\n",
       "      <td>1.0</td>\n",
       "      <td>3.0</td>\n",
       "    </tr>\n",
       "    <tr>\n",
       "      <td>parks_nearest</td>\n",
       "      <td>8079.0</td>\n",
       "      <td>4.908046e+02</td>\n",
       "      <td>3.423180e+02</td>\n",
       "      <td>1.0</td>\n",
       "      <td>288.00</td>\n",
       "      <td>455.00</td>\n",
       "      <td>612.0</td>\n",
       "      <td>3190.0</td>\n",
       "    </tr>\n",
       "    <tr>\n",
       "      <td>ponds_around3000</td>\n",
       "      <td>18181.0</td>\n",
       "      <td>7.702547e-01</td>\n",
       "      <td>9.383456e-01</td>\n",
       "      <td>0.0</td>\n",
       "      <td>0.00</td>\n",
       "      <td>1.00</td>\n",
       "      <td>1.0</td>\n",
       "      <td>3.0</td>\n",
       "    </tr>\n",
       "    <tr>\n",
       "      <td>ponds_nearest</td>\n",
       "      <td>9110.0</td>\n",
       "      <td>5.179809e+02</td>\n",
       "      <td>2.777206e+02</td>\n",
       "      <td>13.0</td>\n",
       "      <td>294.00</td>\n",
       "      <td>502.00</td>\n",
       "      <td>729.0</td>\n",
       "      <td>1344.0</td>\n",
       "    </tr>\n",
       "    <tr>\n",
       "      <td>days_exposition</td>\n",
       "      <td>20518.0</td>\n",
       "      <td>1.808886e+02</td>\n",
       "      <td>2.197280e+02</td>\n",
       "      <td>1.0</td>\n",
       "      <td>45.00</td>\n",
       "      <td>95.00</td>\n",
       "      <td>232.0</td>\n",
       "      <td>1580.0</td>\n",
       "    </tr>\n",
       "  </tbody>\n",
       "</table>\n",
       "</div>"
      ],
      "text/plain": [
       "                       count          mean           std      min         25%  \\\n",
       "total_images         23699.0  9.858475e+00  5.682529e+00      0.0        6.00   \n",
       "last_price           23699.0  6.541549e+06  1.088701e+07  12190.0  3400000.00   \n",
       "total_area           23699.0  6.034865e+01  3.565408e+01     12.0       40.00   \n",
       "rooms                23699.0  2.070636e+00  1.078405e+00      0.0        1.00   \n",
       "ceiling_height       14504.0  2.771499e+00  1.261056e+00      1.0        2.52   \n",
       "floors_total         23613.0  1.067382e+01  6.597173e+00      1.0        5.00   \n",
       "living_area          21796.0  3.445785e+01  2.203045e+01      2.0       18.60   \n",
       "floor                23699.0  5.892358e+00  4.885249e+00      1.0        2.00   \n",
       "kitchen_area         21421.0  1.056981e+01  5.905438e+00      1.3        7.00   \n",
       "balcony              12180.0  1.150082e+00  1.071300e+00      0.0        0.00   \n",
       "airports_nearest     18157.0  2.879367e+04  1.263088e+04      0.0    18585.00   \n",
       "cityCenters_nearest  18180.0  1.419128e+04  8.608386e+03    181.0     9238.00   \n",
       "parks_around3000     18181.0  6.114075e-01  8.020736e-01      0.0        0.00   \n",
       "parks_nearest         8079.0  4.908046e+02  3.423180e+02      1.0      288.00   \n",
       "ponds_around3000     18181.0  7.702547e-01  9.383456e-01      0.0        0.00   \n",
       "ponds_nearest         9110.0  5.179809e+02  2.777206e+02     13.0      294.00   \n",
       "days_exposition      20518.0  1.808886e+02  2.197280e+02      1.0       45.00   \n",
       "\n",
       "                            50%        75%          max  \n",
       "total_images               9.00       14.0         50.0  \n",
       "last_price           4650000.00  6800000.0  763000000.0  \n",
       "total_area                52.00       69.9        900.0  \n",
       "rooms                      2.00        3.0         19.0  \n",
       "ceiling_height             2.65        2.8        100.0  \n",
       "floors_total               9.00       16.0         60.0  \n",
       "living_area               30.00       42.3        409.7  \n",
       "floor                      4.00        8.0         33.0  \n",
       "kitchen_area               9.10       12.0        112.0  \n",
       "balcony                    1.00        2.0          5.0  \n",
       "airports_nearest       26726.00    37273.0      84869.0  \n",
       "cityCenters_nearest    13098.50    16293.0      65968.0  \n",
       "parks_around3000           0.00        1.0          3.0  \n",
       "parks_nearest            455.00      612.0       3190.0  \n",
       "ponds_around3000           1.00        1.0          3.0  \n",
       "ponds_nearest            502.00      729.0       1344.0  \n",
       "days_exposition           95.00      232.0       1580.0  "
      ]
     },
     "execution_count": 5,
     "metadata": {},
     "output_type": "execute_result"
    }
   ],
   "source": [
    "houseroom.describe().T"
   ]
  },
  {
   "cell_type": "markdown",
   "metadata": {},
   "source": [
    "#### 1.4 Вывод и постановка задач на предобработку<a id=\"step1.4\"></a> "
   ]
  },
  {
   "cell_type": "markdown",
   "metadata": {},
   "source": [
    "Во входной таблице данных 22 столбца и 23699 строк, одна строка - данные об одной квартире. В 14 столбцах есть пропущенные значения, на первый взгляд выглядит не очень позитивно( Также есть столбцы с некорректным типом данных.\n",
    "\n",
    "Итак, что я сделаю в предобработке:\n",
    "\n",
    "- пропуски в апартаментах заменю на False, так как считаю, что если бы человек продавал апартаменты, то точно бы это отметил, а не пропустил;\n",
    "\n",
    "- пропуски в балконах заменю на нули. Здесь аналогичная логика, вероятнее всего, что их просто нет в этих квартирах. Здесь же заменю тип данных с вещественного на целочисленный;\n",
    "\n",
    "- в столбце дата публикации заменю тип данных на datetime и отброшу время, так как для решения задачи достаточно даты\n",
    "\n",
    "- строки с пропусками в названии населенного пункта удалю, так как во-первых их мало (0,2% от общего числа), а во-вторых кому они нужны, если не известно, где эта квартира находится. Приведу значения столбца с названием населенного пункта к нижнему регистру, посмотрю уникальные значения и возможно в процессе что-то еще выявится\n",
    "\n",
    "- удалю дубликаты, если конечно они будут\n"
   ]
  },
  {
   "cell_type": "markdown",
   "metadata": {},
   "source": [
    "### 2. Предобработка данных<a id=\"step2\"></a> "
   ]
  },
  {
   "cell_type": "markdown",
   "metadata": {},
   "source": [
    "#### 2.1 Обработка столбца 'is_apartment'<a id=\"step2.1\"></a> "
   ]
  },
  {
   "cell_type": "code",
   "execution_count": 6,
   "metadata": {},
   "outputs": [
    {
     "data": {
      "text/plain": [
       "array([False,  True])"
      ]
     },
     "execution_count": 6,
     "metadata": {},
     "output_type": "execute_result"
    }
   ],
   "source": [
    "#замена пропущенных значений на False в столбце апартаменты\n",
    "houseroom['is_apartment'] = houseroom['is_apartment'].fillna(False)\n",
    "\n",
    "#уникальные значения столбца апартаменты\n",
    "houseroom['is_apartment'].unique()"
   ]
  },
  {
   "cell_type": "markdown",
   "metadata": {},
   "source": [
    "#### 2.2 Обработка столбца 'balcony'<a id=\"step2.2\"></a> "
   ]
  },
  {
   "cell_type": "code",
   "execution_count": 7,
   "metadata": {},
   "outputs": [
    {
     "data": {
      "text/plain": [
       "array([0., 2., 1., 5., 4., 3.])"
      ]
     },
     "execution_count": 7,
     "metadata": {},
     "output_type": "execute_result"
    }
   ],
   "source": [
    "#замена пропущенных значений на нули в столбце с кол-вом балконов\n",
    "houseroom['balcony'] = houseroom['balcony'].fillna(0)\n",
    "\n",
    "#уникальные значения столбца с кол-вом балконов\n",
    "houseroom['balcony'].unique()"
   ]
  },
  {
   "cell_type": "code",
   "execution_count": 8,
   "metadata": {},
   "outputs": [],
   "source": [
    "#смена типа данных с вещественного на целочисленный в столбце с кол-вом балконов\n",
    "houseroom['balcony'] = houseroom['balcony'].astype('int16')"
   ]
  },
  {
   "cell_type": "markdown",
   "metadata": {},
   "source": [
    "#### 2.3 Обработка столбца 'first_day_exposition'<a id=\"step2.3\"></a> "
   ]
  },
  {
   "cell_type": "code",
   "execution_count": 9,
   "metadata": {},
   "outputs": [
    {
     "name": "stdout",
     "output_type": "stream",
     "text": [
      "<class 'pandas.core.frame.DataFrame'>\n",
      "RangeIndex: 23699 entries, 0 to 23698\n",
      "Data columns (total 22 columns):\n",
      "total_images            23699 non-null int64\n",
      "last_price              23699 non-null float64\n",
      "total_area              23699 non-null float64\n",
      "first_day_exposition    23699 non-null datetime64[ns]\n",
      "rooms                   23699 non-null int64\n",
      "ceiling_height          14504 non-null float64\n",
      "floors_total            23613 non-null float64\n",
      "living_area             21796 non-null float64\n",
      "floor                   23699 non-null int64\n",
      "is_apartment            23699 non-null bool\n",
      "studio                  23699 non-null bool\n",
      "open_plan               23699 non-null bool\n",
      "kitchen_area            21421 non-null float64\n",
      "balcony                 23699 non-null int16\n",
      "locality_name           23650 non-null object\n",
      "airports_nearest        18157 non-null float64\n",
      "cityCenters_nearest     18180 non-null float64\n",
      "parks_around3000        18181 non-null float64\n",
      "parks_nearest           8079 non-null float64\n",
      "ponds_around3000        18181 non-null float64\n",
      "ponds_nearest           9110 non-null float64\n",
      "days_exposition         20518 non-null float64\n",
      "dtypes: bool(3), datetime64[ns](1), float64(13), int16(1), int64(3), object(1)\n",
      "memory usage: 3.4+ MB\n"
     ]
    }
   ],
   "source": [
    "#смена типа данных в столбце с датой публикации с отбросом времени\n",
    "houseroom['first_day_exposition'] = pd.to_datetime(houseroom['first_day_exposition'], format = '%Y-%m-%d')\n",
    "\n",
    "houseroom.info()"
   ]
  },
  {
   "cell_type": "markdown",
   "metadata": {},
   "source": [
    "#### 2.4 Обработка столбца 'locality_name'<a id=\"step2.4\"></a> "
   ]
  },
  {
   "cell_type": "code",
   "execution_count": 10,
   "metadata": {},
   "outputs": [
    {
     "name": "stdout",
     "output_type": "stream",
     "text": [
      "Количество пропусков в столбце с названием населенного пункта: 0\n"
     ]
    }
   ],
   "source": [
    "#удаляю пропуски в столбце с названием населенного пункта\n",
    "houseroom = houseroom.dropna(subset = ['locality_name'])\n",
    "print('Количество пропусков в столбце с названием населенного пункта: {}'.format(houseroom['locality_name'].isna().sum()))"
   ]
  },
  {
   "cell_type": "code",
   "execution_count": 11,
   "metadata": {},
   "outputs": [
    {
     "name": "stdout",
     "output_type": "stream",
     "text": [
      "Количество уникальных населенных пунктов до приведения к нижнему регистру: 364\n"
     ]
    }
   ],
   "source": [
    "print('Количество уникальных населенных пунктов до приведения к нижнему регистру: {}'.format(len(houseroom['locality_name'].unique())))"
   ]
  },
  {
   "cell_type": "code",
   "execution_count": 12,
   "metadata": {},
   "outputs": [
    {
     "name": "stdout",
     "output_type": "stream",
     "text": [
      "Количество уникальных населенных пунктов после приведения к нижнему регистру: 364\n"
     ]
    }
   ],
   "source": [
    "#приведу значения населенных пунктов к нижнему регистру\n",
    "houseroom['locality_name'] = houseroom['locality_name'].str.lower()\n",
    "print('Количество уникальных населенных пунктов после приведения к нижнему регистру: {}'.format(len(houseroom['locality_name'].unique())))"
   ]
  },
  {
   "cell_type": "markdown",
   "metadata": {},
   "source": [
    "#### Приведение к нижнему регистру не дало никаких изменений. Посмотрю уникальные значения, может что-то бросится в глаза"
   ]
  },
  {
   "cell_type": "code",
   "execution_count": 13,
   "metadata": {},
   "outputs": [
    {
     "data": {
      "text/plain": [
       "array(['санкт-петербург', 'посёлок шушары', 'городской посёлок янино-1',\n",
       "       'посёлок парголово', 'посёлок мурино', 'ломоносов', 'сертолово',\n",
       "       'петергоф', 'пушкин', 'деревня кудрово', 'коммунар', 'колпино',\n",
       "       'поселок городского типа красный бор', 'гатчина', 'поселок мурино',\n",
       "       'деревня фёдоровское', 'выборг', 'кронштадт', 'кировск',\n",
       "       'деревня новое девяткино', 'посёлок металлострой',\n",
       "       'посёлок городского типа лебяжье',\n",
       "       'посёлок городского типа сиверский', 'поселок молодцово',\n",
       "       'поселок городского типа кузьмоловский',\n",
       "       'садовое товарищество новая ропша', 'павловск',\n",
       "       'деревня пикколово', 'всеволожск', 'волхов', 'кингисепп',\n",
       "       'приозерск', 'сестрорецк', 'деревня куттузи', 'посёлок аннино',\n",
       "       'поселок городского типа ефимовский', 'посёлок плодовое',\n",
       "       'деревня заклинье', 'поселок торковичи', 'поселок первомайское',\n",
       "       'красное село', 'посёлок понтонный', 'сясьстрой', 'деревня старая',\n",
       "       'деревня лесколово', 'посёлок новый свет', 'сланцы',\n",
       "       'село путилово', 'ивангород', 'мурино', 'шлиссельбург',\n",
       "       'никольское', 'зеленогорск', 'сосновый бор', 'поселок новый свет',\n",
       "       'деревня оржицы', 'деревня кальтино', 'кудрово',\n",
       "       'поселок романовка', 'посёлок бугры', 'поселок бугры',\n",
       "       'поселок городского типа рощино', 'кириши', 'луга', 'волосово',\n",
       "       'отрадное', 'село павлово', 'поселок оредеж', 'село копорье',\n",
       "       'посёлок городского типа красный бор', 'посёлок молодёжное',\n",
       "       'тихвин', 'посёлок победа', 'деревня нурма',\n",
       "       'поселок городского типа синявино', 'тосно',\n",
       "       'посёлок городского типа кузьмоловский', 'посёлок стрельна',\n",
       "       'бокситогорск', 'посёлок александровская', 'деревня лопухинка',\n",
       "       'пикалёво', 'поселок терволово',\n",
       "       'поселок городского типа советский', 'подпорожье',\n",
       "       'посёлок петровское', 'посёлок городского типа токсово',\n",
       "       'поселок сельцо', 'посёлок городского типа вырица',\n",
       "       'деревня кипень', 'деревня келози', 'деревня вартемяги',\n",
       "       'посёлок тельмана', 'поселок севастьяново',\n",
       "       'городской поселок большая ижора', 'городской посёлок павлово',\n",
       "       'деревня агалатово', 'посёлок новогорелово',\n",
       "       'городской посёлок лесогорский', 'деревня лаголово',\n",
       "       'поселок цвелодубово', 'поселок городского типа рахья',\n",
       "       'поселок городского типа вырица', 'деревня белогорка',\n",
       "       'поселок заводской', 'городской посёлок новоселье',\n",
       "       'деревня большие колпаны', 'деревня горбунки', 'деревня батово',\n",
       "       'деревня заневка', 'деревня иссад', 'приморск',\n",
       "       'городской посёлок фёдоровское', 'деревня мистолово',\n",
       "       'новая ладога', 'поселок зимитицы', 'поселок барышево',\n",
       "       'деревня разметелево', 'поселок городского типа имени свердлова',\n",
       "       'деревня пеники', 'поселок рябово', 'деревня пудомяги',\n",
       "       'поселок станции корнево', 'деревня низино', 'деревня бегуницы',\n",
       "       'посёлок поляны', 'городской посёлок мга', 'поселок елизаветино',\n",
       "       'посёлок городского типа кузнечное', 'деревня колтуши',\n",
       "       'поселок запорожское', 'посёлок городского типа рощино',\n",
       "       'деревня гостилицы', 'деревня малое карлино',\n",
       "       'посёлок мичуринское', 'посёлок городского типа имени морозова',\n",
       "       'посёлок песочный', 'посёлок сосново', 'деревня аро',\n",
       "       'поселок ильичёво', 'посёлок городского типа тайцы',\n",
       "       'деревня малое верево', 'деревня извара', 'поселок станции вещево',\n",
       "       'село паша', 'деревня калитино',\n",
       "       'посёлок городского типа ульяновка', 'деревня чудской бор',\n",
       "       'поселок городского типа дубровка', 'деревня мины',\n",
       "       'поселок войсковицы', 'посёлок городского типа имени свердлова',\n",
       "       'деревня коркино', 'посёлок ропша',\n",
       "       'поселок городского типа приладожский', 'посёлок щеглово',\n",
       "       'посёлок гаврилово', 'лодейное поле', 'деревня рабитицы',\n",
       "       'поселок городского типа никольский', 'деревня кузьмолово',\n",
       "       'деревня малые колпаны', 'поселок тельмана',\n",
       "       'посёлок петро-славянка', 'городской посёлок назия',\n",
       "       'посёлок репино', 'посёлок ильичёво', 'поселок углово',\n",
       "       'поселок старая малукса', 'садовое товарищество рахья',\n",
       "       'поселок аннино', 'поселок победа', 'деревня меньково',\n",
       "       'деревня старые бегуницы', 'посёлок сапёрный', 'поселок семрино',\n",
       "       'поселок гаврилово', 'поселок глажево', 'поселок кобринское',\n",
       "       'деревня гарболово', 'деревня юкки',\n",
       "       'поселок станции приветнинское', 'деревня мануйлово',\n",
       "       'деревня пчева', 'поселок поляны', 'поселок цвылёво',\n",
       "       'поселок мельниково', 'посёлок пудость', 'посёлок усть-луга',\n",
       "       'светогорск', 'любань', 'поселок селезнёво',\n",
       "       'поселок городского типа рябово', 'каменногорск', 'деревня кривко',\n",
       "       'поселок глебычево', 'деревня парицы', 'поселок жилпосёлок',\n",
       "       'посёлок городского типа мга', 'городской поселок янино-1',\n",
       "       'посёлок войскорово', 'село никольское', 'посёлок терволово',\n",
       "       'поселок стеклянный', 'посёлок городского типа важины',\n",
       "       'посёлок мыза-ивановка', 'село русско-высоцкое',\n",
       "       'поселок городского типа лебяжье',\n",
       "       'поселок городского типа форносово', 'село старая ладога',\n",
       "       'поселок житково', 'городской посёлок виллози', 'деревня лампово',\n",
       "       'деревня шпаньково', 'деревня лаврики', 'посёлок сумино',\n",
       "       'посёлок возрождение', 'деревня старосиверская',\n",
       "       'посёлок кикерино', 'поселок возрождение',\n",
       "       'деревня старое хинколово', 'посёлок пригородный',\n",
       "       'посёлок торфяное', 'городской посёлок будогощь',\n",
       "       'поселок суходолье', 'поселок красная долина', 'деревня хапо-ое',\n",
       "       'поселок городского типа дружная горка', 'поселок лисий нос',\n",
       "       'деревня яльгелево', 'посёлок стеклянный', 'село рождествено',\n",
       "       'деревня старополье', 'посёлок левашово', 'деревня сяськелево',\n",
       "       'деревня камышовка',\n",
       "       'садоводческое некоммерческое товарищество лесная поляна',\n",
       "       'деревня хязельки', 'поселок жилгородок',\n",
       "       'посёлок городского типа павлово', 'деревня ялгино',\n",
       "       'поселок новый учхоз', 'городской посёлок рощино',\n",
       "       'поселок гончарово', 'поселок почап', 'посёлок сапёрное',\n",
       "       'посёлок платформа 69-й километр', 'поселок каложицы',\n",
       "       'деревня фалилеево', 'деревня пельгора',\n",
       "       'поселок городского типа лесогорский', 'деревня торошковичи',\n",
       "       'посёлок белоостров', 'посёлок алексеевка', 'поселок серебрянский',\n",
       "       'поселок лукаши', 'поселок петровское', 'деревня щеглово',\n",
       "       'поселок мичуринское', 'деревня тарасово', 'поселок кингисеппский',\n",
       "       'посёлок при железнодорожной станции вещево', 'поселок ушаки',\n",
       "       'деревня котлы', 'деревня сижно', 'деревня торосово',\n",
       "       'посёлок форт красная горка', 'поселок городского типа токсово',\n",
       "       'деревня новолисино', 'посёлок станции громово', 'деревня глинка',\n",
       "       'посёлок мельниково', 'поселок городского типа назия',\n",
       "       'деревня старая пустошь', 'поселок коммунары', 'поселок починок',\n",
       "       'посёлок городского типа вознесенье', 'деревня разбегаево',\n",
       "       'посёлок городского типа рябово', 'поселок гладкое',\n",
       "       'посёлок при железнодорожной станции приветнинское',\n",
       "       'поселок тёсово-4', 'посёлок жилгородок', 'деревня бор',\n",
       "       'посёлок коробицыно', 'деревня большая вруда', 'деревня курковицы',\n",
       "       'посёлок лисий нос', 'городской посёлок советский',\n",
       "       'посёлок кобралово', 'деревня суоранда', 'поселок кобралово',\n",
       "       'поселок городского типа кондратьево',\n",
       "       'коттеджный поселок счастье', 'поселок любань', 'деревня реброво',\n",
       "       'деревня зимитицы', 'деревня тойворово', 'поселок семиозерье',\n",
       "       'поселок лесное', 'поселок совхозный', 'поселок усть-луга',\n",
       "       'посёлок ленинское', 'посёлок суйда',\n",
       "       'посёлок городского типа форносово', 'деревня нижние осельки',\n",
       "       'посёлок станции свирь', 'поселок перово', 'высоцк',\n",
       "       'поселок гарболово', 'село шум', 'поселок котельский',\n",
       "       'поселок станции лужайка', 'деревня большая пустомержа',\n",
       "       'поселок красносельское', 'деревня вахнова кара', 'деревня пижма',\n",
       "       'коттеджный поселок кивеннапа север', 'поселок коробицыно',\n",
       "       'поселок ромашки', 'посёлок перово', 'деревня каськово',\n",
       "       'деревня куровицы', 'посёлок плоское', 'поселок сумино',\n",
       "       'поселок городского типа большая ижора', 'поселок кирпичное',\n",
       "       'деревня ям-тесово', 'деревня раздолье', 'деревня терпилицы',\n",
       "       'посёлок шугозеро', 'деревня ваганово', 'поселок пушное',\n",
       "       'садовое товарищество садко', 'посёлок усть-ижора',\n",
       "       'деревня выскатка', 'городской посёлок свирьстрой',\n",
       "       'поселок громово', 'деревня кисельня', 'посёлок старая малукса',\n",
       "       'деревня трубников бор', 'поселок калитино',\n",
       "       'посёлок высокоключевой', 'садовое товарищество приладожский',\n",
       "       'посёлок пансионат зелёный бор', 'деревня ненимяки',\n",
       "       'поселок пансионат зелёный бор', 'деревня снегирёвка',\n",
       "       'деревня рапполово', 'деревня пустынка', 'поселок рабитицы',\n",
       "       'деревня большой сабск', 'деревня русско', 'деревня лупполово',\n",
       "       'деревня большое рейзино', 'деревня малая романовка',\n",
       "       'поселок дружноселье', 'поселок пчевжа', 'поселок володарское',\n",
       "       'деревня нижняя', 'коттеджный посёлок лесное', 'деревня тихковицы',\n",
       "       'деревня борисова грива', 'посёлок дзержинского'], dtype=object)"
      ]
     },
     "execution_count": 13,
     "metadata": {},
     "output_type": "execute_result"
    }
   ],
   "source": [
    "houseroom['locality_name'].unique()"
   ]
  },
  {
   "cell_type": "markdown",
   "metadata": {},
   "source": [
    "#### Заметила, что слово поселок встречается с буквами \"е\" и \"ё\". Сделаю замену \"ё\" на \"е\""
   ]
  },
  {
   "cell_type": "code",
   "execution_count": 14,
   "metadata": {},
   "outputs": [
    {
     "name": "stdout",
     "output_type": "stream",
     "text": [
      "Количество уникальных населенных пунктов после замены \"ё\" на \"е\": 330\n"
     ]
    }
   ],
   "source": [
    "houseroom['locality_name'] = houseroom['locality_name'].replace('ё', 'е', regex=True)\n",
    "print('Количество уникальных населенных пунктов после замены \"ё\" на \"е\": {}'.format(len(houseroom['locality_name'].unique())))"
   ]
  },
  {
   "cell_type": "code",
   "execution_count": 15,
   "metadata": {},
   "outputs": [
    {
     "data": {
      "text/plain": [
       "array(['санкт-петербург', 'поселок шушары', 'городской поселок янино-1',\n",
       "       'поселок парголово', 'поселок мурино', 'ломоносов', 'сертолово',\n",
       "       'петергоф', 'пушкин', 'деревня кудрово', 'коммунар', 'колпино',\n",
       "       'поселок городского типа красный бор', 'гатчина',\n",
       "       'деревня федоровское', 'выборг', 'кронштадт', 'кировск',\n",
       "       'деревня новое девяткино', 'поселок металлострой',\n",
       "       'поселок городского типа лебяжье',\n",
       "       'поселок городского типа сиверский', 'поселок молодцово',\n",
       "       'поселок городского типа кузьмоловский',\n",
       "       'садовое товарищество новая ропша', 'павловск',\n",
       "       'деревня пикколово', 'всеволожск', 'волхов', 'кингисепп',\n",
       "       'приозерск', 'сестрорецк', 'деревня куттузи', 'поселок аннино',\n",
       "       'поселок городского типа ефимовский', 'поселок плодовое',\n",
       "       'деревня заклинье', 'поселок торковичи', 'поселок первомайское',\n",
       "       'красное село', 'поселок понтонный', 'сясьстрой', 'деревня старая',\n",
       "       'деревня лесколово', 'поселок новый свет', 'сланцы',\n",
       "       'село путилово', 'ивангород', 'мурино', 'шлиссельбург',\n",
       "       'никольское', 'зеленогорск', 'сосновый бор', 'деревня оржицы',\n",
       "       'деревня кальтино', 'кудрово', 'поселок романовка',\n",
       "       'поселок бугры', 'поселок городского типа рощино', 'кириши',\n",
       "       'луга', 'волосово', 'отрадное', 'село павлово', 'поселок оредеж',\n",
       "       'село копорье', 'поселок молодежное', 'тихвин', 'поселок победа',\n",
       "       'деревня нурма', 'поселок городского типа синявино', 'тосно',\n",
       "       'поселок стрельна', 'бокситогорск', 'поселок александровская',\n",
       "       'деревня лопухинка', 'пикалево', 'поселок терволово',\n",
       "       'поселок городского типа советский', 'подпорожье',\n",
       "       'поселок петровское', 'поселок городского типа токсово',\n",
       "       'поселок сельцо', 'поселок городского типа вырица',\n",
       "       'деревня кипень', 'деревня келози', 'деревня вартемяги',\n",
       "       'поселок тельмана', 'поселок севастьяново',\n",
       "       'городской поселок большая ижора', 'городской поселок павлово',\n",
       "       'деревня агалатово', 'поселок новогорелово',\n",
       "       'городской поселок лесогорский', 'деревня лаголово',\n",
       "       'поселок цвелодубово', 'поселок городского типа рахья',\n",
       "       'деревня белогорка', 'поселок заводской',\n",
       "       'городской поселок новоселье', 'деревня большие колпаны',\n",
       "       'деревня горбунки', 'деревня батово', 'деревня заневка',\n",
       "       'деревня иссад', 'приморск', 'городской поселок федоровское',\n",
       "       'деревня мистолово', 'новая ладога', 'поселок зимитицы',\n",
       "       'поселок барышево', 'деревня разметелево',\n",
       "       'поселок городского типа имени свердлова', 'деревня пеники',\n",
       "       'поселок рябово', 'деревня пудомяги', 'поселок станции корнево',\n",
       "       'деревня низино', 'деревня бегуницы', 'поселок поляны',\n",
       "       'городской поселок мга', 'поселок елизаветино',\n",
       "       'поселок городского типа кузнечное', 'деревня колтуши',\n",
       "       'поселок запорожское', 'деревня гостилицы',\n",
       "       'деревня малое карлино', 'поселок мичуринское',\n",
       "       'поселок городского типа имени морозова', 'поселок песочный',\n",
       "       'поселок сосново', 'деревня аро', 'поселок ильичево',\n",
       "       'поселок городского типа тайцы', 'деревня малое верево',\n",
       "       'деревня извара', 'поселок станции вещево', 'село паша',\n",
       "       'деревня калитино', 'поселок городского типа ульяновка',\n",
       "       'деревня чудской бор', 'поселок городского типа дубровка',\n",
       "       'деревня мины', 'поселок войсковицы', 'деревня коркино',\n",
       "       'поселок ропша', 'поселок городского типа приладожский',\n",
       "       'поселок щеглово', 'поселок гаврилово', 'лодейное поле',\n",
       "       'деревня рабитицы', 'поселок городского типа никольский',\n",
       "       'деревня кузьмолово', 'деревня малые колпаны',\n",
       "       'поселок петро-славянка', 'городской поселок назия',\n",
       "       'поселок репино', 'поселок углово', 'поселок старая малукса',\n",
       "       'садовое товарищество рахья', 'деревня меньково',\n",
       "       'деревня старые бегуницы', 'поселок саперный', 'поселок семрино',\n",
       "       'поселок глажево', 'поселок кобринское', 'деревня гарболово',\n",
       "       'деревня юкки', 'поселок станции приветнинское',\n",
       "       'деревня мануйлово', 'деревня пчева', 'поселок цвылево',\n",
       "       'поселок мельниково', 'поселок пудость', 'поселок усть-луга',\n",
       "       'светогорск', 'любань', 'поселок селезнево',\n",
       "       'поселок городского типа рябово', 'каменногорск', 'деревня кривко',\n",
       "       'поселок глебычево', 'деревня парицы', 'поселок жилпоселок',\n",
       "       'поселок городского типа мга', 'поселок войскорово',\n",
       "       'село никольское', 'поселок стеклянный',\n",
       "       'поселок городского типа важины', 'поселок мыза-ивановка',\n",
       "       'село русско-высоцкое', 'поселок городского типа форносово',\n",
       "       'село старая ладога', 'поселок житково',\n",
       "       'городской поселок виллози', 'деревня лампово',\n",
       "       'деревня шпаньково', 'деревня лаврики', 'поселок сумино',\n",
       "       'поселок возрождение', 'деревня старосиверская',\n",
       "       'поселок кикерино', 'деревня старое хинколово',\n",
       "       'поселок пригородный', 'поселок торфяное',\n",
       "       'городской поселок будогощь', 'поселок суходолье',\n",
       "       'поселок красная долина', 'деревня хапо-ое',\n",
       "       'поселок городского типа дружная горка', 'поселок лисий нос',\n",
       "       'деревня яльгелево', 'село рождествено', 'деревня старополье',\n",
       "       'поселок левашово', 'деревня сяськелево', 'деревня камышовка',\n",
       "       'садоводческое некоммерческое товарищество лесная поляна',\n",
       "       'деревня хязельки', 'поселок жилгородок',\n",
       "       'поселок городского типа павлово', 'деревня ялгино',\n",
       "       'поселок новый учхоз', 'городской поселок рощино',\n",
       "       'поселок гончарово', 'поселок почап', 'поселок саперное',\n",
       "       'поселок платформа 69-й километр', 'поселок каложицы',\n",
       "       'деревня фалилеево', 'деревня пельгора',\n",
       "       'поселок городского типа лесогорский', 'деревня торошковичи',\n",
       "       'поселок белоостров', 'поселок алексеевка', 'поселок серебрянский',\n",
       "       'поселок лукаши', 'деревня щеглово', 'деревня тарасово',\n",
       "       'поселок кингисеппский',\n",
       "       'поселок при железнодорожной станции вещево', 'поселок ушаки',\n",
       "       'деревня котлы', 'деревня сижно', 'деревня торосово',\n",
       "       'поселок форт красная горка', 'деревня новолисино',\n",
       "       'поселок станции громово', 'деревня глинка',\n",
       "       'поселок городского типа назия', 'деревня старая пустошь',\n",
       "       'поселок коммунары', 'поселок починок',\n",
       "       'поселок городского типа вознесенье', 'деревня разбегаево',\n",
       "       'поселок гладкое',\n",
       "       'поселок при железнодорожной станции приветнинское',\n",
       "       'поселок тесово-4', 'деревня бор', 'поселок коробицыно',\n",
       "       'деревня большая вруда', 'деревня курковицы',\n",
       "       'городской поселок советский', 'поселок кобралово',\n",
       "       'деревня суоранда', 'поселок городского типа кондратьево',\n",
       "       'коттеджный поселок счастье', 'поселок любань', 'деревня реброво',\n",
       "       'деревня зимитицы', 'деревня тойворово', 'поселок семиозерье',\n",
       "       'поселок лесное', 'поселок совхозный', 'поселок ленинское',\n",
       "       'поселок суйда', 'деревня нижние осельки', 'поселок станции свирь',\n",
       "       'поселок перово', 'высоцк', 'поселок гарболово', 'село шум',\n",
       "       'поселок котельский', 'поселок станции лужайка',\n",
       "       'деревня большая пустомержа', 'поселок красносельское',\n",
       "       'деревня вахнова кара', 'деревня пижма',\n",
       "       'коттеджный поселок кивеннапа север', 'поселок ромашки',\n",
       "       'деревня каськово', 'деревня куровицы', 'поселок плоское',\n",
       "       'поселок городского типа большая ижора', 'поселок кирпичное',\n",
       "       'деревня ям-тесово', 'деревня раздолье', 'деревня терпилицы',\n",
       "       'поселок шугозеро', 'деревня ваганово', 'поселок пушное',\n",
       "       'садовое товарищество садко', 'поселок усть-ижора',\n",
       "       'деревня выскатка', 'городской поселок свирьстрой',\n",
       "       'поселок громово', 'деревня кисельня', 'деревня трубников бор',\n",
       "       'поселок калитино', 'поселок высокоключевой',\n",
       "       'садовое товарищество приладожский',\n",
       "       'поселок пансионат зеленый бор', 'деревня ненимяки',\n",
       "       'деревня снегиревка', 'деревня рапполово', 'деревня пустынка',\n",
       "       'поселок рабитицы', 'деревня большой сабск', 'деревня русско',\n",
       "       'деревня лупполово', 'деревня большое рейзино',\n",
       "       'деревня малая романовка', 'поселок дружноселье', 'поселок пчевжа',\n",
       "       'поселок володарское', 'деревня нижняя',\n",
       "       'коттеджный поселок лесное', 'деревня тихковицы',\n",
       "       'деревня борисова грива', 'поселок дзержинского'], dtype=object)"
      ]
     },
     "execution_count": 15,
     "metadata": {},
     "output_type": "execute_result"
    }
   ],
   "source": [
    "houseroom['locality_name'].unique()"
   ]
  },
  {
   "cell_type": "markdown",
   "metadata": {},
   "source": [
    "#### Кол-во населенных пунктов уменьшилось с 364 до 330, замена \"ё\" на \"е\" дала результат"
   ]
  },
  {
   "cell_type": "code",
   "execution_count": 16,
   "metadata": {},
   "outputs": [],
   "source": [
    "tip_locality_name = ['поселок ', 'городского ', 'типа ', 'станции ', 'при ', 'железнодорожной ', 'село ', \n",
    "                     'деревня ', 'городской ', 'садовое ', 'товарищество ', 'садоводческое ', \n",
    "                     'некоммерческое ', 'коттеджный '\n",
    "                    ]\n",
    "for i in tip_locality_name:\n",
    "    houseroom['locality_name'] = houseroom['locality_name'].str.replace(i, '')"
   ]
  },
  {
   "cell_type": "code",
   "execution_count": 17,
   "metadata": {},
   "outputs": [
    {
     "name": "stdout",
     "output_type": "stream",
     "text": [
      "Количество уникальных населенных пунктов после удаления типа населенного пункта: 305\n"
     ]
    }
   ],
   "source": [
    "print('Количество уникальных населенных пунктов после удаления типа населенного пункта: {}'.format(len(houseroom['locality_name'].unique())))"
   ]
  },
  {
   "cell_type": "code",
   "execution_count": 18,
   "metadata": {},
   "outputs": [
    {
     "data": {
      "text/plain": [
       "array(['санкт-петербург', 'шушары', 'янино-1', 'парголово', 'мурино',\n",
       "       'ломоносов', 'сертолово', 'петергоф', 'пушкин', 'кудрово',\n",
       "       'коммунар', 'колпино', 'красный бор', 'гатчина', 'федоровское',\n",
       "       'выборг', 'кронштадт', 'кировск', 'новое девяткино',\n",
       "       'металлострой', 'лебяжье', 'сиверский', 'молодцово',\n",
       "       'кузьмоловский', 'новая ропша', 'павловск', 'пикколово',\n",
       "       'всеволожск', 'волхов', 'кингисепп', 'приозерск', 'сестрорецк',\n",
       "       'куттузи', 'аннино', 'ефимовский', 'плодовое', 'заклинье',\n",
       "       'торковичи', 'первомайское', 'красное село', 'понтонный',\n",
       "       'сясьстрой', 'старая', 'лесколово', 'новый свет', 'сланцы',\n",
       "       'путилово', 'ивангород', 'шлиссельбург', 'никольское',\n",
       "       'зеленогорск', 'сосновый бор', 'оржицы', 'кальтино', 'романовка',\n",
       "       'бугры', 'рощино', 'кириши', 'луга', 'волосово', 'отрадное',\n",
       "       'павлово', 'оредеж', 'копорье', 'молодежное', 'тихвин', 'победа',\n",
       "       'нурма', 'синявино', 'тосно', 'стрельна', 'бокситогорск',\n",
       "       'александровская', 'лопухинка', 'пикалево', 'терволово',\n",
       "       'советский', 'подпорожье', 'петровское', 'токсово', 'сельцо',\n",
       "       'вырица', 'кипень', 'келози', 'вартемяги', 'тельмана',\n",
       "       'севастьяново', 'большая ижора', 'агалатово', 'новогорелово',\n",
       "       'лесогорский', 'лаголово', 'цвелодубово', 'рахья', 'белогорка',\n",
       "       'заводской', 'новоселье', 'большие колпаны', 'горбунки', 'батово',\n",
       "       'заневка', 'иссад', 'приморск', 'мистолово', 'новая ладога',\n",
       "       'зимитицы', 'барышево', 'разметелево', 'имени свердлова', 'пеники',\n",
       "       'рябово', 'пудомяги', 'корнево', 'низино', 'бегуницы', 'поляны',\n",
       "       'мга', 'елизаветино', 'кузнечное', 'колтуши', 'запорожское',\n",
       "       'гостилицы', 'малое карлино', 'мичуринское', 'имени морозова',\n",
       "       'песочный', 'сосново', 'аро', 'ильичево', 'тайцы', 'малое верево',\n",
       "       'извара', 'вещево', 'паша', 'калитино', 'ульяновка', 'чудской бор',\n",
       "       'дубровка', 'мины', 'войсковицы', 'коркино', 'ропша',\n",
       "       'приладожский', 'щеглово', 'гаврилово', 'лодейное поле',\n",
       "       'рабитицы', 'никольский', 'кузьмолово', 'малые колпаны',\n",
       "       'петро-славянка', 'назия', 'репино', 'углово', 'старая малукса',\n",
       "       'меньково', 'старые бегуницы', 'саперный', 'семрино', 'глажево',\n",
       "       'кобринское', 'гарболово', 'юкки', 'приветнинское', 'мануйлово',\n",
       "       'пчева', 'цвылево', 'мельниково', 'пудость', 'усть-луга',\n",
       "       'светогорск', 'любань', 'селезнево', 'каменногорск', 'кривко',\n",
       "       'глебычево', 'парицы', 'жилпоселок', 'войскорово', 'стеклянный',\n",
       "       'важины', 'мыза-ивановка', 'русско-высоцкое', 'форносово',\n",
       "       'старая ладога', 'житково', 'виллози', 'лампово', 'шпаньково',\n",
       "       'лаврики', 'сумино', 'возрождение', 'старосиверская', 'кикерино',\n",
       "       'старое хинколово', 'пригородный', 'торфяное', 'будогощь',\n",
       "       'суходолье', 'красная долина', 'хапо-ое', 'дружная горка',\n",
       "       'лисий нос', 'яльгелево', 'рождествено', 'старополье', 'левашово',\n",
       "       'сяськелево', 'камышовка', 'лесная поляна', 'хязельки',\n",
       "       'жилгородок', 'ялгино', 'новый учхоз', 'гончарово', 'почап',\n",
       "       'саперное', 'платформа 69-й километр', 'каложицы', 'фалилеево',\n",
       "       'пельгора', 'торошковичи', 'белоостров', 'алексеевка',\n",
       "       'серебрянский', 'лукаши', 'тарасово', 'кингисеппский', 'ушаки',\n",
       "       'котлы', 'сижно', 'торосово', 'форт красная горка', 'новолисино',\n",
       "       'громово', 'глинка', 'старая пустошь', 'коммунары', 'починок',\n",
       "       'вознесенье', 'разбегаево', 'гладкое', 'тесово-4', 'бор',\n",
       "       'коробицыно', 'большая вруда', 'курковицы', 'кобралово',\n",
       "       'суоранда', 'кондратьево', 'счастье', 'реброво', 'тойворово',\n",
       "       'семиозерье', 'лесное', 'совхозный', 'ленинское', 'суйда',\n",
       "       'нижние осельки', 'свирь', 'перово', 'высоцк', 'шум', 'котельский',\n",
       "       'лужайка', 'большая пустомержа', 'красносельское', 'вахнова кара',\n",
       "       'пижма', 'кивеннапа север', 'ромашки', 'каськово', 'куровицы',\n",
       "       'плоское', 'кирпичное', 'ям-тесово', 'раздолье', 'терпилицы',\n",
       "       'шугозеро', 'ваганово', 'пушное', 'садко', 'усть-ижора',\n",
       "       'выскатка', 'свирьстрой', 'кисельня', 'трубников бор',\n",
       "       'высокоключевой', 'пансионат зеленый бор', 'ненимяки',\n",
       "       'снегиревка', 'рапполово', 'пустынка', 'большой сабск', 'русско',\n",
       "       'лупполово', 'большое рейзино', 'малая романовка', 'дружноселье',\n",
       "       'пчевжа', 'володарское', 'нижняя', 'тихковицы', 'борисова грива',\n",
       "       'дзержинского'], dtype=object)"
      ]
     },
     "execution_count": 18,
     "metadata": {},
     "output_type": "execute_result"
    }
   ],
   "source": [
    "houseroom['locality_name'].unique()"
   ]
  },
  {
   "cell_type": "markdown",
   "metadata": {},
   "source": [
    "#### Кол-во населенных пунктов уменьшилось с 330 до 305."
   ]
  },
  {
   "cell_type": "markdown",
   "metadata": {},
   "source": [
    "#### 2.5 Анализ столбцов 'studio' и 'open_plan'<a id=\"step2.5\"></a> "
   ]
  },
  {
   "cell_type": "code",
   "execution_count": 19,
   "metadata": {},
   "outputs": [
    {
     "data": {
      "text/plain": [
       "array([False,  True])"
      ]
     },
     "execution_count": 19,
     "metadata": {},
     "output_type": "execute_result"
    }
   ],
   "source": [
    "houseroom['studio'].unique()"
   ]
  },
  {
   "cell_type": "code",
   "execution_count": 20,
   "metadata": {},
   "outputs": [
    {
     "data": {
      "text/plain": [
       "array([False,  True])"
      ]
     },
     "execution_count": 20,
     "metadata": {},
     "output_type": "execute_result"
    }
   ],
   "source": [
    "houseroom['open_plan'].unique()"
   ]
  },
  {
   "cell_type": "markdown",
   "metadata": {},
   "source": [
    "#### В этих столбцах все хорошо, пропусков нет, значения булева типа"
   ]
  },
  {
   "cell_type": "markdown",
   "metadata": {},
   "source": [
    "#### 2.6 Обработка столбца 'rooms'<a id=\"step2.6\"></a> "
   ]
  },
  {
   "cell_type": "code",
   "execution_count": 21,
   "metadata": {},
   "outputs": [
    {
     "data": {
      "text/plain": [
       "array([ 3,  1,  2,  4,  5,  6,  0,  7, 11,  8, 14, 10, 15,  9, 19, 16, 12])"
      ]
     },
     "execution_count": 21,
     "metadata": {},
     "output_type": "execute_result"
    }
   ],
   "source": [
    "houseroom['rooms'].unique()"
   ]
  },
  {
   "cell_type": "code",
   "execution_count": 22,
   "metadata": {},
   "outputs": [
    {
     "name": "stdout",
     "output_type": "stream",
     "text": [
      "Количество отброшенных строк с нулем комнат: 197\n"
     ]
    }
   ],
   "source": [
    "#уберу из анализа квартиры с нулем комнат\n",
    "a = houseroom.shape[0]\n",
    "houseroom = houseroom.loc[houseroom['rooms'] != 0]\n",
    "print('Количество отброшенных строк с нулем комнат: {}'.format(a - houseroom.shape[0]))"
   ]
  },
  {
   "cell_type": "markdown",
   "metadata": {},
   "source": [
    "#### 2.7 Проверка на наличие дубликатов<a id=\"step2.7\"></a> "
   ]
  },
  {
   "cell_type": "code",
   "execution_count": 23,
   "metadata": {},
   "outputs": [
    {
     "name": "stdout",
     "output_type": "stream",
     "text": [
      "Количество обнаруженных дубликатов: 0\n"
     ]
    }
   ],
   "source": [
    "print('Количество обнаруженных дубликатов: {}'.format(houseroom.duplicated().sum()))"
   ]
  },
  {
   "cell_type": "markdown",
   "metadata": {},
   "source": [
    "#### 2.8 Выводы <a id=\"step2.8\"></a> "
   ]
  },
  {
   "cell_type": "markdown",
   "metadata": {},
   "source": [
    "Из огромного количества пропусков в 14 столбцах мною было принято решение заполнить пропуски только в столбцах с количеством балконов и тип апартаменты. Пропуски в высоте потолка и этажности дома заполнить нет возможности, так как эти значения не зависят от значений в столбце (квартиры в одном населенном пункте со схожими параметрами по площади могут быть с разной высотой потолка и уж тем более в домах с разной этажностью). При этом в этажности пропусков мало, думаю они допущены случайно (по невнимательности), ведь странно не знать кол-во этажей в доме. А вот пропуски в высоте потолка скорее потому, что люди ее не знают и не потрудились измерить. Пропуски в жилой площади и кухни пока не стала ни на что заменять, так как в задаче далее буду вычислять их соотношение с общей площадью и возможно увижу закономерность. Пропущенные значения в названиях населенных пунктов были удалены, их не много и для дальнейшего анализа они бы мешали. Также исключены квартиры с нулем комнат. Оставшиеся пропуски заменить нет возможности, так как не достаточно данных для определения значений (например, невозможно определить расстояние до центра, имея только название населенного пункта). Тип данных заменила в балконах с вещественого на целочисленный и в столбце с датой публикации. Дубликатов обнаружено не было."
   ]
  },
  {
   "cell_type": "markdown",
   "metadata": {},
   "source": [
    "### 3. Дополнительные расчеты и новые столбцы<a id=\"step3\"></a> "
   ]
  },
  {
   "cell_type": "markdown",
   "metadata": {},
   "source": [
    "#### 3.1 Цена квадратного метра<a id=\"step3.1\"></a> "
   ]
  },
  {
   "cell_type": "code",
   "execution_count": 24,
   "metadata": {},
   "outputs": [
    {
     "data": {
      "text/plain": [
       "1907500.0"
      ]
     },
     "execution_count": 24,
     "metadata": {},
     "output_type": "execute_result"
    }
   ],
   "source": [
    "#вычислю цену квадратного метра, поделив стоимость квартиры на общую площадь\n",
    "houseroom['price_metr'] = houseroom['last_price'] / houseroom['total_area']\n",
    "#значения получатся типа 'float', оценю диапазон и заменю на подходящий 'int'\n",
    "houseroom['price_metr'].max()"
   ]
  },
  {
   "cell_type": "code",
   "execution_count": 25,
   "metadata": {},
   "outputs": [
    {
     "data": {
      "text/plain": [
       "0    120370\n",
       "1     82920\n",
       "2     92785\n",
       "3    408176\n",
       "4    100000\n",
       "Name: price_metr, dtype: int32"
      ]
     },
     "execution_count": 25,
     "metadata": {},
     "output_type": "execute_result"
    }
   ],
   "source": [
    "#максимальное значение 7-значное, поэтому int16 маловато, а int32 достаточно\n",
    "houseroom['price_metr'] = houseroom['price_metr'].astype('int32')\n",
    "houseroom['price_metr'].head()"
   ]
  },
  {
   "cell_type": "markdown",
   "metadata": {},
   "source": [
    "#### 3.2 День недели, месяц и год публикации<a id=\"step3.2\"></a> "
   ]
  },
  {
   "cell_type": "code",
   "execution_count": 26,
   "metadata": {},
   "outputs": [
    {
     "data": {
      "text/html": [
       "<div>\n",
       "<style scoped>\n",
       "    .dataframe tbody tr th:only-of-type {\n",
       "        vertical-align: middle;\n",
       "    }\n",
       "\n",
       "    .dataframe tbody tr th {\n",
       "        vertical-align: top;\n",
       "    }\n",
       "\n",
       "    .dataframe thead th {\n",
       "        text-align: right;\n",
       "    }\n",
       "</style>\n",
       "<table border=\"1\" class=\"dataframe\">\n",
       "  <thead>\n",
       "    <tr style=\"text-align: right;\">\n",
       "      <th></th>\n",
       "      <th>total_images</th>\n",
       "      <th>last_price</th>\n",
       "      <th>total_area</th>\n",
       "      <th>first_day_exposition</th>\n",
       "      <th>rooms</th>\n",
       "      <th>ceiling_height</th>\n",
       "      <th>floors_total</th>\n",
       "      <th>living_area</th>\n",
       "      <th>floor</th>\n",
       "      <th>is_apartment</th>\n",
       "      <th>...</th>\n",
       "      <th>cityCenters_nearest</th>\n",
       "      <th>parks_around3000</th>\n",
       "      <th>parks_nearest</th>\n",
       "      <th>ponds_around3000</th>\n",
       "      <th>ponds_nearest</th>\n",
       "      <th>days_exposition</th>\n",
       "      <th>price_metr</th>\n",
       "      <th>weekday_exposition</th>\n",
       "      <th>month_exposition</th>\n",
       "      <th>year_exposition</th>\n",
       "    </tr>\n",
       "  </thead>\n",
       "  <tbody>\n",
       "    <tr>\n",
       "      <td>0</td>\n",
       "      <td>20</td>\n",
       "      <td>13000000.0</td>\n",
       "      <td>108.00</td>\n",
       "      <td>2019-03-07</td>\n",
       "      <td>3</td>\n",
       "      <td>2.70</td>\n",
       "      <td>16.0</td>\n",
       "      <td>51.00</td>\n",
       "      <td>8</td>\n",
       "      <td>False</td>\n",
       "      <td>...</td>\n",
       "      <td>16028.0</td>\n",
       "      <td>1.0</td>\n",
       "      <td>482.0</td>\n",
       "      <td>2.0</td>\n",
       "      <td>755.0</td>\n",
       "      <td>NaN</td>\n",
       "      <td>120370</td>\n",
       "      <td>3</td>\n",
       "      <td>3</td>\n",
       "      <td>2019</td>\n",
       "    </tr>\n",
       "    <tr>\n",
       "      <td>1</td>\n",
       "      <td>7</td>\n",
       "      <td>3350000.0</td>\n",
       "      <td>40.40</td>\n",
       "      <td>2018-12-04</td>\n",
       "      <td>1</td>\n",
       "      <td>NaN</td>\n",
       "      <td>11.0</td>\n",
       "      <td>18.60</td>\n",
       "      <td>1</td>\n",
       "      <td>False</td>\n",
       "      <td>...</td>\n",
       "      <td>18603.0</td>\n",
       "      <td>0.0</td>\n",
       "      <td>NaN</td>\n",
       "      <td>0.0</td>\n",
       "      <td>NaN</td>\n",
       "      <td>81.0</td>\n",
       "      <td>82920</td>\n",
       "      <td>1</td>\n",
       "      <td>12</td>\n",
       "      <td>2018</td>\n",
       "    </tr>\n",
       "    <tr>\n",
       "      <td>2</td>\n",
       "      <td>10</td>\n",
       "      <td>5196000.0</td>\n",
       "      <td>56.00</td>\n",
       "      <td>2015-08-20</td>\n",
       "      <td>2</td>\n",
       "      <td>NaN</td>\n",
       "      <td>5.0</td>\n",
       "      <td>34.30</td>\n",
       "      <td>4</td>\n",
       "      <td>False</td>\n",
       "      <td>...</td>\n",
       "      <td>13933.0</td>\n",
       "      <td>1.0</td>\n",
       "      <td>90.0</td>\n",
       "      <td>2.0</td>\n",
       "      <td>574.0</td>\n",
       "      <td>558.0</td>\n",
       "      <td>92785</td>\n",
       "      <td>3</td>\n",
       "      <td>8</td>\n",
       "      <td>2015</td>\n",
       "    </tr>\n",
       "    <tr>\n",
       "      <td>3</td>\n",
       "      <td>0</td>\n",
       "      <td>64900000.0</td>\n",
       "      <td>159.00</td>\n",
       "      <td>2015-07-24</td>\n",
       "      <td>3</td>\n",
       "      <td>NaN</td>\n",
       "      <td>14.0</td>\n",
       "      <td>NaN</td>\n",
       "      <td>9</td>\n",
       "      <td>False</td>\n",
       "      <td>...</td>\n",
       "      <td>6800.0</td>\n",
       "      <td>2.0</td>\n",
       "      <td>84.0</td>\n",
       "      <td>3.0</td>\n",
       "      <td>234.0</td>\n",
       "      <td>424.0</td>\n",
       "      <td>408176</td>\n",
       "      <td>4</td>\n",
       "      <td>7</td>\n",
       "      <td>2015</td>\n",
       "    </tr>\n",
       "    <tr>\n",
       "      <td>4</td>\n",
       "      <td>2</td>\n",
       "      <td>10000000.0</td>\n",
       "      <td>100.00</td>\n",
       "      <td>2018-06-19</td>\n",
       "      <td>2</td>\n",
       "      <td>3.03</td>\n",
       "      <td>14.0</td>\n",
       "      <td>32.00</td>\n",
       "      <td>13</td>\n",
       "      <td>False</td>\n",
       "      <td>...</td>\n",
       "      <td>8098.0</td>\n",
       "      <td>2.0</td>\n",
       "      <td>112.0</td>\n",
       "      <td>1.0</td>\n",
       "      <td>48.0</td>\n",
       "      <td>121.0</td>\n",
       "      <td>100000</td>\n",
       "      <td>1</td>\n",
       "      <td>6</td>\n",
       "      <td>2018</td>\n",
       "    </tr>\n",
       "    <tr>\n",
       "      <td>5</td>\n",
       "      <td>10</td>\n",
       "      <td>2890000.0</td>\n",
       "      <td>30.40</td>\n",
       "      <td>2018-09-10</td>\n",
       "      <td>1</td>\n",
       "      <td>NaN</td>\n",
       "      <td>12.0</td>\n",
       "      <td>14.40</td>\n",
       "      <td>5</td>\n",
       "      <td>False</td>\n",
       "      <td>...</td>\n",
       "      <td>NaN</td>\n",
       "      <td>NaN</td>\n",
       "      <td>NaN</td>\n",
       "      <td>NaN</td>\n",
       "      <td>NaN</td>\n",
       "      <td>55.0</td>\n",
       "      <td>95065</td>\n",
       "      <td>0</td>\n",
       "      <td>9</td>\n",
       "      <td>2018</td>\n",
       "    </tr>\n",
       "    <tr>\n",
       "      <td>6</td>\n",
       "      <td>6</td>\n",
       "      <td>3700000.0</td>\n",
       "      <td>37.30</td>\n",
       "      <td>2017-11-02</td>\n",
       "      <td>1</td>\n",
       "      <td>NaN</td>\n",
       "      <td>26.0</td>\n",
       "      <td>10.60</td>\n",
       "      <td>6</td>\n",
       "      <td>False</td>\n",
       "      <td>...</td>\n",
       "      <td>19143.0</td>\n",
       "      <td>0.0</td>\n",
       "      <td>NaN</td>\n",
       "      <td>0.0</td>\n",
       "      <td>NaN</td>\n",
       "      <td>155.0</td>\n",
       "      <td>99195</td>\n",
       "      <td>3</td>\n",
       "      <td>11</td>\n",
       "      <td>2017</td>\n",
       "    </tr>\n",
       "    <tr>\n",
       "      <td>7</td>\n",
       "      <td>5</td>\n",
       "      <td>7915000.0</td>\n",
       "      <td>71.60</td>\n",
       "      <td>2019-04-18</td>\n",
       "      <td>2</td>\n",
       "      <td>NaN</td>\n",
       "      <td>24.0</td>\n",
       "      <td>NaN</td>\n",
       "      <td>22</td>\n",
       "      <td>False</td>\n",
       "      <td>...</td>\n",
       "      <td>11634.0</td>\n",
       "      <td>0.0</td>\n",
       "      <td>NaN</td>\n",
       "      <td>0.0</td>\n",
       "      <td>NaN</td>\n",
       "      <td>NaN</td>\n",
       "      <td>110544</td>\n",
       "      <td>3</td>\n",
       "      <td>4</td>\n",
       "      <td>2019</td>\n",
       "    </tr>\n",
       "    <tr>\n",
       "      <td>8</td>\n",
       "      <td>20</td>\n",
       "      <td>2900000.0</td>\n",
       "      <td>33.16</td>\n",
       "      <td>2018-05-23</td>\n",
       "      <td>1</td>\n",
       "      <td>NaN</td>\n",
       "      <td>27.0</td>\n",
       "      <td>15.43</td>\n",
       "      <td>26</td>\n",
       "      <td>False</td>\n",
       "      <td>...</td>\n",
       "      <td>NaN</td>\n",
       "      <td>NaN</td>\n",
       "      <td>NaN</td>\n",
       "      <td>NaN</td>\n",
       "      <td>NaN</td>\n",
       "      <td>189.0</td>\n",
       "      <td>87454</td>\n",
       "      <td>2</td>\n",
       "      <td>5</td>\n",
       "      <td>2018</td>\n",
       "    </tr>\n",
       "    <tr>\n",
       "      <td>9</td>\n",
       "      <td>18</td>\n",
       "      <td>5400000.0</td>\n",
       "      <td>61.00</td>\n",
       "      <td>2017-02-26</td>\n",
       "      <td>3</td>\n",
       "      <td>2.50</td>\n",
       "      <td>9.0</td>\n",
       "      <td>43.60</td>\n",
       "      <td>7</td>\n",
       "      <td>False</td>\n",
       "      <td>...</td>\n",
       "      <td>15008.0</td>\n",
       "      <td>0.0</td>\n",
       "      <td>NaN</td>\n",
       "      <td>0.0</td>\n",
       "      <td>NaN</td>\n",
       "      <td>289.0</td>\n",
       "      <td>88524</td>\n",
       "      <td>6</td>\n",
       "      <td>2</td>\n",
       "      <td>2017</td>\n",
       "    </tr>\n",
       "  </tbody>\n",
       "</table>\n",
       "<p>10 rows × 26 columns</p>\n",
       "</div>"
      ],
      "text/plain": [
       "   total_images  last_price  total_area first_day_exposition  rooms  \\\n",
       "0            20  13000000.0      108.00           2019-03-07      3   \n",
       "1             7   3350000.0       40.40           2018-12-04      1   \n",
       "2            10   5196000.0       56.00           2015-08-20      2   \n",
       "3             0  64900000.0      159.00           2015-07-24      3   \n",
       "4             2  10000000.0      100.00           2018-06-19      2   \n",
       "5            10   2890000.0       30.40           2018-09-10      1   \n",
       "6             6   3700000.0       37.30           2017-11-02      1   \n",
       "7             5   7915000.0       71.60           2019-04-18      2   \n",
       "8            20   2900000.0       33.16           2018-05-23      1   \n",
       "9            18   5400000.0       61.00           2017-02-26      3   \n",
       "\n",
       "   ceiling_height  floors_total  living_area  floor  is_apartment  ...  \\\n",
       "0            2.70          16.0        51.00      8         False  ...   \n",
       "1             NaN          11.0        18.60      1         False  ...   \n",
       "2             NaN           5.0        34.30      4         False  ...   \n",
       "3             NaN          14.0          NaN      9         False  ...   \n",
       "4            3.03          14.0        32.00     13         False  ...   \n",
       "5             NaN          12.0        14.40      5         False  ...   \n",
       "6             NaN          26.0        10.60      6         False  ...   \n",
       "7             NaN          24.0          NaN     22         False  ...   \n",
       "8             NaN          27.0        15.43     26         False  ...   \n",
       "9            2.50           9.0        43.60      7         False  ...   \n",
       "\n",
       "   cityCenters_nearest  parks_around3000  parks_nearest  ponds_around3000  \\\n",
       "0              16028.0               1.0          482.0               2.0   \n",
       "1              18603.0               0.0            NaN               0.0   \n",
       "2              13933.0               1.0           90.0               2.0   \n",
       "3               6800.0               2.0           84.0               3.0   \n",
       "4               8098.0               2.0          112.0               1.0   \n",
       "5                  NaN               NaN            NaN               NaN   \n",
       "6              19143.0               0.0            NaN               0.0   \n",
       "7              11634.0               0.0            NaN               0.0   \n",
       "8                  NaN               NaN            NaN               NaN   \n",
       "9              15008.0               0.0            NaN               0.0   \n",
       "\n",
       "  ponds_nearest  days_exposition  price_metr  weekday_exposition  \\\n",
       "0         755.0              NaN      120370                   3   \n",
       "1           NaN             81.0       82920                   1   \n",
       "2         574.0            558.0       92785                   3   \n",
       "3         234.0            424.0      408176                   4   \n",
       "4          48.0            121.0      100000                   1   \n",
       "5           NaN             55.0       95065                   0   \n",
       "6           NaN            155.0       99195                   3   \n",
       "7           NaN              NaN      110544                   3   \n",
       "8           NaN            189.0       87454                   2   \n",
       "9           NaN            289.0       88524                   6   \n",
       "\n",
       "   month_exposition  year_exposition  \n",
       "0                 3             2019  \n",
       "1                12             2018  \n",
       "2                 8             2015  \n",
       "3                 7             2015  \n",
       "4                 6             2018  \n",
       "5                 9             2018  \n",
       "6                11             2017  \n",
       "7                 4             2019  \n",
       "8                 5             2018  \n",
       "9                 2             2017  \n",
       "\n",
       "[10 rows x 26 columns]"
      ]
     },
     "execution_count": 26,
     "metadata": {},
     "output_type": "execute_result"
    }
   ],
   "source": [
    "houseroom['weekday_exposition'] = houseroom['first_day_exposition'].dt.weekday.astype('int16')\n",
    "houseroom['month_exposition'] = houseroom['first_day_exposition'].dt.month.astype('int16')\n",
    "houseroom['year_exposition'] = houseroom['first_day_exposition'].dt.year.astype('int16')\n",
    "houseroom.head(10)"
   ]
  },
  {
   "cell_type": "markdown",
   "metadata": {},
   "source": [
    "#### 3.3 Этаж квартиры — первый, последний, другой<a id=\"step3.3\"></a> "
   ]
  },
  {
   "cell_type": "code",
   "execution_count": 27,
   "metadata": {},
   "outputs": [
    {
     "name": "stdout",
     "output_type": "stream",
     "text": [
      "Количество пропусков в столбце с типом этажа: 0\n"
     ]
    }
   ],
   "source": [
    "#напишу функцию, которая будет сравнивать значения столбцов этаж и этажность и определять тип этажа\n",
    "def type_floor(row):\n",
    "    if row['floor'] == 1:\n",
    "        return 'первый'\n",
    "    elif row['floor'] == row['floors_total']:\n",
    "        return 'последний'\n",
    "    else:\n",
    "        return 'другой'\n",
    "\n",
    "#вызову функцию и одновременно добавлю столбец с получившимися значениями\n",
    "houseroom['type_floor'] = houseroom.apply(type_floor, axis=1)\n",
    "print('Количество пропусков в столбце с типом этажа: {}'.format(houseroom['type_floor'].isnull().sum()))"
   ]
  },
  {
   "cell_type": "markdown",
   "metadata": {},
   "source": [
    "#### 3.4 Соотношение жилой площади и кухни к общей площади квартиры<a id=\"step3.4\"></a> "
   ]
  },
  {
   "cell_type": "code",
   "execution_count": 28,
   "metadata": {},
   "outputs": [
    {
     "name": "stdout",
     "output_type": "stream",
     "text": [
      "Количество пропусков в столбце с частью жилой площади: 1884\n"
     ]
    }
   ],
   "source": [
    "houseroom['part_living_area'] = houseroom['living_area'] / houseroom['total_area']\n",
    "print('Количество пропусков в столбце с частью жилой площади: {}'.format(houseroom['part_living_area'].isnull().sum()))"
   ]
  },
  {
   "cell_type": "code",
   "execution_count": 29,
   "metadata": {},
   "outputs": [
    {
     "name": "stdout",
     "output_type": "stream",
     "text": [
      "Количество пропусков в столбце с частью кухни: 2072\n"
     ]
    }
   ],
   "source": [
    "houseroom['part_kitchen_area'] = houseroom['kitchen_area'] / houseroom['total_area']\n",
    "print('Количество пропусков в столбце с частью кухни: {}'.format(houseroom['part_kitchen_area'].isnull().sum()))"
   ]
  },
  {
   "cell_type": "markdown",
   "metadata": {},
   "source": [
    "#### 3.5 Добавление столбца с расстоянием до центра в км <a id=\"step3.5\"></a> "
   ]
  },
  {
   "cell_type": "code",
   "execution_count": 30,
   "metadata": {},
   "outputs": [
    {
     "data": {
      "text/html": [
       "<div>\n",
       "<style scoped>\n",
       "    .dataframe tbody tr th:only-of-type {\n",
       "        vertical-align: middle;\n",
       "    }\n",
       "\n",
       "    .dataframe tbody tr th {\n",
       "        vertical-align: top;\n",
       "    }\n",
       "\n",
       "    .dataframe thead th {\n",
       "        text-align: right;\n",
       "    }\n",
       "</style>\n",
       "<table border=\"1\" class=\"dataframe\">\n",
       "  <thead>\n",
       "    <tr style=\"text-align: right;\">\n",
       "      <th></th>\n",
       "      <th>total_images</th>\n",
       "      <th>last_price</th>\n",
       "      <th>total_area</th>\n",
       "      <th>first_day_exposition</th>\n",
       "      <th>rooms</th>\n",
       "      <th>ceiling_height</th>\n",
       "      <th>floors_total</th>\n",
       "      <th>living_area</th>\n",
       "      <th>floor</th>\n",
       "      <th>is_apartment</th>\n",
       "      <th>...</th>\n",
       "      <th>ponds_nearest</th>\n",
       "      <th>days_exposition</th>\n",
       "      <th>price_metr</th>\n",
       "      <th>weekday_exposition</th>\n",
       "      <th>month_exposition</th>\n",
       "      <th>year_exposition</th>\n",
       "      <th>type_floor</th>\n",
       "      <th>part_living_area</th>\n",
       "      <th>part_kitchen_area</th>\n",
       "      <th>cityCenters_nearest_km</th>\n",
       "    </tr>\n",
       "  </thead>\n",
       "  <tbody>\n",
       "    <tr>\n",
       "      <td>0</td>\n",
       "      <td>20</td>\n",
       "      <td>13000000.0</td>\n",
       "      <td>108.0</td>\n",
       "      <td>2019-03-07</td>\n",
       "      <td>3</td>\n",
       "      <td>2.70</td>\n",
       "      <td>16.0</td>\n",
       "      <td>51.0</td>\n",
       "      <td>8</td>\n",
       "      <td>False</td>\n",
       "      <td>...</td>\n",
       "      <td>755.0</td>\n",
       "      <td>NaN</td>\n",
       "      <td>120370</td>\n",
       "      <td>3</td>\n",
       "      <td>3</td>\n",
       "      <td>2019</td>\n",
       "      <td>другой</td>\n",
       "      <td>0.472222</td>\n",
       "      <td>0.231481</td>\n",
       "      <td>16.0</td>\n",
       "    </tr>\n",
       "    <tr>\n",
       "      <td>1</td>\n",
       "      <td>7</td>\n",
       "      <td>3350000.0</td>\n",
       "      <td>40.4</td>\n",
       "      <td>2018-12-04</td>\n",
       "      <td>1</td>\n",
       "      <td>NaN</td>\n",
       "      <td>11.0</td>\n",
       "      <td>18.6</td>\n",
       "      <td>1</td>\n",
       "      <td>False</td>\n",
       "      <td>...</td>\n",
       "      <td>NaN</td>\n",
       "      <td>81.0</td>\n",
       "      <td>82920</td>\n",
       "      <td>1</td>\n",
       "      <td>12</td>\n",
       "      <td>2018</td>\n",
       "      <td>первый</td>\n",
       "      <td>0.460396</td>\n",
       "      <td>0.272277</td>\n",
       "      <td>19.0</td>\n",
       "    </tr>\n",
       "    <tr>\n",
       "      <td>2</td>\n",
       "      <td>10</td>\n",
       "      <td>5196000.0</td>\n",
       "      <td>56.0</td>\n",
       "      <td>2015-08-20</td>\n",
       "      <td>2</td>\n",
       "      <td>NaN</td>\n",
       "      <td>5.0</td>\n",
       "      <td>34.3</td>\n",
       "      <td>4</td>\n",
       "      <td>False</td>\n",
       "      <td>...</td>\n",
       "      <td>574.0</td>\n",
       "      <td>558.0</td>\n",
       "      <td>92785</td>\n",
       "      <td>3</td>\n",
       "      <td>8</td>\n",
       "      <td>2015</td>\n",
       "      <td>другой</td>\n",
       "      <td>0.612500</td>\n",
       "      <td>0.148214</td>\n",
       "      <td>14.0</td>\n",
       "    </tr>\n",
       "    <tr>\n",
       "      <td>3</td>\n",
       "      <td>0</td>\n",
       "      <td>64900000.0</td>\n",
       "      <td>159.0</td>\n",
       "      <td>2015-07-24</td>\n",
       "      <td>3</td>\n",
       "      <td>NaN</td>\n",
       "      <td>14.0</td>\n",
       "      <td>NaN</td>\n",
       "      <td>9</td>\n",
       "      <td>False</td>\n",
       "      <td>...</td>\n",
       "      <td>234.0</td>\n",
       "      <td>424.0</td>\n",
       "      <td>408176</td>\n",
       "      <td>4</td>\n",
       "      <td>7</td>\n",
       "      <td>2015</td>\n",
       "      <td>другой</td>\n",
       "      <td>NaN</td>\n",
       "      <td>NaN</td>\n",
       "      <td>7.0</td>\n",
       "    </tr>\n",
       "    <tr>\n",
       "      <td>4</td>\n",
       "      <td>2</td>\n",
       "      <td>10000000.0</td>\n",
       "      <td>100.0</td>\n",
       "      <td>2018-06-19</td>\n",
       "      <td>2</td>\n",
       "      <td>3.03</td>\n",
       "      <td>14.0</td>\n",
       "      <td>32.0</td>\n",
       "      <td>13</td>\n",
       "      <td>False</td>\n",
       "      <td>...</td>\n",
       "      <td>48.0</td>\n",
       "      <td>121.0</td>\n",
       "      <td>100000</td>\n",
       "      <td>1</td>\n",
       "      <td>6</td>\n",
       "      <td>2018</td>\n",
       "      <td>другой</td>\n",
       "      <td>0.320000</td>\n",
       "      <td>0.410000</td>\n",
       "      <td>8.0</td>\n",
       "    </tr>\n",
       "  </tbody>\n",
       "</table>\n",
       "<p>5 rows × 30 columns</p>\n",
       "</div>"
      ],
      "text/plain": [
       "   total_images  last_price  total_area first_day_exposition  rooms  \\\n",
       "0            20  13000000.0       108.0           2019-03-07      3   \n",
       "1             7   3350000.0        40.4           2018-12-04      1   \n",
       "2            10   5196000.0        56.0           2015-08-20      2   \n",
       "3             0  64900000.0       159.0           2015-07-24      3   \n",
       "4             2  10000000.0       100.0           2018-06-19      2   \n",
       "\n",
       "   ceiling_height  floors_total  living_area  floor  is_apartment  ...  \\\n",
       "0            2.70          16.0         51.0      8         False  ...   \n",
       "1             NaN          11.0         18.6      1         False  ...   \n",
       "2             NaN           5.0         34.3      4         False  ...   \n",
       "3             NaN          14.0          NaN      9         False  ...   \n",
       "4            3.03          14.0         32.0     13         False  ...   \n",
       "\n",
       "   ponds_nearest  days_exposition  price_metr  weekday_exposition  \\\n",
       "0          755.0              NaN      120370                   3   \n",
       "1            NaN             81.0       82920                   1   \n",
       "2          574.0            558.0       92785                   3   \n",
       "3          234.0            424.0      408176                   4   \n",
       "4           48.0            121.0      100000                   1   \n",
       "\n",
       "  month_exposition  year_exposition  type_floor  part_living_area  \\\n",
       "0                3             2019      другой          0.472222   \n",
       "1               12             2018      первый          0.460396   \n",
       "2                8             2015      другой          0.612500   \n",
       "3                7             2015      другой               NaN   \n",
       "4                6             2018      другой          0.320000   \n",
       "\n",
       "   part_kitchen_area  cityCenters_nearest_km  \n",
       "0           0.231481                    16.0  \n",
       "1           0.272277                    19.0  \n",
       "2           0.148214                    14.0  \n",
       "3                NaN                     7.0  \n",
       "4           0.410000                     8.0  \n",
       "\n",
       "[5 rows x 30 columns]"
      ]
     },
     "execution_count": 30,
     "metadata": {},
     "output_type": "execute_result"
    }
   ],
   "source": [
    "houseroom['cityCenters_nearest_km'] = (houseroom['cityCenters_nearest']/1000).round(0)\n",
    "houseroom.head()"
   ]
  },
  {
   "cell_type": "markdown",
   "metadata": {},
   "source": [
    "#### 3.6 Итоги <a id=\"step3.6\"></a> "
   ]
  },
  {
   "cell_type": "markdown",
   "metadata": {},
   "source": [
    "В соответствии с заданием вычислены: цена за квадратный метр; день недели, месяц и год даты публикации; тип этажа; доля жилой площади и кухни от общей площади квартиры; добавлен столбец с расстоянием до центра в км."
   ]
  },
  {
   "cell_type": "markdown",
   "metadata": {},
   "source": [
    "### 4. Исследовательский анализ<a id=\"step4\"></a> "
   ]
  },
  {
   "cell_type": "markdown",
   "metadata": {},
   "source": [
    "#### 4.1 Изучение параметров: площадь, цена, число комнат, высота потолков. Построение гистограмм<a id=\"step4.1\"></a> "
   ]
  },
  {
   "cell_type": "code",
   "execution_count": 31,
   "metadata": {},
   "outputs": [
    {
     "data": {
      "text/html": [
       "<div>\n",
       "<style scoped>\n",
       "    .dataframe tbody tr th:only-of-type {\n",
       "        vertical-align: middle;\n",
       "    }\n",
       "\n",
       "    .dataframe tbody tr th {\n",
       "        vertical-align: top;\n",
       "    }\n",
       "\n",
       "    .dataframe thead th {\n",
       "        text-align: right;\n",
       "    }\n",
       "</style>\n",
       "<table border=\"1\" class=\"dataframe\">\n",
       "  <thead>\n",
       "    <tr style=\"text-align: right;\">\n",
       "      <th></th>\n",
       "      <th>total_area</th>\n",
       "      <th>last_price</th>\n",
       "      <th>rooms</th>\n",
       "      <th>ceiling_height</th>\n",
       "      <th>price_metr</th>\n",
       "    </tr>\n",
       "  </thead>\n",
       "  <tbody>\n",
       "    <tr>\n",
       "      <td>count</td>\n",
       "      <td>23453.000000</td>\n",
       "      <td>2.345300e+04</td>\n",
       "      <td>23453.000000</td>\n",
       "      <td>14408.000000</td>\n",
       "      <td>2.345300e+04</td>\n",
       "    </tr>\n",
       "    <tr>\n",
       "      <td>mean</td>\n",
       "      <td>60.589877</td>\n",
       "      <td>6.568035e+06</td>\n",
       "      <td>2.087494</td>\n",
       "      <td>2.769392</td>\n",
       "      <td>9.935552e+04</td>\n",
       "    </tr>\n",
       "    <tr>\n",
       "      <td>std</td>\n",
       "      <td>35.618736</td>\n",
       "      <td>1.092836e+07</td>\n",
       "      <td>1.066253</td>\n",
       "      <td>1.248634</td>\n",
       "      <td>5.047724e+04</td>\n",
       "    </tr>\n",
       "    <tr>\n",
       "      <td>min</td>\n",
       "      <td>12.000000</td>\n",
       "      <td>1.219000e+04</td>\n",
       "      <td>1.000000</td>\n",
       "      <td>1.000000</td>\n",
       "      <td>1.110000e+02</td>\n",
       "    </tr>\n",
       "    <tr>\n",
       "      <td>25%</td>\n",
       "      <td>40.110000</td>\n",
       "      <td>3.450000e+06</td>\n",
       "      <td>1.000000</td>\n",
       "      <td>2.510000</td>\n",
       "      <td>7.647000e+04</td>\n",
       "    </tr>\n",
       "    <tr>\n",
       "      <td>50%</td>\n",
       "      <td>52.000000</td>\n",
       "      <td>4.650000e+06</td>\n",
       "      <td>2.000000</td>\n",
       "      <td>2.650000</td>\n",
       "      <td>9.489700e+04</td>\n",
       "    </tr>\n",
       "    <tr>\n",
       "      <td>75%</td>\n",
       "      <td>70.000000</td>\n",
       "      <td>6.800000e+06</td>\n",
       "      <td>3.000000</td>\n",
       "      <td>2.800000</td>\n",
       "      <td>1.141020e+05</td>\n",
       "    </tr>\n",
       "    <tr>\n",
       "      <td>max</td>\n",
       "      <td>900.000000</td>\n",
       "      <td>7.630000e+08</td>\n",
       "      <td>19.000000</td>\n",
       "      <td>100.000000</td>\n",
       "      <td>1.907500e+06</td>\n",
       "    </tr>\n",
       "  </tbody>\n",
       "</table>\n",
       "</div>"
      ],
      "text/plain": [
       "         total_area    last_price         rooms  ceiling_height    price_metr\n",
       "count  23453.000000  2.345300e+04  23453.000000    14408.000000  2.345300e+04\n",
       "mean      60.589877  6.568035e+06      2.087494        2.769392  9.935552e+04\n",
       "std       35.618736  1.092836e+07      1.066253        1.248634  5.047724e+04\n",
       "min       12.000000  1.219000e+04      1.000000        1.000000  1.110000e+02\n",
       "25%       40.110000  3.450000e+06      1.000000        2.510000  7.647000e+04\n",
       "50%       52.000000  4.650000e+06      2.000000        2.650000  9.489700e+04\n",
       "75%       70.000000  6.800000e+06      3.000000        2.800000  1.141020e+05\n",
       "max      900.000000  7.630000e+08     19.000000      100.000000  1.907500e+06"
      ]
     },
     "execution_count": 31,
     "metadata": {},
     "output_type": "execute_result"
    }
   ],
   "source": [
    "houseroom[['total_area', 'last_price', 'rooms', 'ceiling_height', 'price_metr']].describe()"
   ]
  },
  {
   "cell_type": "code",
   "execution_count": 32,
   "metadata": {},
   "outputs": [
    {
     "data": {
      "text/plain": [
       "<matplotlib.axes._subplots.AxesSubplot at 0x7f497cdaa3d0>"
      ]
     },
     "execution_count": 32,
     "metadata": {},
     "output_type": "execute_result"
    },
    {
     "data": {
      "image/png": "[encoded data removed]",
      "text/plain": [
       "<Figure size 432x288 with 1 Axes>"
      ]
     },
     "metadata": {
      "needs_background": "light"
     },
     "output_type": "display_data"
    }
   ],
   "source": [
    "plt.ylim(-10, 200)\n",
    "houseroom.boxplot('total_area')"
   ]
  },
  {
   "cell_type": "markdown",
   "metadata": {},
   "source": [
    "#### Большая часть значений лежит в диапазоне до 75 кв.м. Выглядит правдоподобно. Первый квартиль на уровне 40 кв.м., что тоже нормально. Есть выбросы после 115 кв.м и особо выделяется максимальное значение в 900 квадратов"
   ]
  },
  {
   "cell_type": "code",
   "execution_count": 33,
   "metadata": {},
   "outputs": [
    {
     "data": {
      "text/plain": [
       "<matplotlib.axes._subplots.AxesSubplot at 0x7f497c79db50>"
      ]
     },
     "execution_count": 33,
     "metadata": {},
     "output_type": "execute_result"
    },
    {
     "data": {
      "image/png": "[encoded data removed]",
      "text/plain": [
       "<Figure size 432x288 with 1 Axes>"
      ]
     },
     "metadata": {
      "needs_background": "light"
     },
     "output_type": "display_data"
    }
   ],
   "source": [
    "plt.ylim(-10, 15000000)\n",
    "houseroom.boxplot('last_price')"
   ]
  },
  {
   "cell_type": "markdown",
   "metadata": {},
   "source": [
    "#### Большая часть значений лежит в диапазоне от 3,5 до 7 млн. Выглядит правдоподобно. Есть выбросы после 12 млн, особо выделяется максимальное значение в 763 млн (видимо за 900 кв.м)."
   ]
  },
  {
   "cell_type": "code",
   "execution_count": 34,
   "metadata": {},
   "outputs": [
    {
     "data": {
      "text/plain": [
       "<matplotlib.axes._subplots.AxesSubplot at 0x7f497c6359d0>"
      ]
     },
     "execution_count": 34,
     "metadata": {},
     "output_type": "execute_result"
    },
    {
     "data": {
      "image/png": "[encoded data removed]",
      "text/plain": [
       "<Figure size 432x288 with 1 Axes>"
      ]
     },
     "metadata": {
      "needs_background": "light"
     },
     "output_type": "display_data"
    }
   ],
   "source": [
    "plt.ylim(-10, 20)\n",
    "houseroom.boxplot('rooms')"
   ]
  },
  {
   "cell_type": "markdown",
   "metadata": {},
   "source": [
    "#### С комнатами тоже все понятно, бОльшая часть это 1-2-3 комнатные квартиры. Интересно, что есть выбросы в виде 10, 15 или 19 комнат."
   ]
  },
  {
   "cell_type": "code",
   "execution_count": 35,
   "metadata": {},
   "outputs": [
    {
     "data": {
      "text/plain": [
       "<matplotlib.axes._subplots.AxesSubplot at 0x7f497bf0fe50>"
      ]
     },
     "execution_count": 35,
     "metadata": {},
     "output_type": "execute_result"
    },
    {
     "data": {
      "image/png": "[encoded data removed]",
      "text/plain": [
       "<Figure size 432x288 with 1 Axes>"
      ]
     },
     "metadata": {
      "needs_background": "light"
     },
     "output_type": "display_data"
    }
   ],
   "source": [
    "plt.ylim(0, 4)\n",
    "houseroom.boxplot('ceiling_height')"
   ]
  },
  {
   "cell_type": "markdown",
   "metadata": {},
   "source": [
    "#### Выбросы за пределами 3,5 метров и до 2 метров, что вполне логично. Максимальное значение в 100 метров и минимальное в 1 метр - явные артефакты. Основные значения расположились в диапазоне от 2,5 до 2,7 м, что соответствует реальности."
   ]
  },
  {
   "cell_type": "code",
   "execution_count": 36,
   "metadata": {},
   "outputs": [
    {
     "data": {
      "text/plain": [
       "<matplotlib.axes._subplots.AxesSubplot at 0x7f497bef5510>"
      ]
     },
     "execution_count": 36,
     "metadata": {},
     "output_type": "execute_result"
    },
    {
     "data": {
      "image/png": "[encoded data removed]",
      "text/plain": [
       "<Figure size 432x288 with 1 Axes>"
      ]
     },
     "metadata": {
      "needs_background": "light"
     },
     "output_type": "display_data"
    }
   ],
   "source": [
    "plt.ylim(-10, 200000)\n",
    "houseroom.boxplot('price_metr')"
   ]
  },
  {
   "cell_type": "markdown",
   "metadata": {},
   "source": [
    "#### Выбросы за пределами 175 тыс и до 25 тыс, что выглядит правдоподобно. Основные значения расположились в диапазоне от 75 до 115 тыс."
   ]
  },
  {
   "cell_type": "markdown",
   "metadata": {},
   "source": [
    "#### 4.2 Ответы на вопросы - сколько обычно занимает продажа и когда можно считать, что продажи прошли очень быстро, а когда необычно долго? <a id=\"step4.2\"></a> "
   ]
  },
  {
   "cell_type": "code",
   "execution_count": 37,
   "metadata": {},
   "outputs": [
    {
     "data": {
      "text/plain": [
       "count    20287.000000\n",
       "mean       181.398827\n",
       "std        220.147815\n",
       "min          1.000000\n",
       "25%         45.000000\n",
       "50%         96.000000\n",
       "75%        232.000000\n",
       "max       1580.000000\n",
       "Name: days_exposition, dtype: float64"
      ]
     },
     "execution_count": 37,
     "metadata": {},
     "output_type": "execute_result"
    }
   ],
   "source": [
    "houseroom['days_exposition'].describe()"
   ]
  },
  {
   "cell_type": "code",
   "execution_count": 38,
   "metadata": {},
   "outputs": [
    {
     "data": {
      "text/plain": [
       "<matplotlib.axes._subplots.AxesSubplot at 0x7f497c646bd0>"
      ]
     },
     "execution_count": 38,
     "metadata": {},
     "output_type": "execute_result"
    },
    {
     "data": {
      "image/png": "[encoded data removed]",
      "text/plain": [
       "<Figure size 432x288 with 1 Axes>"
      ]
     },
     "metadata": {
      "needs_background": "light"
     },
     "output_type": "display_data"
    }
   ],
   "source": [
    "plt.ylim(-5, 1600)\n",
    "houseroom.boxplot('days_exposition')"
   ]
  },
  {
   "cell_type": "code",
   "execution_count": 39,
   "metadata": {},
   "outputs": [
    {
     "name": "stdout",
     "output_type": "stream",
     "text": [
      "Быстрой можно считать продажу за 1 день\n",
      "Долгой можно считать продажу более 512 дней\n"
     ]
    }
   ],
   "source": [
    "q1 = houseroom['days_exposition'].quantile(0.25)                 \n",
    "q3 = houseroom['days_exposition'].quantile(0.75)\n",
    "a = q1 - (q3 - q1) * 1.5\n",
    "b = q3 + (q3 - q1) * 1.5\n",
    "\n",
    "if a > houseroom['days_exposition'].min():\n",
    "    fast = a\n",
    "else:\n",
    "    fast = houseroom['days_exposition'].min()\n",
    "    \n",
    "if b < houseroom['days_exposition'].max():\n",
    "    long = b\n",
    "else:\n",
    "    long = houseroom['days_exposition'].max()\n",
    "\n",
    "print('Быстрой можно считать продажу за {:.0f} день'.format(fast))\n",
    "print('Долгой можно считать продажу более {:.0f} дней'.format(long))"
   ]
  },
  {
   "cell_type": "markdown",
   "metadata": {},
   "source": [
    "Медиана - 96 дней, среднее - 181 день. В целом квартиры продаются в диапазоне от 1,5 до 8 месяцев."
   ]
  },
  {
   "cell_type": "markdown",
   "metadata": {},
   "source": [
    "#### 4.3 Удаление редких и выбивающихся значений<a id=\"step4.3\"></a> "
   ]
  },
  {
   "cell_type": "markdown",
   "metadata": {},
   "source": [
    "#### Изучая параметры в предыдущих пунктах были замечены странные значения в виде 100 м потолка или 19-комнатной квартиры. Все максимальные и минимальные значения неправдободобны."
   ]
  },
  {
   "cell_type": "code",
   "execution_count": 40,
   "metadata": {},
   "outputs": [],
   "source": [
    "#напишу функцию для получения данных без выбросов по заданному столбцу \n",
    "def clean(df, columns):\n",
    "    minimum = df[columns].min()      #вычисляю минимум по столбцу\n",
    "    maximum = df[columns].max()      #вычисляю максимум по столбцу\n",
    "    q1 = df[columns].quantile(0.25)  #вычисляю первый квартиль\n",
    "    q3 = df[columns].quantile(0.75)  #вычисляю третий квартиль\n",
    "    a = q1 - (q3 - q1) * 1.5         #возможная длина левого уса диаграммы размаха\n",
    "    b = q3 + (q3 - q1) * 1.5         #возможная длина правого уса диаграммы размаха\n",
    "    c = max(a, minimum)              #выбираю нижнюю границу, как максимум из минимума по столбцу и длиной левого уса\n",
    "    d = min(b, maximum)              #выбираю верхнюю границу, как минимум из максимума по столбцу и длиной правого уса\n",
    "    clean_columns = (df[columns] >= c) & (df[columns] <= d) #условие среза\n",
    "    return df.loc[clean_columns]"
   ]
  },
  {
   "cell_type": "code",
   "execution_count": 41,
   "metadata": {},
   "outputs": [
    {
     "name": "stdout",
     "output_type": "stream",
     "text": [
      "Количество отброшенных строк после удаления выбросов: 14348\n"
     ]
    }
   ],
   "source": [
    "#используя функцию отрезаем выбросы по столбцам площадь, цена общая и за кв.метр, кол-во комнат, высота потолков и дней публ-ции\n",
    "houseroom_clean = clean(houseroom, 'total_area')\n",
    "houseroom_clean = clean(houseroom_clean, 'last_price')\n",
    "houseroom_clean = clean(houseroom_clean, 'rooms')\n",
    "houseroom_clean = clean(houseroom_clean, 'ceiling_height')\n",
    "houseroom_clean = clean(houseroom_clean, 'days_exposition')\n",
    "houseroom_clean = clean(houseroom_clean, 'price_metr')\n",
    "print('Количество отброшенных строк после удаления выбросов: {}'.format(houseroom.shape[0] - houseroom_clean.shape[0]))"
   ]
  },
  {
   "cell_type": "code",
   "execution_count": 42,
   "metadata": {},
   "outputs": [
    {
     "data": {
      "text/html": [
       "<div>\n",
       "<style scoped>\n",
       "    .dataframe tbody tr th:only-of-type {\n",
       "        vertical-align: middle;\n",
       "    }\n",
       "\n",
       "    .dataframe tbody tr th {\n",
       "        vertical-align: top;\n",
       "    }\n",
       "\n",
       "    .dataframe thead th {\n",
       "        text-align: right;\n",
       "    }\n",
       "</style>\n",
       "<table border=\"1\" class=\"dataframe\">\n",
       "  <thead>\n",
       "    <tr style=\"text-align: right;\">\n",
       "      <th></th>\n",
       "      <th>total_area</th>\n",
       "      <th>last_price</th>\n",
       "      <th>rooms</th>\n",
       "      <th>ceiling_height</th>\n",
       "      <th>days_exposition</th>\n",
       "      <th>price_metr</th>\n",
       "    </tr>\n",
       "  </thead>\n",
       "  <tbody>\n",
       "    <tr>\n",
       "      <td>count</td>\n",
       "      <td>9105.000000</td>\n",
       "      <td>9.105000e+03</td>\n",
       "      <td>9105.000000</td>\n",
       "      <td>9105.000000</td>\n",
       "      <td>9105.000000</td>\n",
       "      <td>9105.000000</td>\n",
       "    </tr>\n",
       "    <tr>\n",
       "      <td>mean</td>\n",
       "      <td>51.349533</td>\n",
       "      <td>4.659236e+06</td>\n",
       "      <td>1.893904</td>\n",
       "      <td>2.642238</td>\n",
       "      <td>125.117957</td>\n",
       "      <td>91795.735859</td>\n",
       "    </tr>\n",
       "    <tr>\n",
       "      <td>std</td>\n",
       "      <td>16.374758</td>\n",
       "      <td>1.841525e+06</td>\n",
       "      <td>0.853216</td>\n",
       "      <td>0.148267</td>\n",
       "      <td>117.715649</td>\n",
       "      <td>24706.791278</td>\n",
       "    </tr>\n",
       "    <tr>\n",
       "      <td>min</td>\n",
       "      <td>13.000000</td>\n",
       "      <td>7.500000e+05</td>\n",
       "      <td>1.000000</td>\n",
       "      <td>2.200000</td>\n",
       "      <td>1.000000</td>\n",
       "      <td>27514.000000</td>\n",
       "    </tr>\n",
       "    <tr>\n",
       "      <td>25%</td>\n",
       "      <td>38.700000</td>\n",
       "      <td>3.400000e+06</td>\n",
       "      <td>1.000000</td>\n",
       "      <td>2.500000</td>\n",
       "      <td>38.000000</td>\n",
       "      <td>76530.000000</td>\n",
       "    </tr>\n",
       "    <tr>\n",
       "      <td>50%</td>\n",
       "      <td>48.000000</td>\n",
       "      <td>4.350000e+06</td>\n",
       "      <td>2.000000</td>\n",
       "      <td>2.600000</td>\n",
       "      <td>83.000000</td>\n",
       "      <td>92857.000000</td>\n",
       "    </tr>\n",
       "    <tr>\n",
       "      <td>75%</td>\n",
       "      <td>61.000000</td>\n",
       "      <td>5.650000e+06</td>\n",
       "      <td>2.000000</td>\n",
       "      <td>2.700000</td>\n",
       "      <td>179.000000</td>\n",
       "      <td>107826.000000</td>\n",
       "    </tr>\n",
       "    <tr>\n",
       "      <td>max</td>\n",
       "      <td>114.800000</td>\n",
       "      <td>1.065000e+07</td>\n",
       "      <td>6.000000</td>\n",
       "      <td>3.120000</td>\n",
       "      <td>498.000000</td>\n",
       "      <td>156862.000000</td>\n",
       "    </tr>\n",
       "  </tbody>\n",
       "</table>\n",
       "</div>"
      ],
      "text/plain": [
       "        total_area    last_price        rooms  ceiling_height  \\\n",
       "count  9105.000000  9.105000e+03  9105.000000     9105.000000   \n",
       "mean     51.349533  4.659236e+06     1.893904        2.642238   \n",
       "std      16.374758  1.841525e+06     0.853216        0.148267   \n",
       "min      13.000000  7.500000e+05     1.000000        2.200000   \n",
       "25%      38.700000  3.400000e+06     1.000000        2.500000   \n",
       "50%      48.000000  4.350000e+06     2.000000        2.600000   \n",
       "75%      61.000000  5.650000e+06     2.000000        2.700000   \n",
       "max     114.800000  1.065000e+07     6.000000        3.120000   \n",
       "\n",
       "       days_exposition     price_metr  \n",
       "count      9105.000000    9105.000000  \n",
       "mean        125.117957   91795.735859  \n",
       "std         117.715649   24706.791278  \n",
       "min           1.000000   27514.000000  \n",
       "25%          38.000000   76530.000000  \n",
       "50%          83.000000   92857.000000  \n",
       "75%         179.000000  107826.000000  \n",
       "max         498.000000  156862.000000  "
      ]
     },
     "execution_count": 42,
     "metadata": {},
     "output_type": "execute_result"
    }
   ],
   "source": [
    "houseroom_clean[['total_area', 'last_price', 'rooms', 'ceiling_height', 'days_exposition', 'price_metr']].describe()"
   ]
  },
  {
   "cell_type": "markdown",
   "metadata": {},
   "source": [
    "#### Исключены выбросы, минимальные и максимальные значения выглядят адекватно."
   ]
  },
  {
   "cell_type": "markdown",
   "metadata": {},
   "source": [
    "#### 4.4 Ответ на вопрос - какие факторы больше всего влияют на стоимость квартиры? Зависит ли цена от площади, числа комнат, удалённости от центра. Зависимость цены от того, на каком этаже расположена квартира. Зависимость от даты размещения (дня недели, месяца и года) <a id=\"step4.4\"></a> "
   ]
  },
  {
   "cell_type": "code",
   "execution_count": 43,
   "metadata": {},
   "outputs": [
    {
     "name": "stdout",
     "output_type": "stream",
     "text": [
      "Коэффициент корреляции между ценой и площадью: 0.71\n"
     ]
    },
    {
     "data": {
      "text/plain": [
       "Text(0, 0.5, 'цена')"
      ]
     },
     "execution_count": 43,
     "metadata": {},
     "output_type": "execute_result"
    },
    {
     "data": {
      "image/png": "[encoded data removed]",
      "text/plain": [
       "<Figure size 576x432 with 2 Axes>"
      ]
     },
     "metadata": {
      "needs_background": "light"
     },
     "output_type": "display_data"
    }
   ],
   "source": [
    "print('Коэффициент корреляции между ценой и площадью: {:.2f}'.format(houseroom_clean['total_area'].corr(houseroom_clean['last_price'])))\n",
    "houseroom_clean.plot(x='total_area', y='last_price', kind='hexbin', gridsize=20, figsize=(8, 6), sharex=False, grid=True)\n",
    "plt.xlabel('площадь')\n",
    "plt.ylabel('цена')"
   ]
  },
  {
   "cell_type": "markdown",
   "metadata": {},
   "source": [
    "#### Конечно же цена зависит от площади - чем больше площадь, тем выше цена (коэффициент Пирсона равен 0,71). Самые густые зоны это квартиры 30-35 кв.м с ценой 3-3,5 млн и 40-45 кв.м с ценой 4,5 млн."
   ]
  },
  {
   "cell_type": "code",
   "execution_count": 44,
   "metadata": {},
   "outputs": [
    {
     "name": "stdout",
     "output_type": "stream",
     "text": [
      "Коэффициент корреляции между ценой и кол-вом комнат: 0.46\n",
      "Коэффициент корреляции между ценой за 1 кв.м и кол-вом комнат: -0.27\n"
     ]
    },
    {
     "data": {
      "text/plain": [
       "Text(0, 0.5, 'цена')"
      ]
     },
     "execution_count": 44,
     "metadata": {},
     "output_type": "execute_result"
    },
    {
     "data": {
      "image/png": "[encoded data removed]",
      "text/plain": [
       "<Figure size 576x432 with 2 Axes>"
      ]
     },
     "metadata": {
      "needs_background": "light"
     },
     "output_type": "display_data"
    }
   ],
   "source": [
    "print('Коэффициент корреляции между ценой и кол-вом комнат: {:.2f}'.format(houseroom_clean['rooms'].corr(houseroom_clean['last_price'])))\n",
    "print('Коэффициент корреляции между ценой за 1 кв.м и кол-вом комнат: {:.2f}'.format(houseroom_clean['rooms'].corr(houseroom_clean['price_metr'])))\n",
    "houseroom_clean.plot(x='rooms', y='last_price', kind='hexbin', gridsize=20, figsize=(8, 6), sharex=False, grid=True)\n",
    "plt.xlabel('количество комнат')\n",
    "plt.ylabel('цена')"
   ]
  },
  {
   "cell_type": "code",
   "execution_count": 45,
   "metadata": {},
   "outputs": [
    {
     "data": {
      "text/plain": [
       "<matplotlib.axes._subplots.AxesSubplot at 0x7f497bb84450>"
      ]
     },
     "execution_count": 45,
     "metadata": {},
     "output_type": "execute_result"
    },
    {
     "data": {
      "image/png": "[encoded data removed]",
      "text/plain": [
       "<Figure size 432x288 with 1 Axes>"
      ]
     },
     "metadata": {
      "needs_background": "light"
     },
     "output_type": "display_data"
    }
   ],
   "source": [
    "houseroom_clean_group_rooms = houseroom_clean.pivot_table(index='rooms', values='price_metr', aggfunc=['mean'])\n",
    "houseroom_clean_group_rooms.reset_index(level=0, inplace=True)\n",
    "houseroom_clean_group_rooms.columns = ['количество комнат','цена за 1 кв.м']\n",
    "houseroom_clean_group_rooms.plot(x='количество комнат', y='цена за 1 кв.м', style='o-', xlim=(0, 10), grid=True)"
   ]
  },
  {
   "cell_type": "markdown",
   "metadata": {},
   "source": [
    "#### Наблюдается обратная зависимость средней цены за квадратный метр от количества комнат. \"Оптом\" дешевле)"
   ]
  },
  {
   "cell_type": "code",
   "execution_count": 46,
   "metadata": {},
   "outputs": [
    {
     "name": "stdout",
     "output_type": "stream",
     "text": [
      "Коэффициент корреляции между ценой и удаленностью от центра: -0.30\n"
     ]
    },
    {
     "data": {
      "text/plain": [
       "Text(0, 0.5, 'цена')"
      ]
     },
     "execution_count": 46,
     "metadata": {},
     "output_type": "execute_result"
    },
    {
     "data": {
      "image/png": "[encoded data removed]",
      "text/plain": [
       "<Figure size 576x432 with 2 Axes>"
      ]
     },
     "metadata": {
      "needs_background": "light"
     },
     "output_type": "display_data"
    }
   ],
   "source": [
    "print('Коэффициент корреляции между ценой и удаленностью от центра: {:.2f}'.format(houseroom_clean['cityCenters_nearest'].corr(houseroom_clean['last_price'])))\n",
    "houseroom_clean.plot(x='cityCenters_nearest', y='last_price', kind='hexbin', gridsize=15, figsize=(8, 6), sharex=False, grid=True)\n",
    "plt.xlabel('расстояние до центра')\n",
    "plt.ylabel('цена')"
   ]
  },
  {
   "cell_type": "markdown",
   "metadata": {},
   "source": [
    "#### Наблюдается очень слабая обратная связь цены от удаленности от центра. Объсню это тем, что дальше от центра может быть квартира большей площадью и соответственно иметь выше стоимость, чем маленькая квартира близко к центру. Густая зона расположена в 12-17 км от центра с диапазоном цен от 3,5 до 5 млн."
   ]
  },
  {
   "cell_type": "code",
   "execution_count": 47,
   "metadata": {},
   "outputs": [
    {
     "name": "stderr",
     "output_type": "stream",
     "text": [
      "/opt/conda/lib/python3.7/site-packages/numpy/core/_asarray.py:83: VisibleDeprecationWarning: Creating an ndarray from ragged nested sequences (which is a list-or-tuple of lists-or-tuples-or ndarrays with different lengths or shapes) is deprecated. If you meant to do this, you must specify 'dtype=object' when creating the ndarray\n",
      "  return array(a, dtype, copy=False, order=order)\n"
     ]
    },
    {
     "data": {
      "text/plain": [
       "Text(0, 0.5, 'цена')"
      ]
     },
     "execution_count": 47,
     "metadata": {},
     "output_type": "execute_result"
    },
    {
     "data": {
      "image/png": "[encoded data removed]",
      "text/plain": [
       "<Figure size 432x432 with 1 Axes>"
      ]
     },
     "metadata": {
      "needs_background": "light"
     },
     "output_type": "display_data"
    }
   ],
   "source": [
    "houseroom_clean.boxplot('last_price', by='type_floor',figsize=(6,6))\n",
    "plt.xlabel('этаж квартиры')\n",
    "plt.ylabel('цена')"
   ]
  },
  {
   "cell_type": "markdown",
   "metadata": {},
   "source": [
    "#### Самые дешевые квартиры только на первом этаже."
   ]
  },
  {
   "cell_type": "code",
   "execution_count": 48,
   "metadata": {},
   "outputs": [
    {
     "name": "stderr",
     "output_type": "stream",
     "text": [
      "/opt/conda/lib/python3.7/site-packages/numpy/core/_asarray.py:83: VisibleDeprecationWarning: Creating an ndarray from ragged nested sequences (which is a list-or-tuple of lists-or-tuples-or ndarrays with different lengths or shapes) is deprecated. If you meant to do this, you must specify 'dtype=object' when creating the ndarray\n",
      "  return array(a, dtype, copy=False, order=order)\n"
     ]
    },
    {
     "data": {
      "text/plain": [
       "Text(0, 0.5, 'цена')"
      ]
     },
     "execution_count": 48,
     "metadata": {},
     "output_type": "execute_result"
    },
    {
     "data": {
      "image/png": "[encoded data removed]",
      "text/plain": [
       "<Figure size 432x432 with 1 Axes>"
      ]
     },
     "metadata": {
      "needs_background": "light"
     },
     "output_type": "display_data"
    }
   ],
   "source": [
    "houseroom_clean.boxplot('last_price', by='weekday_exposition',figsize=(6,6))\n",
    "plt.xlabel('день недели публикации объявления')\n",
    "plt.ylabel('цена')"
   ]
  },
  {
   "cell_type": "markdown",
   "metadata": {},
   "source": [
    "#### День недели публикации объявления никак не влияет на стоимоть квартиры. Можно отметить, что объявлений, опубликованных в воскресенье меньше всего, вероятно потому что это выходной."
   ]
  },
  {
   "cell_type": "code",
   "execution_count": 49,
   "metadata": {},
   "outputs": [
    {
     "name": "stderr",
     "output_type": "stream",
     "text": [
      "/opt/conda/lib/python3.7/site-packages/numpy/core/_asarray.py:83: VisibleDeprecationWarning: Creating an ndarray from ragged nested sequences (which is a list-or-tuple of lists-or-tuples-or ndarrays with different lengths or shapes) is deprecated. If you meant to do this, you must specify 'dtype=object' when creating the ndarray\n",
      "  return array(a, dtype, copy=False, order=order)\n"
     ]
    },
    {
     "data": {
      "text/plain": [
       "Text(0, 0.5, 'цена')"
      ]
     },
     "execution_count": 49,
     "metadata": {},
     "output_type": "execute_result"
    },
    {
     "data": {
      "image/png": "[encoded data removed]",
      "text/plain": [
       "<Figure size 432x432 with 1 Axes>"
      ]
     },
     "metadata": {
      "needs_background": "light"
     },
     "output_type": "display_data"
    }
   ],
   "source": [
    "houseroom_clean.boxplot('last_price', by='month_exposition',figsize=(6,6))\n",
    "plt.xlabel('месяц публикации объявления')\n",
    "plt.ylabel('цена')"
   ]
  },
  {
   "cell_type": "markdown",
   "metadata": {},
   "source": [
    "#### Никакой зависимости цены от месяца публикации."
   ]
  },
  {
   "cell_type": "code",
   "execution_count": 50,
   "metadata": {},
   "outputs": [
    {
     "name": "stderr",
     "output_type": "stream",
     "text": [
      "/opt/conda/lib/python3.7/site-packages/numpy/core/_asarray.py:83: VisibleDeprecationWarning: Creating an ndarray from ragged nested sequences (which is a list-or-tuple of lists-or-tuples-or ndarrays with different lengths or shapes) is deprecated. If you meant to do this, you must specify 'dtype=object' when creating the ndarray\n",
      "  return array(a, dtype, copy=False, order=order)\n"
     ]
    },
    {
     "data": {
      "text/plain": [
       "Text(0, 0.5, 'цена')"
      ]
     },
     "execution_count": 50,
     "metadata": {},
     "output_type": "execute_result"
    },
    {
     "data": {
      "image/png": "[encoded data removed]",
      "text/plain": [
       "<Figure size 432x432 with 1 Axes>"
      ]
     },
     "metadata": {
      "needs_background": "light"
     },
     "output_type": "display_data"
    }
   ],
   "source": [
    "houseroom_clean.boxplot('last_price', by='year_exposition',figsize=(6,6))\n",
    "plt.xlabel('год публикации объявления')\n",
    "plt.ylabel('цена')"
   ]
  },
  {
   "cell_type": "markdown",
   "metadata": {},
   "source": [
    "#### Аналогично никакой зависимости от года публикации, только если небольшой рост цен в целом в 2019 году по отношению к предыдущим."
   ]
  },
  {
   "cell_type": "markdown",
   "metadata": {},
   "source": [
    "#### 4.5 Выбрать 10 населённых пунктов с наибольшим числом объявлений. Посчитать среднюю цену квадратного метра в этих населённых пунктах. Выделить среди них населённые пункты с самой высокой и низкой стоимостью жилья <a id=\"step4.5\"></a> "
   ]
  },
  {
   "cell_type": "code",
   "execution_count": 51,
   "metadata": {},
   "outputs": [
    {
     "data": {
      "text/html": [
       "<div>\n",
       "<style scoped>\n",
       "    .dataframe tbody tr th:only-of-type {\n",
       "        vertical-align: middle;\n",
       "    }\n",
       "\n",
       "    .dataframe tbody tr th {\n",
       "        vertical-align: top;\n",
       "    }\n",
       "\n",
       "    .dataframe thead th {\n",
       "        text-align: right;\n",
       "    }\n",
       "</style>\n",
       "<table border=\"1\" class=\"dataframe\">\n",
       "  <thead>\n",
       "    <tr style=\"text-align: right;\">\n",
       "      <th></th>\n",
       "      <th>total_images</th>\n",
       "      <th>last_price</th>\n",
       "      <th>total_area</th>\n",
       "      <th>first_day_exposition</th>\n",
       "      <th>rooms</th>\n",
       "      <th>ceiling_height</th>\n",
       "      <th>floors_total</th>\n",
       "      <th>living_area</th>\n",
       "      <th>floor</th>\n",
       "      <th>is_apartment</th>\n",
       "      <th>...</th>\n",
       "      <th>ponds_nearest</th>\n",
       "      <th>days_exposition</th>\n",
       "      <th>price_metr</th>\n",
       "      <th>weekday_exposition</th>\n",
       "      <th>month_exposition</th>\n",
       "      <th>year_exposition</th>\n",
       "      <th>type_floor</th>\n",
       "      <th>part_living_area</th>\n",
       "      <th>part_kitchen_area</th>\n",
       "      <th>cityCenters_nearest_km</th>\n",
       "    </tr>\n",
       "    <tr>\n",
       "      <th>locality_name</th>\n",
       "      <th></th>\n",
       "      <th></th>\n",
       "      <th></th>\n",
       "      <th></th>\n",
       "      <th></th>\n",
       "      <th></th>\n",
       "      <th></th>\n",
       "      <th></th>\n",
       "      <th></th>\n",
       "      <th></th>\n",
       "      <th></th>\n",
       "      <th></th>\n",
       "      <th></th>\n",
       "      <th></th>\n",
       "      <th></th>\n",
       "      <th></th>\n",
       "      <th></th>\n",
       "      <th></th>\n",
       "      <th></th>\n",
       "      <th></th>\n",
       "      <th></th>\n",
       "    </tr>\n",
       "  </thead>\n",
       "  <tbody>\n",
       "    <tr>\n",
       "      <td>санкт-петербург</td>\n",
       "      <td>6068</td>\n",
       "      <td>6068</td>\n",
       "      <td>6068</td>\n",
       "      <td>6068</td>\n",
       "      <td>6068</td>\n",
       "      <td>6068</td>\n",
       "      <td>6067</td>\n",
       "      <td>5752</td>\n",
       "      <td>6068</td>\n",
       "      <td>6068</td>\n",
       "      <td>...</td>\n",
       "      <td>2731</td>\n",
       "      <td>6068</td>\n",
       "      <td>6068</td>\n",
       "      <td>6068</td>\n",
       "      <td>6068</td>\n",
       "      <td>6068</td>\n",
       "      <td>6068</td>\n",
       "      <td>5752</td>\n",
       "      <td>5741</td>\n",
       "      <td>6062</td>\n",
       "    </tr>\n",
       "    <tr>\n",
       "      <td>всеволожск</td>\n",
       "      <td>193</td>\n",
       "      <td>193</td>\n",
       "      <td>193</td>\n",
       "      <td>193</td>\n",
       "      <td>193</td>\n",
       "      <td>193</td>\n",
       "      <td>193</td>\n",
       "      <td>180</td>\n",
       "      <td>193</td>\n",
       "      <td>193</td>\n",
       "      <td>...</td>\n",
       "      <td>0</td>\n",
       "      <td>193</td>\n",
       "      <td>193</td>\n",
       "      <td>193</td>\n",
       "      <td>193</td>\n",
       "      <td>193</td>\n",
       "      <td>193</td>\n",
       "      <td>180</td>\n",
       "      <td>177</td>\n",
       "      <td>0</td>\n",
       "    </tr>\n",
       "    <tr>\n",
       "      <td>мурино</td>\n",
       "      <td>188</td>\n",
       "      <td>188</td>\n",
       "      <td>188</td>\n",
       "      <td>188</td>\n",
       "      <td>188</td>\n",
       "      <td>188</td>\n",
       "      <td>188</td>\n",
       "      <td>181</td>\n",
       "      <td>188</td>\n",
       "      <td>188</td>\n",
       "      <td>...</td>\n",
       "      <td>0</td>\n",
       "      <td>188</td>\n",
       "      <td>188</td>\n",
       "      <td>188</td>\n",
       "      <td>188</td>\n",
       "      <td>188</td>\n",
       "      <td>188</td>\n",
       "      <td>181</td>\n",
       "      <td>174</td>\n",
       "      <td>0</td>\n",
       "    </tr>\n",
       "    <tr>\n",
       "      <td>шушары</td>\n",
       "      <td>173</td>\n",
       "      <td>173</td>\n",
       "      <td>173</td>\n",
       "      <td>173</td>\n",
       "      <td>173</td>\n",
       "      <td>173</td>\n",
       "      <td>172</td>\n",
       "      <td>167</td>\n",
       "      <td>173</td>\n",
       "      <td>173</td>\n",
       "      <td>...</td>\n",
       "      <td>47</td>\n",
       "      <td>173</td>\n",
       "      <td>173</td>\n",
       "      <td>173</td>\n",
       "      <td>173</td>\n",
       "      <td>173</td>\n",
       "      <td>173</td>\n",
       "      <td>167</td>\n",
       "      <td>167</td>\n",
       "      <td>171</td>\n",
       "    </tr>\n",
       "    <tr>\n",
       "      <td>колпино</td>\n",
       "      <td>161</td>\n",
       "      <td>161</td>\n",
       "      <td>161</td>\n",
       "      <td>161</td>\n",
       "      <td>161</td>\n",
       "      <td>161</td>\n",
       "      <td>161</td>\n",
       "      <td>155</td>\n",
       "      <td>161</td>\n",
       "      <td>161</td>\n",
       "      <td>...</td>\n",
       "      <td>85</td>\n",
       "      <td>161</td>\n",
       "      <td>161</td>\n",
       "      <td>161</td>\n",
       "      <td>161</td>\n",
       "      <td>161</td>\n",
       "      <td>161</td>\n",
       "      <td>155</td>\n",
       "      <td>151</td>\n",
       "      <td>161</td>\n",
       "    </tr>\n",
       "    <tr>\n",
       "      <td>кудрово</td>\n",
       "      <td>154</td>\n",
       "      <td>154</td>\n",
       "      <td>154</td>\n",
       "      <td>154</td>\n",
       "      <td>154</td>\n",
       "      <td>154</td>\n",
       "      <td>154</td>\n",
       "      <td>146</td>\n",
       "      <td>154</td>\n",
       "      <td>154</td>\n",
       "      <td>...</td>\n",
       "      <td>0</td>\n",
       "      <td>154</td>\n",
       "      <td>154</td>\n",
       "      <td>154</td>\n",
       "      <td>154</td>\n",
       "      <td>154</td>\n",
       "      <td>154</td>\n",
       "      <td>146</td>\n",
       "      <td>141</td>\n",
       "      <td>0</td>\n",
       "    </tr>\n",
       "    <tr>\n",
       "      <td>пушкин</td>\n",
       "      <td>148</td>\n",
       "      <td>148</td>\n",
       "      <td>148</td>\n",
       "      <td>148</td>\n",
       "      <td>148</td>\n",
       "      <td>148</td>\n",
       "      <td>148</td>\n",
       "      <td>138</td>\n",
       "      <td>148</td>\n",
       "      <td>148</td>\n",
       "      <td>...</td>\n",
       "      <td>69</td>\n",
       "      <td>148</td>\n",
       "      <td>148</td>\n",
       "      <td>148</td>\n",
       "      <td>148</td>\n",
       "      <td>148</td>\n",
       "      <td>148</td>\n",
       "      <td>138</td>\n",
       "      <td>137</td>\n",
       "      <td>148</td>\n",
       "    </tr>\n",
       "    <tr>\n",
       "      <td>парголово</td>\n",
       "      <td>115</td>\n",
       "      <td>115</td>\n",
       "      <td>115</td>\n",
       "      <td>115</td>\n",
       "      <td>115</td>\n",
       "      <td>115</td>\n",
       "      <td>115</td>\n",
       "      <td>113</td>\n",
       "      <td>115</td>\n",
       "      <td>115</td>\n",
       "      <td>...</td>\n",
       "      <td>20</td>\n",
       "      <td>115</td>\n",
       "      <td>115</td>\n",
       "      <td>115</td>\n",
       "      <td>115</td>\n",
       "      <td>115</td>\n",
       "      <td>115</td>\n",
       "      <td>113</td>\n",
       "      <td>110</td>\n",
       "      <td>115</td>\n",
       "    </tr>\n",
       "    <tr>\n",
       "      <td>гатчина</td>\n",
       "      <td>110</td>\n",
       "      <td>110</td>\n",
       "      <td>110</td>\n",
       "      <td>110</td>\n",
       "      <td>110</td>\n",
       "      <td>110</td>\n",
       "      <td>110</td>\n",
       "      <td>99</td>\n",
       "      <td>110</td>\n",
       "      <td>110</td>\n",
       "      <td>...</td>\n",
       "      <td>0</td>\n",
       "      <td>110</td>\n",
       "      <td>110</td>\n",
       "      <td>110</td>\n",
       "      <td>110</td>\n",
       "      <td>110</td>\n",
       "      <td>110</td>\n",
       "      <td>99</td>\n",
       "      <td>100</td>\n",
       "      <td>0</td>\n",
       "    </tr>\n",
       "    <tr>\n",
       "      <td>петергоф</td>\n",
       "      <td>107</td>\n",
       "      <td>107</td>\n",
       "      <td>107</td>\n",
       "      <td>107</td>\n",
       "      <td>107</td>\n",
       "      <td>107</td>\n",
       "      <td>107</td>\n",
       "      <td>105</td>\n",
       "      <td>107</td>\n",
       "      <td>107</td>\n",
       "      <td>...</td>\n",
       "      <td>68</td>\n",
       "      <td>107</td>\n",
       "      <td>107</td>\n",
       "      <td>107</td>\n",
       "      <td>107</td>\n",
       "      <td>107</td>\n",
       "      <td>107</td>\n",
       "      <td>105</td>\n",
       "      <td>102</td>\n",
       "      <td>107</td>\n",
       "    </tr>\n",
       "  </tbody>\n",
       "</table>\n",
       "<p>10 rows × 29 columns</p>\n",
       "</div>"
      ],
      "text/plain": [
       "                 total_images  last_price  total_area  first_day_exposition  \\\n",
       "locality_name                                                                 \n",
       "санкт-петербург          6068        6068        6068                  6068   \n",
       "всеволожск                193         193         193                   193   \n",
       "мурино                    188         188         188                   188   \n",
       "шушары                    173         173         173                   173   \n",
       "колпино                   161         161         161                   161   \n",
       "кудрово                   154         154         154                   154   \n",
       "пушкин                    148         148         148                   148   \n",
       "парголово                 115         115         115                   115   \n",
       "гатчина                   110         110         110                   110   \n",
       "петергоф                  107         107         107                   107   \n",
       "\n",
       "                 rooms  ceiling_height  floors_total  living_area  floor  \\\n",
       "locality_name                                                              \n",
       "санкт-петербург   6068            6068          6067         5752   6068   \n",
       "всеволожск         193             193           193          180    193   \n",
       "мурино             188             188           188          181    188   \n",
       "шушары             173             173           172          167    173   \n",
       "колпино            161             161           161          155    161   \n",
       "кудрово            154             154           154          146    154   \n",
       "пушкин             148             148           148          138    148   \n",
       "парголово          115             115           115          113    115   \n",
       "гатчина            110             110           110           99    110   \n",
       "петергоф           107             107           107          105    107   \n",
       "\n",
       "                 is_apartment  ...  ponds_nearest  days_exposition  \\\n",
       "locality_name                  ...                                   \n",
       "санкт-петербург          6068  ...           2731             6068   \n",
       "всеволожск                193  ...              0              193   \n",
       "мурино                    188  ...              0              188   \n",
       "шушары                    173  ...             47              173   \n",
       "колпино                   161  ...             85              161   \n",
       "кудрово                   154  ...              0              154   \n",
       "пушкин                    148  ...             69              148   \n",
       "парголово                 115  ...             20              115   \n",
       "гатчина                   110  ...              0              110   \n",
       "петергоф                  107  ...             68              107   \n",
       "\n",
       "                 price_metr  weekday_exposition  month_exposition  \\\n",
       "locality_name                                                       \n",
       "санкт-петербург        6068                6068              6068   \n",
       "всеволожск              193                 193               193   \n",
       "мурино                  188                 188               188   \n",
       "шушары                  173                 173               173   \n",
       "колпино                 161                 161               161   \n",
       "кудрово                 154                 154               154   \n",
       "пушкин                  148                 148               148   \n",
       "парголово               115                 115               115   \n",
       "гатчина                 110                 110               110   \n",
       "петергоф                107                 107               107   \n",
       "\n",
       "                 year_exposition  type_floor  part_living_area  \\\n",
       "locality_name                                                    \n",
       "санкт-петербург             6068        6068              5752   \n",
       "всеволожск                   193         193               180   \n",
       "мурино                       188         188               181   \n",
       "шушары                       173         173               167   \n",
       "колпино                      161         161               155   \n",
       "кудрово                      154         154               146   \n",
       "пушкин                       148         148               138   \n",
       "парголово                    115         115               113   \n",
       "гатчина                      110         110                99   \n",
       "петергоф                     107         107               105   \n",
       "\n",
       "                 part_kitchen_area  cityCenters_nearest_km  \n",
       "locality_name                                               \n",
       "санкт-петербург               5741                    6062  \n",
       "всеволожск                     177                       0  \n",
       "мурино                         174                       0  \n",
       "шушары                         167                     171  \n",
       "колпино                        151                     161  \n",
       "кудрово                        141                       0  \n",
       "пушкин                         137                     148  \n",
       "парголово                      110                     115  \n",
       "гатчина                        100                       0  \n",
       "петергоф                       102                     107  \n",
       "\n",
       "[10 rows x 29 columns]"
      ]
     },
     "execution_count": 51,
     "metadata": {},
     "output_type": "execute_result"
    }
   ],
   "source": [
    "#группирую по населенным пунктам, считаю кол-во объявлений в группах, сортирую по кол-ву объявлений в группах\n",
    "houseroom_clean.groupby('locality_name').count().sort_values(by = 'last_price', ascending = False).head(10)"
   ]
  },
  {
   "cell_type": "code",
   "execution_count": 52,
   "metadata": {},
   "outputs": [
    {
     "data": {
      "text/html": [
       "<div>\n",
       "<style scoped>\n",
       "    .dataframe tbody tr th:only-of-type {\n",
       "        vertical-align: middle;\n",
       "    }\n",
       "\n",
       "    .dataframe tbody tr th {\n",
       "        vertical-align: top;\n",
       "    }\n",
       "\n",
       "    .dataframe thead tr th {\n",
       "        text-align: left;\n",
       "    }\n",
       "\n",
       "    .dataframe thead tr:last-of-type th {\n",
       "        text-align: right;\n",
       "    }\n",
       "</style>\n",
       "<table border=\"1\" class=\"dataframe\">\n",
       "  <thead>\n",
       "    <tr>\n",
       "      <th></th>\n",
       "      <th>price_metr</th>\n",
       "    </tr>\n",
       "    <tr>\n",
       "      <th></th>\n",
       "      <th>mean</th>\n",
       "    </tr>\n",
       "    <tr>\n",
       "      <th>locality_name</th>\n",
       "      <th></th>\n",
       "    </tr>\n",
       "  </thead>\n",
       "  <tbody>\n",
       "    <tr>\n",
       "      <td>всеволожск</td>\n",
       "      <td>66037.062176</td>\n",
       "    </tr>\n",
       "    <tr>\n",
       "      <td>гатчина</td>\n",
       "      <td>70473.409091</td>\n",
       "    </tr>\n",
       "    <tr>\n",
       "      <td>колпино</td>\n",
       "      <td>74802.931677</td>\n",
       "    </tr>\n",
       "    <tr>\n",
       "      <td>кудрово</td>\n",
       "      <td>94941.409091</td>\n",
       "    </tr>\n",
       "    <tr>\n",
       "      <td>мурино</td>\n",
       "      <td>87685.345745</td>\n",
       "    </tr>\n",
       "    <tr>\n",
       "      <td>парголово</td>\n",
       "      <td>89569.921739</td>\n",
       "    </tr>\n",
       "    <tr>\n",
       "      <td>петергоф</td>\n",
       "      <td>82924.224299</td>\n",
       "    </tr>\n",
       "    <tr>\n",
       "      <td>пушкин</td>\n",
       "      <td>97578.959459</td>\n",
       "    </tr>\n",
       "    <tr>\n",
       "      <td>санкт-петербург</td>\n",
       "      <td>102438.585531</td>\n",
       "    </tr>\n",
       "    <tr>\n",
       "      <td>шушары</td>\n",
       "      <td>78730.300578</td>\n",
       "    </tr>\n",
       "  </tbody>\n",
       "</table>\n",
       "</div>"
      ],
      "text/plain": [
       "                    price_metr\n",
       "                          mean\n",
       "locality_name                 \n",
       "всеволожск        66037.062176\n",
       "гатчина           70473.409091\n",
       "колпино           74802.931677\n",
       "кудрово           94941.409091\n",
       "мурино            87685.345745\n",
       "парголово         89569.921739\n",
       "петергоф          82924.224299\n",
       "пушкин            97578.959459\n",
       "санкт-петербург  102438.585531\n",
       "шушары            78730.300578"
      ]
     },
     "execution_count": 52,
     "metadata": {},
     "output_type": "execute_result"
    }
   ],
   "source": [
    "top_town = ['санкт-петербург', 'всеволожск', \n",
    "        'мурино', 'шушары', 'кудрово',\n",
    "        'колпино', 'пушкин', \n",
    "        'парголово', 'гатчина',\n",
    "        'петергоф']\n",
    "\n",
    "#делаю срез по топ-10 населенным пунктам с кол-вом объявлений\n",
    "top_houseroom_clean = houseroom_clean.query('locality_name in @top_town')\n",
    "#считаю среднюю цену за кв.м в каждом из 10 населенных пунктов\n",
    "top_houseroom_clean.groupby('locality_name').agg({'price_metr': ['mean']})"
   ]
  },
  {
   "cell_type": "markdown",
   "metadata": {},
   "source": [
    "#### Санкт-Петербург и Пушкин города с самым дорогим жильем, а Всеволожск и Гатчина с самой низкой стоимостью жилья."
   ]
  },
  {
   "cell_type": "markdown",
   "metadata": {},
   "source": [
    "#### 4.6 Выделение квартир в Санкт-Петербурге. Определение, какая область входит в центр <a id=\"step4.6\"></a> "
   ]
  },
  {
   "cell_type": "code",
   "execution_count": 53,
   "metadata": {},
   "outputs": [
    {
     "data": {
      "text/plain": [
       "<matplotlib.axes._subplots.AxesSubplot at 0x7f497b6a70d0>"
      ]
     },
     "execution_count": 53,
     "metadata": {},
     "output_type": "execute_result"
    },
    {
     "data": {
      "image/png": "[encoded data removed]",
      "text/plain": [
       "<Figure size 432x288 with 1 Axes>"
      ]
     },
     "metadata": {
      "needs_background": "light"
     },
     "output_type": "display_data"
    }
   ],
   "source": [
    "#сделаю срез по Санкт-Петербургу и построю сводную средних цен за 1 кв.м по каждому километру\n",
    "spb_houseroom_clean = houseroom_clean.query('locality_name == \"санкт-петербург\"').pivot_table(index='cityCenters_nearest_km', values='price_metr', aggfunc=['mean'])\n",
    "#индексы перенесу в столбец с расстоянием\n",
    "spb_houseroom_clean.reset_index(level=0, inplace=True)\n",
    "#переименую столбцы\n",
    "spb_houseroom_clean.columns = ['расстояние до центра в км','цена за 1 кв.м']\n",
    "spb_houseroom_clean.plot(x='расстояние до центра в км', y='цена за 1 кв.м', style='o-', xlim=(-5, 35), grid=True)"
   ]
  },
  {
   "cell_type": "markdown",
   "metadata": {},
   "source": [
    "#### Спад цены начинается примерно с 7-8 км, приму значение меньше 8 км за центр. Диапазон цены за 1 кв.м в центре от 95 до 115 тыс."
   ]
  },
  {
   "cell_type": "markdown",
   "metadata": {},
   "source": [
    "#### 4.7 Выделение сегмента квартир в центре. Изучение параметров: площадь, цена, число комнат, высота потолков. Определение факторов, которые влияют на стоимость квартиры. Отличие выводов от общих выводов по всему городу <a id=\"step4.7\"></a> "
   ]
  },
  {
   "cell_type": "code",
   "execution_count": 54,
   "metadata": {},
   "outputs": [],
   "source": [
    "#делаю срез по квартирам в центре Санкт-Петербурга\n",
    "center_spb_houseroom_clean = houseroom_clean.query('locality_name == \"санкт-петербург\" and cityCenters_nearest_km < 8')"
   ]
  },
  {
   "cell_type": "code",
   "execution_count": 55,
   "metadata": {},
   "outputs": [
    {
     "name": "stdout",
     "output_type": "stream",
     "text": [
      "Коэффициент корреляции между ценой за кв. метр и площадью: -0.50\n"
     ]
    },
    {
     "data": {
      "text/plain": [
       "<matplotlib.axes._subplots.AxesSubplot at 0x7f497b635f10>"
      ]
     },
     "execution_count": 55,
     "metadata": {},
     "output_type": "execute_result"
    },
    {
     "data": {
      "image/png": "[encoded data removed]",
      "text/plain": [
       "<Figure size 432x288 with 1 Axes>"
      ]
     },
     "metadata": {
      "needs_background": "light"
     },
     "output_type": "display_data"
    }
   ],
   "source": [
    "print('Коэффициент корреляции между ценой за кв. метр и площадью: {:.2f}'.format(center_spb_houseroom_clean['price_metr'].corr(center_spb_houseroom_clean['total_area'])))\n",
    "center_spb_houseroom_clean_new = center_spb_houseroom_clean.pivot_table(index='total_area', values='price_metr', aggfunc=['mean'])\n",
    "center_spb_houseroom_clean_new.reset_index(level=0, inplace=True)\n",
    "center_spb_houseroom_clean_new.columns = ['площадь квартриры','цена за 1 кв.м']\n",
    "center_spb_houseroom_clean_new.plot(x='площадь квартриры', y='цена за 1 кв.м', style='o', xlim=(0, 120), grid=True)"
   ]
  },
  {
   "cell_type": "code",
   "execution_count": 56,
   "metadata": {},
   "outputs": [
    {
     "data": {
      "text/html": [
       "<div>\n",
       "<style scoped>\n",
       "    .dataframe tbody tr th:only-of-type {\n",
       "        vertical-align: middle;\n",
       "    }\n",
       "\n",
       "    .dataframe tbody tr th {\n",
       "        vertical-align: top;\n",
       "    }\n",
       "\n",
       "    .dataframe thead tr th {\n",
       "        text-align: left;\n",
       "    }\n",
       "\n",
       "    .dataframe thead tr:last-of-type th {\n",
       "        text-align: right;\n",
       "    }\n",
       "</style>\n",
       "<table border=\"1\" class=\"dataframe\">\n",
       "  <thead>\n",
       "    <tr>\n",
       "      <th></th>\n",
       "      <th>mean</th>\n",
       "    </tr>\n",
       "    <tr>\n",
       "      <th></th>\n",
       "      <th>price_metr</th>\n",
       "    </tr>\n",
       "    <tr>\n",
       "      <th>rooms</th>\n",
       "      <th></th>\n",
       "    </tr>\n",
       "  </thead>\n",
       "  <tbody>\n",
       "    <tr>\n",
       "      <td>1</td>\n",
       "      <td>128618.740458</td>\n",
       "    </tr>\n",
       "    <tr>\n",
       "      <td>2</td>\n",
       "      <td>113420.562500</td>\n",
       "    </tr>\n",
       "    <tr>\n",
       "      <td>3</td>\n",
       "      <td>101013.005952</td>\n",
       "    </tr>\n",
       "    <tr>\n",
       "      <td>4</td>\n",
       "      <td>91601.886364</td>\n",
       "    </tr>\n",
       "    <tr>\n",
       "      <td>5</td>\n",
       "      <td>81560.750000</td>\n",
       "    </tr>\n",
       "    <tr>\n",
       "      <td>6</td>\n",
       "      <td>81981.000000</td>\n",
       "    </tr>\n",
       "  </tbody>\n",
       "</table>\n",
       "</div>"
      ],
      "text/plain": [
       "                mean\n",
       "          price_metr\n",
       "rooms               \n",
       "1      128618.740458\n",
       "2      113420.562500\n",
       "3      101013.005952\n",
       "4       91601.886364\n",
       "5       81560.750000\n",
       "6       81981.000000"
      ]
     },
     "execution_count": 56,
     "metadata": {},
     "output_type": "execute_result"
    }
   ],
   "source": [
    "center_spb_houseroom_clean.pivot_table(index='rooms', values='price_metr', aggfunc=['mean'])"
   ]
  },
  {
   "cell_type": "markdown",
   "metadata": {},
   "source": [
    "#### Отрицательная связь цены и площади в центре сохраняется, коэффициент Пирсона здесь равен -0,5. Густая зона это квартиры около 40 кв.м и ценой за квадрат от 115 до 140 тыс, что выше показателя по всей области."
   ]
  },
  {
   "cell_type": "code",
   "execution_count": 57,
   "metadata": {},
   "outputs": [
    {
     "name": "stdout",
     "output_type": "stream",
     "text": [
      "Коэффициент корреляции между ценой и кол-вом комнат: 0.53\n"
     ]
    },
    {
     "data": {
      "text/plain": [
       "Text(0, 0.5, 'цена')"
      ]
     },
     "execution_count": 57,
     "metadata": {},
     "output_type": "execute_result"
    },
    {
     "data": {
      "image/png": "[encoded data removed]",
      "text/plain": [
       "<Figure size 576x432 with 2 Axes>"
      ]
     },
     "metadata": {
      "needs_background": "light"
     },
     "output_type": "display_data"
    }
   ],
   "source": [
    "print('Коэффициент корреляции между ценой и кол-вом комнат: {:.2f}'.format(center_spb_houseroom_clean['rooms'].corr(center_spb_houseroom_clean['last_price'])))\n",
    "center_spb_houseroom_clean.plot(x='rooms', y='last_price', kind='hexbin', gridsize=20, figsize=(8, 6), sharex=False, grid=True)\n",
    "plt.xlabel('количество комнат')\n",
    "plt.ylabel('цена')"
   ]
  },
  {
   "cell_type": "markdown",
   "metadata": {},
   "source": [
    "#### По прежнему связь не очень сильная между ценой и количеством комнат, тем не менее она сильнее, чем по всей области (коэффициент Пирсона 0,53 в сравнении с 0,46). Здесь в основном 2-комнатные квартиры с ценой 5-6 млн, хотя по прежнему есть 1-комнатные по такой же цене. А вот 3-комнатные уже дороже. На мой взгляд связь прослеживается значительно лучше."
   ]
  },
  {
   "cell_type": "code",
   "execution_count": 58,
   "metadata": {},
   "outputs": [
    {
     "name": "stdout",
     "output_type": "stream",
     "text": [
      "Коэффициент корреляции между ценой и высотой потолков: 0.27\n"
     ]
    },
    {
     "data": {
      "text/plain": [
       "Text(0, 0.5, 'цена')"
      ]
     },
     "execution_count": 58,
     "metadata": {},
     "output_type": "execute_result"
    },
    {
     "data": {
      "image/png": "[encoded data removed]",
      "text/plain": [
       "<Figure size 576x432 with 2 Axes>"
      ]
     },
     "metadata": {
      "needs_background": "light"
     },
     "output_type": "display_data"
    }
   ],
   "source": [
    "print('Коэффициент корреляции между ценой и высотой потолков: {:.2f}'.format(center_spb_houseroom_clean['ceiling_height'].corr(center_spb_houseroom_clean['last_price'])))\n",
    "center_spb_houseroom_clean.plot(x='ceiling_height', y='last_price', kind='hexbin', gridsize=20, figsize=(8, 6), sharex=False, grid=True)\n",
    "plt.xlabel('высота потолка')\n",
    "plt.ylabel('цена')"
   ]
  },
  {
   "cell_type": "markdown",
   "metadata": {},
   "source": [
    "#### Интересный факт получился, что в центре в основном квартиры с потолком 3 метра в разном ценовом диапазоне."
   ]
  },
  {
   "cell_type": "markdown",
   "metadata": {},
   "source": [
    "### 5. Общие выводы<a id=\"step5\"></a> "
   ]
  },
  {
   "cell_type": "markdown",
   "metadata": {},
   "source": [
    "#### Исследуя объявления о продаже квартир можно сделать следующие выводы:\n",
    "\n",
    "#### В основном продаются 1-2-3 комнатные квартиры площадью от 40 до 75 кв.м  с высотой потолка от 2,5 до 2,7 м;\n",
    "\n",
    "#### Цена положительно зависит от площади и близости к центру, при этом выгоднее купить квартиру с бОльшим числом комнат, так как цена за квадратный метр будет ниже;\n",
    "\n",
    "#### Средняя цена квадратного метра 1-комнатной квартиры - 99 тыс, 2-комнатной - 90 тыс, 3-комнатной - 83 тыс;\n",
    "\n",
    "#### Квартиры в Санкт-Петербурге дороже, чем в области, соответственно и выше средние цены за квадратный метр: 1-комнатная - 128 тыс, 2-комнатная - 113 тыс, 3-х комнатная - 101 тыс\n",
    "\n",
    "#### В центре Санкт-Петербурга в основном 2-комнатные квартиры с высокими потолками в 3 метра;\n",
    "\n",
    "#### Высока вероятность продажи квартиры за 3-4 месяца, но есть случаи продажи за 1 день, а есть более 4 лет (хотя, возможно объявление не было снято с продажи вовремя);\n",
    "\n",
    "#### На скорость продажи квартиры никак не влияет день, месяц или год публикации."
   ]
  }
 ],
 "metadata": {
  "kernelspec": {
   "display_name": "Python 3",
   "language": "python",
   "name": "python3"
  },
  "language_info": {
   "codemirror_mode": {
    "name": "ipython",
    "version": 3
   },
   "file_extension": ".py",
   "mimetype": "text/x-python",
   "name": "python",
   "nbconvert_exporter": "python",
   "pygments_lexer": "ipython3",
   "version": "3.8.5"
  },
  "toc": {
   "base_numbering": 1,
   "nav_menu": {},
   "number_sections": true,
   "sideBar": true,
   "skip_h1_title": false,
   "title_cell": "Table of Contents",
   "title_sidebar": "Contents",
   "toc_cell": false,
   "toc_position": {},
   "toc_section_display": true,
   "toc_window_display": false
  }
 },
 "nbformat": 4,
 "nbformat_minor": 2
}
